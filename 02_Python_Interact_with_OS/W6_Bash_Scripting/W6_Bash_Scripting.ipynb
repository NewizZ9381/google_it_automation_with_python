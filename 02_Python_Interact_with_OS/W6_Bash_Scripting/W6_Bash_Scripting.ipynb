{
 "cells": [
  {
   "cell_type": "markdown",
   "metadata": {},
   "source": [
    "## Interacting with the Command Line Shell"
   ]
  },
  {
   "cell_type": "markdown",
   "metadata": {},
   "source": [
    "### Basic Linux Command"
   ]
  },
  {
   "cell_type": "code",
   "execution_count": null,
   "metadata": {},
   "outputs": [],
   "source": [
    "# mkdir mynewdir # make directory\n",
    "# cd mynewdir # change directory\n",
    "# pwd # present working directory\n",
    "# cp ../spider.txt . # copy .. parent directory . current directory\n",
    "# touch myfile.txt # create an empty file\n",
    "# ls -l # list file + extra information\n",
    "# ls -la # list file + extra information + hidden files\n",
    "# mv myfile.txt emptyfile.txt # rename or move file\n",
    "# cp spider.txt yetanotherfile.txt # copy file\n",
    "# rm * # remove all the file in the directory\n",
    "# cd .. # change directory to parent directory\n",
    "# rmdir mynewdir/ # remove (empty) directory\n",
    "# man # manual document"
   ]
  },
  {
   "cell_type": "markdown",
   "metadata": {},
   "source": [
    "### Redirecting Streams"
   ]
  },
  {
   "cell_type": "code",
   "execution_count": 1,
   "metadata": {},
   "outputs": [
    {
     "name": "stdout",
     "output_type": "stream",
     "text": [
      "Don't mind me, just a bit of text here...\n"
     ]
    }
   ],
   "source": [
    "# stdout_example.py\n",
    "#!/usr/bin/env python3\n",
    "\n",
    "print(\"Don't mind me, just a bit of text here...\")"
   ]
  },
  {
   "cell_type": "code",
   "execution_count": null,
   "metadata": {},
   "outputs": [],
   "source": [
    "# ./stdout_example.py > new_file.txt\n",
    "# redirect STDOUT\n",
    "# each time we perform a redirection of STDOUT the destination is overwritten!\n",
    "\n",
    "# ./stdout_example.py >> new_file.txt\n",
    "# append the file"
   ]
  },
  {
   "cell_type": "code",
   "execution_count": null,
   "metadata": {},
   "outputs": [],
   "source": [
    "# streams_err.py\n",
    "#!/usr/bin/env python3\n",
    "\n",
    "data = input(\"This will come from STDIN: \")\n",
    "print(\"Now we write it to STDOUT: \" + data)\n",
    "raise ValueError(\"Now we generate an error to STDERR\")"
   ]
  },
  {
   "cell_type": "code",
   "execution_count": null,
   "metadata": {},
   "outputs": [],
   "source": [
    "# ./streams_err.py < new_file.txt\n",
    "# redirect STDIN the file"
   ]
  },
  {
   "cell_type": "code",
   "execution_count": null,
   "metadata": {},
   "outputs": [],
   "source": [
    "# ./streams_err.py < new_file.txt 2> error_file.txt\n",
    "# redirect STDERR (2 is file descriptor of the STDERR stream)"
   ]
  },
  {
   "cell_type": "code",
   "execution_count": null,
   "metadata": {},
   "outputs": [],
   "source": [
    "# echo \"These are the contents of the file\" > myamazingfile.txt"
   ]
  },
  {
   "cell_type": "markdown",
   "metadata": {},
   "source": [
    "### Pipes and Pipelines"
   ]
  },
  {
   "cell_type": "code",
   "execution_count": null,
   "metadata": {},
   "outputs": [],
   "source": [
    "# ls -l | less\n",
    "# the ouput of ls -l command connected to the input of the less command"
   ]
  },
  {
   "cell_type": "code",
   "execution_count": null,
   "metadata": {},
   "outputs": [],
   "source": [
    "#cat spider.txt | tr ' ' '\\n' | sort | uniq -c | sort -nr | head"
   ]
  },
  {
   "cell_type": "code",
   "execution_count": 2,
   "metadata": {},
   "outputs": [],
   "source": [
    "# capitalize.py\n",
    "import sys\n",
    "\n",
    "for line in sys.stdin:\n",
    "    print(line.strip().capitalize())"
   ]
  },
  {
   "cell_type": "code",
   "execution_count": null,
   "metadata": {},
   "outputs": [],
   "source": [
    "# cat haiku.txt | ./capitalize.py\n",
    "# ./capitalize.py < haiku.txt"
   ]
  },
  {
   "cell_type": "markdown",
   "metadata": {},
   "source": [
    "### Signalling Processes"
   ]
  },
  {
   "cell_type": "code",
   "execution_count": null,
   "metadata": {},
   "outputs": [],
   "source": [
    "# ping www.example.com\n",
    "# Ctrl+C (SIGINT : stop by process cleanly)\n",
    "# Ctrl+Z (SIGSTOP : stop running without terminating)\n",
    "# fg (run once more either Ctrl+c or Ctrl+z)\n",
    "# kill 4619 (SIGTERM : terminate program should know process identifier (PID) // run in another terminal)\n",
    "# ps (list the process that running)\n",
    "# ps ax \n",
    "# grep (get command we want)"
   ]
  },
  {
   "cell_type": "code",
   "execution_count": null,
   "metadata": {},
   "outputs": [],
   "source": []
  }
 ],
 "metadata": {
  "kernelspec": {
   "display_name": "Python 3",
   "language": "python",
   "name": "python3"
  },
  "language_info": {
   "codemirror_mode": {
    "name": "ipython",
    "version": 3
   },
   "file_extension": ".py",
   "mimetype": "text/x-python",
   "name": "python",
   "nbconvert_exporter": "python",
   "pygments_lexer": "ipython3",
   "version": "3.6.10"
  }
 },
 "nbformat": 4,
 "nbformat_minor": 4
}
