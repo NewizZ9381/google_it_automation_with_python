{
 "cells": [
  {
   "cell_type": "markdown",
   "metadata": {},
   "source": [
    "## Interacting with the Command Line Shell"
   ]
  },
  {
   "cell_type": "markdown",
   "metadata": {},
   "source": [
    "### Basic Linux Command"
   ]
  },
  {
   "cell_type": "markdown",
   "metadata": {},
   "source": [
    "mkdir mynewdir # make directory\n",
    "cd mynewdir # change directory\n",
    "pwd # present working directory\n",
    "cp ../spider.txt . # copy .. parent directory . current directory\n",
    "touch myfile.txt # create an empty file\n",
    "ls -l # list file + extra information\n",
    "ls -la # list file + extra information + hidden files\n",
    "mv myfile.txt emptyfile.txt # rename or move file\n",
    "cp spider.txt yetanotherfile.txt # copy file\n",
    "rm * # remove all the file in the directory\n",
    "cd .. # change directory to parent directory\n",
    "rmdir mynewdir/ # remove (empty) directory\n",
    "man # manual document"
   ]
  },
  {
   "cell_type": "markdown",
   "metadata": {},
   "source": [
    "### Redirecting Streams"
   ]
  },
  {
   "cell_type": "code",
   "execution_count": 1,
   "metadata": {},
   "outputs": [
    {
     "name": "stdout",
     "output_type": "stream",
     "text": [
      "Don't mind me, just a bit of text here...\n"
     ]
    }
   ],
   "source": [
    "# stdout_example.py\n",
    "#!/usr/bin/env python3\n",
    "\n",
    "print(\"Don't mind me, just a bit of text here...\")"
   ]
  },
  {
   "cell_type": "markdown",
   "metadata": {},
   "source": [
    "./stdout_example.py > new_file.txt\n",
    "redirect STDOUT\n",
    "each time we perform a redirection of STDOUT the destination is overwritten!\n",
    "\n",
    "./stdout_example.py >> new_file.txt\n",
    "append the file"
   ]
  },
  {
   "cell_type": "code",
   "execution_count": null,
   "metadata": {},
   "outputs": [],
   "source": [
    "# streams_err.py\n",
    "#!/usr/bin/env python3\n",
    "\n",
    "data = input(\"This will come from STDIN: \")\n",
    "print(\"Now we write it to STDOUT: \" + data)\n",
    "raise ValueError(\"Now we generate an error to STDERR\")"
   ]
  },
  {
   "cell_type": "markdown",
   "metadata": {},
   "source": [
    "./streams_err.py < new_file.txt\n",
    "redirect STDIN the file"
   ]
  },
  {
   "cell_type": "markdown",
   "metadata": {},
   "source": [
    "./streams_err.py < new_file.txt 2> error_file.txt\n",
    "redirect STDERR (2 is file descriptor of the STDERR stream)"
   ]
  },
  {
   "cell_type": "markdown",
   "metadata": {},
   "source": [
    "echo \"These are the contents of the file\" > myamazingfile.txt"
   ]
  },
  {
   "cell_type": "markdown",
   "metadata": {},
   "source": [
    "### Pipes and Pipelines"
   ]
  },
  {
   "cell_type": "markdown",
   "metadata": {},
   "source": [
    "ls -l | less\n",
    "the ouput of ls -l command connected to the input of the less command"
   ]
  },
  {
   "cell_type": "markdown",
   "metadata": {},
   "source": [
    "cat spider.txt | tr ' ' '\\n' | sort | uniq -c | sort -nr | head"
   ]
  },
  {
   "cell_type": "code",
   "execution_count": 2,
   "metadata": {},
   "outputs": [],
   "source": [
    "# capitalize.py\n",
    "import sys\n",
    "\n",
    "for line in sys.stdin:\n",
    "    print(line.strip().capitalize())"
   ]
  },
  {
   "cell_type": "markdown",
   "metadata": {},
   "source": [
    "cat haiku.txt | ./capitalize.py\n",
    "./capitalize.py < haiku.txt"
   ]
  },
  {
   "cell_type": "markdown",
   "metadata": {},
   "source": [
    "### Signalling Processes"
   ]
  },
  {
   "cell_type": "markdown",
   "metadata": {},
   "source": [
    "ping www.example.com\n",
    "Ctrl+C (SIGINT : stop by process cleanly)\n",
    "Ctrl+Z (SIGSTOP : stop running without terminating)\n",
    "fg (run once more either Ctrl+c or Ctrl+z)\n",
    "kill 4619 (SIGTERM : terminate program should know process identifier (PID) // run in another terminal)\n",
    "ps (list the process that running)\n",
    "ps ax \n",
    "grep (get command we want)"
   ]
  },
  {
   "cell_type": "markdown",
   "metadata": {},
   "source": [
    "## Bash Scripting"
   ]
  },
  {
   "cell_type": "markdown",
   "metadata": {},
   "source": [
    "### Creating Bash Scripts"
   ]
  },
  {
   "cell_type": "markdown",
   "metadata": {},
   "source": [
    "#gather-information.sh\n",
    "#!/bin/bash\n",
    "\n",
    "echo \"Starting at: $(date)\"\n",
    "echo\n",
    "\n",
    "echo \"UPTIME\"\n",
    "uptime\n",
    "echo\n",
    "\n",
    "echo \"FREE\"\n",
    "free\n",
    "echo\n",
    "\n",
    "echo \"WHO\"\n",
    "who\n",
    "echo\n",
    "\n",
    "echo \"Finishing at: $(date)\""
   ]
  },
  {
   "cell_type": "markdown",
   "metadata": {},
   "source": [
    "./gather-information.sh"
   ]
  },
  {
   "cell_type": "markdown",
   "metadata": {},
   "source": [
    "#!/bin/bash\n",
    "\n",
    "echo \"Starting at: $(date)\"; echo\n",
    "\n",
    "echo \"UPTIME\"; uptime; echo\n",
    "\n",
    "echo \"FREE\"; free; echo\n",
    "\n",
    "echo \"WHO\"; who; echo\n",
    "\n",
    "echo \"Finishing at: $(date)\""
   ]
  },
  {
   "cell_type": "markdown",
   "metadata": {},
   "source": [
    "### Using Variables and Globs"
   ]
  },
  {
   "cell_type": "markdown",
   "metadata": {},
   "source": [
    "example=hello\n",
    "echo $example"
   ]
  },
  {
   "cell_type": "markdown",
   "metadata": {},
   "source": [
    "#!/bin/bash\n",
    "line=\"----------------------------------\"\n",
    "echo \"Starting at: $(date)\"; echo\n",
    "\n",
    "echo \"UPTIME\"; uptime; echo $line\n",
    "\n",
    "echo \"FREE\"; free; echo $line\n",
    "\n",
    "echo \"WHO\"; who; echo $line\n",
    "\n",
    "echo \"Finishing at: $(date)\""
   ]
  },
  {
   "cell_type": "markdown",
   "metadata": {},
   "source": [
    "globs are characters that allow us to create list of files\n",
    "echo *.py\n",
    "echo c*\n",
    "echo *\n",
    "echo ?????.py"
   ]
  },
  {
   "cell_type": "markdown",
   "metadata": {},
   "source": [
    "### Conditional Execution in Bash"
   ]
  },
  {
   "cell_type": "markdown",
   "metadata": {},
   "source": [
    "$? exit status\n",
    "In Bash Scripting, an exit value of 0 means success"
   ]
  },
  {
   "cell_type": "markdown",
   "metadata": {},
   "source": [
    "#check_localhost.sh\n",
    "#!/bin/bash\n",
    "\n",
    "if grep \"127.0.0.1\" /etc/hosts; then\n",
    "    echo \"Everything ok\"\n",
    "else\n",
    "    echo \"ERROR! 127.0.0.1 is not in /etc/hosts\"\n",
    "fi"
   ]
  },
  {
   "cell_type": "markdown",
   "metadata": {},
   "source": [
    "./check_localhost.sh"
   ]
  },
  {
   "cell_type": "markdown",
   "metadata": {},
   "source": [
    "test : a command that evaluates the conditions received and exits with zero when they're true and with one when they're false"
   ]
  },
  {
   "cell_type": "markdown",
   "metadata": {},
   "source": [
    "if test -n \"$PATH\"; then echo \"Your path is not empty\"; fi"
   ]
  },
  {
   "cell_type": "markdown",
   "metadata": {},
   "source": [
    "if [ -n \"$PATH\" ]; then echo \"Your path is not empty\"; fi\n",
    "there need to be a space before the closing bracket"
   ]
  },
  {
   "cell_type": "markdown",
   "metadata": {},
   "source": [
    "## Advanced Bash Concepts"
   ]
  },
  {
   "cell_type": "markdown",
   "metadata": {},
   "source": [
    "### While Loops in Bash Scripts"
   ]
  },
  {
   "cell_type": "markdown",
   "metadata": {},
   "source": [
    "#while.sh\n",
    "#!/bin/bash\n",
    "\n",
    "n=1\n",
    "while [ $n -le 5 ]; do\n",
    "    echo \"Iteration number $n\"\n",
    "    ((n+=1))\n",
    "done"
   ]
  },
  {
   "cell_type": "markdown",
   "metadata": {},
   "source": [
    "./while.sh"
   ]
  },
  {
   "cell_type": "code",
   "execution_count": 1,
   "metadata": {},
   "outputs": [
    {
     "name": "stdout",
     "output_type": "stream",
     "text": [
      "Returning: 1\n"
     ]
    },
    {
     "ename": "SystemExit",
     "evalue": "1",
     "output_type": "error",
     "traceback": [
      "An exception has occurred, use %tb to see the full traceback.\n",
      "\u001b[1;31mSystemExit\u001b[0m\u001b[1;31m:\u001b[0m 1\n"
     ]
    },
    {
     "name": "stderr",
     "output_type": "stream",
     "text": [
      "C:\\Users\\wityanat.CEMENTHAI\\Anaconda3\\envs\\aiml\\lib\\site-packages\\IPython\\core\\interactiveshell.py:3339: UserWarning: To exit: use 'exit', 'quit', or Ctrl-D.\n",
      "  warn(\"To exit: use 'exit', 'quit', or Ctrl-D.\", stacklevel=1)\n"
     ]
    }
   ],
   "source": [
    "#random-exit.py\n",
    "#!/usr/bin/env python\n",
    "import sys\n",
    "import random\n",
    "\n",
    "value=random.randint(0,3)\n",
    "print(\"Returning: \" + str(value))\n",
    "sys.exit(value)"
   ]
  },
  {
   "cell_type": "code",
   "execution_count": 2,
   "metadata": {},
   "outputs": [
    {
     "name": "stdout",
     "output_type": "stream",
     "text": [
      "Returning: 2\n"
     ]
    },
    {
     "ename": "SystemExit",
     "evalue": "2",
     "output_type": "error",
     "traceback": [
      "An exception has occurred, use %tb to see the full traceback.\n",
      "\u001b[1;31mSystemExit\u001b[0m\u001b[1;31m:\u001b[0m 2\n"
     ]
    }
   ],
   "source": [
    "import sys\n",
    "import random\n",
    "\n",
    "value=random.randint(0,3)\n",
    "print(\"Returning: \" + str(value))\n",
    "sys.exit(value)"
   ]
  },
  {
   "cell_type": "code",
   "execution_count": 3,
   "metadata": {},
   "outputs": [
    {
     "name": "stdout",
     "output_type": "stream",
     "text": [
      "Returning: 3\n"
     ]
    },
    {
     "ename": "SystemExit",
     "evalue": "3",
     "output_type": "error",
     "traceback": [
      "An exception has occurred, use %tb to see the full traceback.\n",
      "\u001b[1;31mSystemExit\u001b[0m\u001b[1;31m:\u001b[0m 3\n"
     ]
    }
   ],
   "source": [
    "import sys\n",
    "import random\n",
    "\n",
    "value=random.randint(0,3)\n",
    "print(\"Returning: \" + str(value))\n",
    "sys.exit(value)"
   ]
  },
  {
   "cell_type": "code",
   "execution_count": 4,
   "metadata": {},
   "outputs": [
    {
     "name": "stdout",
     "output_type": "stream",
     "text": [
      "Returning: 1\n"
     ]
    },
    {
     "ename": "SystemExit",
     "evalue": "1",
     "output_type": "error",
     "traceback": [
      "An exception has occurred, use %tb to see the full traceback.\n",
      "\u001b[1;31mSystemExit\u001b[0m\u001b[1;31m:\u001b[0m 1\n"
     ]
    }
   ],
   "source": [
    "import sys\n",
    "import random\n",
    "\n",
    "value=random.randint(0,3)\n",
    "print(\"Returning: \" + str(value))\n",
    "sys.exit(value)"
   ]
  },
  {
   "cell_type": "code",
   "execution_count": 5,
   "metadata": {},
   "outputs": [
    {
     "name": "stdout",
     "output_type": "stream",
     "text": [
      "Returning: 0\n"
     ]
    },
    {
     "ename": "SystemExit",
     "evalue": "0",
     "output_type": "error",
     "traceback": [
      "An exception has occurred, use %tb to see the full traceback.\n",
      "\u001b[1;31mSystemExit\u001b[0m\u001b[1;31m:\u001b[0m 0\n"
     ]
    }
   ],
   "source": [
    "import sys\n",
    "import random\n",
    "\n",
    "value=random.randint(0,3)\n",
    "print(\"Returning: \" + str(value))\n",
    "sys.exit(value)"
   ]
  },
  {
   "cell_type": "markdown",
   "metadata": {},
   "source": [
    "#retry.sh\n",
    "#!/bin/bash\n",
    "\n",
    "n=0\n",
    "command=$1\n",
    "while ! $command && [ $n -le 5 ]; do\n",
    "    sleep $n\n",
    "    ((n=n+1))\n",
    "    echo \"Retry #$n\"\n",
    "done;"
   ]
  },
  {
   "cell_type": "markdown",
   "metadata": {},
   "source": [
    "./retry.sh ./random-exit.py"
   ]
  },
  {
   "cell_type": "markdown",
   "metadata": {},
   "source": [
    "### For Lopps in Bash Scripts"
   ]
  },
  {
   "cell_type": "markdown",
   "metadata": {},
   "source": [
    "#fruit.sh\n",
    "#!/bin/bash\n",
    "\n",
    "for fruit in peach orange apple; do\n",
    "    echo \"I like $fruit!\"\n",
    "done"
   ]
  },
  {
   "cell_type": "markdown",
   "metadata": {},
   "source": [
    "./fruit.sh"
   ]
  },
  {
   "cell_type": "markdown",
   "metadata": {},
   "source": [
    "\"$file\" : use double quote to allow the command to work even if the file has spaces in its name"
   ]
  },
  {
   "cell_type": "markdown",
   "metadata": {},
   "source": [
    "#rename.sh\n",
    "#!/bin/bash\n",
    "\n",
    "for file in *.HTM; do\n",
    "    name=$(basename \"$file\" .HTM)\n",
    "    mv \"$file\" \"$name.html\"\n",
    "done"
   ]
  },
  {
   "cell_type": "markdown",
   "metadata": {},
   "source": [
    "*** Use echo before modify the system"
   ]
  },
  {
   "cell_type": "markdown",
   "metadata": {},
   "source": [
    "#rename.sh\n",
    "#!/bin/bash\n",
    "\n",
    "for file in *.HTM; do\n",
    "    name=$(basename \"$file\" .HTM)\n",
    "    echo mv \"$file\" \"$name.html\"\n",
    "done"
   ]
  },
  {
   "cell_type": "markdown",
   "metadata": {},
   "source": [
    "### Advanced Command Interaction"
   ]
  },
  {
   "cell_type": "markdown",
   "metadata": {},
   "source": [
    "tail /var/log/syslog"
   ]
  },
  {
   "cell_type": "markdown",
   "metadata": {},
   "source": [
    "tail /var/log/syslog | cut -d' ' -f5-"
   ]
  },
  {
   "cell_type": "markdown",
   "metadata": {},
   "source": [
    "cut -d ' ' -f5- /var/log/syslog | sort | uniq -c | sort -nr | head"
   ]
  },
  {
   "cell_type": "markdown",
   "metadata": {},
   "source": [
    "#toploglines.sh\n",
    "#!/bin/bash\n",
    "\n",
    "for logfile in /var/log/*log; do\n",
    "    echo \"Processing: $logfile\"\n",
    "    cut -d' ' -f5- $logfile | sort | uniq -c | sort -nr | head -5\n",
    "done"
   ]
  },
  {
   "cell_type": "markdown",
   "metadata": {},
   "source": [
    "### Choosing Betwen Bash and Python"
   ]
  },
  {
   "cell_type": "markdown",
   "metadata": {},
   "source": [
    "for i in $(cat story.txt); do B='echo -n \"${i:0:1}\" | tr \"[:lower:]\" \"[:upper:]\"'; echo -n \"${B}${i:1} \"; done; echo -e \"\\n\""
   ]
  },
  {
   "cell_type": "markdown",
   "metadata": {},
   "source": [
    "When a bash command line starts becoming this complex, it's a better idea to write a Python script that handles data in a more readable and testable way."
   ]
  },
  {
   "cell_type": "code",
   "execution_count": null,
   "metadata": {},
   "outputs": [],
   "source": [
    "#capitalize_words.py\n",
    "#!/usr/bin/env python3\n",
    "\n",
    "import sys\n",
    "\n",
    "for line in sys.stdin:\n",
    "    words = line.strip().split()\n",
    "    print(\" \".join([word.capitalize() for word in words]))"
   ]
  },
  {
   "cell_type": "markdown",
   "metadata": {},
   "source": [
    "cat story.txt | ./capitalize_words.py"
   ]
  },
  {
   "cell_type": "markdown",
   "metadata": {},
   "source": [
    "Bash : Fast for linux system\n",
    "Python : Flexible and Robust and Cross platform"
   ]
  },
  {
   "cell_type": "markdown",
   "metadata": {},
   "source": [
    "## Editing Files using Substrings"
   ]
  },
  {
   "cell_type": "markdown",
   "metadata": {},
   "source": [
    "#!/bin/bash\n",
    "> oldFiles.txt\n",
    "files=$(grep \" jane \" ../data/list.txt | cut -d' ' -f3)\n",
    "for f in $files; do\t\n",
    "  if [ -e $HOME$f ]; then\n",
    "    echo $HOME$f >> oldFiles.txt;\n",
    "  fi\n",
    "done"
   ]
  },
  {
   "cell_type": "markdown",
   "metadata": {},
   "source": [
    "#!/bin/bash\n",
    "\n",
    "> oldFiles.txt\n",
    "\n",
    "files=$(grep \" jane \" ../data/list.txt | cut -d' ' -f3)\n",
    "echo $files\n",
    "for file in $files; do\n",
    "  echo $file\n",
    "  if test -e /home/student-04-e49368841904/\"$file\"; then\n",
    "    echo \"File exists\"; echo /home/student-04-e49368841904/\"$file\">>oldFiles.txt\n",
    "  else echo \"File doesn't exist\"\n",
    "  fi\n",
    "done"
   ]
  },
  {
   "cell_type": "markdown",
   "metadata": {},
   "source": [
    "chmod +x findJane.sh"
   ]
  },
  {
   "cell_type": "markdown",
   "metadata": {},
   "source": [
    "./findJane.sh"
   ]
  },
  {
   "cell_type": "code",
   "execution_count": 13,
   "metadata": {},
   "outputs": [
    {
     "name": "stdout",
     "output_type": "stream",
     "text": [
      "/home/student-04-b68fb647a3a7//data/jane_profile_07272018.doc\n",
      "/home/student-04-b68fb647a3a7//data/jane_contact_07292018.csv\n",
      "['/home/student-04-b68fb647a3a7//data/jane_profile_07272018.doc', '/home/student-04-b68fb647a3a7//data/jane_contact_07292018.csv']\n",
      "['/home/student-04-b68fb647a3a7//data/jdoe_profile_07272018.doc', '/home/student-04-b68fb647a3a7//data/jdoe_contact_07292018.csv']\n"
     ]
    }
   ],
   "source": [
    "# #!/usr/bin/env python3\n",
    "\n",
    "# import sys\n",
    "# import subprocess\n",
    "\n",
    "# with open(\"oldFiles.txt\") as file:\n",
    "#     new_names = []\n",
    "#     old_names = []\n",
    "#     for line in file:\n",
    "#         print(line.strip())\n",
    "#         old_names.append(line.strip())\n",
    "#         new_names.append(line.strip().replace(\"jane\", \"jdoe\"))\n",
    "# file.close()\n",
    "# print(old_names)\n",
    "# print(new_names)\n",
    "\n",
    "# for i in range(len(old_names))\n",
    "#     subprocess.run([\"mv\", old_names[i], new_names[i])\n"
   ]
  },
  {
   "cell_type": "code",
   "execution_count": null,
   "metadata": {},
   "outputs": [],
   "source": [
    "#!/usr/bin/env python3\n",
    "import sys\n",
    "import subprocess\n",
    "\n",
    "f = open(sys.argv[1], \"r\")\n",
    "for line in f.readlines():\n",
    "  old_name = line.strip()\n",
    "  new_name = old_name.replace(\"jane\", \"jdoe\")\n",
    "  subprocess.run([\"mv\", old_name, new_name])\n",
    "f.close()"
   ]
  },
  {
   "cell_type": "code",
   "execution_count": 17,
   "metadata": {},
   "outputs": [
    {
     "name": "stdout",
     "output_type": "stream",
     "text": [
      "/home/student-04-b68fb647a3a7//data/jane_profile_07272018.doc\n",
      "/home/student-04-b68fb647a3a7//data/jdoe_profile_07272018.doc\n",
      "/home/student-04-b68fb647a3a7//data/jane_contact_07292018.csv\n",
      "/home/student-04-b68fb647a3a7//data/jdoe_contact_07292018.csv\n"
     ]
    }
   ],
   "source": [
    "#!/usr/bin/env python3\n",
    "\n",
    "import sys\n",
    "import subprocess\n",
    "\n",
    "with open(\"oldFiles.txt\") as file:\n",
    "    for line in file:\n",
    "        old_name = line.strip()\n",
    "        new_name = line.strip().replace(\"jane\", \"jdoe\")\n",
    "        print(old_name)\n",
    "        print(new_name)\n",
    "#         subprocess.run([\"mv\", line, new_name])\n"
   ]
  },
  {
   "cell_type": "code",
   "execution_count": 18,
   "metadata": {},
   "outputs": [],
   "source": [
    "#!/usr/bin/env python3\n",
    "\n",
    "import sys\n",
    "import subprocess\n",
    "\n",
    "with open(sys.argv[1]) as file:\n",
    "    for line in file:\n",
    "        old_name = line.strip()\n",
    "        new_name = line.strip().replace(\"jane\", \"jdoe\")\n",
    "        subprocess.run([\"mv\", old_name, new_name])"
   ]
  }
 ],
 "metadata": {
  "kernelspec": {
   "display_name": "Python 3",
   "language": "python",
   "name": "python3"
  },
  "language_info": {
   "codemirror_mode": {
    "name": "ipython",
    "version": 3
   },
   "file_extension": ".py",
   "mimetype": "text/x-python",
   "name": "python",
   "nbconvert_exporter": "python",
   "pygments_lexer": "ipython3",
   "version": "3.6.10"
  }
 },
 "nbformat": 4,
 "nbformat_minor": 4
}
