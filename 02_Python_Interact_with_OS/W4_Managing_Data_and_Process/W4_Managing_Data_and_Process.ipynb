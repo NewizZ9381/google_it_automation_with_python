{
 "cells": [
  {
   "cell_type": "markdown",
   "metadata": {},
   "source": [
    "## Data Streams"
   ]
  },
  {
   "cell_type": "markdown",
   "metadata": {},
   "source": [
    "### Reading Data interactively"
   ]
  },
  {
   "cell_type": "code",
   "execution_count": 1,
   "metadata": {},
   "outputs": [
    {
     "name": "stdout",
     "output_type": "stream",
     "text": [
      "Please enter your name: New\n",
      "Hello, New\n"
     ]
    }
   ],
   "source": [
    "#!/use/bin/env python3\n",
    "\n",
    "name = input(\"Please enter your name: \")\n",
    "print(\"Hello, \" + name)"
   ]
  },
  {
   "cell_type": "code",
   "execution_count": 2,
   "metadata": {},
   "outputs": [
    {
     "name": "stdout",
     "output_type": "stream",
     "text": [
      "Welcome to this time converter\n",
      "Enter the number of hours: 5555\n",
      "Enter the number of minutes: 222\n",
      "Enter the number of seconds: 111\n",
      "That's 20011431 seconds\n",
      "\n",
      "Do you want to do another conversion? [y to continue] y\n",
      "Enter the number of hours: 22\n",
      "Enter the number of minutes: 44\n",
      "Enter the number of seconds: 11\n",
      "That's 81851 seconds\n",
      "\n",
      "Do you want to do another conversion? [y to continue] b\n",
      "Good bye!\n"
     ]
    }
   ],
   "source": [
    "def to_seconds(hours, minutes, seconds):\n",
    "    return hours*3600+minutes*60+seconds\n",
    "\n",
    "print(\"Welcome to this time converter\")\n",
    "\n",
    "cont = \"y\"\n",
    "while(cont.lower() == \"y\"):\n",
    "    hours = int(input(\"Enter the number of hours: \"))\n",
    "    minutes = int(input(\"Enter the number of minutes: \"))\n",
    "    seconds = int(input(\"Enter the number of seconds: \"))\n",
    "    \n",
    "    print(\"That's {} seconds\".format(to_seconds(hours, minutes, seconds)))\n",
    "    print()\n",
    "    cont = input(\"Do you want to do another conversion? [y to continue] \")\n",
    "    \n",
    "print(\"Good bye!\")"
   ]
  },
  {
   "cell_type": "markdown",
   "metadata": {},
   "source": [
    "### Standard Streams"
   ]
  },
  {
   "cell_type": "code",
   "execution_count": 3,
   "metadata": {},
   "outputs": [
    {
     "name": "stdout",
     "output_type": "stream",
     "text": [
      "This will come from STDIN: NewizZ\n",
      "Now we write it to STDOUT: NewizZ\n"
     ]
    },
    {
     "ename": "TypeError",
     "evalue": "must be str, not int",
     "output_type": "error",
     "traceback": [
      "\u001b[1;31m---------------------------------------------------------------------------\u001b[0m",
      "\u001b[1;31mTypeError\u001b[0m                                 Traceback (most recent call last)",
      "\u001b[1;32m<ipython-input-3-f8622398779f>\u001b[0m in \u001b[0;36m<module>\u001b[1;34m\u001b[0m\n\u001b[0;32m      1\u001b[0m \u001b[0mdata\u001b[0m \u001b[1;33m=\u001b[0m \u001b[0minput\u001b[0m\u001b[1;33m(\u001b[0m\u001b[1;34m\"This will come from STDIN: \"\u001b[0m\u001b[1;33m)\u001b[0m\u001b[1;33m\u001b[0m\u001b[1;33m\u001b[0m\u001b[0m\n\u001b[0;32m      2\u001b[0m \u001b[0mprint\u001b[0m\u001b[1;33m(\u001b[0m\u001b[1;34m\"Now we write it to STDOUT: \"\u001b[0m \u001b[1;33m+\u001b[0m \u001b[0mdata\u001b[0m\u001b[1;33m)\u001b[0m\u001b[1;33m\u001b[0m\u001b[1;33m\u001b[0m\u001b[0m\n\u001b[1;32m----> 3\u001b[1;33m \u001b[0mprint\u001b[0m\u001b[1;33m(\u001b[0m\u001b[1;34m\"Now we generate an error to STDERR: \"\u001b[0m \u001b[1;33m+\u001b[0m \u001b[0mdata\u001b[0m \u001b[1;33m+\u001b[0m \u001b[1;36m1\u001b[0m\u001b[1;33m)\u001b[0m\u001b[1;33m\u001b[0m\u001b[1;33m\u001b[0m\u001b[0m\n\u001b[0m",
      "\u001b[1;31mTypeError\u001b[0m: must be str, not int"
     ]
    }
   ],
   "source": [
    "data = input(\"This will come from STDIN: \")\n",
    "print(\"Now we write it to STDOUT: \" + data)\n",
    "print(\"Now we generate an error to STDERR: \" + data + 1)"
   ]
  },
  {
   "cell_type": "markdown",
   "metadata": {},
   "source": [
    "### Environment Variable"
   ]
  },
  {
   "cell_type": "code",
   "execution_count": 5,
   "metadata": {},
   "outputs": [
    {
     "data": {
      "text/plain": [
       "{'ALLUSERSPROFILE': 'C:\\\\ProgramData',\n",
       " 'APPDATA': 'C:\\\\Users\\\\wityanat.CEMENTHAI\\\\AppData\\\\Roaming',\n",
       " 'COMMONPROGRAMFILES': 'C:\\\\Program Files\\\\Common Files',\n",
       " 'COMMONPROGRAMFILES(X86)': 'C:\\\\Program Files (x86)\\\\Common Files',\n",
       " 'COMMONPROGRAMW6432': 'C:\\\\Program Files\\\\Common Files',\n",
       " 'COMPUTERNAME': 'CHEM-NB-5L861G2',\n",
       " 'COMSPEC': 'C:\\\\WINDOWS\\\\system32\\\\cmd.exe',\n",
       " 'DEFLOGDIR': 'C:\\\\ProgramData\\\\McAfee\\\\Endpoint Security\\\\Logs',\n",
       " 'DRIVERDATA': 'C:\\\\Windows\\\\System32\\\\Drivers\\\\DriverData',\n",
       " 'FPS_BROWSER_APP_PROFILE_STRING': 'Internet Explorer',\n",
       " 'FPS_BROWSER_USER_PROFILE_STRING': 'Default',\n",
       " 'HOMEDRIVE': 'U:',\n",
       " 'HOMEPATH': '\\\\',\n",
       " 'HOMESHARE': '\\\\\\\\rocnasfs01\\\\home\\\\wityanat',\n",
       " 'LOCALAPPDATA': 'C:\\\\Users\\\\wityanat.CEMENTHAI\\\\AppData\\\\Local',\n",
       " 'LOGONSERVER': '\\\\\\\\CHEM03DC01',\n",
       " 'NUMBER_OF_PROCESSORS': '8',\n",
       " 'ONEDRIVE': 'C:\\\\Users\\\\wityanat.CEMENTHAI\\\\OneDrive',\n",
       " 'ONEDRIVECONSUMER': 'C:\\\\Users\\\\wityanat.CEMENTHAI\\\\OneDrive',\n",
       " 'OS': 'Windows_NT',\n",
       " 'PATH': 'C:\\\\Users\\\\wityanat.CEMENTHAI\\\\Anaconda3\\\\envs\\\\aiml;C:\\\\Users\\\\wityanat.CEMENTHAI\\\\Anaconda3\\\\envs\\\\aiml\\\\Library\\\\mingw-w64\\\\bin;C:\\\\Users\\\\wityanat.CEMENTHAI\\\\Anaconda3\\\\envs\\\\aiml\\\\Library\\\\usr\\\\bin;C:\\\\Users\\\\wityanat.CEMENTHAI\\\\Anaconda3\\\\envs\\\\aiml\\\\Library\\\\bin;C:\\\\Users\\\\wityanat.CEMENTHAI\\\\Anaconda3\\\\envs\\\\aiml\\\\Scripts;C:\\\\PROGRAM FILES (X86)\\\\YOKOGAWA\\\\EXAQUANTUM PIMS\\\\EXAOPC\\\\PROGRAM;C:\\\\PROGRAM FILES (X86)\\\\YOKOGAWA\\\\EXAQUANTUM PIMS\\\\EXAOPC\\\\LIBRARY;C:\\\\Program Files (x86)\\\\Common Files\\\\Oracle\\\\Java\\\\javapath;C:\\\\Program Files (x86)\\\\Intel\\\\Intel(R) Management Engine Components\\\\iCLS\\\\;C:\\\\Program Files\\\\Intel\\\\Intel(R) Management Engine Components\\\\iCLS\\\\;C:\\\\WINDOWS\\\\system32;C:\\\\WINDOWS;C:\\\\WINDOWS\\\\System32\\\\Wbem;C:\\\\WINDOWS\\\\System32\\\\WindowsPowerShell\\\\v1.0\\\\;C:\\\\Program Files (x86)\\\\Intel\\\\Intel(R) Management Engine Components\\\\DAL;C:\\\\Program Files\\\\Intel\\\\Intel(R) Management Engine Components\\\\DAL;C:\\\\Program Files (x86)\\\\Intel\\\\Intel(R) Management Engine Components\\\\IPT;C:\\\\Program Files\\\\Intel\\\\Intel(R) Management Engine Components\\\\IPT;C:\\\\WINDOWS\\\\System32\\\\OpenSSH\\\\;C:\\\\Program Files (x86)\\\\NVIDIA Corporation\\\\PhysX\\\\Common;C:\\\\Program Files\\\\PIPC\\\\bin\\\\;C:\\\\Program Files (x86)\\\\Microsoft SQL Server\\\\80\\\\Tools\\\\Binn\\\\;C:\\\\Program Files\\\\Microsoft SQL Server\\\\110\\\\Tools\\\\Binn\\\\;C:\\\\Program Files (x86)\\\\Common Files\\\\AspenTech Shared\\\\;C:\\\\Program Files\\\\Git\\\\cmd;C:\\\\Program Files (x86)\\\\Microsoft SQL Server\\\\Client SDK\\\\ODBC\\\\130\\\\Tools\\\\Binn\\\\;C:\\\\Program Files (x86)\\\\Microsoft SQL Server\\\\140\\\\Tools\\\\Binn\\\\;C:\\\\Program Files (x86)\\\\Microsoft SQL Server\\\\140\\\\DTS\\\\Binn\\\\;C:\\\\Program Files (x86)\\\\Microsoft SQL Server\\\\140\\\\Tools\\\\Binn\\\\ManagementStudio\\\\;C:\\\\Program Files\\\\Common Files\\\\AspenTech Shared\\\\;C:\\\\Program Files (x86)\\\\eDNA\\\\;C:\\\\Program Files (x86)\\\\PIPC\\\\bin\\\\;C:\\\\Program Files\\\\Intel\\\\WiFi\\\\bin\\\\;C:\\\\Program Files\\\\Common Files\\\\Intel\\\\WirelessCommon\\\\;%SystemRoot%\\\\system32;%SystemRoot%;%SystemRoot%\\\\System32\\\\Wbem;%SYSTEMROOT%\\\\System32\\\\WindowsPowerShell\\\\v1.0\\\\;%SYSTEMROOT%\\\\System32\\\\OpenSSH\\\\;C:\\\\Users\\\\wityanat.CEMENTHAI\\\\AppData\\\\Local\\\\Microsoft\\\\WindowsApps;;C:\\\\Users\\\\wityanat.CEMENTHAI\\\\AppData\\\\Local\\\\Programs\\\\Microsoft VS Code\\\\bin',\n",
       " 'PATHEXT': '.COM;.EXE;.BAT;.CMD;.VBS;.VBE;.JS;.JSE;.WSF;.WSH;.MSC',\n",
       " 'PIHOME': 'C:\\\\Program Files (x86)\\\\PIPC',\n",
       " 'PIHOME64': 'C:\\\\Program Files\\\\PIPC\\\\',\n",
       " 'PROCESSOR_ARCHITECTURE': 'AMD64',\n",
       " 'PROCESSOR_IDENTIFIER': 'Intel64 Family 6 Model 158 Stepping 9, GenuineIntel',\n",
       " 'PROCESSOR_LEVEL': '6',\n",
       " 'PROCESSOR_REVISION': '9e09',\n",
       " 'PROGRAMDATA': 'C:\\\\ProgramData',\n",
       " 'PROGRAMFILES': 'C:\\\\Program Files',\n",
       " 'PROGRAMFILES(X86)': 'C:\\\\Program Files (x86)',\n",
       " 'PROGRAMW6432': 'C:\\\\Program Files',\n",
       " 'PSMODULEPATH': 'C:\\\\Program Files\\\\WindowsPowerShell\\\\Modules;C:\\\\WINDOWS\\\\system32\\\\WindowsPowerShell\\\\v1.0\\\\Modules',\n",
       " 'PUBLIC': 'C:\\\\Users\\\\Public',\n",
       " 'SESSIONNAME': 'Console',\n",
       " 'SYSTEMDRIVE': 'C:',\n",
       " 'SYSTEMROOT': 'C:\\\\WINDOWS',\n",
       " 'TEMP': 'C:\\\\Users\\\\WITYAN~1.CEM\\\\AppData\\\\Local\\\\Temp',\n",
       " 'TMP': 'C:\\\\Users\\\\WITYAN~1.CEM\\\\AppData\\\\Local\\\\Temp',\n",
       " 'UATDATA': 'C:\\\\WINDOWS\\\\CCM\\\\UATData\\\\D9F8C395-CAB8-491d-B8AC-179A1FE1BE77',\n",
       " 'USERDNSDOMAIN': 'CEMENTHAI.COM',\n",
       " 'USERDOMAIN': 'CEMENTHAI',\n",
       " 'USERDOMAIN_ROAMINGPROFILE': 'CEMENTHAI',\n",
       " 'USERNAME': 'wityanat',\n",
       " 'USERPROFILE': 'C:\\\\Users\\\\wityanat.CEMENTHAI',\n",
       " 'WINDIR': 'C:\\\\WINDOWS',\n",
       " '_NT_SYMBOL_PATH': 'C:\\\\WINDOWS\\\\symbols;C:\\\\WINDOWS\\\\symbols\\\\dll;;',\n",
       " 'CONDA_PREFIX': 'C:\\\\Users\\\\wityanat.CEMENTHAI\\\\Anaconda3\\\\envs\\\\aiml',\n",
       " 'KERNEL_LAUNCH_TIMEOUT': '40',\n",
       " 'JPY_INTERRUPT_EVENT': '2952',\n",
       " 'IPY_INTERRUPT_EVENT': '2952',\n",
       " 'JPY_PARENT_PID': '3036',\n",
       " 'TERM': 'xterm-color',\n",
       " 'CLICOLOR': '1',\n",
       " 'PAGER': 'cat',\n",
       " 'GIT_PAGER': 'cat',\n",
       " 'MPLBACKEND': 'module://ipykernel.pylab.backend_inline'}"
      ]
     },
     "execution_count": 5,
     "metadata": {},
     "output_type": "execute_result"
    }
   ],
   "source": [
    "env"
   ]
  },
  {
   "cell_type": "code",
   "execution_count": 11,
   "metadata": {},
   "outputs": [
    {
     "name": "stderr",
     "output_type": "stream",
     "text": [
      "UsageError: Environment does not have key: [PATH]\n"
     ]
    }
   ],
   "source": [
    "env[PATH]"
   ]
  },
  {
   "cell_type": "code",
   "execution_count": 12,
   "metadata": {},
   "outputs": [
    {
     "name": "stdout",
     "output_type": "stream",
     "text": [
      "$PATH\n"
     ]
    }
   ],
   "source": [
    "echo $PATH"
   ]
  },
  {
   "cell_type": "code",
   "execution_count": 13,
   "metadata": {},
   "outputs": [
    {
     "name": "stdout",
     "output_type": "stream",
     "text": [
      "HOME: \n",
      "SHELL: \n",
      "FRUIT: \n"
     ]
    }
   ],
   "source": [
    "import os\n",
    "# use get method allow us to specify a default value when the key that we're looking for isn't in the dictionary\n",
    "print(\"HOME: \" + os.environ.get(\"HOME\", \"\"))\n",
    "print(\"SHELL: \" + os.environ.get(\"SHELL\", \"\"))\n",
    "print(\"FRUIT: \" + os.environ.get(\"FRUIT\", \"\"))"
   ]
  },
  {
   "cell_type": "code",
   "execution_count": 14,
   "metadata": {},
   "outputs": [
    {
     "name": "stdout",
     "output_type": "stream",
     "text": [
      "HOMEPATH: \\\n",
      "CLICOLOR: 1\n",
      "MPLBACKEND: module://ipykernel.pylab.backend_inline\n"
     ]
    }
   ],
   "source": [
    "print(\"HOMEPATH: \" + os.environ.get(\"HOMEPATH\", \"\"))\n",
    "print(\"CLICOLOR: \" + os.environ.get(\"CLICOLOR\", \"\"))\n",
    "print(\"MPLBACKEND: \" + os.environ.get(\"MPLBACKEND\", \"\"))"
   ]
  },
  {
   "cell_type": "code",
   "execution_count": 15,
   "metadata": {},
   "outputs": [
    {
     "ename": "SyntaxError",
     "evalue": "invalid syntax (<ipython-input-15-6ff0871813fd>, line 1)",
     "output_type": "error",
     "traceback": [
      "\u001b[1;36m  File \u001b[1;32m\"<ipython-input-15-6ff0871813fd>\"\u001b[1;36m, line \u001b[1;32m1\u001b[0m\n\u001b[1;33m    export FRUIT=Pineapple\u001b[0m\n\u001b[1;37m               ^\u001b[0m\n\u001b[1;31mSyntaxError\u001b[0m\u001b[1;31m:\u001b[0m invalid syntax\n"
     ]
    }
   ],
   "source": [
    "export FRUIT=Pineapple"
   ]
  },
  {
   "cell_type": "markdown",
   "metadata": {},
   "source": [
    "### Command-Line Arguments and Exit Status"
   ]
  },
  {
   "cell_type": "code",
   "execution_count": 16,
   "metadata": {},
   "outputs": [
    {
     "name": "stdout",
     "output_type": "stream",
     "text": [
      "['C:\\\\Users\\\\wityanat.CEMENTHAI\\\\Anaconda3\\\\envs\\\\aiml\\\\lib\\\\site-packages\\\\ipykernel_launcher.py', '-f', 'C:\\\\Users\\\\wityanat.CEMENTHAI\\\\AppData\\\\Roaming\\\\jupyter\\\\runtime\\\\kernel-5a570693-054c-4542-96f5-078c49619210.json']\n"
     ]
    }
   ],
   "source": [
    "#!usr/bin/env python3\n",
    "\n",
    "import sys\n",
    "print(sys.argv)"
   ]
  },
  {
   "cell_type": "code",
   "execution_count": 18,
   "metadata": {},
   "outputs": [],
   "source": [
    "# wc variable.py"
   ]
  },
  {
   "cell_type": "code",
   "execution_count": 47,
   "metadata": {},
   "outputs": [
    {
     "name": "stdout",
     "output_type": "stream",
     "text": [
      "$? # Check last exit or return code value\n"
     ]
    }
   ],
   "source": [
    "echo $? # Check last exit or return code value"
   ]
  },
  {
   "cell_type": "code",
   "execution_count": 21,
   "metadata": {},
   "outputs": [],
   "source": [
    "import os\n",
    "import sys\n",
    "\n",
    "filename = sys.argv[1]\n",
    "\n",
    "if not os.path.exists(filename):\n",
    "    with open(filename, \"w\") as f:\n",
    "        f.write(\"New file created\\n\")\n",
    "        \n",
    "else:\n",
    "    print(\"Error, the file {} already exists!\".format(filename))\n",
    "    sys.exit(1)"
   ]
  },
  {
   "cell_type": "code",
   "execution_count": 25,
   "metadata": {},
   "outputs": [
    {
     "data": {
      "text/plain": [
       "'-f'"
      ]
     },
     "execution_count": 25,
     "metadata": {},
     "output_type": "execute_result"
    }
   ],
   "source": [
    "sys.argv[1]"
   ]
  },
  {
   "cell_type": "code",
   "execution_count": 24,
   "metadata": {},
   "outputs": [
    {
     "name": "stdout",
     "output_type": "stream",
     "text": [
      "Error, the file -f already exists!\n"
     ]
    },
    {
     "ename": "SystemExit",
     "evalue": "1",
     "output_type": "error",
     "traceback": [
      "An exception has occurred, use %tb to see the full traceback.\n",
      "\u001b[1;31mSystemExit\u001b[0m\u001b[1;31m:\u001b[0m 1\n"
     ]
    }
   ],
   "source": [
    "import os\n",
    "import sys\n",
    "\n",
    "filename = sys.argv[1]\n",
    "\n",
    "if not os.path.exists(filename):\n",
    "    with open(filename, \"w\") as f:\n",
    "        f.write(\"New file created\\n\")\n",
    "        \n",
    "else:\n",
    "    print(\"Error, the file {} already exists!\".format(filename))\n",
    "    sys.exit(1)"
   ]
  },
  {
   "cell_type": "markdown",
   "metadata": {},
   "source": [
    "## Python Subprocesses"
   ]
  },
  {
   "cell_type": "markdown",
   "metadata": {},
   "source": [
    "### Running System Commands in Python"
   ]
  },
  {
   "cell_type": "code",
   "execution_count": 26,
   "metadata": {},
   "outputs": [
    {
     "ename": "FileNotFoundError",
     "evalue": "[WinError 2] The system cannot find the file specified",
     "output_type": "error",
     "traceback": [
      "\u001b[1;31m---------------------------------------------------------------------------\u001b[0m",
      "\u001b[1;31mFileNotFoundError\u001b[0m                         Traceback (most recent call last)",
      "\u001b[1;32m<ipython-input-26-5d32779ebeb3>\u001b[0m in \u001b[0;36m<module>\u001b[1;34m\u001b[0m\n\u001b[0;32m      1\u001b[0m \u001b[1;32mimport\u001b[0m \u001b[0msubprocess\u001b[0m\u001b[1;33m\u001b[0m\u001b[1;33m\u001b[0m\u001b[0m\n\u001b[1;32m----> 2\u001b[1;33m \u001b[0msubprocess\u001b[0m\u001b[1;33m.\u001b[0m\u001b[0mrun\u001b[0m\u001b[1;33m(\u001b[0m\u001b[1;33m[\u001b[0m\u001b[1;34m\"date\"\u001b[0m\u001b[1;33m]\u001b[0m\u001b[1;33m)\u001b[0m\u001b[1;33m\u001b[0m\u001b[1;33m\u001b[0m\u001b[0m\n\u001b[0m",
      "\u001b[1;32m~\\Anaconda3\\envs\\aiml\\lib\\subprocess.py\u001b[0m in \u001b[0;36mrun\u001b[1;34m(input, timeout, check, *popenargs, **kwargs)\u001b[0m\n\u001b[0;32m    421\u001b[0m         \u001b[0mkwargs\u001b[0m\u001b[1;33m[\u001b[0m\u001b[1;34m'stdin'\u001b[0m\u001b[1;33m]\u001b[0m \u001b[1;33m=\u001b[0m \u001b[0mPIPE\u001b[0m\u001b[1;33m\u001b[0m\u001b[1;33m\u001b[0m\u001b[0m\n\u001b[0;32m    422\u001b[0m \u001b[1;33m\u001b[0m\u001b[0m\n\u001b[1;32m--> 423\u001b[1;33m     \u001b[1;32mwith\u001b[0m \u001b[0mPopen\u001b[0m\u001b[1;33m(\u001b[0m\u001b[1;33m*\u001b[0m\u001b[0mpopenargs\u001b[0m\u001b[1;33m,\u001b[0m \u001b[1;33m**\u001b[0m\u001b[0mkwargs\u001b[0m\u001b[1;33m)\u001b[0m \u001b[1;32mas\u001b[0m \u001b[0mprocess\u001b[0m\u001b[1;33m:\u001b[0m\u001b[1;33m\u001b[0m\u001b[1;33m\u001b[0m\u001b[0m\n\u001b[0m\u001b[0;32m    424\u001b[0m         \u001b[1;32mtry\u001b[0m\u001b[1;33m:\u001b[0m\u001b[1;33m\u001b[0m\u001b[1;33m\u001b[0m\u001b[0m\n\u001b[0;32m    425\u001b[0m             \u001b[0mstdout\u001b[0m\u001b[1;33m,\u001b[0m \u001b[0mstderr\u001b[0m \u001b[1;33m=\u001b[0m \u001b[0mprocess\u001b[0m\u001b[1;33m.\u001b[0m\u001b[0mcommunicate\u001b[0m\u001b[1;33m(\u001b[0m\u001b[0minput\u001b[0m\u001b[1;33m,\u001b[0m \u001b[0mtimeout\u001b[0m\u001b[1;33m=\u001b[0m\u001b[0mtimeout\u001b[0m\u001b[1;33m)\u001b[0m\u001b[1;33m\u001b[0m\u001b[1;33m\u001b[0m\u001b[0m\n",
      "\u001b[1;32m~\\Anaconda3\\envs\\aiml\\lib\\subprocess.py\u001b[0m in \u001b[0;36m__init__\u001b[1;34m(self, args, bufsize, executable, stdin, stdout, stderr, preexec_fn, close_fds, shell, cwd, env, universal_newlines, startupinfo, creationflags, restore_signals, start_new_session, pass_fds, encoding, errors)\u001b[0m\n\u001b[0;32m    727\u001b[0m                                 \u001b[0mc2pread\u001b[0m\u001b[1;33m,\u001b[0m \u001b[0mc2pwrite\u001b[0m\u001b[1;33m,\u001b[0m\u001b[1;33m\u001b[0m\u001b[1;33m\u001b[0m\u001b[0m\n\u001b[0;32m    728\u001b[0m                                 \u001b[0merrread\u001b[0m\u001b[1;33m,\u001b[0m \u001b[0merrwrite\u001b[0m\u001b[1;33m,\u001b[0m\u001b[1;33m\u001b[0m\u001b[1;33m\u001b[0m\u001b[0m\n\u001b[1;32m--> 729\u001b[1;33m                                 restore_signals, start_new_session)\n\u001b[0m\u001b[0;32m    730\u001b[0m         \u001b[1;32mexcept\u001b[0m\u001b[1;33m:\u001b[0m\u001b[1;33m\u001b[0m\u001b[1;33m\u001b[0m\u001b[0m\n\u001b[0;32m    731\u001b[0m             \u001b[1;31m# Cleanup if the child failed starting.\u001b[0m\u001b[1;33m\u001b[0m\u001b[1;33m\u001b[0m\u001b[1;33m\u001b[0m\u001b[0m\n",
      "\u001b[1;32m~\\Anaconda3\\envs\\aiml\\lib\\subprocess.py\u001b[0m in \u001b[0;36m_execute_child\u001b[1;34m(self, args, executable, preexec_fn, close_fds, pass_fds, cwd, env, startupinfo, creationflags, shell, p2cread, p2cwrite, c2pread, c2pwrite, errread, errwrite, unused_restore_signals, unused_start_new_session)\u001b[0m\n\u001b[0;32m   1015\u001b[0m                                          \u001b[0menv\u001b[0m\u001b[1;33m,\u001b[0m\u001b[1;33m\u001b[0m\u001b[1;33m\u001b[0m\u001b[0m\n\u001b[0;32m   1016\u001b[0m                                          \u001b[0mos\u001b[0m\u001b[1;33m.\u001b[0m\u001b[0mfspath\u001b[0m\u001b[1;33m(\u001b[0m\u001b[0mcwd\u001b[0m\u001b[1;33m)\u001b[0m \u001b[1;32mif\u001b[0m \u001b[0mcwd\u001b[0m \u001b[1;32mis\u001b[0m \u001b[1;32mnot\u001b[0m \u001b[1;32mNone\u001b[0m \u001b[1;32melse\u001b[0m \u001b[1;32mNone\u001b[0m\u001b[1;33m,\u001b[0m\u001b[1;33m\u001b[0m\u001b[1;33m\u001b[0m\u001b[0m\n\u001b[1;32m-> 1017\u001b[1;33m                                          startupinfo)\n\u001b[0m\u001b[0;32m   1018\u001b[0m             \u001b[1;32mfinally\u001b[0m\u001b[1;33m:\u001b[0m\u001b[1;33m\u001b[0m\u001b[1;33m\u001b[0m\u001b[0m\n\u001b[0;32m   1019\u001b[0m                 \u001b[1;31m# Child is launched. Close the parent's copy of those pipe\u001b[0m\u001b[1;33m\u001b[0m\u001b[1;33m\u001b[0m\u001b[1;33m\u001b[0m\u001b[0m\n",
      "\u001b[1;31mFileNotFoundError\u001b[0m: [WinError 2] The system cannot find the file specified"
     ]
    }
   ],
   "source": [
    "import subprocess\n",
    "subprocess.run([\"date\"])"
   ]
  },
  {
   "cell_type": "code",
   "execution_count": 28,
   "metadata": {},
   "outputs": [
    {
     "ename": "FileNotFoundError",
     "evalue": "[WinError 2] The system cannot find the file specified",
     "output_type": "error",
     "traceback": [
      "\u001b[1;31m---------------------------------------------------------------------------\u001b[0m",
      "\u001b[1;31mFileNotFoundError\u001b[0m                         Traceback (most recent call last)",
      "\u001b[1;32m<ipython-input-28-554407b23a2f>\u001b[0m in \u001b[0;36m<module>\u001b[1;34m\u001b[0m\n\u001b[1;32m----> 1\u001b[1;33m \u001b[0msubprocess\u001b[0m\u001b[1;33m.\u001b[0m\u001b[0mrun\u001b[0m\u001b[1;33m(\u001b[0m\u001b[1;33m[\u001b[0m\u001b[1;34m\"sleep\"\u001b[0m\u001b[1;33m,\u001b[0m \u001b[1;34m\"2\"\u001b[0m\u001b[1;33m]\u001b[0m\u001b[1;33m)\u001b[0m\u001b[1;33m\u001b[0m\u001b[1;33m\u001b[0m\u001b[0m\n\u001b[0m",
      "\u001b[1;32m~\\Anaconda3\\envs\\aiml\\lib\\subprocess.py\u001b[0m in \u001b[0;36mrun\u001b[1;34m(input, timeout, check, *popenargs, **kwargs)\u001b[0m\n\u001b[0;32m    421\u001b[0m         \u001b[0mkwargs\u001b[0m\u001b[1;33m[\u001b[0m\u001b[1;34m'stdin'\u001b[0m\u001b[1;33m]\u001b[0m \u001b[1;33m=\u001b[0m \u001b[0mPIPE\u001b[0m\u001b[1;33m\u001b[0m\u001b[1;33m\u001b[0m\u001b[0m\n\u001b[0;32m    422\u001b[0m \u001b[1;33m\u001b[0m\u001b[0m\n\u001b[1;32m--> 423\u001b[1;33m     \u001b[1;32mwith\u001b[0m \u001b[0mPopen\u001b[0m\u001b[1;33m(\u001b[0m\u001b[1;33m*\u001b[0m\u001b[0mpopenargs\u001b[0m\u001b[1;33m,\u001b[0m \u001b[1;33m**\u001b[0m\u001b[0mkwargs\u001b[0m\u001b[1;33m)\u001b[0m \u001b[1;32mas\u001b[0m \u001b[0mprocess\u001b[0m\u001b[1;33m:\u001b[0m\u001b[1;33m\u001b[0m\u001b[1;33m\u001b[0m\u001b[0m\n\u001b[0m\u001b[0;32m    424\u001b[0m         \u001b[1;32mtry\u001b[0m\u001b[1;33m:\u001b[0m\u001b[1;33m\u001b[0m\u001b[1;33m\u001b[0m\u001b[0m\n\u001b[0;32m    425\u001b[0m             \u001b[0mstdout\u001b[0m\u001b[1;33m,\u001b[0m \u001b[0mstderr\u001b[0m \u001b[1;33m=\u001b[0m \u001b[0mprocess\u001b[0m\u001b[1;33m.\u001b[0m\u001b[0mcommunicate\u001b[0m\u001b[1;33m(\u001b[0m\u001b[0minput\u001b[0m\u001b[1;33m,\u001b[0m \u001b[0mtimeout\u001b[0m\u001b[1;33m=\u001b[0m\u001b[0mtimeout\u001b[0m\u001b[1;33m)\u001b[0m\u001b[1;33m\u001b[0m\u001b[1;33m\u001b[0m\u001b[0m\n",
      "\u001b[1;32m~\\Anaconda3\\envs\\aiml\\lib\\subprocess.py\u001b[0m in \u001b[0;36m__init__\u001b[1;34m(self, args, bufsize, executable, stdin, stdout, stderr, preexec_fn, close_fds, shell, cwd, env, universal_newlines, startupinfo, creationflags, restore_signals, start_new_session, pass_fds, encoding, errors)\u001b[0m\n\u001b[0;32m    727\u001b[0m                                 \u001b[0mc2pread\u001b[0m\u001b[1;33m,\u001b[0m \u001b[0mc2pwrite\u001b[0m\u001b[1;33m,\u001b[0m\u001b[1;33m\u001b[0m\u001b[1;33m\u001b[0m\u001b[0m\n\u001b[0;32m    728\u001b[0m                                 \u001b[0merrread\u001b[0m\u001b[1;33m,\u001b[0m \u001b[0merrwrite\u001b[0m\u001b[1;33m,\u001b[0m\u001b[1;33m\u001b[0m\u001b[1;33m\u001b[0m\u001b[0m\n\u001b[1;32m--> 729\u001b[1;33m                                 restore_signals, start_new_session)\n\u001b[0m\u001b[0;32m    730\u001b[0m         \u001b[1;32mexcept\u001b[0m\u001b[1;33m:\u001b[0m\u001b[1;33m\u001b[0m\u001b[1;33m\u001b[0m\u001b[0m\n\u001b[0;32m    731\u001b[0m             \u001b[1;31m# Cleanup if the child failed starting.\u001b[0m\u001b[1;33m\u001b[0m\u001b[1;33m\u001b[0m\u001b[1;33m\u001b[0m\u001b[0m\n",
      "\u001b[1;32m~\\Anaconda3\\envs\\aiml\\lib\\subprocess.py\u001b[0m in \u001b[0;36m_execute_child\u001b[1;34m(self, args, executable, preexec_fn, close_fds, pass_fds, cwd, env, startupinfo, creationflags, shell, p2cread, p2cwrite, c2pread, c2pwrite, errread, errwrite, unused_restore_signals, unused_start_new_session)\u001b[0m\n\u001b[0;32m   1015\u001b[0m                                          \u001b[0menv\u001b[0m\u001b[1;33m,\u001b[0m\u001b[1;33m\u001b[0m\u001b[1;33m\u001b[0m\u001b[0m\n\u001b[0;32m   1016\u001b[0m                                          \u001b[0mos\u001b[0m\u001b[1;33m.\u001b[0m\u001b[0mfspath\u001b[0m\u001b[1;33m(\u001b[0m\u001b[0mcwd\u001b[0m\u001b[1;33m)\u001b[0m \u001b[1;32mif\u001b[0m \u001b[0mcwd\u001b[0m \u001b[1;32mis\u001b[0m \u001b[1;32mnot\u001b[0m \u001b[1;32mNone\u001b[0m \u001b[1;32melse\u001b[0m \u001b[1;32mNone\u001b[0m\u001b[1;33m,\u001b[0m\u001b[1;33m\u001b[0m\u001b[1;33m\u001b[0m\u001b[0m\n\u001b[1;32m-> 1017\u001b[1;33m                                          startupinfo)\n\u001b[0m\u001b[0;32m   1018\u001b[0m             \u001b[1;32mfinally\u001b[0m\u001b[1;33m:\u001b[0m\u001b[1;33m\u001b[0m\u001b[1;33m\u001b[0m\u001b[0m\n\u001b[0;32m   1019\u001b[0m                 \u001b[1;31m# Child is launched. Close the parent's copy of those pipe\u001b[0m\u001b[1;33m\u001b[0m\u001b[1;33m\u001b[0m\u001b[1;33m\u001b[0m\u001b[0m\n",
      "\u001b[1;31mFileNotFoundError\u001b[0m: [WinError 2] The system cannot find the file specified"
     ]
    }
   ],
   "source": [
    "subprocess.run([\"sleep\", \"2\"])"
   ]
  },
  {
   "cell_type": "code",
   "execution_count": 29,
   "metadata": {},
   "outputs": [
    {
     "ename": "FileNotFoundError",
     "evalue": "[WinError 2] The system cannot find the file specified",
     "output_type": "error",
     "traceback": [
      "\u001b[1;31m---------------------------------------------------------------------------\u001b[0m",
      "\u001b[1;31mFileNotFoundError\u001b[0m                         Traceback (most recent call last)",
      "\u001b[1;32m<ipython-input-29-4b3109c43621>\u001b[0m in \u001b[0;36m<module>\u001b[1;34m\u001b[0m\n\u001b[1;32m----> 1\u001b[1;33m \u001b[0mresult\u001b[0m \u001b[1;33m=\u001b[0m \u001b[0msubprocess\u001b[0m\u001b[1;33m.\u001b[0m\u001b[0mrun\u001b[0m\u001b[1;33m(\u001b[0m\u001b[1;33m[\u001b[0m\u001b[1;34m\"ls\"\u001b[0m\u001b[1;33m,\u001b[0m \u001b[1;34m\"this_file_does_not_exist\"\u001b[0m\u001b[1;33m]\u001b[0m\u001b[1;33m)\u001b[0m\u001b[1;33m\u001b[0m\u001b[1;33m\u001b[0m\u001b[0m\n\u001b[0m",
      "\u001b[1;32m~\\Anaconda3\\envs\\aiml\\lib\\subprocess.py\u001b[0m in \u001b[0;36mrun\u001b[1;34m(input, timeout, check, *popenargs, **kwargs)\u001b[0m\n\u001b[0;32m    421\u001b[0m         \u001b[0mkwargs\u001b[0m\u001b[1;33m[\u001b[0m\u001b[1;34m'stdin'\u001b[0m\u001b[1;33m]\u001b[0m \u001b[1;33m=\u001b[0m \u001b[0mPIPE\u001b[0m\u001b[1;33m\u001b[0m\u001b[1;33m\u001b[0m\u001b[0m\n\u001b[0;32m    422\u001b[0m \u001b[1;33m\u001b[0m\u001b[0m\n\u001b[1;32m--> 423\u001b[1;33m     \u001b[1;32mwith\u001b[0m \u001b[0mPopen\u001b[0m\u001b[1;33m(\u001b[0m\u001b[1;33m*\u001b[0m\u001b[0mpopenargs\u001b[0m\u001b[1;33m,\u001b[0m \u001b[1;33m**\u001b[0m\u001b[0mkwargs\u001b[0m\u001b[1;33m)\u001b[0m \u001b[1;32mas\u001b[0m \u001b[0mprocess\u001b[0m\u001b[1;33m:\u001b[0m\u001b[1;33m\u001b[0m\u001b[1;33m\u001b[0m\u001b[0m\n\u001b[0m\u001b[0;32m    424\u001b[0m         \u001b[1;32mtry\u001b[0m\u001b[1;33m:\u001b[0m\u001b[1;33m\u001b[0m\u001b[1;33m\u001b[0m\u001b[0m\n\u001b[0;32m    425\u001b[0m             \u001b[0mstdout\u001b[0m\u001b[1;33m,\u001b[0m \u001b[0mstderr\u001b[0m \u001b[1;33m=\u001b[0m \u001b[0mprocess\u001b[0m\u001b[1;33m.\u001b[0m\u001b[0mcommunicate\u001b[0m\u001b[1;33m(\u001b[0m\u001b[0minput\u001b[0m\u001b[1;33m,\u001b[0m \u001b[0mtimeout\u001b[0m\u001b[1;33m=\u001b[0m\u001b[0mtimeout\u001b[0m\u001b[1;33m)\u001b[0m\u001b[1;33m\u001b[0m\u001b[1;33m\u001b[0m\u001b[0m\n",
      "\u001b[1;32m~\\Anaconda3\\envs\\aiml\\lib\\subprocess.py\u001b[0m in \u001b[0;36m__init__\u001b[1;34m(self, args, bufsize, executable, stdin, stdout, stderr, preexec_fn, close_fds, shell, cwd, env, universal_newlines, startupinfo, creationflags, restore_signals, start_new_session, pass_fds, encoding, errors)\u001b[0m\n\u001b[0;32m    727\u001b[0m                                 \u001b[0mc2pread\u001b[0m\u001b[1;33m,\u001b[0m \u001b[0mc2pwrite\u001b[0m\u001b[1;33m,\u001b[0m\u001b[1;33m\u001b[0m\u001b[1;33m\u001b[0m\u001b[0m\n\u001b[0;32m    728\u001b[0m                                 \u001b[0merrread\u001b[0m\u001b[1;33m,\u001b[0m \u001b[0merrwrite\u001b[0m\u001b[1;33m,\u001b[0m\u001b[1;33m\u001b[0m\u001b[1;33m\u001b[0m\u001b[0m\n\u001b[1;32m--> 729\u001b[1;33m                                 restore_signals, start_new_session)\n\u001b[0m\u001b[0;32m    730\u001b[0m         \u001b[1;32mexcept\u001b[0m\u001b[1;33m:\u001b[0m\u001b[1;33m\u001b[0m\u001b[1;33m\u001b[0m\u001b[0m\n\u001b[0;32m    731\u001b[0m             \u001b[1;31m# Cleanup if the child failed starting.\u001b[0m\u001b[1;33m\u001b[0m\u001b[1;33m\u001b[0m\u001b[1;33m\u001b[0m\u001b[0m\n",
      "\u001b[1;32m~\\Anaconda3\\envs\\aiml\\lib\\subprocess.py\u001b[0m in \u001b[0;36m_execute_child\u001b[1;34m(self, args, executable, preexec_fn, close_fds, pass_fds, cwd, env, startupinfo, creationflags, shell, p2cread, p2cwrite, c2pread, c2pwrite, errread, errwrite, unused_restore_signals, unused_start_new_session)\u001b[0m\n\u001b[0;32m   1015\u001b[0m                                          \u001b[0menv\u001b[0m\u001b[1;33m,\u001b[0m\u001b[1;33m\u001b[0m\u001b[1;33m\u001b[0m\u001b[0m\n\u001b[0;32m   1016\u001b[0m                                          \u001b[0mos\u001b[0m\u001b[1;33m.\u001b[0m\u001b[0mfspath\u001b[0m\u001b[1;33m(\u001b[0m\u001b[0mcwd\u001b[0m\u001b[1;33m)\u001b[0m \u001b[1;32mif\u001b[0m \u001b[0mcwd\u001b[0m \u001b[1;32mis\u001b[0m \u001b[1;32mnot\u001b[0m \u001b[1;32mNone\u001b[0m \u001b[1;32melse\u001b[0m \u001b[1;32mNone\u001b[0m\u001b[1;33m,\u001b[0m\u001b[1;33m\u001b[0m\u001b[1;33m\u001b[0m\u001b[0m\n\u001b[1;32m-> 1017\u001b[1;33m                                          startupinfo)\n\u001b[0m\u001b[0;32m   1018\u001b[0m             \u001b[1;32mfinally\u001b[0m\u001b[1;33m:\u001b[0m\u001b[1;33m\u001b[0m\u001b[1;33m\u001b[0m\u001b[0m\n\u001b[0;32m   1019\u001b[0m                 \u001b[1;31m# Child is launched. Close the parent's copy of those pipe\u001b[0m\u001b[1;33m\u001b[0m\u001b[1;33m\u001b[0m\u001b[1;33m\u001b[0m\u001b[0m\n",
      "\u001b[1;31mFileNotFoundError\u001b[0m: [WinError 2] The system cannot find the file specified"
     ]
    }
   ],
   "source": [
    "result = subprocess.run([\"ls\", \"this_file_does_not_exist\"])"
   ]
  },
  {
   "cell_type": "code",
   "execution_count": 31,
   "metadata": {},
   "outputs": [
    {
     "ename": "NameError",
     "evalue": "name 'result' is not defined",
     "output_type": "error",
     "traceback": [
      "\u001b[1;31m---------------------------------------------------------------------------\u001b[0m",
      "\u001b[1;31mNameError\u001b[0m                                 Traceback (most recent call last)",
      "\u001b[1;32m<ipython-input-31-465e349854af>\u001b[0m in \u001b[0;36m<module>\u001b[1;34m\u001b[0m\n\u001b[1;32m----> 1\u001b[1;33m \u001b[0mprint\u001b[0m\u001b[1;33m(\u001b[0m\u001b[0mresult\u001b[0m\u001b[1;33m.\u001b[0m\u001b[0mreturncode\u001b[0m\u001b[1;33m)\u001b[0m\u001b[1;33m\u001b[0m\u001b[1;33m\u001b[0m\u001b[0m\n\u001b[0m",
      "\u001b[1;31mNameError\u001b[0m: name 'result' is not defined"
     ]
    }
   ],
   "source": [
    "print(result.returncode)"
   ]
  },
  {
   "cell_type": "markdown",
   "metadata": {},
   "source": [
    "### Obtaining the Output of a System Command"
   ]
  },
  {
   "cell_type": "code",
   "execution_count": 32,
   "metadata": {},
   "outputs": [
    {
     "ename": "TypeError",
     "evalue": "__init__() got an unexpected keyword argument 'capture_output'",
     "output_type": "error",
     "traceback": [
      "\u001b[1;31m---------------------------------------------------------------------------\u001b[0m",
      "\u001b[1;31mTypeError\u001b[0m                                 Traceback (most recent call last)",
      "\u001b[1;32m<ipython-input-32-76b55de07d7c>\u001b[0m in \u001b[0;36m<module>\u001b[1;34m\u001b[0m\n\u001b[1;32m----> 1\u001b[1;33m \u001b[0mresult\u001b[0m \u001b[1;33m=\u001b[0m \u001b[0msubprocess\u001b[0m\u001b[1;33m.\u001b[0m\u001b[0mrun\u001b[0m\u001b[1;33m(\u001b[0m\u001b[1;33m[\u001b[0m\u001b[1;34m\"host\"\u001b[0m\u001b[1;33m,\u001b[0m \u001b[1;34m\"8.8.8.8\"\u001b[0m\u001b[1;33m]\u001b[0m\u001b[1;33m,\u001b[0m \u001b[0mcapture_output\u001b[0m\u001b[1;33m=\u001b[0m\u001b[1;32mTrue\u001b[0m\u001b[1;33m)\u001b[0m\u001b[1;33m\u001b[0m\u001b[1;33m\u001b[0m\u001b[0m\n\u001b[0m\u001b[0;32m      2\u001b[0m \u001b[0mprint\u001b[0m\u001b[1;33m(\u001b[0m\u001b[0mresult\u001b[0m\u001b[1;33m.\u001b[0m\u001b[0mreturncode\u001b[0m\u001b[1;33m)\u001b[0m\u001b[1;33m\u001b[0m\u001b[1;33m\u001b[0m\u001b[0m\n",
      "\u001b[1;32m~\\Anaconda3\\envs\\aiml\\lib\\subprocess.py\u001b[0m in \u001b[0;36mrun\u001b[1;34m(input, timeout, check, *popenargs, **kwargs)\u001b[0m\n\u001b[0;32m    421\u001b[0m         \u001b[0mkwargs\u001b[0m\u001b[1;33m[\u001b[0m\u001b[1;34m'stdin'\u001b[0m\u001b[1;33m]\u001b[0m \u001b[1;33m=\u001b[0m \u001b[0mPIPE\u001b[0m\u001b[1;33m\u001b[0m\u001b[1;33m\u001b[0m\u001b[0m\n\u001b[0;32m    422\u001b[0m \u001b[1;33m\u001b[0m\u001b[0m\n\u001b[1;32m--> 423\u001b[1;33m     \u001b[1;32mwith\u001b[0m \u001b[0mPopen\u001b[0m\u001b[1;33m(\u001b[0m\u001b[1;33m*\u001b[0m\u001b[0mpopenargs\u001b[0m\u001b[1;33m,\u001b[0m \u001b[1;33m**\u001b[0m\u001b[0mkwargs\u001b[0m\u001b[1;33m)\u001b[0m \u001b[1;32mas\u001b[0m \u001b[0mprocess\u001b[0m\u001b[1;33m:\u001b[0m\u001b[1;33m\u001b[0m\u001b[1;33m\u001b[0m\u001b[0m\n\u001b[0m\u001b[0;32m    424\u001b[0m         \u001b[1;32mtry\u001b[0m\u001b[1;33m:\u001b[0m\u001b[1;33m\u001b[0m\u001b[1;33m\u001b[0m\u001b[0m\n\u001b[0;32m    425\u001b[0m             \u001b[0mstdout\u001b[0m\u001b[1;33m,\u001b[0m \u001b[0mstderr\u001b[0m \u001b[1;33m=\u001b[0m \u001b[0mprocess\u001b[0m\u001b[1;33m.\u001b[0m\u001b[0mcommunicate\u001b[0m\u001b[1;33m(\u001b[0m\u001b[0minput\u001b[0m\u001b[1;33m,\u001b[0m \u001b[0mtimeout\u001b[0m\u001b[1;33m=\u001b[0m\u001b[0mtimeout\u001b[0m\u001b[1;33m)\u001b[0m\u001b[1;33m\u001b[0m\u001b[1;33m\u001b[0m\u001b[0m\n",
      "\u001b[1;31mTypeError\u001b[0m: __init__() got an unexpected keyword argument 'capture_output'"
     ]
    }
   ],
   "source": [
    "result = subprocess.run([\"host\", \"8.8.8.8\"], capture_output=True)\n",
    "print(result.returncode)"
   ]
  },
  {
   "cell_type": "code",
   "execution_count": 33,
   "metadata": {},
   "outputs": [
    {
     "ename": "NameError",
     "evalue": "name 'result' is not defined",
     "output_type": "error",
     "traceback": [
      "\u001b[1;31m---------------------------------------------------------------------------\u001b[0m",
      "\u001b[1;31mNameError\u001b[0m                                 Traceback (most recent call last)",
      "\u001b[1;32m<ipython-input-33-1978c23b4131>\u001b[0m in \u001b[0;36m<module>\u001b[1;34m\u001b[0m\n\u001b[1;32m----> 1\u001b[1;33m \u001b[0mprint\u001b[0m\u001b[1;33m(\u001b[0m\u001b[0mresult\u001b[0m\u001b[1;33m.\u001b[0m\u001b[0mstdout\u001b[0m\u001b[1;33m)\u001b[0m\u001b[1;33m\u001b[0m\u001b[1;33m\u001b[0m\u001b[0m\n\u001b[0m",
      "\u001b[1;31mNameError\u001b[0m: name 'result' is not defined"
     ]
    }
   ],
   "source": [
    "print(result.stdout)"
   ]
  },
  {
   "cell_type": "code",
   "execution_count": 40,
   "metadata": {},
   "outputs": [],
   "source": [
    "stdout = b'8.8.8.8.in-addr.arpa domain name pointer dns.google.\\n'\n",
    "# b : array of bytes since python recieve output from os, python don't know how to decode them (which decode?UTF-8?)"
   ]
  },
  {
   "cell_type": "code",
   "execution_count": 41,
   "metadata": {},
   "outputs": [
    {
     "name": "stdout",
     "output_type": "stream",
     "text": [
      "['8.8.8.8.in-addr.arpa', 'domain', 'name', 'pointer', 'dns.google.']\n"
     ]
    }
   ],
   "source": [
    "print(stdout.decode().split())"
   ]
  },
  {
   "cell_type": "code",
   "execution_count": 44,
   "metadata": {},
   "outputs": [
    {
     "ename": "TypeError",
     "evalue": "__init__() got an unexpected keyword argument 'capture_output'",
     "output_type": "error",
     "traceback": [
      "\u001b[1;31m---------------------------------------------------------------------------\u001b[0m",
      "\u001b[1;31mTypeError\u001b[0m                                 Traceback (most recent call last)",
      "\u001b[1;32m<ipython-input-44-bdb15a32102e>\u001b[0m in \u001b[0;36m<module>\u001b[1;34m\u001b[0m\n\u001b[1;32m----> 1\u001b[1;33m \u001b[0mresult\u001b[0m \u001b[1;33m=\u001b[0m \u001b[0msubprocess\u001b[0m\u001b[1;33m.\u001b[0m\u001b[0mrun\u001b[0m\u001b[1;33m(\u001b[0m\u001b[1;33m[\u001b[0m\u001b[1;34m\"rm\"\u001b[0m\u001b[1;33m,\u001b[0m \u001b[1;34m\"does_not_exist\"\u001b[0m\u001b[1;33m]\u001b[0m\u001b[1;33m,\u001b[0m \u001b[0mcapture_output\u001b[0m\u001b[1;33m=\u001b[0m\u001b[1;32mTrue\u001b[0m\u001b[1;33m)\u001b[0m\u001b[1;33m\u001b[0m\u001b[1;33m\u001b[0m\u001b[0m\n\u001b[0m\u001b[0;32m      2\u001b[0m \u001b[0mprint\u001b[0m\u001b[1;33m(\u001b[0m\u001b[0mresult\u001b[0m\u001b[1;33m.\u001b[0m\u001b[0mreturncode\u001b[0m\u001b[1;33m)\u001b[0m\u001b[1;33m\u001b[0m\u001b[1;33m\u001b[0m\u001b[0m\n\u001b[0;32m      3\u001b[0m \u001b[0mprint\u001b[0m\u001b[1;33m(\u001b[0m\u001b[0mresult\u001b[0m\u001b[1;33m.\u001b[0m\u001b[0mstdout\u001b[0m\u001b[1;33m)\u001b[0m\u001b[1;33m\u001b[0m\u001b[1;33m\u001b[0m\u001b[0m\n\u001b[0;32m      4\u001b[0m \u001b[0mprint\u001b[0m\u001b[1;33m(\u001b[0m\u001b[0mresult\u001b[0m\u001b[1;33m.\u001b[0m\u001b[0mstderr\u001b[0m\u001b[1;33m)\u001b[0m\u001b[1;33m\u001b[0m\u001b[1;33m\u001b[0m\u001b[0m\n",
      "\u001b[1;32m~\\Anaconda3\\envs\\aiml\\lib\\subprocess.py\u001b[0m in \u001b[0;36mrun\u001b[1;34m(input, timeout, check, *popenargs, **kwargs)\u001b[0m\n\u001b[0;32m    421\u001b[0m         \u001b[0mkwargs\u001b[0m\u001b[1;33m[\u001b[0m\u001b[1;34m'stdin'\u001b[0m\u001b[1;33m]\u001b[0m \u001b[1;33m=\u001b[0m \u001b[0mPIPE\u001b[0m\u001b[1;33m\u001b[0m\u001b[1;33m\u001b[0m\u001b[0m\n\u001b[0;32m    422\u001b[0m \u001b[1;33m\u001b[0m\u001b[0m\n\u001b[1;32m--> 423\u001b[1;33m     \u001b[1;32mwith\u001b[0m \u001b[0mPopen\u001b[0m\u001b[1;33m(\u001b[0m\u001b[1;33m*\u001b[0m\u001b[0mpopenargs\u001b[0m\u001b[1;33m,\u001b[0m \u001b[1;33m**\u001b[0m\u001b[0mkwargs\u001b[0m\u001b[1;33m)\u001b[0m \u001b[1;32mas\u001b[0m \u001b[0mprocess\u001b[0m\u001b[1;33m:\u001b[0m\u001b[1;33m\u001b[0m\u001b[1;33m\u001b[0m\u001b[0m\n\u001b[0m\u001b[0;32m    424\u001b[0m         \u001b[1;32mtry\u001b[0m\u001b[1;33m:\u001b[0m\u001b[1;33m\u001b[0m\u001b[1;33m\u001b[0m\u001b[0m\n\u001b[0;32m    425\u001b[0m             \u001b[0mstdout\u001b[0m\u001b[1;33m,\u001b[0m \u001b[0mstderr\u001b[0m \u001b[1;33m=\u001b[0m \u001b[0mprocess\u001b[0m\u001b[1;33m.\u001b[0m\u001b[0mcommunicate\u001b[0m\u001b[1;33m(\u001b[0m\u001b[0minput\u001b[0m\u001b[1;33m,\u001b[0m \u001b[0mtimeout\u001b[0m\u001b[1;33m=\u001b[0m\u001b[0mtimeout\u001b[0m\u001b[1;33m)\u001b[0m\u001b[1;33m\u001b[0m\u001b[1;33m\u001b[0m\u001b[0m\n",
      "\u001b[1;31mTypeError\u001b[0m: __init__() got an unexpected keyword argument 'capture_output'"
     ]
    }
   ],
   "source": [
    "result = subprocess.run([\"rm\", \"does_not_exist\"], capture_output=True)\n",
    "print(result.returncode)\n",
    "print(result.stdout)\n",
    "print(result.stderr)"
   ]
  },
  {
   "cell_type": "markdown",
   "metadata": {},
   "source": [
    "### Advanced Subprocess Management"
   ]
  },
  {
   "cell_type": "code",
   "execution_count": 48,
   "metadata": {},
   "outputs": [
    {
     "ename": "FileNotFoundError",
     "evalue": "[WinError 2] The system cannot find the file specified",
     "output_type": "error",
     "traceback": [
      "\u001b[1;31m---------------------------------------------------------------------------\u001b[0m",
      "\u001b[1;31mFileNotFoundError\u001b[0m                         Traceback (most recent call last)",
      "\u001b[1;32m<ipython-input-48-71513d3d4f3f>\u001b[0m in \u001b[0;36m<module>\u001b[1;34m\u001b[0m\n\u001b[0;32m      5\u001b[0m \u001b[0mmy_env\u001b[0m\u001b[1;33m[\u001b[0m\u001b[1;34m\"PATH\"\u001b[0m\u001b[1;33m]\u001b[0m \u001b[1;33m=\u001b[0m \u001b[0mos\u001b[0m\u001b[1;33m.\u001b[0m\u001b[0mpathsep\u001b[0m\u001b[1;33m.\u001b[0m\u001b[0mjoin\u001b[0m\u001b[1;33m(\u001b[0m\u001b[1;33m[\u001b[0m\u001b[1;34m\"/opt/myapp/\"\u001b[0m\u001b[1;33m,\u001b[0m \u001b[0mmy_env\u001b[0m\u001b[1;33m[\u001b[0m\u001b[1;34m\"PATH\"\u001b[0m\u001b[1;33m]\u001b[0m\u001b[1;33m]\u001b[0m\u001b[1;33m)\u001b[0m\u001b[1;33m\u001b[0m\u001b[1;33m\u001b[0m\u001b[0m\n\u001b[0;32m      6\u001b[0m \u001b[1;33m\u001b[0m\u001b[0m\n\u001b[1;32m----> 7\u001b[1;33m \u001b[0mresult\u001b[0m \u001b[1;33m=\u001b[0m \u001b[0msubprocess\u001b[0m\u001b[1;33m.\u001b[0m\u001b[0mrun\u001b[0m\u001b[1;33m(\u001b[0m\u001b[1;33m[\u001b[0m\u001b[1;34m\"myapp\"\u001b[0m\u001b[1;33m]\u001b[0m\u001b[1;33m,\u001b[0m \u001b[0menv\u001b[0m\u001b[1;33m=\u001b[0m\u001b[0mmy_env\u001b[0m\u001b[1;33m)\u001b[0m\u001b[1;33m\u001b[0m\u001b[1;33m\u001b[0m\u001b[0m\n\u001b[0m",
      "\u001b[1;32m~\\Anaconda3\\envs\\aiml\\lib\\subprocess.py\u001b[0m in \u001b[0;36mrun\u001b[1;34m(input, timeout, check, *popenargs, **kwargs)\u001b[0m\n\u001b[0;32m    421\u001b[0m         \u001b[0mkwargs\u001b[0m\u001b[1;33m[\u001b[0m\u001b[1;34m'stdin'\u001b[0m\u001b[1;33m]\u001b[0m \u001b[1;33m=\u001b[0m \u001b[0mPIPE\u001b[0m\u001b[1;33m\u001b[0m\u001b[1;33m\u001b[0m\u001b[0m\n\u001b[0;32m    422\u001b[0m \u001b[1;33m\u001b[0m\u001b[0m\n\u001b[1;32m--> 423\u001b[1;33m     \u001b[1;32mwith\u001b[0m \u001b[0mPopen\u001b[0m\u001b[1;33m(\u001b[0m\u001b[1;33m*\u001b[0m\u001b[0mpopenargs\u001b[0m\u001b[1;33m,\u001b[0m \u001b[1;33m**\u001b[0m\u001b[0mkwargs\u001b[0m\u001b[1;33m)\u001b[0m \u001b[1;32mas\u001b[0m \u001b[0mprocess\u001b[0m\u001b[1;33m:\u001b[0m\u001b[1;33m\u001b[0m\u001b[1;33m\u001b[0m\u001b[0m\n\u001b[0m\u001b[0;32m    424\u001b[0m         \u001b[1;32mtry\u001b[0m\u001b[1;33m:\u001b[0m\u001b[1;33m\u001b[0m\u001b[1;33m\u001b[0m\u001b[0m\n\u001b[0;32m    425\u001b[0m             \u001b[0mstdout\u001b[0m\u001b[1;33m,\u001b[0m \u001b[0mstderr\u001b[0m \u001b[1;33m=\u001b[0m \u001b[0mprocess\u001b[0m\u001b[1;33m.\u001b[0m\u001b[0mcommunicate\u001b[0m\u001b[1;33m(\u001b[0m\u001b[0minput\u001b[0m\u001b[1;33m,\u001b[0m \u001b[0mtimeout\u001b[0m\u001b[1;33m=\u001b[0m\u001b[0mtimeout\u001b[0m\u001b[1;33m)\u001b[0m\u001b[1;33m\u001b[0m\u001b[1;33m\u001b[0m\u001b[0m\n",
      "\u001b[1;32m~\\Anaconda3\\envs\\aiml\\lib\\subprocess.py\u001b[0m in \u001b[0;36m__init__\u001b[1;34m(self, args, bufsize, executable, stdin, stdout, stderr, preexec_fn, close_fds, shell, cwd, env, universal_newlines, startupinfo, creationflags, restore_signals, start_new_session, pass_fds, encoding, errors)\u001b[0m\n\u001b[0;32m    727\u001b[0m                                 \u001b[0mc2pread\u001b[0m\u001b[1;33m,\u001b[0m \u001b[0mc2pwrite\u001b[0m\u001b[1;33m,\u001b[0m\u001b[1;33m\u001b[0m\u001b[1;33m\u001b[0m\u001b[0m\n\u001b[0;32m    728\u001b[0m                                 \u001b[0merrread\u001b[0m\u001b[1;33m,\u001b[0m \u001b[0merrwrite\u001b[0m\u001b[1;33m,\u001b[0m\u001b[1;33m\u001b[0m\u001b[1;33m\u001b[0m\u001b[0m\n\u001b[1;32m--> 729\u001b[1;33m                                 restore_signals, start_new_session)\n\u001b[0m\u001b[0;32m    730\u001b[0m         \u001b[1;32mexcept\u001b[0m\u001b[1;33m:\u001b[0m\u001b[1;33m\u001b[0m\u001b[1;33m\u001b[0m\u001b[0m\n\u001b[0;32m    731\u001b[0m             \u001b[1;31m# Cleanup if the child failed starting.\u001b[0m\u001b[1;33m\u001b[0m\u001b[1;33m\u001b[0m\u001b[1;33m\u001b[0m\u001b[0m\n",
      "\u001b[1;32m~\\Anaconda3\\envs\\aiml\\lib\\subprocess.py\u001b[0m in \u001b[0;36m_execute_child\u001b[1;34m(self, args, executable, preexec_fn, close_fds, pass_fds, cwd, env, startupinfo, creationflags, shell, p2cread, p2cwrite, c2pread, c2pwrite, errread, errwrite, unused_restore_signals, unused_start_new_session)\u001b[0m\n\u001b[0;32m   1015\u001b[0m                                          \u001b[0menv\u001b[0m\u001b[1;33m,\u001b[0m\u001b[1;33m\u001b[0m\u001b[1;33m\u001b[0m\u001b[0m\n\u001b[0;32m   1016\u001b[0m                                          \u001b[0mos\u001b[0m\u001b[1;33m.\u001b[0m\u001b[0mfspath\u001b[0m\u001b[1;33m(\u001b[0m\u001b[0mcwd\u001b[0m\u001b[1;33m)\u001b[0m \u001b[1;32mif\u001b[0m \u001b[0mcwd\u001b[0m \u001b[1;32mis\u001b[0m \u001b[1;32mnot\u001b[0m \u001b[1;32mNone\u001b[0m \u001b[1;32melse\u001b[0m \u001b[1;32mNone\u001b[0m\u001b[1;33m,\u001b[0m\u001b[1;33m\u001b[0m\u001b[1;33m\u001b[0m\u001b[0m\n\u001b[1;32m-> 1017\u001b[1;33m                                          startupinfo)\n\u001b[0m\u001b[0;32m   1018\u001b[0m             \u001b[1;32mfinally\u001b[0m\u001b[1;33m:\u001b[0m\u001b[1;33m\u001b[0m\u001b[1;33m\u001b[0m\u001b[0m\n\u001b[0;32m   1019\u001b[0m                 \u001b[1;31m# Child is launched. Close the parent's copy of those pipe\u001b[0m\u001b[1;33m\u001b[0m\u001b[1;33m\u001b[0m\u001b[1;33m\u001b[0m\u001b[0m\n",
      "\u001b[1;31mFileNotFoundError\u001b[0m: [WinError 2] The system cannot find the file specified"
     ]
    }
   ],
   "source": [
    "import os\n",
    "import subprocess\n",
    "\n",
    "my_env = os.environ.copy()\n",
    "my_env[\"PATH\"] = os.pathsep.join([\"/opt/myapp/\", my_env[\"PATH\"]])\n",
    "\n",
    "result = subprocess.run([\"myapp\"], env=my_env)"
   ]
  },
  {
   "cell_type": "code",
   "execution_count": 49,
   "metadata": {},
   "outputs": [
    {
     "data": {
      "text/plain": [
       "{'ALLUSERSPROFILE': 'C:\\\\ProgramData',\n",
       " 'APPDATA': 'C:\\\\Users\\\\wityanat.CEMENTHAI\\\\AppData\\\\Roaming',\n",
       " 'COMMONPROGRAMFILES': 'C:\\\\Program Files\\\\Common Files',\n",
       " 'COMMONPROGRAMFILES(X86)': 'C:\\\\Program Files (x86)\\\\Common Files',\n",
       " 'COMMONPROGRAMW6432': 'C:\\\\Program Files\\\\Common Files',\n",
       " 'COMPUTERNAME': 'CHEM-NB-5L861G2',\n",
       " 'COMSPEC': 'C:\\\\WINDOWS\\\\system32\\\\cmd.exe',\n",
       " 'DEFLOGDIR': 'C:\\\\ProgramData\\\\McAfee\\\\Endpoint Security\\\\Logs',\n",
       " 'DRIVERDATA': 'C:\\\\Windows\\\\System32\\\\Drivers\\\\DriverData',\n",
       " 'FPS_BROWSER_APP_PROFILE_STRING': 'Internet Explorer',\n",
       " 'FPS_BROWSER_USER_PROFILE_STRING': 'Default',\n",
       " 'HOMEDRIVE': 'U:',\n",
       " 'HOMEPATH': '\\\\',\n",
       " 'HOMESHARE': '\\\\\\\\rocnasfs01\\\\home\\\\wityanat',\n",
       " 'LOCALAPPDATA': 'C:\\\\Users\\\\wityanat.CEMENTHAI\\\\AppData\\\\Local',\n",
       " 'LOGONSERVER': '\\\\\\\\CHEM03DC01',\n",
       " 'NUMBER_OF_PROCESSORS': '8',\n",
       " 'ONEDRIVE': 'C:\\\\Users\\\\wityanat.CEMENTHAI\\\\OneDrive',\n",
       " 'ONEDRIVECONSUMER': 'C:\\\\Users\\\\wityanat.CEMENTHAI\\\\OneDrive',\n",
       " 'OS': 'Windows_NT',\n",
       " 'PATH': 'C:\\\\Users\\\\wityanat.CEMENTHAI\\\\Anaconda3\\\\envs\\\\aiml;C:\\\\Users\\\\wityanat.CEMENTHAI\\\\Anaconda3\\\\envs\\\\aiml\\\\Library\\\\mingw-w64\\\\bin;C:\\\\Users\\\\wityanat.CEMENTHAI\\\\Anaconda3\\\\envs\\\\aiml\\\\Library\\\\usr\\\\bin;C:\\\\Users\\\\wityanat.CEMENTHAI\\\\Anaconda3\\\\envs\\\\aiml\\\\Library\\\\bin;C:\\\\Users\\\\wityanat.CEMENTHAI\\\\Anaconda3\\\\envs\\\\aiml\\\\Scripts;C:\\\\PROGRAM FILES (X86)\\\\YOKOGAWA\\\\EXAQUANTUM PIMS\\\\EXAOPC\\\\PROGRAM;C:\\\\PROGRAM FILES (X86)\\\\YOKOGAWA\\\\EXAQUANTUM PIMS\\\\EXAOPC\\\\LIBRARY;C:\\\\Program Files (x86)\\\\Common Files\\\\Oracle\\\\Java\\\\javapath;C:\\\\Program Files (x86)\\\\Intel\\\\Intel(R) Management Engine Components\\\\iCLS\\\\;C:\\\\Program Files\\\\Intel\\\\Intel(R) Management Engine Components\\\\iCLS\\\\;C:\\\\WINDOWS\\\\system32;C:\\\\WINDOWS;C:\\\\WINDOWS\\\\System32\\\\Wbem;C:\\\\WINDOWS\\\\System32\\\\WindowsPowerShell\\\\v1.0\\\\;C:\\\\Program Files (x86)\\\\Intel\\\\Intel(R) Management Engine Components\\\\DAL;C:\\\\Program Files\\\\Intel\\\\Intel(R) Management Engine Components\\\\DAL;C:\\\\Program Files (x86)\\\\Intel\\\\Intel(R) Management Engine Components\\\\IPT;C:\\\\Program Files\\\\Intel\\\\Intel(R) Management Engine Components\\\\IPT;C:\\\\WINDOWS\\\\System32\\\\OpenSSH\\\\;C:\\\\Program Files (x86)\\\\NVIDIA Corporation\\\\PhysX\\\\Common;C:\\\\Program Files\\\\PIPC\\\\bin\\\\;C:\\\\Program Files (x86)\\\\Microsoft SQL Server\\\\80\\\\Tools\\\\Binn\\\\;C:\\\\Program Files\\\\Microsoft SQL Server\\\\110\\\\Tools\\\\Binn\\\\;C:\\\\Program Files (x86)\\\\Common Files\\\\AspenTech Shared\\\\;C:\\\\Program Files\\\\Git\\\\cmd;C:\\\\Program Files (x86)\\\\Microsoft SQL Server\\\\Client SDK\\\\ODBC\\\\130\\\\Tools\\\\Binn\\\\;C:\\\\Program Files (x86)\\\\Microsoft SQL Server\\\\140\\\\Tools\\\\Binn\\\\;C:\\\\Program Files (x86)\\\\Microsoft SQL Server\\\\140\\\\DTS\\\\Binn\\\\;C:\\\\Program Files (x86)\\\\Microsoft SQL Server\\\\140\\\\Tools\\\\Binn\\\\ManagementStudio\\\\;C:\\\\Program Files\\\\Common Files\\\\AspenTech Shared\\\\;C:\\\\Program Files (x86)\\\\eDNA\\\\;C:\\\\Program Files (x86)\\\\PIPC\\\\bin\\\\;C:\\\\Program Files\\\\Intel\\\\WiFi\\\\bin\\\\;C:\\\\Program Files\\\\Common Files\\\\Intel\\\\WirelessCommon\\\\;%SystemRoot%\\\\system32;%SystemRoot%;%SystemRoot%\\\\System32\\\\Wbem;%SYSTEMROOT%\\\\System32\\\\WindowsPowerShell\\\\v1.0\\\\;%SYSTEMROOT%\\\\System32\\\\OpenSSH\\\\;C:\\\\Users\\\\wityanat.CEMENTHAI\\\\AppData\\\\Local\\\\Microsoft\\\\WindowsApps;;C:\\\\Users\\\\wityanat.CEMENTHAI\\\\AppData\\\\Local\\\\Programs\\\\Microsoft VS Code\\\\bin',\n",
       " 'PATHEXT': '.COM;.EXE;.BAT;.CMD;.VBS;.VBE;.JS;.JSE;.WSF;.WSH;.MSC',\n",
       " 'PIHOME': 'C:\\\\Program Files (x86)\\\\PIPC',\n",
       " 'PIHOME64': 'C:\\\\Program Files\\\\PIPC\\\\',\n",
       " 'PROCESSOR_ARCHITECTURE': 'AMD64',\n",
       " 'PROCESSOR_IDENTIFIER': 'Intel64 Family 6 Model 158 Stepping 9, GenuineIntel',\n",
       " 'PROCESSOR_LEVEL': '6',\n",
       " 'PROCESSOR_REVISION': '9e09',\n",
       " 'PROGRAMDATA': 'C:\\\\ProgramData',\n",
       " 'PROGRAMFILES': 'C:\\\\Program Files',\n",
       " 'PROGRAMFILES(X86)': 'C:\\\\Program Files (x86)',\n",
       " 'PROGRAMW6432': 'C:\\\\Program Files',\n",
       " 'PSMODULEPATH': 'C:\\\\Program Files\\\\WindowsPowerShell\\\\Modules;C:\\\\WINDOWS\\\\system32\\\\WindowsPowerShell\\\\v1.0\\\\Modules',\n",
       " 'PUBLIC': 'C:\\\\Users\\\\Public',\n",
       " 'SESSIONNAME': 'Console',\n",
       " 'SYSTEMDRIVE': 'C:',\n",
       " 'SYSTEMROOT': 'C:\\\\WINDOWS',\n",
       " 'TEMP': 'C:\\\\Users\\\\WITYAN~1.CEM\\\\AppData\\\\Local\\\\Temp',\n",
       " 'TMP': 'C:\\\\Users\\\\WITYAN~1.CEM\\\\AppData\\\\Local\\\\Temp',\n",
       " 'UATDATA': 'C:\\\\WINDOWS\\\\CCM\\\\UATData\\\\D9F8C395-CAB8-491d-B8AC-179A1FE1BE77',\n",
       " 'USERDNSDOMAIN': 'CEMENTHAI.COM',\n",
       " 'USERDOMAIN': 'CEMENTHAI',\n",
       " 'USERDOMAIN_ROAMINGPROFILE': 'CEMENTHAI',\n",
       " 'USERNAME': 'wityanat',\n",
       " 'USERPROFILE': 'C:\\\\Users\\\\wityanat.CEMENTHAI',\n",
       " 'WINDIR': 'C:\\\\WINDOWS',\n",
       " '_NT_SYMBOL_PATH': 'C:\\\\WINDOWS\\\\symbols;C:\\\\WINDOWS\\\\symbols\\\\dll;;',\n",
       " 'CONDA_PREFIX': 'C:\\\\Users\\\\wityanat.CEMENTHAI\\\\Anaconda3\\\\envs\\\\aiml',\n",
       " 'KERNEL_LAUNCH_TIMEOUT': '40',\n",
       " 'JPY_INTERRUPT_EVENT': '2952',\n",
       " 'IPY_INTERRUPT_EVENT': '2952',\n",
       " 'JPY_PARENT_PID': '3036',\n",
       " 'TERM': 'xterm-color',\n",
       " 'CLICOLOR': '1',\n",
       " 'PAGER': 'cat',\n",
       " 'GIT_PAGER': 'cat',\n",
       " 'MPLBACKEND': 'module://ipykernel.pylab.backend_inline'}"
      ]
     },
     "execution_count": 49,
     "metadata": {},
     "output_type": "execute_result"
    }
   ],
   "source": [
    "env"
   ]
  },
  {
   "cell_type": "code",
   "execution_count": 50,
   "metadata": {},
   "outputs": [
    {
     "data": {
      "text/plain": [
       "{'ALLUSERSPROFILE': 'C:\\\\ProgramData',\n",
       " 'APPDATA': 'C:\\\\Users\\\\wityanat.CEMENTHAI\\\\AppData\\\\Roaming',\n",
       " 'COMMONPROGRAMFILES': 'C:\\\\Program Files\\\\Common Files',\n",
       " 'COMMONPROGRAMFILES(X86)': 'C:\\\\Program Files (x86)\\\\Common Files',\n",
       " 'COMMONPROGRAMW6432': 'C:\\\\Program Files\\\\Common Files',\n",
       " 'COMPUTERNAME': 'CHEM-NB-5L861G2',\n",
       " 'COMSPEC': 'C:\\\\WINDOWS\\\\system32\\\\cmd.exe',\n",
       " 'DEFLOGDIR': 'C:\\\\ProgramData\\\\McAfee\\\\Endpoint Security\\\\Logs',\n",
       " 'DRIVERDATA': 'C:\\\\Windows\\\\System32\\\\Drivers\\\\DriverData',\n",
       " 'FPS_BROWSER_APP_PROFILE_STRING': 'Internet Explorer',\n",
       " 'FPS_BROWSER_USER_PROFILE_STRING': 'Default',\n",
       " 'HOMEDRIVE': 'U:',\n",
       " 'HOMEPATH': '\\\\',\n",
       " 'HOMESHARE': '\\\\\\\\rocnasfs01\\\\home\\\\wityanat',\n",
       " 'LOCALAPPDATA': 'C:\\\\Users\\\\wityanat.CEMENTHAI\\\\AppData\\\\Local',\n",
       " 'LOGONSERVER': '\\\\\\\\CHEM03DC01',\n",
       " 'NUMBER_OF_PROCESSORS': '8',\n",
       " 'ONEDRIVE': 'C:\\\\Users\\\\wityanat.CEMENTHAI\\\\OneDrive',\n",
       " 'ONEDRIVECONSUMER': 'C:\\\\Users\\\\wityanat.CEMENTHAI\\\\OneDrive',\n",
       " 'OS': 'Windows_NT',\n",
       " 'PATH': '/opt/myapp/;C:\\\\Users\\\\wityanat.CEMENTHAI\\\\Anaconda3\\\\envs\\\\aiml;C:\\\\Users\\\\wityanat.CEMENTHAI\\\\Anaconda3\\\\envs\\\\aiml\\\\Library\\\\mingw-w64\\\\bin;C:\\\\Users\\\\wityanat.CEMENTHAI\\\\Anaconda3\\\\envs\\\\aiml\\\\Library\\\\usr\\\\bin;C:\\\\Users\\\\wityanat.CEMENTHAI\\\\Anaconda3\\\\envs\\\\aiml\\\\Library\\\\bin;C:\\\\Users\\\\wityanat.CEMENTHAI\\\\Anaconda3\\\\envs\\\\aiml\\\\Scripts;C:\\\\PROGRAM FILES (X86)\\\\YOKOGAWA\\\\EXAQUANTUM PIMS\\\\EXAOPC\\\\PROGRAM;C:\\\\PROGRAM FILES (X86)\\\\YOKOGAWA\\\\EXAQUANTUM PIMS\\\\EXAOPC\\\\LIBRARY;C:\\\\Program Files (x86)\\\\Common Files\\\\Oracle\\\\Java\\\\javapath;C:\\\\Program Files (x86)\\\\Intel\\\\Intel(R) Management Engine Components\\\\iCLS\\\\;C:\\\\Program Files\\\\Intel\\\\Intel(R) Management Engine Components\\\\iCLS\\\\;C:\\\\WINDOWS\\\\system32;C:\\\\WINDOWS;C:\\\\WINDOWS\\\\System32\\\\Wbem;C:\\\\WINDOWS\\\\System32\\\\WindowsPowerShell\\\\v1.0\\\\;C:\\\\Program Files (x86)\\\\Intel\\\\Intel(R) Management Engine Components\\\\DAL;C:\\\\Program Files\\\\Intel\\\\Intel(R) Management Engine Components\\\\DAL;C:\\\\Program Files (x86)\\\\Intel\\\\Intel(R) Management Engine Components\\\\IPT;C:\\\\Program Files\\\\Intel\\\\Intel(R) Management Engine Components\\\\IPT;C:\\\\WINDOWS\\\\System32\\\\OpenSSH\\\\;C:\\\\Program Files (x86)\\\\NVIDIA Corporation\\\\PhysX\\\\Common;C:\\\\Program Files\\\\PIPC\\\\bin\\\\;C:\\\\Program Files (x86)\\\\Microsoft SQL Server\\\\80\\\\Tools\\\\Binn\\\\;C:\\\\Program Files\\\\Microsoft SQL Server\\\\110\\\\Tools\\\\Binn\\\\;C:\\\\Program Files (x86)\\\\Common Files\\\\AspenTech Shared\\\\;C:\\\\Program Files\\\\Git\\\\cmd;C:\\\\Program Files (x86)\\\\Microsoft SQL Server\\\\Client SDK\\\\ODBC\\\\130\\\\Tools\\\\Binn\\\\;C:\\\\Program Files (x86)\\\\Microsoft SQL Server\\\\140\\\\Tools\\\\Binn\\\\;C:\\\\Program Files (x86)\\\\Microsoft SQL Server\\\\140\\\\DTS\\\\Binn\\\\;C:\\\\Program Files (x86)\\\\Microsoft SQL Server\\\\140\\\\Tools\\\\Binn\\\\ManagementStudio\\\\;C:\\\\Program Files\\\\Common Files\\\\AspenTech Shared\\\\;C:\\\\Program Files (x86)\\\\eDNA\\\\;C:\\\\Program Files (x86)\\\\PIPC\\\\bin\\\\;C:\\\\Program Files\\\\Intel\\\\WiFi\\\\bin\\\\;C:\\\\Program Files\\\\Common Files\\\\Intel\\\\WirelessCommon\\\\;%SystemRoot%\\\\system32;%SystemRoot%;%SystemRoot%\\\\System32\\\\Wbem;%SYSTEMROOT%\\\\System32\\\\WindowsPowerShell\\\\v1.0\\\\;%SYSTEMROOT%\\\\System32\\\\OpenSSH\\\\;C:\\\\Users\\\\wityanat.CEMENTHAI\\\\AppData\\\\Local\\\\Microsoft\\\\WindowsApps;;C:\\\\Users\\\\wityanat.CEMENTHAI\\\\AppData\\\\Local\\\\Programs\\\\Microsoft VS Code\\\\bin',\n",
       " 'PATHEXT': '.COM;.EXE;.BAT;.CMD;.VBS;.VBE;.JS;.JSE;.WSF;.WSH;.MSC',\n",
       " 'PIHOME': 'C:\\\\Program Files (x86)\\\\PIPC',\n",
       " 'PIHOME64': 'C:\\\\Program Files\\\\PIPC\\\\',\n",
       " 'PROCESSOR_ARCHITECTURE': 'AMD64',\n",
       " 'PROCESSOR_IDENTIFIER': 'Intel64 Family 6 Model 158 Stepping 9, GenuineIntel',\n",
       " 'PROCESSOR_LEVEL': '6',\n",
       " 'PROCESSOR_REVISION': '9e09',\n",
       " 'PROGRAMDATA': 'C:\\\\ProgramData',\n",
       " 'PROGRAMFILES': 'C:\\\\Program Files',\n",
       " 'PROGRAMFILES(X86)': 'C:\\\\Program Files (x86)',\n",
       " 'PROGRAMW6432': 'C:\\\\Program Files',\n",
       " 'PSMODULEPATH': 'C:\\\\Program Files\\\\WindowsPowerShell\\\\Modules;C:\\\\WINDOWS\\\\system32\\\\WindowsPowerShell\\\\v1.0\\\\Modules',\n",
       " 'PUBLIC': 'C:\\\\Users\\\\Public',\n",
       " 'SESSIONNAME': 'Console',\n",
       " 'SYSTEMDRIVE': 'C:',\n",
       " 'SYSTEMROOT': 'C:\\\\WINDOWS',\n",
       " 'TEMP': 'C:\\\\Users\\\\WITYAN~1.CEM\\\\AppData\\\\Local\\\\Temp',\n",
       " 'TMP': 'C:\\\\Users\\\\WITYAN~1.CEM\\\\AppData\\\\Local\\\\Temp',\n",
       " 'UATDATA': 'C:\\\\WINDOWS\\\\CCM\\\\UATData\\\\D9F8C395-CAB8-491d-B8AC-179A1FE1BE77',\n",
       " 'USERDNSDOMAIN': 'CEMENTHAI.COM',\n",
       " 'USERDOMAIN': 'CEMENTHAI',\n",
       " 'USERDOMAIN_ROAMINGPROFILE': 'CEMENTHAI',\n",
       " 'USERNAME': 'wityanat',\n",
       " 'USERPROFILE': 'C:\\\\Users\\\\wityanat.CEMENTHAI',\n",
       " 'WINDIR': 'C:\\\\WINDOWS',\n",
       " '_NT_SYMBOL_PATH': 'C:\\\\WINDOWS\\\\symbols;C:\\\\WINDOWS\\\\symbols\\\\dll;;',\n",
       " 'CONDA_PREFIX': 'C:\\\\Users\\\\wityanat.CEMENTHAI\\\\Anaconda3\\\\envs\\\\aiml',\n",
       " 'KERNEL_LAUNCH_TIMEOUT': '40',\n",
       " 'JPY_INTERRUPT_EVENT': '2952',\n",
       " 'IPY_INTERRUPT_EVENT': '2952',\n",
       " 'JPY_PARENT_PID': '3036',\n",
       " 'TERM': 'xterm-color',\n",
       " 'CLICOLOR': '1',\n",
       " 'PAGER': 'cat',\n",
       " 'GIT_PAGER': 'cat',\n",
       " 'MPLBACKEND': 'module://ipykernel.pylab.backend_inline'}"
      ]
     },
     "execution_count": 50,
     "metadata": {},
     "output_type": "execute_result"
    }
   ],
   "source": [
    "my_env"
   ]
  },
  {
   "cell_type": "markdown",
   "metadata": {},
   "source": [
    "## Processing Log Files"
   ]
  },
  {
   "cell_type": "markdown",
   "metadata": {},
   "source": [
    "### Filtering Log Files with Regular Expressions"
   ]
  },
  {
   "cell_type": "code",
   "execution_count": 53,
   "metadata": {},
   "outputs": [
    {
     "name": "stdout",
     "output_type": "stream",
     "text": [
      "New file created\n"
     ]
    }
   ],
   "source": [
    "import sys\n",
    "\n",
    "logfile = sys.argv[1]\n",
    "with open(logfile) as f:\n",
    "    for line in f:\n",
    "        print(line.strip())"
   ]
  },
  {
   "cell_type": "code",
   "execution_count": 55,
   "metadata": {},
   "outputs": [
    {
     "name": "stdout",
     "output_type": "stream",
     "text": [
      "Jul 6 14:01:23 computer.name CRON[29440]: USER (good_user)\n",
      "Jul 6 14:03:01 computer.name CRON[29440]: USER (naughty_user)\n",
      "Jul 6 14:04:01 computer.name CRON[29440]: USER (naughty_user)\n",
      "Jul 6 14:05:01 computer.name CRON[29440]: USER (naughty_user)\n"
     ]
    }
   ],
   "source": [
    "import sys\n",
    "\n",
    "# logfile = sys.argv[1]\n",
    "logfile = \"syslog\"\n",
    "with open(logfile) as f:\n",
    "    for line in f:\n",
    "        if \"CRON\" not in line:\n",
    "            continue\n",
    "        print(line.strip())"
   ]
  },
  {
   "cell_type": "code",
   "execution_count": 57,
   "metadata": {},
   "outputs": [],
   "source": [
    "import re\n",
    "pattern = r\"USER \\((\\w+)\\)$\"\n",
    "line = \"Jul 6 14:04:01 computer.name CRON[29440]: USER (naughty_user)\"\n",
    "result = re.search(pattern, line)"
   ]
  },
  {
   "cell_type": "code",
   "execution_count": 59,
   "metadata": {},
   "outputs": [
    {
     "name": "stdout",
     "output_type": "stream",
     "text": [
      "naughty_user\n"
     ]
    }
   ],
   "source": [
    "print(result[1])"
   ]
  },
  {
   "cell_type": "code",
   "execution_count": 60,
   "metadata": {},
   "outputs": [
    {
     "name": "stdout",
     "output_type": "stream",
     "text": [
      "good_user\n",
      "naughty_user\n",
      "naughty_user\n",
      "naughty_user\n"
     ]
    }
   ],
   "source": [
    "import sys\n",
    "import re\n",
    "# logfile = sys.argv[1]\n",
    "logfile = \"syslog\"\n",
    "with open(logfile) as f:\n",
    "    for line in f:\n",
    "        if \"CRON\" not in line:\n",
    "            continue\n",
    "        pattern = r\"USER \\((\\w+)\\)$\"\n",
    "        result = re.search(pattern, line)\n",
    "        print(result[1])"
   ]
  },
  {
   "cell_type": "code",
   "execution_count": 99,
   "metadata": {},
   "outputs": [
    {
     "name": "stdout",
     "output_type": "stream",
     "text": [
      "Jul 6 14:01:23 pid:29440\n",
      "Jul 6 14:02:08 pid:29187\n",
      "Jul 6 14:02:09 pid:29187\n",
      "Jul 6 14:03:01 pid:29440\n",
      "Jul 6 14:03:40 pid:29807\n",
      "Jul 6 14:04:01 pid:29440\n",
      "Jul 6 14:05:01 pid:29440\n"
     ]
    }
   ],
   "source": [
    "import re\n",
    "def show_time_of_pid(line):\n",
    "  pattern = r\"(\\w+ \\d+ \\d+:\\d+:\\d+)[\\w .=]+\\[(\\d+)\\]\"\n",
    "  result = re.search(pattern, line)\n",
    "#   print(result)\n",
    "#   print(result[1], result[2])\n",
    "  return \"{} pid:{}\".format(result[1], result[2])\n",
    "\n",
    "print(show_time_of_pid(\"Jul 6 14:01:23 computer.name CRON[29440]: USER (good_user)\")) # Jul 6 14:01:23 pid:29440\n",
    "\n",
    "print(show_time_of_pid(\"Jul 6 14:02:08 computer.name jam_tag=psim[29187]: (UUID:006)\")) # Jul 6 14:02:08 pid:29187\n",
    "\n",
    "print(show_time_of_pid(\"Jul 6 14:02:09 computer.name jam_tag=psim[29187]: (UUID:007)\")) # Jul 6 14:02:09 pid:29187\n",
    "\n",
    "print(show_time_of_pid(\"Jul 6 14:03:01 computer.name CRON[29440]: USER (naughty_user)\")) # Jul 6 14:03:01 pid:29440\n",
    "\n",
    "print(show_time_of_pid(\"Jul 6 14:03:40 computer.name cacheclient[29807]: start syncing from \\\"0xDEADBEEF\\\"\")) # Jul 6 14:03:40 pid:29807\n",
    "\n",
    "print(show_time_of_pid(\"Jul 6 14:04:01 computer.name CRON[29440]: USER (naughty_user)\")) # Jul 6 14:04:01 pid:29440\n",
    "\n",
    "print(show_time_of_pid(\"Jul 6 14:05:01 computer.name CRON[29440]: USER (naughty_user)\")) # Jul 6 14:05:01 pid:29440"
   ]
  },
  {
   "cell_type": "markdown",
   "metadata": {},
   "source": [
    "### Making Sense out of the Data"
   ]
  },
  {
   "cell_type": "code",
   "execution_count": 1,
   "metadata": {},
   "outputs": [
    {
     "name": "stdout",
     "output_type": "stream",
     "text": [
      "{'good_user': 1}\n"
     ]
    }
   ],
   "source": [
    "usernames = {}\n",
    "name = \"good_user\"\n",
    "usernames[name] = usernames.get(name, 0) + 1\n",
    "print(usernames)"
   ]
  },
  {
   "cell_type": "code",
   "execution_count": 2,
   "metadata": {},
   "outputs": [
    {
     "name": "stdout",
     "output_type": "stream",
     "text": [
      "{'good_user': 2}\n"
     ]
    }
   ],
   "source": [
    "usernames[name] = usernames.get(name, 0) + 1\n",
    "print(usernames)"
   ]
  },
  {
   "cell_type": "code",
   "execution_count": 3,
   "metadata": {},
   "outputs": [
    {
     "name": "stdout",
     "output_type": "stream",
     "text": [
      "{'good_user': 1, 'naughty_user': 3}\n"
     ]
    }
   ],
   "source": [
    "import sys\n",
    "import re\n",
    "# logfile = sys.argv[1]\n",
    "logfile = \"syslog\"\n",
    "usernames = {}\n",
    "with open(logfile) as f:\n",
    "    for line in f:\n",
    "        if \"CRON\" not in line:\n",
    "            continue\n",
    "        pattern = r\"USER \\((\\w+)\\)$\"\n",
    "        result = re.search(pattern, line)\n",
    "        if result is None:\n",
    "            continue\n",
    "        name = result[1]\n",
    "        usernames[name] = usernames.get(name, 0) + 1\n",
    "\n",
    "print(usernames)"
   ]
  },
  {
   "cell_type": "markdown",
   "metadata": {},
   "source": [
    "### Working with Log Files"
   ]
  },
  {
   "cell_type": "code",
   "execution_count": 6,
   "metadata": {},
   "outputs": [
    {
     "name": "stdout",
     "output_type": "stream",
     "text": [
      "What is the error? CRON ERROR Failed to start\n"
     ]
    },
    {
     "ename": "SystemExit",
     "evalue": "0",
     "output_type": "error",
     "traceback": [
      "An exception has occurred, use %tb to see the full traceback.\n",
      "\u001b[1;31mSystemExit\u001b[0m\u001b[1;31m:\u001b[0m 0\n"
     ]
    }
   ],
   "source": [
    "# #!/usr/bin/env python3\n",
    "# import sys\n",
    "# import os\n",
    "# import re\n",
    "\n",
    "\n",
    "# def error_search(log_file):\n",
    "#     error = input(\"What is the error? \")\n",
    "#     returned_errors = []\n",
    "#     with open(log_file, mode='r',encoding='UTF-8') as file:\n",
    "#         for log in  file.readlines():\n",
    "#             error_patterns = [\"error\"]\n",
    "#         for i in range(len(error.split(' '))):\n",
    "#             error_patterns.append(r\"{}\".format(error.split(' ')[i].lower()))\n",
    "#         if all(re.search(error_pattern, log.lower()) for error_pattern in error_patterns):\n",
    "#             returned_errors.append(log)\n",
    "#         file.close()\n",
    "#     return returned_errors\n",
    "\n",
    "  \n",
    "# def file_output(returned_errors):\n",
    "# #   with open(os.path.expanduser('~') + '/data/errors_found.log', 'w') as file:\n",
    "#     with open('errors_found.log', 'w') as file:\n",
    "#         for error in returned_errors:\n",
    "#             file.write(error)\n",
    "#         file.close()\n",
    "# if __name__ == \"__main__\":\n",
    "# #   log_file = sys.argv[1]\n",
    "#     log_file = \"fishy.log\"\n",
    "#     returned_errors = error_search(log_file)\n",
    "#     file_output(returned_errors)\n",
    "#     sys.exit(0)"
   ]
  },
  {
   "cell_type": "code",
   "execution_count": 7,
   "metadata": {
    "scrolled": true
   },
   "outputs": [
    {
     "ename": "SystemExit",
     "evalue": "0",
     "output_type": "error",
     "traceback": [
      "\u001b[1;31m---------------------------------------------------------------------------\u001b[0m",
      "\u001b[1;31mSystemExit\u001b[0m                                Traceback (most recent call last)",
      "\u001b[1;32m<ipython-input-6-d611a2bfd4e5>\u001b[0m in \u001b[0;36m<module>\u001b[1;34m\u001b[0m\n\u001b[0;32m     30\u001b[0m     \u001b[0mreturned_errors\u001b[0m \u001b[1;33m=\u001b[0m \u001b[0merror_search\u001b[0m\u001b[1;33m(\u001b[0m\u001b[0mlog_file\u001b[0m\u001b[1;33m)\u001b[0m\u001b[1;33m\u001b[0m\u001b[1;33m\u001b[0m\u001b[0m\n\u001b[0;32m     31\u001b[0m     \u001b[0mfile_output\u001b[0m\u001b[1;33m(\u001b[0m\u001b[0mreturned_errors\u001b[0m\u001b[1;33m)\u001b[0m\u001b[1;33m\u001b[0m\u001b[1;33m\u001b[0m\u001b[0m\n\u001b[1;32m---> 32\u001b[1;33m     \u001b[0msys\u001b[0m\u001b[1;33m.\u001b[0m\u001b[0mexit\u001b[0m\u001b[1;33m(\u001b[0m\u001b[1;36m0\u001b[0m\u001b[1;33m)\u001b[0m\u001b[1;33m\u001b[0m\u001b[1;33m\u001b[0m\u001b[0m\n\u001b[0m",
      "\u001b[1;31mSystemExit\u001b[0m: 0"
     ]
    }
   ],
   "source": [
    "%tb"
   ]
  },
  {
   "cell_type": "code",
   "execution_count": 44,
   "metadata": {},
   "outputs": [],
   "source": [
    "#!/usr/bin/env python3\n",
    "\n",
    "import sys\n",
    "import os\n",
    "import re\n",
    "\n",
    "def error_search(log_file):\n",
    "    error = input(\"What is the error? \")\n",
    "    returned_errors = []\n",
    "    with open(log_file, mode='r',encoding='UTF-8') as file:\n",
    "        for log in file.readlines():\n",
    "            error_patterns = [\"error\"]\n",
    "            for i in range(len(error.split(' '))):\n",
    "                print(error_patterns)\n",
    "                error_patterns.append(r\"{}\".format(error.split(' ')[i].lower()))\n",
    "            if all(re.search(error_pattern, log.lower()) for error_pattern in error_patterns):\n",
    "                print(log)\n",
    "                returned_errors.append(log)\n",
    "        file.close()\n",
    "        print(returned_errors)\n",
    "    return returned_errors"
   ]
  },
  {
   "cell_type": "code",
   "execution_count": 45,
   "metadata": {},
   "outputs": [],
   "source": [
    "def file_output(returned_errors):\n",
    "#     with open(os.path.expanduser('~') + '\\data\\errors_found.log', 'w') as file:\n",
    "    with open('errors_found.log', 'w') as file:\n",
    "        for error in returned_errors:\n",
    "            file.write(error)\n",
    "        file.close()"
   ]
  },
  {
   "cell_type": "code",
   "execution_count": 46,
   "metadata": {},
   "outputs": [
    {
     "name": "stdout",
     "output_type": "stream",
     "text": [
      "What is the error? CRON ERROR Failed to start\n",
      "['error']\n",
      "['error', 'cron']\n",
      "['error', 'cron', 'error']\n",
      "['error', 'cron', 'error', 'failed']\n",
      "['error', 'cron', 'error', 'failed', 'to']\n",
      "['error']\n",
      "['error', 'cron']\n",
      "['error', 'cron', 'error']\n",
      "['error', 'cron', 'error', 'failed']\n",
      "['error', 'cron', 'error', 'failed', 'to']\n",
      "['error']\n",
      "['error', 'cron']\n",
      "['error', 'cron', 'error']\n",
      "['error', 'cron', 'error', 'failed']\n",
      "['error', 'cron', 'error', 'failed', 'to']\n",
      "['error']\n",
      "['error', 'cron']\n",
      "['error', 'cron', 'error']\n",
      "['error', 'cron', 'error', 'failed']\n",
      "['error', 'cron', 'error', 'failed', 'to']\n",
      "['error']\n",
      "['error', 'cron']\n",
      "['error', 'cron', 'error']\n",
      "['error', 'cron', 'error', 'failed']\n",
      "['error', 'cron', 'error', 'failed', 'to']\n",
      "['error']\n",
      "['error', 'cron']\n",
      "['error', 'cron', 'error']\n",
      "['error', 'cron', 'error', 'failed']\n",
      "['error', 'cron', 'error', 'failed', 'to']\n",
      "['error']\n",
      "['error', 'cron']\n",
      "['error', 'cron', 'error']\n",
      "['error', 'cron', 'error', 'failed']\n",
      "['error', 'cron', 'error', 'failed', 'to']\n",
      "['error']\n",
      "['error', 'cron']\n",
      "['error', 'cron', 'error']\n",
      "['error', 'cron', 'error', 'failed']\n",
      "['error', 'cron', 'error', 'failed', 'to']\n",
      "['error']\n",
      "['error', 'cron']\n",
      "['error', 'cron', 'error']\n",
      "['error', 'cron', 'error', 'failed']\n",
      "['error', 'cron', 'error', 'failed', 'to']\n",
      "['error']\n",
      "['error', 'cron']\n",
      "['error', 'cron', 'error']\n",
      "['error', 'cron', 'error', 'failed']\n",
      "['error', 'cron', 'error', 'failed', 'to']\n",
      "['error']\n",
      "['error', 'cron']\n",
      "['error', 'cron', 'error']\n",
      "['error', 'cron', 'error', 'failed']\n",
      "['error', 'cron', 'error', 'failed', 'to']\n",
      "['error']\n",
      "['error', 'cron']\n",
      "['error', 'cron', 'error']\n",
      "['error', 'cron', 'error', 'failed']\n",
      "['error', 'cron', 'error', 'failed', 'to']\n",
      "['error']\n",
      "['error', 'cron']\n",
      "['error', 'cron', 'error']\n",
      "['error', 'cron', 'error', 'failed']\n",
      "['error', 'cron', 'error', 'failed', 'to']\n",
      "['error']\n",
      "['error', 'cron']\n",
      "['error', 'cron', 'error']\n",
      "['error', 'cron', 'error', 'failed']\n",
      "['error', 'cron', 'error', 'failed', 'to']\n",
      "['error']\n",
      "['error', 'cron']\n",
      "['error', 'cron', 'error']\n",
      "['error', 'cron', 'error', 'failed']\n",
      "['error', 'cron', 'error', 'failed', 'to']\n",
      "['error']\n",
      "['error', 'cron']\n",
      "['error', 'cron', 'error']\n",
      "['error', 'cron', 'error', 'failed']\n",
      "['error', 'cron', 'error', 'failed', 'to']\n",
      "['error']\n",
      "['error', 'cron']\n",
      "['error', 'cron', 'error']\n",
      "['error', 'cron', 'error', 'failed']\n",
      "['error', 'cron', 'error', 'failed', 'to']\n",
      "['error']\n",
      "['error', 'cron']\n",
      "['error', 'cron', 'error']\n",
      "['error', 'cron', 'error', 'failed']\n",
      "['error', 'cron', 'error', 'failed', 'to']\n",
      "['error']\n",
      "['error', 'cron']\n",
      "['error', 'cron', 'error']\n",
      "['error', 'cron', 'error', 'failed']\n",
      "['error', 'cron', 'error', 'failed', 'to']\n",
      "['error']\n",
      "['error', 'cron']\n",
      "['error', 'cron', 'error']\n",
      "['error', 'cron', 'error', 'failed']\n",
      "['error', 'cron', 'error', 'failed', 'to']\n",
      "['error']\n",
      "['error', 'cron']\n",
      "['error', 'cron', 'error']\n",
      "['error', 'cron', 'error', 'failed']\n",
      "['error', 'cron', 'error', 'failed', 'to']\n",
      "['error']\n",
      "['error', 'cron']\n",
      "['error', 'cron', 'error']\n",
      "['error', 'cron', 'error', 'failed']\n",
      "['error', 'cron', 'error', 'failed', 'to']\n",
      "['error']\n",
      "['error', 'cron']\n",
      "['error', 'cron', 'error']\n",
      "['error', 'cron', 'error', 'failed']\n",
      "['error', 'cron', 'error', 'failed', 'to']\n",
      "['error']\n",
      "['error', 'cron']\n",
      "['error', 'cron', 'error']\n",
      "['error', 'cron', 'error', 'failed']\n",
      "['error', 'cron', 'error', 'failed', 'to']\n",
      "['error']\n",
      "['error', 'cron']\n",
      "['error', 'cron', 'error']\n",
      "['error', 'cron', 'error', 'failed']\n",
      "['error', 'cron', 'error', 'failed', 'to']\n",
      "['error']\n",
      "['error', 'cron']\n",
      "['error', 'cron', 'error']\n",
      "['error', 'cron', 'error', 'failed']\n",
      "['error', 'cron', 'error', 'failed', 'to']\n",
      "['error']\n",
      "['error', 'cron']\n",
      "['error', 'cron', 'error']\n",
      "['error', 'cron', 'error', 'failed']\n",
      "['error', 'cron', 'error', 'failed', 'to']\n",
      "['error']\n",
      "['error', 'cron']\n",
      "['error', 'cron', 'error']\n",
      "['error', 'cron', 'error', 'failed']\n",
      "['error', 'cron', 'error', 'failed', 'to']\n",
      "['error']\n",
      "['error', 'cron']\n",
      "['error', 'cron', 'error']\n",
      "['error', 'cron', 'error', 'failed']\n",
      "['error', 'cron', 'error', 'failed', 'to']\n",
      "['error']\n",
      "['error', 'cron']\n",
      "['error', 'cron', 'error']\n",
      "['error', 'cron', 'error', 'failed']\n",
      "['error', 'cron', 'error', 'failed', 'to']\n",
      "['error']\n",
      "['error', 'cron']\n",
      "['error', 'cron', 'error']\n",
      "['error', 'cron', 'error', 'failed']\n",
      "['error', 'cron', 'error', 'failed', 'to']\n",
      "['error']\n",
      "['error', 'cron']\n",
      "['error', 'cron', 'error']\n",
      "['error', 'cron', 'error', 'failed']\n",
      "['error', 'cron', 'error', 'failed', 'to']\n",
      "['error']\n",
      "['error', 'cron']\n",
      "['error', 'cron', 'error']\n",
      "['error', 'cron', 'error', 'failed']\n",
      "['error', 'cron', 'error', 'failed', 'to']\n",
      "['error']\n",
      "['error', 'cron']\n",
      "['error', 'cron', 'error']\n",
      "['error', 'cron', 'error', 'failed']\n",
      "['error', 'cron', 'error', 'failed', 'to']\n",
      "['error']\n",
      "['error', 'cron']\n",
      "['error', 'cron', 'error']\n",
      "['error', 'cron', 'error', 'failed']\n",
      "['error', 'cron', 'error', 'failed', 'to']\n",
      "['error']\n",
      "['error', 'cron']\n",
      "['error', 'cron', 'error']\n",
      "['error', 'cron', 'error', 'failed']\n",
      "['error', 'cron', 'error', 'failed', 'to']\n",
      "['error']\n",
      "['error', 'cron']\n",
      "['error', 'cron', 'error']\n",
      "['error', 'cron', 'error', 'failed']\n",
      "['error', 'cron', 'error', 'failed', 'to']\n",
      "['error']\n",
      "['error', 'cron']\n",
      "['error', 'cron', 'error']\n",
      "['error', 'cron', 'error', 'failed']\n",
      "['error', 'cron', 'error', 'failed', 'to']\n",
      "['error']\n",
      "['error', 'cron']\n",
      "['error', 'cron', 'error']\n",
      "['error', 'cron', 'error', 'failed']\n",
      "['error', 'cron', 'error', 'failed', 'to']\n",
      "['error']\n",
      "['error', 'cron']\n",
      "['error', 'cron', 'error']\n",
      "['error', 'cron', 'error', 'failed']\n",
      "['error', 'cron', 'error', 'failed', 'to']\n",
      "['error']\n",
      "['error', 'cron']\n",
      "['error', 'cron', 'error']\n",
      "['error', 'cron', 'error', 'failed']\n",
      "['error', 'cron', 'error', 'failed', 'to']\n",
      "['error']\n",
      "['error', 'cron']\n",
      "['error', 'cron', 'error']\n",
      "['error', 'cron', 'error', 'failed']\n",
      "['error', 'cron', 'error', 'failed', 'to']\n",
      "['error']\n",
      "['error', 'cron']\n",
      "['error', 'cron', 'error']\n",
      "['error', 'cron', 'error', 'failed']\n",
      "['error', 'cron', 'error', 'failed', 'to']\n",
      "['error']\n",
      "['error', 'cron']\n",
      "['error', 'cron', 'error']\n",
      "['error', 'cron', 'error', 'failed']\n",
      "['error', 'cron', 'error', 'failed', 'to']\n",
      "['error']\n",
      "['error', 'cron']\n",
      "['error', 'cron', 'error']\n",
      "['error', 'cron', 'error', 'failed']\n",
      "['error', 'cron', 'error', 'failed', 'to']\n",
      "['error']\n",
      "['error', 'cron']\n",
      "['error', 'cron', 'error']\n",
      "['error', 'cron', 'error', 'failed']\n",
      "['error', 'cron', 'error', 'failed', 'to']\n",
      "['error']\n",
      "['error', 'cron']\n",
      "['error', 'cron', 'error']\n",
      "['error', 'cron', 'error', 'failed']\n",
      "['error', 'cron', 'error', 'failed', 'to']\n",
      "July 31 04:11:32 mycomputername CRON[51253]: ERROR: Failed to start CRON job due to script syntax error. Inform the CRON job owner!\n",
      "\n",
      "['error']\n",
      "['error', 'cron']\n",
      "['error', 'cron', 'error']\n",
      "['error', 'cron', 'error', 'failed']\n",
      "['error', 'cron', 'error', 'failed', 'to']\n",
      "['error']\n",
      "['error', 'cron']\n",
      "['error', 'cron', 'error']\n",
      "['error', 'cron', 'error', 'failed']\n",
      "['error', 'cron', 'error', 'failed', 'to']\n",
      "['error']\n",
      "['error', 'cron']\n",
      "['error', 'cron', 'error']\n",
      "['error', 'cron', 'error', 'failed']\n",
      "['error', 'cron', 'error', 'failed', 'to']\n",
      "['error']\n",
      "['error', 'cron']\n",
      "['error', 'cron', 'error']\n",
      "['error', 'cron', 'error', 'failed']\n",
      "['error', 'cron', 'error', 'failed', 'to']\n",
      "['error']\n",
      "['error', 'cron']\n",
      "['error', 'cron', 'error']\n",
      "['error', 'cron', 'error', 'failed']\n",
      "['error', 'cron', 'error', 'failed', 'to']\n",
      "['error']\n",
      "['error', 'cron']\n",
      "['error', 'cron', 'error']\n",
      "['error', 'cron', 'error', 'failed']\n",
      "['error', 'cron', 'error', 'failed', 'to']\n",
      "['error']\n",
      "['error', 'cron']\n",
      "['error', 'cron', 'error']\n",
      "['error', 'cron', 'error', 'failed']\n",
      "['error', 'cron', 'error', 'failed', 'to']\n",
      "['error']\n",
      "['error', 'cron']\n",
      "['error', 'cron', 'error']\n",
      "['error', 'cron', 'error', 'failed']\n",
      "['error', 'cron', 'error', 'failed', 'to']\n",
      "['error']\n",
      "['error', 'cron']\n",
      "['error', 'cron', 'error']\n",
      "['error', 'cron', 'error', 'failed']\n",
      "['error', 'cron', 'error', 'failed', 'to']\n",
      "['error']\n",
      "['error', 'cron']\n",
      "['error', 'cron', 'error']\n",
      "['error', 'cron', 'error', 'failed']\n",
      "['error', 'cron', 'error', 'failed', 'to']\n",
      "['error']\n",
      "['error', 'cron']\n",
      "['error', 'cron', 'error']\n",
      "['error', 'cron', 'error', 'failed']\n",
      "['error', 'cron', 'error', 'failed', 'to']\n",
      "['error']\n",
      "['error', 'cron']\n",
      "['error', 'cron', 'error']\n",
      "['error', 'cron', 'error', 'failed']\n",
      "['error', 'cron', 'error', 'failed', 'to']\n",
      "['error']\n",
      "['error', 'cron']\n",
      "['error', 'cron', 'error']\n",
      "['error', 'cron', 'error', 'failed']\n",
      "['error', 'cron', 'error', 'failed', 'to']\n",
      "['error']\n",
      "['error', 'cron']\n",
      "['error', 'cron', 'error']\n",
      "['error', 'cron', 'error', 'failed']\n",
      "['error', 'cron', 'error', 'failed', 'to']\n",
      "['error']\n",
      "['error', 'cron']\n",
      "['error', 'cron', 'error']\n",
      "['error', 'cron', 'error', 'failed']\n",
      "['error', 'cron', 'error', 'failed', 'to']\n",
      "['error']\n",
      "['error', 'cron']\n",
      "['error', 'cron', 'error']\n",
      "['error', 'cron', 'error', 'failed']\n",
      "['error', 'cron', 'error', 'failed', 'to']\n",
      "['error']\n",
      "['error', 'cron']\n",
      "['error', 'cron', 'error']\n",
      "['error', 'cron', 'error', 'failed']\n",
      "['error', 'cron', 'error', 'failed', 'to']\n",
      "['error']\n",
      "['error', 'cron']\n",
      "['error', 'cron', 'error']\n",
      "['error', 'cron', 'error', 'failed']\n",
      "['error', 'cron', 'error', 'failed', 'to']\n",
      "['error']\n",
      "['error', 'cron']\n",
      "['error', 'cron', 'error']\n",
      "['error', 'cron', 'error', 'failed']\n",
      "['error', 'cron', 'error', 'failed', 'to']\n",
      "['error']\n",
      "['error', 'cron']\n",
      "['error', 'cron', 'error']\n",
      "['error', 'cron', 'error', 'failed']\n",
      "['error', 'cron', 'error', 'failed', 'to']\n",
      "['error']\n",
      "['error', 'cron']\n",
      "['error', 'cron', 'error']\n",
      "['error', 'cron', 'error', 'failed']\n",
      "['error', 'cron', 'error', 'failed', 'to']\n",
      "['error']\n",
      "['error', 'cron']\n",
      "['error', 'cron', 'error']\n",
      "['error', 'cron', 'error', 'failed']\n",
      "['error', 'cron', 'error', 'failed', 'to']\n",
      "['error']\n",
      "['error', 'cron']\n",
      "['error', 'cron', 'error']\n",
      "['error', 'cron', 'error', 'failed']\n",
      "['error', 'cron', 'error', 'failed', 'to']\n",
      "['error']\n",
      "['error', 'cron']\n",
      "['error', 'cron', 'error']\n",
      "['error', 'cron', 'error', 'failed']\n",
      "['error', 'cron', 'error', 'failed', 'to']\n",
      "['error']\n",
      "['error', 'cron']\n",
      "['error', 'cron', 'error']\n",
      "['error', 'cron', 'error', 'failed']\n",
      "['error', 'cron', 'error', 'failed', 'to']\n",
      "['error']\n",
      "['error', 'cron']\n",
      "['error', 'cron', 'error']\n",
      "['error', 'cron', 'error', 'failed']\n",
      "['error', 'cron', 'error', 'failed', 'to']\n",
      "['error']\n",
      "['error', 'cron']\n",
      "['error', 'cron', 'error']\n",
      "['error', 'cron', 'error', 'failed']\n",
      "['error', 'cron', 'error', 'failed', 'to']\n",
      "['error']\n",
      "['error', 'cron']\n",
      "['error', 'cron', 'error']\n",
      "['error', 'cron', 'error', 'failed']\n",
      "['error', 'cron', 'error', 'failed', 'to']\n",
      "['error']\n",
      "['error', 'cron']\n",
      "['error', 'cron', 'error']\n",
      "['error', 'cron', 'error', 'failed']\n",
      "['error', 'cron', 'error', 'failed', 'to']\n",
      "['error']\n",
      "['error', 'cron']\n",
      "['error', 'cron', 'error']\n",
      "['error', 'cron', 'error', 'failed']\n",
      "['error', 'cron', 'error', 'failed', 'to']\n",
      "['error']\n",
      "['error', 'cron']\n",
      "['error', 'cron', 'error']\n",
      "['error', 'cron', 'error', 'failed']\n",
      "['error', 'cron', 'error', 'failed', 'to']\n",
      "['error']\n",
      "['error', 'cron']\n",
      "['error', 'cron', 'error']\n",
      "['error', 'cron', 'error', 'failed']\n",
      "['error', 'cron', 'error', 'failed', 'to']\n",
      "['error']\n",
      "['error', 'cron']\n",
      "['error', 'cron', 'error']\n",
      "['error', 'cron', 'error', 'failed']\n",
      "['error', 'cron', 'error', 'failed', 'to']\n",
      "['error']\n",
      "['error', 'cron']\n",
      "['error', 'cron', 'error']\n",
      "['error', 'cron', 'error', 'failed']\n",
      "['error', 'cron', 'error', 'failed', 'to']\n",
      "['error']\n",
      "['error', 'cron']\n",
      "['error', 'cron', 'error']\n",
      "['error', 'cron', 'error', 'failed']\n",
      "['error', 'cron', 'error', 'failed', 'to']\n",
      "['error']\n",
      "['error', 'cron']\n",
      "['error', 'cron', 'error']\n",
      "['error', 'cron', 'error', 'failed']\n",
      "['error', 'cron', 'error', 'failed', 'to']\n",
      "['error']\n",
      "['error', 'cron']\n",
      "['error', 'cron', 'error']\n",
      "['error', 'cron', 'error', 'failed']\n",
      "['error', 'cron', 'error', 'failed', 'to']\n",
      "['error']\n",
      "['error', 'cron']\n",
      "['error', 'cron', 'error']\n",
      "['error', 'cron', 'error', 'failed']\n",
      "['error', 'cron', 'error', 'failed', 'to']\n",
      "['error']\n",
      "['error', 'cron']\n",
      "['error', 'cron', 'error']\n",
      "['error', 'cron', 'error', 'failed']\n",
      "['error', 'cron', 'error', 'failed', 'to']\n",
      "['error']\n",
      "['error', 'cron']\n",
      "['error', 'cron', 'error']\n",
      "['error', 'cron', 'error', 'failed']\n",
      "['error', 'cron', 'error', 'failed', 'to']\n",
      "['error']\n",
      "['error', 'cron']\n",
      "['error', 'cron', 'error']\n",
      "['error', 'cron', 'error', 'failed']\n",
      "['error', 'cron', 'error', 'failed', 'to']\n",
      "['error']\n",
      "['error', 'cron']\n",
      "['error', 'cron', 'error']\n",
      "['error', 'cron', 'error', 'failed']\n",
      "['error', 'cron', 'error', 'failed', 'to']\n",
      "['error']\n",
      "['error', 'cron']\n",
      "['error', 'cron', 'error']\n",
      "['error', 'cron', 'error', 'failed']\n",
      "['error', 'cron', 'error', 'failed', 'to']\n",
      "['error']\n",
      "['error', 'cron']\n",
      "['error', 'cron', 'error']\n",
      "['error', 'cron', 'error', 'failed']\n",
      "['error', 'cron', 'error', 'failed', 'to']\n",
      "['error']\n",
      "['error', 'cron']\n",
      "['error', 'cron', 'error']\n",
      "['error', 'cron', 'error', 'failed']\n",
      "['error', 'cron', 'error', 'failed', 'to']\n",
      "['error']\n",
      "['error', 'cron']\n",
      "['error', 'cron', 'error']\n",
      "['error', 'cron', 'error', 'failed']\n",
      "['error', 'cron', 'error', 'failed', 'to']\n",
      "['error']\n",
      "['error', 'cron']\n",
      "['error', 'cron', 'error']\n",
      "['error', 'cron', 'error', 'failed']\n",
      "['error', 'cron', 'error', 'failed', 'to']\n",
      "['error']\n",
      "['error', 'cron']\n",
      "['error', 'cron', 'error']\n",
      "['error', 'cron', 'error', 'failed']\n",
      "['error', 'cron', 'error', 'failed', 'to']\n",
      "['error']\n",
      "['error', 'cron']\n",
      "['error', 'cron', 'error']\n",
      "['error', 'cron', 'error', 'failed']\n",
      "['error', 'cron', 'error', 'failed', 'to']\n",
      "['error']\n",
      "['error', 'cron']\n",
      "['error', 'cron', 'error']\n",
      "['error', 'cron', 'error', 'failed']\n",
      "['error', 'cron', 'error', 'failed', 'to']\n",
      "['error']\n",
      "['error', 'cron']\n",
      "['error', 'cron', 'error']\n",
      "['error', 'cron', 'error', 'failed']\n",
      "['error', 'cron', 'error', 'failed', 'to']\n",
      "['error']\n",
      "['error', 'cron']\n",
      "['error', 'cron', 'error']\n",
      "['error', 'cron', 'error', 'failed']\n",
      "['error', 'cron', 'error', 'failed', 'to']\n",
      "['error']\n",
      "['error', 'cron']\n",
      "['error', 'cron', 'error']\n",
      "['error', 'cron', 'error', 'failed']\n",
      "['error', 'cron', 'error', 'failed', 'to']\n",
      "['error']\n",
      "['error', 'cron']\n",
      "['error', 'cron', 'error']\n",
      "['error', 'cron', 'error', 'failed']\n",
      "['error', 'cron', 'error', 'failed', 'to']\n",
      "['error']\n",
      "['error', 'cron']\n",
      "['error', 'cron', 'error']\n",
      "['error', 'cron', 'error', 'failed']\n",
      "['error', 'cron', 'error', 'failed', 'to']\n",
      "['error']\n",
      "['error', 'cron']\n",
      "['error', 'cron', 'error']\n",
      "['error', 'cron', 'error', 'failed']\n",
      "['error', 'cron', 'error', 'failed', 'to']\n",
      "['error']\n",
      "['error', 'cron']\n",
      "['error', 'cron', 'error']\n",
      "['error', 'cron', 'error', 'failed']\n",
      "['error', 'cron', 'error', 'failed', 'to']\n",
      "['error']\n",
      "['error', 'cron']\n",
      "['error', 'cron', 'error']\n",
      "['error', 'cron', 'error', 'failed']\n",
      "['error', 'cron', 'error', 'failed', 'to']\n",
      "['error']\n",
      "['error', 'cron']\n",
      "['error', 'cron', 'error']\n",
      "['error', 'cron', 'error', 'failed']\n",
      "['error', 'cron', 'error', 'failed', 'to']\n",
      "['error']\n",
      "['error', 'cron']\n",
      "['error', 'cron', 'error']\n",
      "['error', 'cron', 'error', 'failed']\n",
      "['error', 'cron', 'error', 'failed', 'to']\n",
      "['error']\n",
      "['error', 'cron']\n",
      "['error', 'cron', 'error']\n",
      "['error', 'cron', 'error', 'failed']\n",
      "['error', 'cron', 'error', 'failed', 'to']\n",
      "['error']\n",
      "['error', 'cron']\n",
      "['error', 'cron', 'error']\n",
      "['error', 'cron', 'error', 'failed']\n",
      "['error', 'cron', 'error', 'failed', 'to']\n",
      "['error']\n",
      "['error', 'cron']\n",
      "['error', 'cron', 'error']\n",
      "['error', 'cron', 'error', 'failed']\n",
      "['error', 'cron', 'error', 'failed', 'to']\n",
      "['error']\n",
      "['error', 'cron']\n",
      "['error', 'cron', 'error']\n",
      "['error', 'cron', 'error', 'failed']\n",
      "['error', 'cron', 'error', 'failed', 'to']\n",
      "['error']\n",
      "['error', 'cron']\n",
      "['error', 'cron', 'error']\n",
      "['error', 'cron', 'error', 'failed']\n",
      "['error', 'cron', 'error', 'failed', 'to']\n",
      "['error']\n",
      "['error', 'cron']\n",
      "['error', 'cron', 'error']\n",
      "['error', 'cron', 'error', 'failed']\n",
      "['error', 'cron', 'error', 'failed', 'to']\n",
      "['error']\n",
      "['error', 'cron']\n",
      "['error', 'cron', 'error']\n",
      "['error', 'cron', 'error', 'failed']\n",
      "['error', 'cron', 'error', 'failed', 'to']\n",
      "['error']\n",
      "['error', 'cron']\n",
      "['error', 'cron', 'error']\n",
      "['error', 'cron', 'error', 'failed']\n",
      "['error', 'cron', 'error', 'failed', 'to']\n",
      "['error']\n",
      "['error', 'cron']\n",
      "['error', 'cron', 'error']\n",
      "['error', 'cron', 'error', 'failed']\n",
      "['error', 'cron', 'error', 'failed', 'to']\n",
      "['error']\n",
      "['error', 'cron']\n",
      "['error', 'cron', 'error']\n",
      "['error', 'cron', 'error', 'failed']\n",
      "['error', 'cron', 'error', 'failed', 'to']\n",
      "['error']\n",
      "['error', 'cron']\n",
      "['error', 'cron', 'error']\n",
      "['error', 'cron', 'error', 'failed']\n",
      "['error', 'cron', 'error', 'failed', 'to']\n",
      "['error']\n",
      "['error', 'cron']\n",
      "['error', 'cron', 'error']\n",
      "['error', 'cron', 'error', 'failed']\n",
      "['error', 'cron', 'error', 'failed', 'to']\n",
      "['error']\n",
      "['error', 'cron']\n",
      "['error', 'cron', 'error']\n",
      "['error', 'cron', 'error', 'failed']\n",
      "['error', 'cron', 'error', 'failed', 'to']\n",
      "['error']\n",
      "['error', 'cron']\n",
      "['error', 'cron', 'error']\n",
      "['error', 'cron', 'error', 'failed']\n",
      "['error', 'cron', 'error', 'failed', 'to']\n",
      "['error']\n",
      "['error', 'cron']\n",
      "['error', 'cron', 'error']\n",
      "['error', 'cron', 'error', 'failed']\n",
      "['error', 'cron', 'error', 'failed', 'to']\n",
      "['error']\n",
      "['error', 'cron']\n",
      "['error', 'cron', 'error']\n",
      "['error', 'cron', 'error', 'failed']\n",
      "['error', 'cron', 'error', 'failed', 'to']\n",
      "['error']\n",
      "['error', 'cron']\n",
      "['error', 'cron', 'error']\n",
      "['error', 'cron', 'error', 'failed']\n",
      "['error', 'cron', 'error', 'failed', 'to']\n",
      "['error']\n",
      "['error', 'cron']\n",
      "['error', 'cron', 'error']\n",
      "['error', 'cron', 'error', 'failed']\n",
      "['error', 'cron', 'error', 'failed', 'to']\n",
      "['error']\n",
      "['error', 'cron']\n",
      "['error', 'cron', 'error']\n",
      "['error', 'cron', 'error', 'failed']\n",
      "['error', 'cron', 'error', 'failed', 'to']\n",
      "['error']\n",
      "['error', 'cron']\n",
      "['error', 'cron', 'error']\n",
      "['error', 'cron', 'error', 'failed']\n",
      "['error', 'cron', 'error', 'failed', 'to']\n",
      "['error']\n",
      "['error', 'cron']\n",
      "['error', 'cron', 'error']\n",
      "['error', 'cron', 'error', 'failed']\n",
      "['error', 'cron', 'error', 'failed', 'to']\n",
      "['error']\n",
      "['error', 'cron']\n",
      "['error', 'cron', 'error']\n",
      "['error', 'cron', 'error', 'failed']\n",
      "['error', 'cron', 'error', 'failed', 'to']\n",
      "['error']\n",
      "['error', 'cron']\n",
      "['error', 'cron', 'error']\n",
      "['error', 'cron', 'error', 'failed']\n",
      "['error', 'cron', 'error', 'failed', 'to']\n",
      "['error']\n",
      "['error', 'cron']\n",
      "['error', 'cron', 'error']\n",
      "['error', 'cron', 'error', 'failed']\n",
      "['error', 'cron', 'error', 'failed', 'to']\n",
      "['error']\n",
      "['error', 'cron']\n",
      "['error', 'cron', 'error']\n",
      "['error', 'cron', 'error', 'failed']\n",
      "['error', 'cron', 'error', 'failed', 'to']\n",
      "['error']\n",
      "['error', 'cron']\n",
      "['error', 'cron', 'error']\n",
      "['error', 'cron', 'error', 'failed']\n",
      "['error', 'cron', 'error', 'failed', 'to']\n",
      "['error']\n",
      "['error', 'cron']\n",
      "['error', 'cron', 'error']\n",
      "['error', 'cron', 'error', 'failed']\n",
      "['error', 'cron', 'error', 'failed', 'to']\n",
      "['error']\n",
      "['error', 'cron']\n",
      "['error', 'cron', 'error']\n",
      "['error', 'cron', 'error', 'failed']\n",
      "['error', 'cron', 'error', 'failed', 'to']\n",
      "['error']\n",
      "['error', 'cron']\n",
      "['error', 'cron', 'error']\n",
      "['error', 'cron', 'error', 'failed']\n",
      "['error', 'cron', 'error', 'failed', 'to']\n",
      "['error']\n",
      "['error', 'cron']\n",
      "['error', 'cron', 'error']\n",
      "['error', 'cron', 'error', 'failed']\n",
      "['error', 'cron', 'error', 'failed', 'to']\n",
      "['error']\n",
      "['error', 'cron']\n",
      "['error', 'cron', 'error']\n",
      "['error', 'cron', 'error', 'failed']\n",
      "['error', 'cron', 'error', 'failed', 'to']\n",
      "['error']\n",
      "['error', 'cron']\n",
      "['error', 'cron', 'error']\n",
      "['error', 'cron', 'error', 'failed']\n",
      "['error', 'cron', 'error', 'failed', 'to']\n",
      "['error']\n",
      "['error', 'cron']\n",
      "['error', 'cron', 'error']\n",
      "['error', 'cron', 'error', 'failed']\n",
      "['error', 'cron', 'error', 'failed', 'to']\n",
      "['error']\n",
      "['error', 'cron']\n",
      "['error', 'cron', 'error']\n",
      "['error', 'cron', 'error', 'failed']\n",
      "['error', 'cron', 'error', 'failed', 'to']\n",
      "['error']\n",
      "['error', 'cron']\n",
      "['error', 'cron', 'error']\n",
      "['error', 'cron', 'error', 'failed']\n",
      "['error', 'cron', 'error', 'failed', 'to']\n",
      "['error']\n",
      "['error', 'cron']\n",
      "['error', 'cron', 'error']\n",
      "['error', 'cron', 'error', 'failed']\n",
      "['error', 'cron', 'error', 'failed', 'to']\n",
      "['error']\n",
      "['error', 'cron']\n",
      "['error', 'cron', 'error']\n",
      "['error', 'cron', 'error', 'failed']\n",
      "['error', 'cron', 'error', 'failed', 'to']\n",
      "['error']\n",
      "['error', 'cron']\n",
      "['error', 'cron', 'error']\n",
      "['error', 'cron', 'error', 'failed']\n",
      "['error', 'cron', 'error', 'failed', 'to']\n",
      "['error']\n",
      "['error', 'cron']\n",
      "['error', 'cron', 'error']\n",
      "['error', 'cron', 'error', 'failed']\n",
      "['error', 'cron', 'error', 'failed', 'to']\n",
      "['error']\n",
      "['error', 'cron']\n",
      "['error', 'cron', 'error']\n",
      "['error', 'cron', 'error', 'failed']\n",
      "['error', 'cron', 'error', 'failed', 'to']\n",
      "['error']\n",
      "['error', 'cron']\n",
      "['error', 'cron', 'error']\n",
      "['error', 'cron', 'error', 'failed']\n",
      "['error', 'cron', 'error', 'failed', 'to']\n",
      "['error']\n",
      "['error', 'cron']\n",
      "['error', 'cron', 'error']\n",
      "['error', 'cron', 'error', 'failed']\n",
      "['error', 'cron', 'error', 'failed', 'to']\n",
      "['error']\n",
      "['error', 'cron']\n",
      "['error', 'cron', 'error']\n",
      "['error', 'cron', 'error', 'failed']\n",
      "['error', 'cron', 'error', 'failed', 'to']\n",
      "['error']\n",
      "['error', 'cron']\n",
      "['error', 'cron', 'error']\n",
      "['error', 'cron', 'error', 'failed']\n",
      "['error', 'cron', 'error', 'failed', 'to']\n",
      "['error']\n",
      "['error', 'cron']\n",
      "['error', 'cron', 'error']\n",
      "['error', 'cron', 'error', 'failed']\n",
      "['error', 'cron', 'error', 'failed', 'to']\n",
      "['error']\n",
      "['error', 'cron']\n",
      "['error', 'cron', 'error']\n",
      "['error', 'cron', 'error', 'failed']\n",
      "['error', 'cron', 'error', 'failed', 'to']\n",
      "['error']\n",
      "['error', 'cron']\n",
      "['error', 'cron', 'error']\n",
      "['error', 'cron', 'error', 'failed']\n",
      "['error', 'cron', 'error', 'failed', 'to']\n",
      "['error']\n",
      "['error', 'cron']\n",
      "['error', 'cron', 'error']\n",
      "['error', 'cron', 'error', 'failed']\n",
      "['error', 'cron', 'error', 'failed', 'to']\n",
      "['error']\n",
      "['error', 'cron']\n",
      "['error', 'cron', 'error']\n",
      "['error', 'cron', 'error', 'failed']\n",
      "['error', 'cron', 'error', 'failed', 'to']\n",
      "['error']\n",
      "['error', 'cron']\n",
      "['error', 'cron', 'error']\n",
      "['error', 'cron', 'error', 'failed']\n",
      "['error', 'cron', 'error', 'failed', 'to']\n",
      "['error']\n",
      "['error', 'cron']\n",
      "['error', 'cron', 'error']\n",
      "['error', 'cron', 'error', 'failed']\n",
      "['error', 'cron', 'error', 'failed', 'to']\n",
      "['error']\n",
      "['error', 'cron']\n",
      "['error', 'cron', 'error']\n",
      "['error', 'cron', 'error', 'failed']\n",
      "['error', 'cron', 'error', 'failed', 'to']\n",
      "['error']\n",
      "['error', 'cron']\n",
      "['error', 'cron', 'error']\n",
      "['error', 'cron', 'error', 'failed']\n",
      "['error', 'cron', 'error', 'failed', 'to']\n",
      "['error']\n",
      "['error', 'cron']\n",
      "['error', 'cron', 'error']\n",
      "['error', 'cron', 'error', 'failed']\n",
      "['error', 'cron', 'error', 'failed', 'to']\n",
      "['error']\n",
      "['error', 'cron']\n",
      "['error', 'cron', 'error']\n",
      "['error', 'cron', 'error', 'failed']\n",
      "['error', 'cron', 'error', 'failed', 'to']\n",
      "['error']\n",
      "['error', 'cron']\n",
      "['error', 'cron', 'error']\n",
      "['error', 'cron', 'error', 'failed']\n",
      "['error', 'cron', 'error', 'failed', 'to']\n",
      "['error']\n",
      "['error', 'cron']\n",
      "['error', 'cron', 'error']\n",
      "['error', 'cron', 'error', 'failed']\n",
      "['error', 'cron', 'error', 'failed', 'to']\n",
      "['error']\n",
      "['error', 'cron']\n",
      "['error', 'cron', 'error']\n",
      "['error', 'cron', 'error', 'failed']\n",
      "['error', 'cron', 'error', 'failed', 'to']\n",
      "['error']\n",
      "['error', 'cron']\n",
      "['error', 'cron', 'error']\n",
      "['error', 'cron', 'error', 'failed']\n",
      "['error', 'cron', 'error', 'failed', 'to']\n",
      "['error']\n",
      "['error', 'cron']\n",
      "['error', 'cron', 'error']\n",
      "['error', 'cron', 'error', 'failed']\n",
      "['error', 'cron', 'error', 'failed', 'to']\n",
      "['error']\n",
      "['error', 'cron']\n",
      "['error', 'cron', 'error']\n",
      "['error', 'cron', 'error', 'failed']\n",
      "['error', 'cron', 'error', 'failed', 'to']\n",
      "['error']\n",
      "['error', 'cron']\n",
      "['error', 'cron', 'error']\n",
      "['error', 'cron', 'error', 'failed']\n",
      "['error', 'cron', 'error', 'failed', 'to']\n",
      "['error']\n",
      "['error', 'cron']\n",
      "['error', 'cron', 'error']\n",
      "['error', 'cron', 'error', 'failed']\n",
      "['error', 'cron', 'error', 'failed', 'to']\n",
      "['error']\n",
      "['error', 'cron']\n",
      "['error', 'cron', 'error']\n",
      "['error', 'cron', 'error', 'failed']\n",
      "['error', 'cron', 'error', 'failed', 'to']\n",
      "['error']\n",
      "['error', 'cron']\n",
      "['error', 'cron', 'error']\n",
      "['error', 'cron', 'error', 'failed']\n",
      "['error', 'cron', 'error', 'failed', 'to']\n",
      "['error']\n",
      "['error', 'cron']\n",
      "['error', 'cron', 'error']\n",
      "['error', 'cron', 'error', 'failed']\n",
      "['error', 'cron', 'error', 'failed', 'to']\n",
      "['error']\n",
      "['error', 'cron']\n",
      "['error', 'cron', 'error']\n",
      "['error', 'cron', 'error', 'failed']\n",
      "['error', 'cron', 'error', 'failed', 'to']\n",
      "['error']\n",
      "['error', 'cron']\n",
      "['error', 'cron', 'error']\n",
      "['error', 'cron', 'error', 'failed']\n",
      "['error', 'cron', 'error', 'failed', 'to']\n",
      "['error']\n",
      "['error', 'cron']\n",
      "['error', 'cron', 'error']\n",
      "['error', 'cron', 'error', 'failed']\n",
      "['error', 'cron', 'error', 'failed', 'to']\n",
      "['error']\n",
      "['error', 'cron']\n",
      "['error', 'cron', 'error']\n",
      "['error', 'cron', 'error', 'failed']\n",
      "['error', 'cron', 'error', 'failed', 'to']\n",
      "['error']\n",
      "['error', 'cron']\n",
      "['error', 'cron', 'error']\n",
      "['error', 'cron', 'error', 'failed']\n",
      "['error', 'cron', 'error', 'failed', 'to']\n",
      "['error']\n",
      "['error', 'cron']\n",
      "['error', 'cron', 'error']\n",
      "['error', 'cron', 'error', 'failed']\n",
      "['error', 'cron', 'error', 'failed', 'to']\n",
      "['error']\n",
      "['error', 'cron']\n",
      "['error', 'cron', 'error']\n",
      "['error', 'cron', 'error', 'failed']\n",
      "['error', 'cron', 'error', 'failed', 'to']\n",
      "['error']\n",
      "['error', 'cron']\n",
      "['error', 'cron', 'error']\n",
      "['error', 'cron', 'error', 'failed']\n",
      "['error', 'cron', 'error', 'failed', 'to']\n",
      "['error']\n",
      "['error', 'cron']\n",
      "['error', 'cron', 'error']\n",
      "['error', 'cron', 'error', 'failed']\n",
      "['error', 'cron', 'error', 'failed', 'to']\n",
      "['error']\n",
      "['error', 'cron']\n",
      "['error', 'cron', 'error']\n",
      "['error', 'cron', 'error', 'failed']\n",
      "['error', 'cron', 'error', 'failed', 'to']\n",
      "['error']\n",
      "['error', 'cron']\n",
      "['error', 'cron', 'error']\n",
      "['error', 'cron', 'error', 'failed']\n",
      "['error', 'cron', 'error', 'failed', 'to']\n",
      "['error']\n",
      "['error', 'cron']\n",
      "['error', 'cron', 'error']\n",
      "['error', 'cron', 'error', 'failed']\n",
      "['error', 'cron', 'error', 'failed', 'to']\n",
      "['error']\n",
      "['error', 'cron']\n",
      "['error', 'cron', 'error']\n",
      "['error', 'cron', 'error', 'failed']\n",
      "['error', 'cron', 'error', 'failed', 'to']\n",
      "['error']\n",
      "['error', 'cron']\n",
      "['error', 'cron', 'error']\n",
      "['error', 'cron', 'error', 'failed']\n",
      "['error', 'cron', 'error', 'failed', 'to']\n",
      "['error']\n",
      "['error', 'cron']\n",
      "['error', 'cron', 'error']\n",
      "['error', 'cron', 'error', 'failed']\n",
      "['error', 'cron', 'error', 'failed', 'to']\n",
      "['error']\n",
      "['error', 'cron']\n",
      "['error', 'cron', 'error']\n",
      "['error', 'cron', 'error', 'failed']\n",
      "['error', 'cron', 'error', 'failed', 'to']\n",
      "['error']\n",
      "['error', 'cron']\n",
      "['error', 'cron', 'error']\n",
      "['error', 'cron', 'error', 'failed']\n",
      "['error', 'cron', 'error', 'failed', 'to']\n",
      "['error']\n",
      "['error', 'cron']\n",
      "['error', 'cron', 'error']\n",
      "['error', 'cron', 'error', 'failed']\n",
      "['error', 'cron', 'error', 'failed', 'to']\n",
      "['error']\n",
      "['error', 'cron']\n",
      "['error', 'cron', 'error']\n",
      "['error', 'cron', 'error', 'failed']\n",
      "['error', 'cron', 'error', 'failed', 'to']\n",
      "['error']\n",
      "['error', 'cron']\n",
      "['error', 'cron', 'error']\n",
      "['error', 'cron', 'error', 'failed']\n",
      "['error', 'cron', 'error', 'failed', 'to']\n",
      "['error']\n",
      "['error', 'cron']\n",
      "['error', 'cron', 'error']\n",
      "['error', 'cron', 'error', 'failed']\n",
      "['error', 'cron', 'error', 'failed', 'to']\n",
      "['error']\n",
      "['error', 'cron']\n",
      "['error', 'cron', 'error']\n",
      "['error', 'cron', 'error', 'failed']\n",
      "['error', 'cron', 'error', 'failed', 'to']\n",
      "['error']\n",
      "['error', 'cron']\n",
      "['error', 'cron', 'error']\n",
      "['error', 'cron', 'error', 'failed']\n",
      "['error', 'cron', 'error', 'failed', 'to']\n",
      "['error']\n",
      "['error', 'cron']\n",
      "['error', 'cron', 'error']\n",
      "['error', 'cron', 'error', 'failed']\n",
      "['error', 'cron', 'error', 'failed', 'to']\n",
      "['error']\n",
      "['error', 'cron']\n",
      "['error', 'cron', 'error']\n",
      "['error', 'cron', 'error', 'failed']\n",
      "['error', 'cron', 'error', 'failed', 'to']\n",
      "['error']\n",
      "['error', 'cron']\n",
      "['error', 'cron', 'error']\n",
      "['error', 'cron', 'error', 'failed']\n",
      "['error', 'cron', 'error', 'failed', 'to']\n",
      "['error']\n",
      "['error', 'cron']\n",
      "['error', 'cron', 'error']\n",
      "['error', 'cron', 'error', 'failed']\n",
      "['error', 'cron', 'error', 'failed', 'to']\n",
      "['error']\n",
      "['error', 'cron']\n",
      "['error', 'cron', 'error']\n",
      "['error', 'cron', 'error', 'failed']\n",
      "['error', 'cron', 'error', 'failed', 'to']\n",
      "['July 31 04:11:32 mycomputername CRON[51253]: ERROR: Failed to start CRON job due to script syntax error. Inform the CRON job owner!\\n']\n"
     ]
    }
   ],
   "source": [
    "# Insert \"CRON ERROR Failed to start\"\n",
    "if __name__ == \"__main__\":\n",
    "#     log_file = sys.argv[1]\n",
    "    log_file = \"fishy.log\"\n",
    "    returned_errors = error_search(log_file)\n",
    "    file_output(returned_errors)\n",
    "#     sys.exit(0)"
   ]
  },
  {
   "cell_type": "code",
   "execution_count": null,
   "metadata": {},
   "outputs": [],
   "source": []
  }
 ],
 "metadata": {
  "kernelspec": {
   "display_name": "Python 3",
   "language": "python",
   "name": "python3"
  },
  "language_info": {
   "codemirror_mode": {
    "name": "ipython",
    "version": 3
   },
   "file_extension": ".py",
   "mimetype": "text/x-python",
   "name": "python",
   "nbconvert_exporter": "python",
   "pygments_lexer": "ipython3",
   "version": "3.6.10"
  }
 },
 "nbformat": 4,
 "nbformat_minor": 4
}
