{
 "cells": [
  {
   "cell_type": "markdown",
   "metadata": {},
   "source": [
    "## Read"
   ]
  },
  {
   "cell_type": "code",
   "execution_count": 4,
   "metadata": {},
   "outputs": [
    {
     "name": "stdout",
     "output_type": "stream",
     "text": [
      "The itsy bitsy spider climbed up the waterspout.\n",
      "\n"
     ]
    }
   ],
   "source": [
    "file = open(\"spider.txt\")\n",
    "print(file.readline())"
   ]
  },
  {
   "cell_type": "code",
   "execution_count": 5,
   "metadata": {},
   "outputs": [
    {
     "name": "stdout",
     "output_type": "stream",
     "text": [
      "Down came the rain\n",
      "\n"
     ]
    }
   ],
   "source": [
    "print(file.readline())"
   ]
  },
  {
   "cell_type": "code",
   "execution_count": 6,
   "metadata": {},
   "outputs": [
    {
     "name": "stdout",
     "output_type": "stream",
     "text": [
      "and washed the spider out.\n",
      "Out came the sun \n",
      "and dried up all the rain\n",
      "and the itsy bitsy spider climbed up the spout again.\n"
     ]
    }
   ],
   "source": [
    "print(file.read())"
   ]
  },
  {
   "cell_type": "code",
   "execution_count": 7,
   "metadata": {},
   "outputs": [],
   "source": [
    "file.close()"
   ]
  },
  {
   "cell_type": "code",
   "execution_count": 8,
   "metadata": {},
   "outputs": [
    {
     "name": "stdout",
     "output_type": "stream",
     "text": [
      "The itsy bitsy spider climbed up the waterspout.\n",
      "\n"
     ]
    }
   ],
   "source": [
    "with open(\"spider.txt\") as file:\n",
    "    print(file.readline())"
   ]
  },
  {
   "cell_type": "code",
   "execution_count": 9,
   "metadata": {},
   "outputs": [
    {
     "name": "stdout",
     "output_type": "stream",
     "text": [
      "The itsy bitsy spider climbed up the waterspout.\n",
      "\n",
      "Down came the rain\n",
      "\n",
      "and washed the spider out.\n",
      "\n",
      "Out came the sun \n",
      "\n",
      "and dried up all the rain\n",
      "\n",
      "and the itsy bitsy spider climbed up the spout again.\n"
     ]
    }
   ],
   "source": [
    "with open(\"spider.txt\") as file:\n",
    "    for line in file:\n",
    "        print(line)"
   ]
  },
  {
   "cell_type": "code",
   "execution_count": 10,
   "metadata": {},
   "outputs": [
    {
     "name": "stdout",
     "output_type": "stream",
     "text": [
      "THE ITSY BITSY SPIDER CLIMBED UP THE WATERSPOUT.\n",
      "\n",
      "DOWN CAME THE RAIN\n",
      "\n",
      "AND WASHED THE SPIDER OUT.\n",
      "\n",
      "OUT CAME THE SUN \n",
      "\n",
      "AND DRIED UP ALL THE RAIN\n",
      "\n",
      "AND THE ITSY BITSY SPIDER CLIMBED UP THE SPOUT AGAIN.\n"
     ]
    }
   ],
   "source": [
    "with open(\"spider.txt\") as file:\n",
    "    for line in file:\n",
    "        print(line.upper())"
   ]
  },
  {
   "cell_type": "code",
   "execution_count": 11,
   "metadata": {},
   "outputs": [
    {
     "name": "stdout",
     "output_type": "stream",
     "text": [
      "THE ITSY BITSY SPIDER CLIMBED UP THE WATERSPOUT.\n",
      "DOWN CAME THE RAIN\n",
      "AND WASHED THE SPIDER OUT.\n",
      "OUT CAME THE SUN\n",
      "AND DRIED UP ALL THE RAIN\n",
      "AND THE ITSY BITSY SPIDER CLIMBED UP THE SPOUT AGAIN.\n"
     ]
    }
   ],
   "source": [
    "# Remove New Line Character by strip()\n",
    "with open(\"spider.txt\") as file:\n",
    "    for line in file:\n",
    "        print(line.strip().upper())"
   ]
  },
  {
   "cell_type": "code",
   "execution_count": 12,
   "metadata": {},
   "outputs": [],
   "source": [
    "file = open(\"spider.txt\")\n",
    "lines = file.readlines()\n",
    "file.close()"
   ]
  },
  {
   "cell_type": "code",
   "execution_count": 13,
   "metadata": {},
   "outputs": [
    {
     "data": {
      "text/plain": [
       "['The itsy bitsy spider climbed up the waterspout.\\n',\n",
       " 'Down came the rain\\n',\n",
       " 'and washed the spider out.\\n',\n",
       " 'Out came the sun \\n',\n",
       " 'and dried up all the rain\\n',\n",
       " 'and the itsy bitsy spider climbed up the spout again.']"
      ]
     },
     "execution_count": 13,
     "metadata": {},
     "output_type": "execute_result"
    }
   ],
   "source": [
    "lines"
   ]
  },
  {
   "cell_type": "code",
   "execution_count": 14,
   "metadata": {},
   "outputs": [],
   "source": [
    "lines.sort()"
   ]
  },
  {
   "cell_type": "code",
   "execution_count": 15,
   "metadata": {},
   "outputs": [
    {
     "name": "stdout",
     "output_type": "stream",
     "text": [
      "['Down came the rain\\n', 'Out came the sun \\n', 'The itsy bitsy spider climbed up the waterspout.\\n', 'and dried up all the rain\\n', 'and the itsy bitsy spider climbed up the spout again.', 'and washed the spider out.\\n']\n"
     ]
    }
   ],
   "source": [
    "print(lines)"
   ]
  },
  {
   "cell_type": "markdown",
   "metadata": {},
   "source": [
    "## Write"
   ]
  },
  {
   "cell_type": "code",
   "execution_count": 17,
   "metadata": {},
   "outputs": [],
   "source": [
    "with open(\"novel.txt\", \"w\") as file:\n",
    "    file.write(\"It was a dark and stormy night\")"
   ]
  },
  {
   "cell_type": "markdown",
   "metadata": {},
   "source": [
    "## Practice"
   ]
  },
  {
   "cell_type": "code",
   "execution_count": 18,
   "metadata": {},
   "outputs": [],
   "source": [
    "guests = open(\"guests.txt\", \"w\")\n",
    "initial_guests = [\"Bob\", \"Andrea\", \"Manuel\", \"Polly\", \"Khalid\"]\n",
    "\n",
    "for i in initial_guests:\n",
    "    guests.write(i + \"\\n\")\n",
    "    \n",
    "guests.close()"
   ]
  },
  {
   "cell_type": "code",
   "execution_count": 19,
   "metadata": {},
   "outputs": [
    {
     "name": "stdout",
     "output_type": "stream",
     "text": [
      "Bob\n",
      "\n",
      "Andrea\n",
      "\n",
      "Manuel\n",
      "\n",
      "Polly\n",
      "\n",
      "Khalid\n",
      "\n"
     ]
    }
   ],
   "source": [
    "with open(\"guests.txt\") as guests:\n",
    "    for line in guests:\n",
    "        print(line)"
   ]
  },
  {
   "cell_type": "code",
   "execution_count": 20,
   "metadata": {},
   "outputs": [],
   "source": [
    "new_guests = [\"Sam\", \"Danielle\", \"Jacob\"]\n",
    "\n",
    "with open(\"guests.txt\", \"a\") as guests:\n",
    "    for i in new_guests:\n",
    "        guests.write(i + \"\\n\")\n",
    "\n",
    "guests.close()"
   ]
  },
  {
   "cell_type": "code",
   "execution_count": 21,
   "metadata": {},
   "outputs": [
    {
     "name": "stdout",
     "output_type": "stream",
     "text": [
      "Bob\n",
      "\n",
      "Andrea\n",
      "\n",
      "Manuel\n",
      "\n",
      "Polly\n",
      "\n",
      "Khalid\n",
      "\n",
      "Sam\n",
      "\n",
      "Danielle\n",
      "\n",
      "Jacob\n",
      "\n"
     ]
    }
   ],
   "source": [
    "with open(\"guests.txt\") as guests:\n",
    "    for line in guests:\n",
    "        print(line)"
   ]
  },
  {
   "cell_type": "code",
   "execution_count": 22,
   "metadata": {},
   "outputs": [],
   "source": [
    "checked_out=[\"Andrea\", \"Manuel\", \"Khalid\"]\n",
    "temp_list=[]\n",
    "\n",
    "with open(\"guests.txt\", \"r\") as guests:\n",
    "    for g in guests:\n",
    "        temp_list.append(g.strip())"
   ]
  },
  {
   "cell_type": "code",
   "execution_count": 23,
   "metadata": {},
   "outputs": [
    {
     "data": {
      "text/plain": [
       "['Bob', 'Andrea', 'Manuel', 'Polly', 'Khalid', 'Sam', 'Danielle', 'Jacob']"
      ]
     },
     "execution_count": 23,
     "metadata": {},
     "output_type": "execute_result"
    }
   ],
   "source": [
    "temp_list"
   ]
  },
  {
   "cell_type": "code",
   "execution_count": 24,
   "metadata": {},
   "outputs": [],
   "source": [
    "with open(\"guests.txt\", \"w\") as guests:\n",
    "    for name in temp_list:\n",
    "        if name not in checked_out:\n",
    "            guests.write(name + \"\\n\")"
   ]
  },
  {
   "cell_type": "code",
   "execution_count": 26,
   "metadata": {},
   "outputs": [
    {
     "name": "stdout",
     "output_type": "stream",
     "text": [
      "Bob\n",
      "\n",
      "Polly\n",
      "\n",
      "Sam\n",
      "\n",
      "Danielle\n",
      "\n",
      "Jacob\n",
      "\n"
     ]
    }
   ],
   "source": [
    "with open(\"guests.txt\") as guests:\n",
    "    for line in guests:\n",
    "        print(line)"
   ]
  },
  {
   "cell_type": "code",
   "execution_count": 27,
   "metadata": {},
   "outputs": [
    {
     "name": "stdout",
     "output_type": "stream",
     "text": [
      "Bob is checked in\n",
      "Andrea is not checked in\n"
     ]
    }
   ],
   "source": [
    "guests_to_check = ['Bob', 'Andrea']\n",
    "checked_in = []\n",
    "\n",
    "with open(\"guests.txt\",\"r\") as guests:\n",
    "    for g in guests:\n",
    "        checked_in.append(g.strip())\n",
    "    for check in guests_to_check:\n",
    "        if check in checked_in:\n",
    "            print(\"{} is checked in\".format(check))\n",
    "        else:\n",
    "            print(\"{} is not checked in\".format(check))"
   ]
  },
  {
   "cell_type": "markdown",
   "metadata": {},
   "source": [
    "## Directories"
   ]
  },
  {
   "cell_type": "code",
   "execution_count": 28,
   "metadata": {},
   "outputs": [],
   "source": [
    "import os"
   ]
  },
  {
   "cell_type": "code",
   "execution_count": 30,
   "metadata": {},
   "outputs": [],
   "source": [
    "os.remove(\"novel.txt\")"
   ]
  },
  {
   "cell_type": "code",
   "execution_count": 31,
   "metadata": {},
   "outputs": [
    {
     "ename": "FileNotFoundError",
     "evalue": "[WinError 2] The system cannot find the file specified: 'novel.txt'",
     "output_type": "error",
     "traceback": [
      "\u001b[1;31m---------------------------------------------------------------------------\u001b[0m",
      "\u001b[1;31mFileNotFoundError\u001b[0m                         Traceback (most recent call last)",
      "\u001b[1;32m<ipython-input-31-049858a7426e>\u001b[0m in \u001b[0;36m<module>\u001b[1;34m\u001b[0m\n\u001b[1;32m----> 1\u001b[1;33m \u001b[0mos\u001b[0m\u001b[1;33m.\u001b[0m\u001b[0mremove\u001b[0m\u001b[1;33m(\u001b[0m\u001b[1;34m\"novel.txt\"\u001b[0m\u001b[1;33m)\u001b[0m\u001b[1;33m\u001b[0m\u001b[1;33m\u001b[0m\u001b[0m\n\u001b[0m",
      "\u001b[1;31mFileNotFoundError\u001b[0m: [WinError 2] The system cannot find the file specified: 'novel.txt'"
     ]
    }
   ],
   "source": [
    "os.remove(\"novel.txt\")"
   ]
  },
  {
   "cell_type": "code",
   "execution_count": 33,
   "metadata": {},
   "outputs": [],
   "source": [
    "os.rename(\"first_draft.txt\", \"finished_masterpiece.txt\")"
   ]
  },
  {
   "cell_type": "code",
   "execution_count": 34,
   "metadata": {},
   "outputs": [
    {
     "data": {
      "text/plain": [
       "True"
      ]
     },
     "execution_count": 34,
     "metadata": {},
     "output_type": "execute_result"
    }
   ],
   "source": [
    "os.path.exists(\"finished_masterpiece.txt\")"
   ]
  },
  {
   "cell_type": "code",
   "execution_count": 35,
   "metadata": {},
   "outputs": [
    {
     "data": {
      "text/plain": [
       "False"
      ]
     },
     "execution_count": 35,
     "metadata": {},
     "output_type": "execute_result"
    }
   ],
   "source": [
    "os.path.exists(\"userlist.txt\")"
   ]
  },
  {
   "cell_type": "code",
   "execution_count": 36,
   "metadata": {},
   "outputs": [
    {
     "data": {
      "text/plain": [
       "197"
      ]
     },
     "execution_count": 36,
     "metadata": {},
     "output_type": "execute_result"
    }
   ],
   "source": [
    "os.path.getsize(\"spider.txt\")"
   ]
  },
  {
   "cell_type": "code",
   "execution_count": 37,
   "metadata": {},
   "outputs": [
    {
     "data": {
      "text/plain": [
       "1595129067.3011727"
      ]
     },
     "execution_count": 37,
     "metadata": {},
     "output_type": "execute_result"
    }
   ],
   "source": [
    "os.path.getmtime(\"spider.txt\")"
   ]
  },
  {
   "cell_type": "code",
   "execution_count": 38,
   "metadata": {},
   "outputs": [
    {
     "data": {
      "text/plain": [
       "datetime.datetime(2020, 7, 19, 10, 24, 27, 301173)"
      ]
     },
     "execution_count": 38,
     "metadata": {},
     "output_type": "execute_result"
    }
   ],
   "source": [
    "import datetime\n",
    "timestamp = os.path.getmtime(\"spider.txt\")\n",
    "datetime.datetime.fromtimestamp(timestamp)"
   ]
  },
  {
   "cell_type": "code",
   "execution_count": 41,
   "metadata": {},
   "outputs": [
    {
     "name": "stdout",
     "output_type": "stream",
     "text": [
      "False\n",
      "File not found\n"
     ]
    }
   ],
   "source": [
    "import os\n",
    "file= \"file.dat\"\n",
    "if os.path.isfile(file):\n",
    "    print(os.path.isfile(file))\n",
    "    print(os.path.getsize(file))\n",
    "else:\n",
    "    print(os.path.isfile(file))\n",
    "    print(\"File not found\")"
   ]
  },
  {
   "cell_type": "code",
   "execution_count": 42,
   "metadata": {},
   "outputs": [
    {
     "data": {
      "text/plain": [
       "'C:\\\\Users\\\\NewizZ\\\\Workshop\\\\google-it-automation-with-python\\\\google_it_automation_with_python\\\\02_Python_Interact_with_OS\\\\spider.txt'"
      ]
     },
     "execution_count": 42,
     "metadata": {},
     "output_type": "execute_result"
    }
   ],
   "source": [
    "os.path.abspath(\"spider.txt\")"
   ]
  },
  {
   "cell_type": "code",
   "execution_count": 43,
   "metadata": {},
   "outputs": [
    {
     "name": "stdout",
     "output_type": "stream",
     "text": [
      "C:\\Users\\NewizZ\\Workshop\\google-it-automation-with-python\\google_it_automation_with_python\\02_Python_Interact_with_OS\n"
     ]
    }
   ],
   "source": [
    "print(os.getcwd())"
   ]
  },
  {
   "cell_type": "code",
   "execution_count": 44,
   "metadata": {},
   "outputs": [],
   "source": [
    "os.mkdir(\"new_dir\")"
   ]
  },
  {
   "cell_type": "code",
   "execution_count": 45,
   "metadata": {},
   "outputs": [],
   "source": [
    "os.chdir(\"new_dir\")"
   ]
  },
  {
   "cell_type": "code",
   "execution_count": 46,
   "metadata": {},
   "outputs": [
    {
     "name": "stdout",
     "output_type": "stream",
     "text": [
      "C:\\Users\\NewizZ\\Workshop\\google-it-automation-with-python\\google_it_automation_with_python\\02_Python_Interact_with_OS\\new_dir\n"
     ]
    }
   ],
   "source": [
    "print(os.getcwd())"
   ]
  },
  {
   "cell_type": "code",
   "execution_count": 62,
   "metadata": {},
   "outputs": [],
   "source": [
    "os.chdir(\"C:\\\\Users\\\\NewizZ\\\\Workshop\\\\google-it-automation-with-python\\\\google_it_automation_with_python\\\\02_Python_Interact_with_OS\")"
   ]
  },
  {
   "cell_type": "code",
   "execution_count": 63,
   "metadata": {},
   "outputs": [
    {
     "name": "stdout",
     "output_type": "stream",
     "text": [
      "C:\\Users\\NewizZ\\Workshop\\google-it-automation-with-python\\google_it_automation_with_python\\02_Python_Interact_with_OS\n"
     ]
    }
   ],
   "source": [
    "print(os.getcwd())"
   ]
  },
  {
   "cell_type": "code",
   "execution_count": 47,
   "metadata": {},
   "outputs": [],
   "source": [
    "os.mkdir(\"newer_dir\")"
   ]
  },
  {
   "cell_type": "code",
   "execution_count": 48,
   "metadata": {},
   "outputs": [],
   "source": [
    "os.rmdir(\"newer_dir\")"
   ]
  },
  {
   "cell_type": "code",
   "execution_count": 49,
   "metadata": {},
   "outputs": [
    {
     "data": {
      "text/plain": [
       "['favicon.ico', 'images', 'index.html']"
      ]
     },
     "execution_count": 49,
     "metadata": {},
     "output_type": "execute_result"
    }
   ],
   "source": [
    "os.listdir(\"website\")"
   ]
  },
  {
   "cell_type": "code",
   "execution_count": 50,
   "metadata": {},
   "outputs": [
    {
     "name": "stdout",
     "output_type": "stream",
     "text": [
      "website\\favicon.ico is a file\n",
      "website\\images is a directory\n",
      "website\\index.html is a file\n"
     ]
    }
   ],
   "source": [
    "dir = \"website\"\n",
    "for name in os.listdir(dir):\n",
    "    fullname = os.path.join(dir, name)\n",
    "    if os.path.isdir(fullname):\n",
    "        print(\"{} is a directory\".format(fullname))\n",
    "    else:\n",
    "        print(\"{} is a file\".format(fullname))"
   ]
  },
  {
   "cell_type": "code",
   "execution_count": 55,
   "metadata": {},
   "outputs": [
    {
     "name": "stdout",
     "output_type": "stream",
     "text": [
      "31\n"
     ]
    }
   ],
   "source": [
    "import os\n",
    "def create_python_script(filename):\n",
    "  comments = \"# Start of a new Python program\"\n",
    "  with open(filename, \"w\") as file:\n",
    "    file.write(comments)\n",
    "\n",
    "  filesize = os.path.getsize(filename)\n",
    "  return(filesize)\n",
    "\n",
    "print(create_python_script(\"program.py\"))"
   ]
  },
  {
   "cell_type": "code",
   "execution_count": 64,
   "metadata": {},
   "outputs": [
    {
     "name": "stdout",
     "output_type": "stream",
     "text": [
      "['script.py']\n"
     ]
    }
   ],
   "source": [
    "import os\n",
    "\n",
    "def new_directory(directory, filename):\n",
    "  # Before creating a new directory, check to see if it already exists\n",
    "  if os.path.isdir(directory) == False:\n",
    "    os.mkdir(directory)\n",
    "\n",
    "  # Create the new file inside of the new directory\n",
    "  os.chdir(directory)\n",
    "  with open (filename, \"w\") as file:\n",
    "    pass\n",
    "\n",
    "  # Return the list of files in the new directory\n",
    "  return os.listdir()\n",
    "\n",
    "print(new_directory(\"PythonPrograms\", \"script.py\"))"
   ]
  },
  {
   "cell_type": "code",
   "execution_count": 77,
   "metadata": {},
   "outputs": [
    {
     "name": "stdout",
     "output_type": "stream",
     "text": [
      "2020-07-19\n"
     ]
    }
   ],
   "source": [
    "import os\n",
    "import datetime\n",
    "\n",
    "def file_date(filename):\n",
    "  # Create the file in the current directory\n",
    "  with open(filename, \"w\") as file:\n",
    "    file.write(\"Hello Python!\")\n",
    "  timestamp = os.path.getmtime(filename)\n",
    "  # Convert the timestamp into a readable format, then into a string\n",
    "  time = str(datetime.datetime.fromtimestamp(timestamp))\n",
    "  # Return just the date portion \n",
    "  # Hint: how many characters are in “yyyy-mm-dd”? \n",
    "  return (\"{:.10s}\".format(time))\n",
    "\n",
    "print(file_date(\"newfile.txt\")) \n",
    "# Should be today's date in the format of yyyy-mm-dd"
   ]
  },
  {
   "cell_type": "code",
   "execution_count": 90,
   "metadata": {},
   "outputs": [
    {
     "name": "stdout",
     "output_type": "stream",
     "text": [
      "C:\\Users\\NewizZ\\Workshop\\google-it-automation-with-python\\google_it_automation_with_python\\02_Python_Interact_with_OS\n"
     ]
    }
   ],
   "source": [
    "import os\n",
    "def parent_directory():\n",
    "  # Create a relative path to the parent \n",
    "  # of the current working directory \n",
    "  os.chdir('..')\n",
    "  relative_parent = os.getcwd()\n",
    "\n",
    "  # Return the absolute path of the parent directory\n",
    "  return relative_parent\n",
    "\n",
    "print(parent_directory())"
   ]
  },
  {
   "cell_type": "markdown",
   "metadata": {},
   "source": [
    "## CSV"
   ]
  },
  {
   "cell_type": "code",
   "execution_count": 91,
   "metadata": {},
   "outputs": [
    {
     "name": "stdout",
     "output_type": "stream",
     "text": [
      "Name: Sabrina Green, Phone: 802-867-5309, Role:System Admin\n",
      "Name: Eli Jones, Phone: 684-348-1127, Role:IT Specialist\n",
      "Name: Melody Daniels, Phone: 846-687-7436, Role:Programmer\n",
      "Name: Charlie Rivera, Phone: 698-746-3357, Role:Web Developer\n"
     ]
    }
   ],
   "source": [
    "import csv\n",
    "f = open(\"csv_file.txt\")\n",
    "csv_f = csv.reader(f)\n",
    "for row in csv_f:\n",
    "    name, phone, role = row\n",
    "    print(\"Name: {}, Phone: {}, Role:{}\".format(name, phone, role))"
   ]
  },
  {
   "cell_type": "code",
   "execution_count": 92,
   "metadata": {},
   "outputs": [],
   "source": [
    "f.close()"
   ]
  },
  {
   "cell_type": "code",
   "execution_count": 93,
   "metadata": {},
   "outputs": [],
   "source": [
    "hosts = [[\"workstation.local\",\"192.168.25.46\"], [\"webserver.cloud\", \"10.2.5.6\"]]"
   ]
  },
  {
   "cell_type": "code",
   "execution_count": 94,
   "metadata": {},
   "outputs": [],
   "source": [
    "with open('hosts.csv', 'w') as hosts_csv:\n",
    "    writer = csv.writer(hosts_csv)\n",
    "    writer.writerows(hosts)"
   ]
  },
  {
   "cell_type": "code",
   "execution_count": 95,
   "metadata": {},
   "outputs": [
    {
     "name": "stdout",
     "output_type": "stream",
     "text": [
      "MailTree has 324 users\n",
      "CalDoor has 22 users\n",
      "Chatty Chicken has 4 users\n"
     ]
    }
   ],
   "source": [
    "with open (\"software.csv\") as software:\n",
    "    reader = csv.DictReader(software)\n",
    "    for row in reader:\n",
    "        print(\"{} has {} users\".format(row[\"name\"], row[\"users\"]))"
   ]
  },
  {
   "cell_type": "code",
   "execution_count": 97,
   "metadata": {},
   "outputs": [],
   "source": [
    "users = [{\"name\": \"Sol Mansi\", \"username\": \"solm\", \"department\": \"IT infrastructure\"},\n",
    "{\"name\": \"Lio Nelson\", \"username\": \"lion\", \"department\": \"User Experience Research\"},\n",
    "{\"name\": \"Charlie Grey\", \"username\": \"greyc\", \"department\": \"Development\" }]\n",
    "\n",
    "keys = [\"name\", \"username\", \"department\"]\n",
    "\n",
    "with open(\"by_department.csv\", \"w\") as by_department:\n",
    "    writer = csv.DictWriter(by_department, fieldnames=keys)\n",
    "    writer.writeheader()\n",
    "    writer.writerows(users)"
   ]
  },
  {
   "cell_type": "code",
   "execution_count": 98,
   "metadata": {},
   "outputs": [],
   "source": [
    "# os.remove(\"by_department.csv\")"
   ]
  },
  {
   "cell_type": "code",
   "execution_count": 99,
   "metadata": {},
   "outputs": [
    {
     "name": "stdout",
     "output_type": "stream",
     "text": [
      "a pink carnation is annual\n",
      "a yellow daffodil is perennial\n",
      "a blue iris is perennial\n",
      "a red poinsettia is perennial\n",
      "a yellow sunflower is annual\n",
      "\n"
     ]
    }
   ],
   "source": [
    "import os\n",
    "import csv\n",
    "\n",
    "# Create a file with data in it\n",
    "def create_file(filename):\n",
    "  with open(filename, \"w\") as file:\n",
    "    file.write(\"name,color,type\\n\")\n",
    "    file.write(\"carnation,pink,annual\\n\")\n",
    "    file.write(\"daffodil,yellow,perennial\\n\")\n",
    "    file.write(\"iris,blue,perennial\\n\")\n",
    "    file.write(\"poinsettia,red,perennial\\n\")\n",
    "    file.write(\"sunflower,yellow,annual\\n\")\n",
    "\n",
    "# Read the file contents and format the information about each row\n",
    "def contents_of_file(filename):\n",
    "  return_string = \"\"\n",
    "\n",
    "  # Call the function to create the file \n",
    "  create_file(filename)\n",
    "\n",
    "  # Open the file\n",
    "  with open (filename) as file:\n",
    "    # Read the rows of the file into a dictionary\n",
    "    reader = csv.DictReader(file)\n",
    "    # Process each item of the dictionary\n",
    "    for row in reader:\n",
    "      return_string += \"a {} {} is {}\\n\".format(row[\"color\"], row[\"name\"], row[\"type\"])\n",
    "  return return_string\n",
    "\n",
    "#Call the function\n",
    "print(contents_of_file(\"flowers.csv\"))"
   ]
  },
  {
   "cell_type": "code",
   "execution_count": 100,
   "metadata": {},
   "outputs": [
    {
     "name": "stdout",
     "output_type": "stream",
     "text": [
      "a pink carnation is annual\n",
      "a yellow daffodil is perennial\n",
      "a blue iris is perennial\n",
      "a red poinsettia is perennial\n",
      "a yellow sunflower is annual\n",
      "\n"
     ]
    }
   ],
   "source": [
    "import os\n",
    "import csv\n",
    "\n",
    "# Create a file with data in it\n",
    "def create_file(filename):\n",
    "  with open(filename, \"w\") as file:\n",
    "    file.write(\"name,color,type\\n\")\n",
    "    file.write(\"carnation,pink,annual\\n\")\n",
    "    file.write(\"daffodil,yellow,perennial\\n\")\n",
    "    file.write(\"iris,blue,perennial\\n\")\n",
    "    file.write(\"poinsettia,red,perennial\\n\")\n",
    "    file.write(\"sunflower,yellow,annual\\n\")\n",
    "\n",
    "# Read the file contents and format the information about each row\n",
    "def contents_of_file(filename):\n",
    "  return_string = \"\"\n",
    "\n",
    "  # Call the function to create the file \n",
    "  create_file(filename)\n",
    "\n",
    "  # Open the file\n",
    "  f = open(filename)\n",
    "  # Read the rows of the file\n",
    "  rows = csv.reader(f)\n",
    "  next(rows, None)\n",
    "  # Process each row\n",
    "  for row in rows:\n",
    "    name, color, ftype = row\n",
    "    # Format the return string for data rows only\n",
    "\n",
    "    return_string += \"a {} {} is {}\\n\".format(color, name, ftype)\n",
    "  return return_string\n",
    "\n",
    "#Call the function\n",
    "print(contents_of_file(\"flowers.csv\"))"
   ]
  },
  {
   "cell_type": "code",
   "execution_count": null,
   "metadata": {},
   "outputs": [],
   "source": []
  }
 ],
 "metadata": {
  "kernelspec": {
   "display_name": "Python 3",
   "language": "python",
   "name": "python3"
  },
  "language_info": {
   "codemirror_mode": {
    "name": "ipython",
    "version": 3
   },
   "file_extension": ".py",
   "mimetype": "text/x-python",
   "name": "python",
   "nbconvert_exporter": "python",
   "pygments_lexer": "ipython3",
   "version": "3.8.1"
  }
 },
 "nbformat": 4,
 "nbformat_minor": 4
}
