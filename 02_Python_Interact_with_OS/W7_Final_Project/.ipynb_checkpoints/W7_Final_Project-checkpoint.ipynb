{
 "cells": [
  {
   "cell_type": "markdown",
   "metadata": {},
   "source": [
    "## Log Analysis Using Regular Expressions"
   ]
  },
  {
   "cell_type": "markdown",
   "metadata": {},
   "source": [
    "### Exercise - 1"
   ]
  },
  {
   "cell_type": "code",
   "execution_count": 38,
   "metadata": {},
   "outputs": [
    {
     "data": {
      "text/plain": [
       "<_sre.SRE_Match object; span=(29, 57), match='ticky: INFO: Created ticket '>"
      ]
     },
     "execution_count": 38,
     "metadata": {},
     "output_type": "execute_result"
    }
   ],
   "source": [
    "import re\n",
    "line = \"May 27 11:45:40 ubuntu.local ticky: INFO: Created ticket [#1234] (username)\"\n",
    "re.search(r\"ticky: INFO: ([\\w ]*) \", line)"
   ]
  },
  {
   "cell_type": "code",
   "execution_count": 39,
   "metadata": {},
   "outputs": [
    {
     "data": {
      "text/plain": [
       "'ticky: INFO: Created ticket '"
      ]
     },
     "execution_count": 39,
     "metadata": {},
     "output_type": "execute_result"
    }
   ],
   "source": [
    "re.search(r\"ticky: INFO: ([\\w ]*) \", line)[0]"
   ]
  },
  {
   "cell_type": "code",
   "execution_count": 40,
   "metadata": {},
   "outputs": [
    {
     "data": {
      "text/plain": [
       "'Created ticket'"
      ]
     },
     "execution_count": 40,
     "metadata": {},
     "output_type": "execute_result"
    }
   ],
   "source": [
    "re.search(r\"ticky: INFO: ([\\w ]*) \", line)[1]"
   ]
  },
  {
   "cell_type": "code",
   "execution_count": 41,
   "metadata": {},
   "outputs": [
    {
     "data": {
      "text/plain": [
       "<_sre.SRE_Match object; span=(29, 65), match='ticky: ERROR: Error creating ticket '>"
      ]
     },
     "execution_count": 41,
     "metadata": {},
     "output_type": "execute_result"
    }
   ],
   "source": [
    "line = \"May 27 11:45:40 ubuntu.local ticky: ERROR: Error creating ticket [#1234] (username)\"\n",
    "re.search(r\"ticky: ERROR: ([\\w ]*) \", line)"
   ]
  },
  {
   "cell_type": "code",
   "execution_count": 42,
   "metadata": {},
   "outputs": [
    {
     "data": {
      "text/plain": [
       "'Error creating ticket'"
      ]
     },
     "execution_count": 42,
     "metadata": {},
     "output_type": "execute_result"
    }
   ],
   "source": [
    "re.search(r\"ticky: ERROR: ([\\w ]*) \", line)[1]"
   ]
  },
  {
   "cell_type": "code",
   "execution_count": 43,
   "metadata": {},
   "outputs": [
    {
     "data": {
      "text/plain": [
       "'ticky: ERROR: Error creating ticket '"
      ]
     },
     "execution_count": 43,
     "metadata": {},
     "output_type": "execute_result"
    }
   ],
   "source": [
    "re.search(r\"ticky: ERROR: ([\\w ]*) \", line)[0]"
   ]
  },
  {
   "cell_type": "markdown",
   "metadata": {},
   "source": [
    "### Exercise - 2"
   ]
  },
  {
   "cell_type": "code",
   "execution_count": 6,
   "metadata": {},
   "outputs": [
    {
     "data": {
      "text/plain": [
       "[('apples', 5), ('bananas', 7), ('oranges', 3), ('pears', 2)]"
      ]
     },
     "execution_count": 6,
     "metadata": {},
     "output_type": "execute_result"
    }
   ],
   "source": [
    "fruit = {\"oranges\": 3, \"apples\": 5, \"bananas\": 7, \"pears\": 2}\n",
    "sorted(fruit.items())"
   ]
  },
  {
   "cell_type": "code",
   "execution_count": 7,
   "metadata": {},
   "outputs": [
    {
     "data": {
      "text/plain": [
       "[('apples', 5), ('bananas', 7), ('oranges', 3), ('pears', 2)]"
      ]
     },
     "execution_count": 7,
     "metadata": {},
     "output_type": "execute_result"
    }
   ],
   "source": [
    "import operator\n",
    "sorted(fruit.items(), key=operator.itemgetter(0))"
   ]
  },
  {
   "cell_type": "code",
   "execution_count": 8,
   "metadata": {},
   "outputs": [
    {
     "data": {
      "text/plain": [
       "[('pears', 2), ('oranges', 3), ('apples', 5), ('bananas', 7)]"
      ]
     },
     "execution_count": 8,
     "metadata": {},
     "output_type": "execute_result"
    }
   ],
   "source": [
    "sorted(fruit.items(), key=operator.itemgetter(1))"
   ]
  },
  {
   "cell_type": "code",
   "execution_count": 9,
   "metadata": {},
   "outputs": [
    {
     "data": {
      "text/plain": [
       "[('bananas', 7), ('apples', 5), ('oranges', 3), ('pears', 2)]"
      ]
     },
     "execution_count": 9,
     "metadata": {},
     "output_type": "execute_result"
    }
   ],
   "source": [
    "sorted(fruit.items(), key = operator.itemgetter(1), reverse=True)"
   ]
  },
  {
   "cell_type": "markdown",
   "metadata": {},
   "source": [
    "### Exercise - 3"
   ]
  },
  {
   "cell_type": "code",
   "execution_count": 10,
   "metadata": {},
   "outputs": [],
   "source": [
    "# csv_to_html.py"
   ]
  },
  {
   "cell_type": "markdown",
   "metadata": {},
   "source": [
    "### Generate reports"
   ]
  },
  {
   "cell_type": "code",
   "execution_count": 11,
   "metadata": {},
   "outputs": [],
   "source": [
    "# ticky_check.py"
   ]
  },
  {
   "cell_type": "code",
   "execution_count": 55,
   "metadata": {},
   "outputs": [
    {
     "name": "stdout",
     "output_type": "stream",
     "text": [
      "Jan 31 00:09:39 ubuntu.local ticky: INFO Created ticket [#4217] (mdouglas)\n",
      "Jan 31 00:16:25 ubuntu.local ticky: INFO Closed ticket [#1754] (noel)\n",
      "Jan 31 00:21:30 ubuntu.local ticky: ERROR The ticket was modified while updating (breee)\n",
      "Jan 31 00:44:34 ubuntu.local ticky: ERROR Permission denied while closing ticket (ac)\n",
      "Jan 31 01:00:50 ubuntu.local ticky: INFO Commented on ticket [#4709] (blossom)\n",
      "Jan 31 01:29:16 ubuntu.local ticky: INFO Commented on ticket [#6518] (rr.robinson)\n",
      "Jan 31 01:33:12 ubuntu.local ticky: ERROR Tried to add information to closed ticket (mcintosh)\n",
      "Jan 31 01:43:10 ubuntu.local ticky: ERROR Tried to add information to closed ticket (jackowens)\n",
      "Jan 31 01:49:20 ubuntu.local ticky: ERROR Tried to add information to closed ticket (mdouglas)\n",
      "Jan 31 02:30:04 ubuntu.local ticky: ERROR Timeout while retrieving information (oren)\n"
     ]
    }
   ],
   "source": [
    "#!/usr/bin/env python3\n",
    "import sys\n",
    "import subprocess\n",
    "import re\n",
    "\n",
    "per_user = {}\n",
    "error = {}\n",
    "# f = open(sys.argv[1], \"r\")\n",
    "f = open(\"syslog.log\", \"r\")\n",
    "for line in f.readlines():\n",
    "    print (line.strip())\n",
    "    \n",
    "    error_result = re.search(r\"ticky: ERROR ([\\w ]*) \", line.strip())\n",
    "    if error_result is None:\n",
    "        continue\n",
    "    error_name = error_result[1]\n",
    "    error[error_name] = error.get(error_name, 0) + 1\n",
    "    \n",
    "    user_result = \n",
    "f.close()"
   ]
  },
  {
   "cell_type": "code",
   "execution_count": 56,
   "metadata": {},
   "outputs": [
    {
     "data": {
      "text/plain": [
       "{'The ticket was modified while updating': 1,\n",
       " 'Permission denied while closing ticket': 1,\n",
       " 'Tried to add information to closed ticket': 3,\n",
       " 'Timeout while retrieving information': 1}"
      ]
     },
     "execution_count": 56,
     "metadata": {},
     "output_type": "execute_result"
    }
   ],
   "source": [
    "error"
   ]
  },
  {
   "cell_type": "code",
   "execution_count": 119,
   "metadata": {},
   "outputs": [
    {
     "name": "stdout",
     "output_type": "stream",
     "text": [
      "Jan 31 00:09:39 ubuntu.local ticky: INFO Created ticket [#4217] (mdouglas)\n",
      "Jan 31 00:16:25 ubuntu.local ticky: INFO Closed ticket [#1754] (noel)\n",
      "Jan 31 00:21:30 ubuntu.local ticky: ERROR The ticket was modified while updating (breee)\n",
      "Jan 31 00:44:34 ubuntu.local ticky: ERROR Permission denied while closing ticket (ac)\n",
      "Jan 31 01:00:50 ubuntu.local ticky: INFO Commented on ticket [#4709] (blossom)\n",
      "Jan 31 01:29:16 ubuntu.local ticky: INFO Commented on ticket [#6518] (rr.robinson)\n",
      "Jan 31 01:33:12 ubuntu.local ticky: ERROR Tried to add information to closed ticket (mcintosh)\n",
      "Jan 31 01:43:10 ubuntu.local ticky: ERROR Tried to add information to closed ticket (jackowens)\n",
      "Jan 31 01:49:20 ubuntu.local ticky: ERROR Tried to add information to closed ticket (mdouglas)\n",
      "Jan 31 02:30:04 ubuntu.local ticky: ERROR Timeout while retrieving information (oren)\n"
     ]
    }
   ],
   "source": [
    "#!/usr/bin/env python3\n",
    "import sys\n",
    "import subprocess\n",
    "import re\n",
    "\n",
    "per_user = {}\n",
    "error = {}\n",
    "# f = open(sys.argv[1], \"r\")\n",
    "f = open(\"syslog.log\", \"r\")\n",
    "for line in f.readlines():\n",
    "    print (line.strip())\n",
    "    \n",
    "    result = re.search(r\"ticky: (ERROR|INFO) ([\\w ]*)[\\[#0-9\\]]* \\(([\\w.]*)\\)\", line.strip())\n",
    "    if result is None:\n",
    "        continue\n",
    "    if result[1] == 'ERROR':\n",
    "        error_name = result[2]\n",
    "        error[error_name] = error.get(error_name, 0) + 1\n",
    "    \n",
    "    \n",
    "    \n",
    "f.close()"
   ]
  },
  {
   "cell_type": "code",
   "execution_count": 120,
   "metadata": {},
   "outputs": [
    {
     "data": {
      "text/plain": [
       "'ticky: ERROR Timeout while retrieving information (oren)'"
      ]
     },
     "execution_count": 120,
     "metadata": {},
     "output_type": "execute_result"
    }
   ],
   "source": [
    "result[0]"
   ]
  },
  {
   "cell_type": "code",
   "execution_count": 121,
   "metadata": {},
   "outputs": [
    {
     "data": {
      "text/plain": [
       "'ERROR'"
      ]
     },
     "execution_count": 121,
     "metadata": {},
     "output_type": "execute_result"
    }
   ],
   "source": [
    "result[1]"
   ]
  },
  {
   "cell_type": "code",
   "execution_count": 122,
   "metadata": {},
   "outputs": [
    {
     "data": {
      "text/plain": [
       "'Timeout while retrieving information'"
      ]
     },
     "execution_count": 122,
     "metadata": {},
     "output_type": "execute_result"
    }
   ],
   "source": [
    "result[2]"
   ]
  },
  {
   "cell_type": "code",
   "execution_count": 123,
   "metadata": {},
   "outputs": [
    {
     "data": {
      "text/plain": [
       "'oren'"
      ]
     },
     "execution_count": 123,
     "metadata": {},
     "output_type": "execute_result"
    }
   ],
   "source": [
    "result[3]"
   ]
  },
  {
   "cell_type": "code",
   "execution_count": 99,
   "metadata": {},
   "outputs": [
    {
     "data": {
      "text/plain": [
       "{'The ticket was modified while updating': 1,\n",
       " 'Permission denied while closing ticket': 1,\n",
       " 'Tried to add information to closed ticket': 3,\n",
       " 'Timeout while retrieving information': 1}"
      ]
     },
     "execution_count": 99,
     "metadata": {},
     "output_type": "execute_result"
    }
   ],
   "source": [
    "error"
   ]
  },
  {
   "cell_type": "code",
   "execution_count": 109,
   "metadata": {},
   "outputs": [
    {
     "name": "stdout",
     "output_type": "stream",
     "text": [
      "Jan 31 00:09:39 ubuntu.local ticky: INFO Created ticket [#4217] (mdouglas)\n",
      "ticky: INFO Created ticket [#4217] (mdouglas)\n",
      "Jan 31 00:16:25 ubuntu.local ticky: INFO Closed ticket [#1754] (noel)\n",
      "ticky: INFO Closed ticket [#1754] (noel)\n",
      "Jan 31 00:21:30 ubuntu.local ticky: ERROR The ticket was modified while updating (breee)\n",
      "ticky: ERROR The ticket was modified while updating (breee)\n",
      "Jan 31 00:44:34 ubuntu.local ticky: ERROR Permission denied while closing ticket (ac)\n",
      "ticky: ERROR Permission denied while closing ticket (ac)\n",
      "Jan 31 01:00:50 ubuntu.local ticky: INFO Commented on ticket [#4709] (blossom)\n",
      "ticky: INFO Commented on ticket [#4709] (blossom)\n",
      "Jan 31 01:29:16 ubuntu.local ticky: INFO Commented on ticket [#6518] (rr.robinson)\n",
      "ticky: INFO Commented on ticket [#6518] (rr.robinson)\n",
      "Jan 31 01:33:12 ubuntu.local ticky: ERROR Tried to add information to closed ticket (mcintosh)\n",
      "ticky: ERROR Tried to add information to closed ticket (mcintosh)\n",
      "Jan 31 01:43:10 ubuntu.local ticky: ERROR Tried to add information to closed ticket (jackowens)\n",
      "ticky: ERROR Tried to add information to closed ticket (jackowens)\n",
      "Jan 31 01:49:20 ubuntu.local ticky: ERROR Tried to add information to closed ticket (mdouglas)\n",
      "ticky: ERROR Tried to add information to closed ticket (mdouglas)\n",
      "Jan 31 02:30:04 ubuntu.local ticky: ERROR Timeout while retrieving information (oren)\n",
      "ticky: ERROR Timeout while retrieving information (oren)\n"
     ]
    }
   ],
   "source": [
    "f = open(\"syslog.log\", \"r\")\n",
    "for line in f.readlines():\n",
    "    print (line.strip())\n",
    "    \n",
    "    result = re.search(r\"ticky: (ERROR|INFO) ([\\w ]*)[\\[#0-9\\]]* \\(([\\w.]*)\\)\", line.strip())\n",
    "    print(result[0])"
   ]
  },
  {
   "cell_type": "code",
   "execution_count": 110,
   "metadata": {},
   "outputs": [
    {
     "data": {
      "text/plain": [
       "'ticky: ERROR Timeout while retrieving information (oren)'"
      ]
     },
     "execution_count": 110,
     "metadata": {},
     "output_type": "execute_result"
    }
   ],
   "source": [
    "result[0]"
   ]
  },
  {
   "cell_type": "code",
   "execution_count": 111,
   "metadata": {},
   "outputs": [
    {
     "data": {
      "text/plain": [
       "'ERROR'"
      ]
     },
     "execution_count": 111,
     "metadata": {},
     "output_type": "execute_result"
    }
   ],
   "source": [
    "result[1]"
   ]
  },
  {
   "cell_type": "code",
   "execution_count": 112,
   "metadata": {},
   "outputs": [
    {
     "data": {
      "text/plain": [
       "'Timeout while retrieving information'"
      ]
     },
     "execution_count": 112,
     "metadata": {},
     "output_type": "execute_result"
    }
   ],
   "source": [
    "result[2]"
   ]
  },
  {
   "cell_type": "code",
   "execution_count": 113,
   "metadata": {},
   "outputs": [
    {
     "data": {
      "text/plain": [
       "'oren'"
      ]
     },
     "execution_count": 113,
     "metadata": {},
     "output_type": "execute_result"
    }
   ],
   "source": [
    "result[3]"
   ]
  },
  {
   "cell_type": "code",
   "execution_count": 7,
   "metadata": {},
   "outputs": [
    {
     "name": "stdout",
     "output_type": "stream",
     "text": [
      "Jan 31 00:09:39 ubuntu.local ticky: INFO Created ticket [#4217] (mdouglas)\n",
      "Jan 31 00:16:25 ubuntu.local ticky: INFO Closed ticket [#1754] (noel)\n",
      "Jan 31 00:21:30 ubuntu.local ticky: ERROR The ticket was modified while updating (breee)\n",
      "Jan 31 00:44:34 ubuntu.local ticky: ERROR Permission denied while closing ticket (ac)\n",
      "Jan 31 01:00:50 ubuntu.local ticky: INFO Commented on ticket [#4709] (blossom)\n",
      "Jan 31 01:29:16 ubuntu.local ticky: INFO Commented on ticket [#6518] (rr.robinson)\n",
      "Jan 31 01:33:12 ubuntu.local ticky: ERROR Tried to add information to closed ticket (mcintosh)\n",
      "Jan 31 01:43:10 ubuntu.local ticky: ERROR Tried to add information to closed ticket (jackowens)\n",
      "Jan 31 01:49:20 ubuntu.local ticky: ERROR Tried to add information to closed ticket (mdouglas)\n",
      "Jan 31 02:30:04 ubuntu.local ticky: ERROR Timeout while retrieving information (oren)\n",
      "[('Tried to add information to closed ticket', 3), ('The ticket was modified while updating', 1), ('Permission denied while closing ticket', 1), ('Timeout while retrieving information', 1)]\n"
     ]
    }
   ],
   "source": [
    "#!/usr/bin/env python3\n",
    "import sys\n",
    "import subprocess\n",
    "import re\n",
    "import operator\n",
    "\n",
    "per_user = {}\n",
    "error = {}\n",
    "# f = open(sys.argv[1], \"r\")\n",
    "f = open(\"syslog.log\", \"r\")\n",
    "for line in f.readlines():\n",
    "    print (line.strip())\n",
    "    \n",
    "    result = re.search(r\"ticky: (ERROR|INFO) ([\\w ]*)[\\[#0-9\\]]* \\(([\\w.]*)\\)\", line.strip())\n",
    "    if result is None:\n",
    "        continue\n",
    "    if result[1] == 'ERROR':\n",
    "        error_name = result[2]\n",
    "        error[error_name] = error.get(error_name, 0) + 1\n",
    "    \n",
    "        \n",
    "print(sorted(error.items(), key=operator.itemgetter(1), reverse=True))\n",
    "    \n",
    "    \n",
    "f.close()"
   ]
  },
  {
   "cell_type": "code",
   "execution_count": 132,
   "metadata": {},
   "outputs": [
    {
     "name": "stdout",
     "output_type": "stream",
     "text": [
      "Jan 31 00:09:39 ubuntu.local ticky: INFO Created ticket [#4217] (mdouglas)\n"
     ]
    },
    {
     "ename": "TypeError",
     "evalue": "'int' object is not subscriptable",
     "output_type": "error",
     "traceback": [
      "\u001b[1;31m---------------------------------------------------------------------------\u001b[0m",
      "\u001b[1;31mTypeError\u001b[0m                                 Traceback (most recent call last)",
      "\u001b[1;32m<ipython-input-132-d7ab7120e424>\u001b[0m in \u001b[0;36m<module>\u001b[1;34m\u001b[0m\n\u001b[0;32m     21\u001b[0m         \u001b[0mper_user\u001b[0m\u001b[1;33m[\u001b[0m\u001b[0muser_name\u001b[0m\u001b[1;33m]\u001b[0m \u001b[1;33m=\u001b[0m \u001b[0mper_user\u001b[0m\u001b[1;33m.\u001b[0m\u001b[0mget\u001b[0m\u001b[1;33m(\u001b[0m\u001b[0muser_name\u001b[0m\u001b[1;33m,\u001b[0m \u001b[1;36m0\u001b[0m\u001b[1;33m)\u001b[0m\u001b[1;33m[\u001b[0m\u001b[1;36m0\u001b[0m\u001b[1;33m]\u001b[0m \u001b[1;33m+\u001b[0m \u001b[1;36m1\u001b[0m\u001b[1;33m\u001b[0m\u001b[1;33m\u001b[0m\u001b[0m\n\u001b[0;32m     22\u001b[0m     \u001b[1;32mif\u001b[0m \u001b[0mresult\u001b[0m\u001b[1;33m[\u001b[0m\u001b[1;36m1\u001b[0m\u001b[1;33m]\u001b[0m \u001b[1;33m==\u001b[0m \u001b[1;34m'INFO'\u001b[0m\u001b[1;33m:\u001b[0m\u001b[1;33m\u001b[0m\u001b[1;33m\u001b[0m\u001b[0m\n\u001b[1;32m---> 23\u001b[1;33m         \u001b[0mper_user\u001b[0m\u001b[1;33m[\u001b[0m\u001b[0muser_name\u001b[0m\u001b[1;33m]\u001b[0m \u001b[1;33m=\u001b[0m \u001b[0mper_user\u001b[0m\u001b[1;33m.\u001b[0m\u001b[0mget\u001b[0m\u001b[1;33m(\u001b[0m\u001b[0muser_name\u001b[0m\u001b[1;33m,\u001b[0m \u001b[1;36m0\u001b[0m\u001b[1;33m)\u001b[0m\u001b[1;33m[\u001b[0m\u001b[1;36m1\u001b[0m\u001b[1;33m]\u001b[0m \u001b[1;33m+\u001b[0m \u001b[1;36m1\u001b[0m\u001b[1;33m\u001b[0m\u001b[1;33m\u001b[0m\u001b[0m\n\u001b[0m\u001b[0;32m     24\u001b[0m \u001b[1;33m\u001b[0m\u001b[0m\n\u001b[0;32m     25\u001b[0m \u001b[0mprint\u001b[0m\u001b[1;33m(\u001b[0m\u001b[0msorted\u001b[0m\u001b[1;33m(\u001b[0m\u001b[0merror\u001b[0m\u001b[1;33m.\u001b[0m\u001b[0mitems\u001b[0m\u001b[1;33m(\u001b[0m\u001b[1;33m)\u001b[0m\u001b[1;33m,\u001b[0m \u001b[0mkey\u001b[0m\u001b[1;33m=\u001b[0m\u001b[0moperator\u001b[0m\u001b[1;33m.\u001b[0m\u001b[0mitemgetter\u001b[0m\u001b[1;33m(\u001b[0m\u001b[1;36m1\u001b[0m\u001b[1;33m)\u001b[0m\u001b[1;33m,\u001b[0m \u001b[0mreverse\u001b[0m\u001b[1;33m=\u001b[0m\u001b[1;32mTrue\u001b[0m\u001b[1;33m)\u001b[0m\u001b[1;33m)\u001b[0m\u001b[1;33m\u001b[0m\u001b[1;33m\u001b[0m\u001b[0m\n",
      "\u001b[1;31mTypeError\u001b[0m: 'int' object is not subscriptable"
     ]
    }
   ],
   "source": [
    "#!/usr/bin/env python3\n",
    "import sys\n",
    "import subprocess\n",
    "import re\n",
    "import operator\n",
    "\n",
    "per_user = {}\n",
    "error = {}\n",
    "# f = open(sys.argv[1], \"r\")\n",
    "f = open(\"syslog.log\", \"r\")\n",
    "for line in f.readlines():\n",
    "    print (line.strip())\n",
    "    \n",
    "    result = re.search(r\"ticky: (ERROR|INFO) ([\\w ]*)[\\[#0-9\\]]* \\(([\\w.]*)\\)\", line.strip())\n",
    "    user_name = result[3]\n",
    "    if result is None:\n",
    "        continue\n",
    "    if result[1] == 'ERROR':\n",
    "        error_name = result[2]\n",
    "        error[error_name] = error.get(error_name, 0) + 1\n",
    "        per_user[user_name] = per_user.get(user_name, 0)[0] + 1\n",
    "    if result[1] == 'INFO':\n",
    "        per_user[user_name] = per_user.get(user_name, 0)[1] + 1\n",
    "        \n",
    "print(sorted(error.items(), key=operator.itemgetter(1), reverse=True))\n",
    "    \n",
    "    \n",
    "f.close()"
   ]
  },
  {
   "cell_type": "code",
   "execution_count": 127,
   "metadata": {},
   "outputs": [
    {
     "data": {
      "text/plain": [
       "{'The ticket was modified while updating': 1,\n",
       " 'Permission denied while closing ticket': 1,\n",
       " 'Tried to add information to closed ticket': 3,\n",
       " 'Timeout while retrieving information': 1}"
      ]
     },
     "execution_count": 127,
     "metadata": {},
     "output_type": "execute_result"
    }
   ],
   "source": [
    "error"
   ]
  },
  {
   "cell_type": "code",
   "execution_count": 128,
   "metadata": {},
   "outputs": [
    {
     "data": {
      "text/plain": [
       "{'mdouglas': 2,\n",
       " 'noel': 1,\n",
       " 'breee': 1,\n",
       " 'ac': 1,\n",
       " 'blossom': 1,\n",
       " 'rr.robinson': 1,\n",
       " 'mcintosh': 1,\n",
       " 'jackowens': 1,\n",
       " 'oren': 1}"
      ]
     },
     "execution_count": 128,
     "metadata": {},
     "output_type": "execute_result"
    }
   ],
   "source": [
    "per_user"
   ]
  },
  {
   "cell_type": "code",
   "execution_count": 131,
   "metadata": {},
   "outputs": [
    {
     "name": "stdout",
     "output_type": "stream",
     "text": [
      "1\n",
      "2\n",
      "3\n"
     ]
    }
   ],
   "source": []
  },
  {
   "cell_type": "code",
   "execution_count": 1,
   "metadata": {},
   "outputs": [
    {
     "name": "stdout",
     "output_type": "stream",
     "text": [
      "Jan 31 00:09:39 ubuntu.local ticky: INFO Created ticket [#4217] (mdouglas)\n"
     ]
    },
    {
     "ename": "TypeError",
     "evalue": "'int' object is not subscriptable",
     "output_type": "error",
     "traceback": [
      "\u001b[1;31m---------------------------------------------------------------------------\u001b[0m",
      "\u001b[1;31mTypeError\u001b[0m                                 Traceback (most recent call last)",
      "\u001b[1;32m<ipython-input-1-d7ab7120e424>\u001b[0m in \u001b[0;36m<module>\u001b[1;34m\u001b[0m\n\u001b[0;32m     21\u001b[0m         \u001b[0mper_user\u001b[0m\u001b[1;33m[\u001b[0m\u001b[0muser_name\u001b[0m\u001b[1;33m]\u001b[0m \u001b[1;33m=\u001b[0m \u001b[0mper_user\u001b[0m\u001b[1;33m.\u001b[0m\u001b[0mget\u001b[0m\u001b[1;33m(\u001b[0m\u001b[0muser_name\u001b[0m\u001b[1;33m,\u001b[0m \u001b[1;36m0\u001b[0m\u001b[1;33m)\u001b[0m\u001b[1;33m[\u001b[0m\u001b[1;36m0\u001b[0m\u001b[1;33m]\u001b[0m \u001b[1;33m+\u001b[0m \u001b[1;36m1\u001b[0m\u001b[1;33m\u001b[0m\u001b[1;33m\u001b[0m\u001b[0m\n\u001b[0;32m     22\u001b[0m     \u001b[1;32mif\u001b[0m \u001b[0mresult\u001b[0m\u001b[1;33m[\u001b[0m\u001b[1;36m1\u001b[0m\u001b[1;33m]\u001b[0m \u001b[1;33m==\u001b[0m \u001b[1;34m'INFO'\u001b[0m\u001b[1;33m:\u001b[0m\u001b[1;33m\u001b[0m\u001b[1;33m\u001b[0m\u001b[0m\n\u001b[1;32m---> 23\u001b[1;33m         \u001b[0mper_user\u001b[0m\u001b[1;33m[\u001b[0m\u001b[0muser_name\u001b[0m\u001b[1;33m]\u001b[0m \u001b[1;33m=\u001b[0m \u001b[0mper_user\u001b[0m\u001b[1;33m.\u001b[0m\u001b[0mget\u001b[0m\u001b[1;33m(\u001b[0m\u001b[0muser_name\u001b[0m\u001b[1;33m,\u001b[0m \u001b[1;36m0\u001b[0m\u001b[1;33m)\u001b[0m\u001b[1;33m[\u001b[0m\u001b[1;36m1\u001b[0m\u001b[1;33m]\u001b[0m \u001b[1;33m+\u001b[0m \u001b[1;36m1\u001b[0m\u001b[1;33m\u001b[0m\u001b[1;33m\u001b[0m\u001b[0m\n\u001b[0m\u001b[0;32m     24\u001b[0m \u001b[1;33m\u001b[0m\u001b[0m\n\u001b[0;32m     25\u001b[0m \u001b[0mprint\u001b[0m\u001b[1;33m(\u001b[0m\u001b[0msorted\u001b[0m\u001b[1;33m(\u001b[0m\u001b[0merror\u001b[0m\u001b[1;33m.\u001b[0m\u001b[0mitems\u001b[0m\u001b[1;33m(\u001b[0m\u001b[1;33m)\u001b[0m\u001b[1;33m,\u001b[0m \u001b[0mkey\u001b[0m\u001b[1;33m=\u001b[0m\u001b[0moperator\u001b[0m\u001b[1;33m.\u001b[0m\u001b[0mitemgetter\u001b[0m\u001b[1;33m(\u001b[0m\u001b[1;36m1\u001b[0m\u001b[1;33m)\u001b[0m\u001b[1;33m,\u001b[0m \u001b[0mreverse\u001b[0m\u001b[1;33m=\u001b[0m\u001b[1;32mTrue\u001b[0m\u001b[1;33m)\u001b[0m\u001b[1;33m)\u001b[0m\u001b[1;33m\u001b[0m\u001b[1;33m\u001b[0m\u001b[0m\n",
      "\u001b[1;31mTypeError\u001b[0m: 'int' object is not subscriptable"
     ]
    }
   ],
   "source": [
    "#!/usr/bin/env python3\n",
    "import sys\n",
    "import subprocess\n",
    "import re\n",
    "import operator\n",
    "\n",
    "per_user = {}\n",
    "error = {}\n",
    "# f = open(sys.argv[1], \"r\")\n",
    "f = open(\"syslog.log\", \"r\")\n",
    "for line in f.readlines():\n",
    "    print (line.strip())\n",
    "    \n",
    "    result = re.search(r\"ticky: (ERROR|INFO) ([\\w ]*)[\\[#0-9\\]]* \\(([\\w.]*)\\)\", line.strip())\n",
    "    user_name = result[3]\n",
    "    if result is None:\n",
    "        continue\n",
    "    if result[1] == 'ERROR':\n",
    "        error_name = result[2]\n",
    "        error[error_name] = error.get(error_name, 0) + 1\n",
    "        per_user[user_name] = per_user.get(user_name, 0)[0] + 1\n",
    "    if result[1] == 'INFO':\n",
    "        per_user[user_name] = per_user.get(user_name, 0)[1] + 1\n",
    "        \n",
    "print(sorted(error.items(), key=operator.itemgetter(1), reverse=True))\n",
    "    \n",
    "    \n",
    "f.close()"
   ]
  },
  {
   "cell_type": "code",
   "execution_count": 17,
   "metadata": {},
   "outputs": [
    {
     "name": "stdout",
     "output_type": "stream",
     "text": [
      "Jan 31 00:09:39 ubuntu.local ticky: INFO Created ticket [#4217] (mdouglas)\n",
      "Jan 31 00:16:25 ubuntu.local ticky: INFO Closed ticket [#1754] (noel)\n",
      "Jan 31 00:21:30 ubuntu.local ticky: ERROR The ticket was modified while updating (breee)\n",
      "Jan 31 00:44:34 ubuntu.local ticky: ERROR Permission denied while closing ticket (ac)\n",
      "Jan 31 01:00:50 ubuntu.local ticky: INFO Commented on ticket [#4709] (blossom)\n",
      "Jan 31 01:29:16 ubuntu.local ticky: INFO Commented on ticket [#6518] (rr.robinson)\n",
      "Jan 31 01:33:12 ubuntu.local ticky: ERROR Tried to add information to closed ticket (mcintosh)\n",
      "Jan 31 01:43:10 ubuntu.local ticky: ERROR Tried to add information to closed ticket (jackowens)\n",
      "Jan 31 01:49:20 ubuntu.local ticky: ERROR Tried to add information to closed ticket (mdouglas)\n",
      "Jan 31 02:30:04 ubuntu.local ticky: ERROR Timeout while retrieving information (oren)\n",
      "[('Tried to add information to closed ticket', 3), ('The ticket was modified while updating', 1), ('Permission denied while closing ticket', 1), ('Timeout while retrieving information', 1)]\n",
      "[('ac', [0, 1]), ('blossom', [1, 0]), ('breee', [0, 1]), ('jackowens', [0, 1]), ('mcintosh', [0, 1]), ('mdouglas', [1, 1]), ('noel', [1, 0]), ('oren', [0, 1]), ('rr.robinson', [1, 0])]\n"
     ]
    }
   ],
   "source": [
    "#!/usr/bin/env python3\n",
    "import sys\n",
    "import subprocess\n",
    "import re\n",
    "import operator\n",
    "import csv\n",
    "\n",
    "per_user = {}\n",
    "error = {}\n",
    "# f = open(sys.argv[1], \"r\")\n",
    "f = open(\"syslog.log\", \"r\")\n",
    "for line in f.readlines():\n",
    "    print (line.strip())\n",
    "    \n",
    "    result = re.search(r\"ticky: (ERROR|INFO) ([\\w ]*)[\\[#0-9\\]]* \\(([\\w.]*)\\)\", line.strip())\n",
    "    if result is None:\n",
    "        continue\n",
    "    if result[1] == 'ERROR':\n",
    "        error_name = result[2]\n",
    "        error.setdefault(result.group(2),0)\n",
    "        error[result.group(2)] += 1\n",
    "        per_user.setdefault(result.group(3),[0,0])[1]+=1\n",
    "    if result[1] == 'INFO':\n",
    "        per_user.setdefault(result.group(3),[0,0])[0]+=1\n",
    "    \n",
    "f.close()\n",
    "\n",
    "error_sorted = sorted(error.items(), key=operator.itemgetter(1), reverse=True)\n",
    "per_user_sorted = sorted(per_user.items())\n",
    "        \n",
    "print(error_sorted)\n",
    "print(per_user_sorted)\n",
    "    \n",
    "with open('error_message.csv','w') as output:\n",
    "    writer = csv.writer(output)\n",
    "    writer.writerow(['Error','Count'])\n",
    "    writer.writerows(error_sorted)\n",
    "\n",
    "with open('user_statistics.csv','w') as output:\n",
    "    writer = csv.writer(output)\n",
    "    writer.writerow(['Username','INFO','ERROR'])\n",
    "    for item in per_user_sorted:\n",
    "        onerow = [item[0],item[1][0],item[1][1]]\n",
    "        writer.writerow(onerow)"
   ]
  },
  {
   "cell_type": "code",
   "execution_count": 22,
   "metadata": {},
   "outputs": [
    {
     "name": "stdout",
     "output_type": "stream",
     "text": [
      "Jan 31 00:09:39 ubuntu.local ticky: INFO Created ticket [#4217] (mdouglas)\n",
      "2\n",
      "Jan 31 00:16:25 ubuntu.local ticky: INFO Closed ticket [#1754] (noel)\n",
      "2\n",
      "Jan 31 00:21:30 ubuntu.local ticky: ERROR The ticket was modified while updating (breee)\n",
      "1\n",
      "Jan 31 00:44:34 ubuntu.local ticky: ERROR Permission denied while closing ticket (ac)\n",
      "1\n",
      "Jan 31 01:00:50 ubuntu.local ticky: INFO Commented on ticket [#4709] (blossom)\n",
      "2\n",
      "Jan 31 01:29:16 ubuntu.local ticky: INFO Commented on ticket [#6518] (rr.robinson)\n",
      "2\n",
      "Jan 31 01:33:12 ubuntu.local ticky: ERROR Tried to add information to closed ticket (mcintosh)\n",
      "1\n",
      "Jan 31 01:43:10 ubuntu.local ticky: ERROR Tried to add information to closed ticket (jackowens)\n",
      "1\n",
      "Jan 31 01:49:29 ubuntu.local ticky: ERROR Tried to add information to closed ticket (mdouglas)\n",
      "1\n",
      "Jan 31 02:30:04 ubuntu.local ticky: ERROR Timeout while retrieving information (oren)\n",
      "1\n",
      "Jan 31 02:55:31 ubuntu.local ticky: ERROR Ticket doesn't exist (xlg)\n",
      "Jan 31 03:05:35 ubuntu.local ticky: ERROR Timeout while retrieving information (ahmed.miller)\n",
      "1\n",
      "Jan 31 03:08:55 ubuntu.local ticky: ERROR Ticket doesn't exist (blossom)\n",
      "Jan 31 03:39:27 ubuntu.local ticky: ERROR The ticket was modified while updating (bpacheco)\n",
      "1\n",
      "Jan 31 03:47:24 ubuntu.local ticky: ERROR Ticket doesn't exist (enim.non)\n",
      "Jan 31 04:30:04 ubuntu.local ticky: ERROR Permission denied while closing ticket (rr.robinson)\n",
      "1\n",
      "Jan 31 04:31:49 ubuntu.local ticky: ERROR Tried to add information to closed ticket (oren)\n",
      "1\n",
      "Jan 31 04:32:49 ubuntu.local ticky: ERROR Timeout while retrieving information (mcintosh)\n",
      "1\n",
      "Jan 31 04:44:23 ubuntu.local ticky: ERROR Timeout while retrieving information (ahmed.miller)\n",
      "1\n",
      "Jan 31 04:44:46 ubuntu.local ticky: ERROR Connection to DB failed (jackowens)\n",
      "1\n",
      "Jan 31 04:49:28 ubuntu.local ticky: ERROR Permission denied while closing ticket (flavia)\n",
      "1\n",
      "Jan 31 05:12:39 ubuntu.local ticky: ERROR Tried to add information to closed ticket (oren)\n",
      "1\n",
      "Jan 31 05:18:45 ubuntu.local ticky: ERROR Tried to add information to closed ticket (sri)\n",
      "1\n",
      "Jan 31 05:23:14 ubuntu.local ticky: INFO Commented on ticket [#1097] (breee)\n",
      "2\n",
      "Jan 31 05:35:00 ubuntu.local ticky: ERROR Connection to DB failed (nonummy)\n",
      "1\n",
      "Jan 31 05:45:30 ubuntu.local ticky: INFO Created ticket [#7115] (noel)\n",
      "2\n",
      "Jan 31 05:51:30 ubuntu.local ticky: ERROR The ticket was modified while updating (flavia)\n",
      "1\n",
      "Jan 31 05:57:46 ubuntu.local ticky: INFO Commented on ticket [#2253] (nonummy)\n",
      "2\n",
      "Jan 31 06:12:02 ubuntu.local ticky: ERROR Connection to DB failed (oren)\n",
      "1\n",
      "Jan 31 06:26:38 ubuntu.local ticky: ERROR Timeout while retrieving information (xlg)\n",
      "1\n",
      "Jan 31 06:32:26 ubuntu.local ticky: INFO Created ticket [#7298] (ahmed.miller)\n",
      "2\n",
      "Jan 31 06:36:25 ubuntu.local ticky: ERROR Timeout while retrieving information (flavia)\n",
      "1\n",
      "Jan 31 06:57:00 ubuntu.local ticky: ERROR Connection to DB failed (jackowens)\n",
      "1\n",
      "Jan 31 06:59:57 ubuntu.local ticky: INFO Commented on ticket [#7255] (oren)\n",
      "2\n",
      "Jan 31 07:59:56 ubuntu.local ticky: ERROR Ticket doesn't exist (flavia)\n",
      "Jan 31 08:01:40 ubuntu.local ticky: ERROR Tried to add information to closed ticket (jackowens)\n",
      "1\n",
      "Jan 31 08:03:19 ubuntu.local ticky: INFO Closed ticket [#1712] (britanni)\n",
      "2\n",
      "Jan 31 08:22:37 ubuntu.local ticky: INFO Created ticket [#2860] (mcintosh)\n",
      "2\n",
      "Jan 31 08:28:07 ubuntu.local ticky: ERROR Timeout while retrieving information (montanap)\n",
      "1\n",
      "Jan 31 08:49:15 ubuntu.local ticky: ERROR Permission denied while closing ticket (britanni)\n",
      "1\n",
      "Jan 31 08:50:50 ubuntu.local ticky: ERROR Permission denied while closing ticket (montanap)\n",
      "1\n",
      "Jan 31 09:04:27 ubuntu.local ticky: ERROR Tried to add information to closed ticket (noel)\n",
      "1\n",
      "Jan 31 09:15:41 ubuntu.local ticky: ERROR Timeout while retrieving information (oren)\n",
      "1\n",
      "Jan 31 09:18:47 ubuntu.local ticky: INFO Commented on ticket [#8385] (mdouglas)\n",
      "2\n",
      "Jan 31 09:28:18 ubuntu.local ticky: INFO Closed ticket [#2452] (jackowens)\n",
      "2\n",
      "Jan 31 09:41:16 ubuntu.local ticky: ERROR Connection to DB failed (ac)\n",
      "1\n",
      "Jan 31 10:11:35 ubuntu.local ticky: ERROR Timeout while retrieving information (blossom)\n",
      "1\n",
      "Jan 31 10:21:36 ubuntu.local ticky: ERROR Permission denied while closing ticket (montanap)\n",
      "1\n",
      "Jan 31 11:04:02 ubuntu.local ticky: ERROR Tried to add information to closed ticket (breee)\n",
      "1\n",
      "Jan 31 11:19:37 ubuntu.local ticky: ERROR Connection to DB failed (sri)\n",
      "1\n",
      "Jan 31 11:22:06 ubuntu.local ticky: ERROR Timeout while retrieving information (montanap)\n",
      "1\n",
      "Jan 31 11:31:34 ubuntu.local ticky: ERROR Permission denied while closing ticket (ahmed.miller)\n",
      "1\n",
      "Jan 31 11:40:25 ubuntu.local ticky: ERROR Connection to DB failed (mai.hendrix)\n",
      "1\n",
      "Jan 31 11:47:07 ubuntu.local ticky: INFO Commented on ticket [#4562] (ac)\n",
      "2\n",
      "Jan 31 11:58:33 ubuntu.local ticky: ERROR Tried to add information to closed ticket (ahmed.miller)\n",
      "1\n",
      "Jan 31 12:00:17 ubuntu.local ticky: INFO Created ticket [#7897] (kirknixon)\n",
      "2\n",
      "Jan 31 12:02:49 ubuntu.local ticky: ERROR Permission denied while closing ticket (mai.hendrix)\n",
      "1\n",
      "Jan 31 12:20:23 ubuntu.local ticky: ERROR Connection to DB failed (kirknixon)\n",
      "1\n",
      "Jan 31 12:20:40 ubuntu.local ticky: ERROR Ticket doesn't exist (flavia)\n",
      "Jan 31 12:24:32 ubuntu.local ticky: INFO Created ticket [#5784] (sri)\n",
      "2\n",
      "Jan 31 12:50:10 ubuntu.local ticky: ERROR Permission denied while closing ticket (blossom)\n",
      "1\n",
      "Jan 31 12:58:16 ubuntu.local ticky: ERROR Tried to add information to closed ticket (nonummy)\n",
      "1\n",
      "Jan 31 13:08:10 ubuntu.local ticky: INFO Closed ticket [#8685] (rr.robinson)\n",
      "2\n",
      "Jan 31 13:48:45 ubuntu.local ticky: ERROR The ticket was modified while updating (breee)\n",
      "1\n",
      "Jan 31 14:13:00 ubuntu.local ticky: INFO Commented on ticket [#4225] (noel)\n",
      "2\n",
      "Jan 31 14:38:50 ubuntu.local ticky: ERROR The ticket was modified while updating (enim.non)\n",
      "1\n",
      "Jan 31 14:41:18 ubuntu.local ticky: ERROR Timeout while retrieving information (xlg)\n",
      "1\n",
      "Jan 31 14:45:55 ubuntu.local ticky: INFO Closed ticket [#7948] (noel)\n",
      "2\n",
      "Jan 31 14:50:41 ubuntu.local ticky: INFO Commented on ticket [#8628] (noel)\n",
      "2\n",
      "Jan 31 14:56:35 ubuntu.local ticky: ERROR Tried to add information to closed ticket (noel)\n",
      "1\n",
      "Jan 31 15:27:53 ubuntu.local ticky: ERROR Ticket doesn't exist (blossom)\n",
      "Jan 31 15:28:15 ubuntu.local ticky: ERROR Permission denied while closing ticket (enim.non)\n",
      "1\n",
      "Jan 31 15:44:25 ubuntu.local ticky: INFO Closed ticket [#7333] (enim.non)\n",
      "2\n",
      "Jan 31 16:17:20 ubuntu.local ticky: INFO Commented on ticket [#1653] (noel)\n",
      "2\n",
      "Jan 31 16:19:40 ubuntu.local ticky: ERROR The ticket was modified while updating (mdouglas)\n",
      "1\n",
      "Jan 31 16:24:31 ubuntu.local ticky: INFO Created ticket [#5455] (ac)\n",
      "2\n",
      "Jan 31 16:35:46 ubuntu.local ticky: ERROR Timeout while retrieving information (oren)\n",
      "1\n",
      "Jan 31 16:53:54 ubuntu.local ticky: INFO Commented on ticket [#3813] (mcintosh)\n",
      "2\n",
      "Jan 31 16:54:18 ubuntu.local ticky: ERROR Connection to DB failed (bpacheco)\n",
      "1\n",
      "Jan 31 17:15:47 ubuntu.local ticky: ERROR The ticket was modified while updating (mcintosh)\n",
      "1\n",
      "Jan 31 17:29:11 ubuntu.local ticky: ERROR Connection to DB failed (oren)\n",
      "1\n",
      "Jan 31 17:51:52 ubuntu.local ticky: INFO Closed ticket [#8604] (mcintosh)\n",
      "2\n",
      "Jan 31 18:09:17 ubuntu.local ticky: ERROR The ticket was modified while updating (noel)\n",
      "1\n",
      "Jan 31 18:43:01 ubuntu.local ticky: ERROR Ticket doesn't exist (nonummy)\n",
      "Jan 31 19:00:23 ubuntu.local ticky: ERROR Timeout while retrieving information (blossom)\n",
      "1\n",
      "Jan 31 19:20:22 ubuntu.local ticky: ERROR Timeout while retrieving information (mai.hendrix)\n",
      "1\n",
      "Jan 31 19:59:06 ubuntu.local ticky: INFO Created ticket [#6361] (enim.non)\n",
      "2\n",
      "Jan 31 20:02:41 ubuntu.local ticky: ERROR Timeout while retrieving information (xlg)\n",
      "1\n",
      "Jan 31 20:21:55 ubuntu.local ticky: INFO Commented on ticket [#7159] (ahmed.miller)\n",
      "2\n",
      "Jan 31 20:28:26 ubuntu.local ticky: ERROR Connection to DB failed (breee)\n",
      "1\n",
      "Jan 31 20:35:17 ubuntu.local ticky: INFO Created ticket [#7737] (nonummy)\n",
      "2\n",
      "Jan 31 20:48:02 ubuntu.local ticky: ERROR Connection to DB failed (mdouglas)\n",
      "1\n",
      "Jan 31 20:56:58 ubuntu.local ticky: INFO Closed ticket [#4372] (oren)\n",
      "2\n",
      "Jan 31 21:00:23 ubuntu.local ticky: INFO Commented on ticket [#2389] (sri)\n",
      "2\n",
      "Jan 31 21:02:06 ubuntu.local ticky: ERROR Connection to DB failed (breee)\n",
      "1\n",
      "Jan 31 21:20:33 ubuntu.local ticky: INFO Closed ticket [#3297] (kirknixon)\n",
      "2\n",
      "Jan 31 21:29:24 ubuntu.local ticky: ERROR The ticket was modified while updating (blossom)\n",
      "1\n",
      "Jan 31 22:58:55 ubuntu.local ticky: INFO Created ticket [#2461] (jackowens)\n",
      "2\n",
      "Jan 31 23:25:18 ubuntu.local ticky: INFO Closed ticket [#9876] (blossom)\n",
      "2\n",
      "Jan 31 23:35:40 ubuntu.local ticky: INFO Created ticket [#5896] (mcintosh)\n",
      "2\n",
      "[('Timeout while retrieving information', 15), ('Connection to DB failed', 13), ('Tried to add information to closed ticket', 12), ('Permission denied while closing ticket', 10), ('The ticket was modified while updating', 9)]\n",
      "[('ac', [2, 2]), ('ahmed.miller', [2, 4]), ('blossom', [2, 4]), ('bpacheco', [0, 2]), ('breee', [1, 5]), ('britanni', [1, 1]), ('enim.non', [2, 2]), ('flavia', [0, 3]), ('jackowens', [2, 4]), ('kirknixon', [2, 1]), ('mai.hendrix', [0, 3]), ('mcintosh', [4, 3]), ('mdouglas', [2, 3]), ('montanap', [0, 4]), ('noel', [6, 3]), ('nonummy', [2, 2]), ('oren', [2, 7]), ('rr.robinson', [2, 1]), ('sri', [2, 2]), ('xlg', [0, 3])]\n"
     ]
    }
   ],
   "source": [
    "#!/usr/bin/env python3\n",
    "import sys\n",
    "import subprocess\n",
    "import re\n",
    "import operator\n",
    "import csv\n",
    "\n",
    "per_user = {}\n",
    "error = {}\n",
    "# f = open(sys.argv[1], \"r\")\n",
    "f = open(\"syslog.log\", \"r\")\n",
    "for line in f.readlines():\n",
    "    print (line.strip())\n",
    "    \n",
    "    result = re.search(r\"ticky: (ERROR|INFO) ([\\w ]*)[\\[#0-9\\]]* \\(([\\w.]*)\\)\", line.strip())\n",
    "    if result is None:\n",
    "        continue\n",
    "        print (0)\n",
    "    elif result[1] == 'ERROR':\n",
    "        print (1)\n",
    "        error_name = result[2]\n",
    "        error.setdefault(result.group(2),0)\n",
    "        error[result.group(2)] += 1\n",
    "        per_user.setdefault(result.group(3),[0,0])[1]+=1\n",
    "    elif result[1] == 'INFO':\n",
    "        print (2)\n",
    "        per_user.setdefault(result.group(3),[0,0])[0]+=1\n",
    "    \n",
    "f.close()\n",
    "\n",
    "error_sorted = sorted(error.items(), key=operator.itemgetter(1), reverse=True)\n",
    "per_user_sorted = sorted(per_user.items())\n",
    "        \n",
    "print(error_sorted)\n",
    "print(per_user_sorted)\n",
    "    \n",
    "with open('error_message.csv','w') as output:\n",
    "    writer = csv.writer(output)\n",
    "    writer.writerow(['Error','Count'])\n",
    "    writer.writerows(error_sorted)\n",
    "\n",
    "with open('user_statistics.csv','w') as output:\n",
    "    writer = csv.writer(output)\n",
    "    writer.writerow(['Username','INFO','ERROR'])\n",
    "    for item in per_user_sorted:\n",
    "        onerow = [item[0],item[1][0],item[1][1]]\n",
    "        writer.writerow(onerow)"
   ]
  },
  {
   "cell_type": "code",
   "execution_count": 23,
   "metadata": {},
   "outputs": [
    {
     "name": "stdout",
     "output_type": "stream",
     "text": [
      "Jan 31 00:09:39 ubuntu.local ticky: INFO Created ticket [#4217] (mdouglas)\n",
      "2\n",
      "Jan 31 00:16:25 ubuntu.local ticky: INFO Closed ticket [#1754] (noel)\n",
      "2\n",
      "Jan 31 00:21:30 ubuntu.local ticky: ERROR The ticket was modified while updating (breee)\n",
      "Jan 31 00:44:34 ubuntu.local ticky: ERROR Permission denied while closing ticket (ac)\n",
      "Jan 31 01:00:50 ubuntu.local ticky: INFO Commented on ticket [#4709] (blossom)\n",
      "2\n",
      "Jan 31 01:29:16 ubuntu.local ticky: INFO Commented on ticket [#6518] (rr.robinson)\n",
      "2\n",
      "Jan 31 01:33:12 ubuntu.local ticky: ERROR Tried to add information to closed ticket (mcintosh)\n",
      "Jan 31 01:43:10 ubuntu.local ticky: ERROR Tried to add information to closed ticket (jackowens)\n",
      "Jan 31 01:49:29 ubuntu.local ticky: ERROR Tried to add information to closed ticket (mdouglas)\n",
      "Jan 31 02:30:04 ubuntu.local ticky: ERROR Timeout while retrieving information (oren)\n",
      "Jan 31 02:55:31 ubuntu.local ticky: ERROR Ticket doesn't exist (xlg)\n",
      "Jan 31 03:05:35 ubuntu.local ticky: ERROR Timeout while retrieving information (ahmed.miller)\n",
      "Jan 31 03:08:55 ubuntu.local ticky: ERROR Ticket doesn't exist (blossom)\n",
      "Jan 31 03:39:27 ubuntu.local ticky: ERROR The ticket was modified while updating (bpacheco)\n",
      "Jan 31 03:47:24 ubuntu.local ticky: ERROR Ticket doesn't exist (enim.non)\n",
      "Jan 31 04:30:04 ubuntu.local ticky: ERROR Permission denied while closing ticket (rr.robinson)\n",
      "Jan 31 04:31:49 ubuntu.local ticky: ERROR Tried to add information to closed ticket (oren)\n",
      "Jan 31 04:32:49 ubuntu.local ticky: ERROR Timeout while retrieving information (mcintosh)\n",
      "Jan 31 04:44:23 ubuntu.local ticky: ERROR Timeout while retrieving information (ahmed.miller)\n",
      "Jan 31 04:44:46 ubuntu.local ticky: ERROR Connection to DB failed (jackowens)\n",
      "Jan 31 04:49:28 ubuntu.local ticky: ERROR Permission denied while closing ticket (flavia)\n",
      "Jan 31 05:12:39 ubuntu.local ticky: ERROR Tried to add information to closed ticket (oren)\n",
      "Jan 31 05:18:45 ubuntu.local ticky: ERROR Tried to add information to closed ticket (sri)\n",
      "Jan 31 05:23:14 ubuntu.local ticky: INFO Commented on ticket [#1097] (breee)\n",
      "2\n",
      "Jan 31 05:35:00 ubuntu.local ticky: ERROR Connection to DB failed (nonummy)\n",
      "Jan 31 05:45:30 ubuntu.local ticky: INFO Created ticket [#7115] (noel)\n",
      "2\n",
      "Jan 31 05:51:30 ubuntu.local ticky: ERROR The ticket was modified while updating (flavia)\n",
      "Jan 31 05:57:46 ubuntu.local ticky: INFO Commented on ticket [#2253] (nonummy)\n",
      "2\n",
      "Jan 31 06:12:02 ubuntu.local ticky: ERROR Connection to DB failed (oren)\n",
      "Jan 31 06:26:38 ubuntu.local ticky: ERROR Timeout while retrieving information (xlg)\n",
      "Jan 31 06:32:26 ubuntu.local ticky: INFO Created ticket [#7298] (ahmed.miller)\n",
      "2\n",
      "Jan 31 06:36:25 ubuntu.local ticky: ERROR Timeout while retrieving information (flavia)\n",
      "Jan 31 06:57:00 ubuntu.local ticky: ERROR Connection to DB failed (jackowens)\n",
      "Jan 31 06:59:57 ubuntu.local ticky: INFO Commented on ticket [#7255] (oren)\n",
      "2\n",
      "Jan 31 07:59:56 ubuntu.local ticky: ERROR Ticket doesn't exist (flavia)\n",
      "Jan 31 08:01:40 ubuntu.local ticky: ERROR Tried to add information to closed ticket (jackowens)\n",
      "Jan 31 08:03:19 ubuntu.local ticky: INFO Closed ticket [#1712] (britanni)\n",
      "2\n",
      "Jan 31 08:22:37 ubuntu.local ticky: INFO Created ticket [#2860] (mcintosh)\n",
      "2\n",
      "Jan 31 08:28:07 ubuntu.local ticky: ERROR Timeout while retrieving information (montanap)\n",
      "Jan 31 08:49:15 ubuntu.local ticky: ERROR Permission denied while closing ticket (britanni)\n",
      "Jan 31 08:50:50 ubuntu.local ticky: ERROR Permission denied while closing ticket (montanap)\n",
      "Jan 31 09:04:27 ubuntu.local ticky: ERROR Tried to add information to closed ticket (noel)\n",
      "Jan 31 09:15:41 ubuntu.local ticky: ERROR Timeout while retrieving information (oren)\n",
      "Jan 31 09:18:47 ubuntu.local ticky: INFO Commented on ticket [#8385] (mdouglas)\n",
      "2\n",
      "Jan 31 09:28:18 ubuntu.local ticky: INFO Closed ticket [#2452] (jackowens)\n",
      "2\n",
      "Jan 31 09:41:16 ubuntu.local ticky: ERROR Connection to DB failed (ac)\n",
      "Jan 31 10:11:35 ubuntu.local ticky: ERROR Timeout while retrieving information (blossom)\n",
      "Jan 31 10:21:36 ubuntu.local ticky: ERROR Permission denied while closing ticket (montanap)\n",
      "Jan 31 11:04:02 ubuntu.local ticky: ERROR Tried to add information to closed ticket (breee)\n",
      "Jan 31 11:19:37 ubuntu.local ticky: ERROR Connection to DB failed (sri)\n",
      "Jan 31 11:22:06 ubuntu.local ticky: ERROR Timeout while retrieving information (montanap)\n",
      "Jan 31 11:31:34 ubuntu.local ticky: ERROR Permission denied while closing ticket (ahmed.miller)\n",
      "Jan 31 11:40:25 ubuntu.local ticky: ERROR Connection to DB failed (mai.hendrix)\n",
      "Jan 31 11:47:07 ubuntu.local ticky: INFO Commented on ticket [#4562] (ac)\n",
      "2\n",
      "Jan 31 11:58:33 ubuntu.local ticky: ERROR Tried to add information to closed ticket (ahmed.miller)\n",
      "Jan 31 12:00:17 ubuntu.local ticky: INFO Created ticket [#7897] (kirknixon)\n",
      "2\n",
      "Jan 31 12:02:49 ubuntu.local ticky: ERROR Permission denied while closing ticket (mai.hendrix)\n",
      "Jan 31 12:20:23 ubuntu.local ticky: ERROR Connection to DB failed (kirknixon)\n",
      "Jan 31 12:20:40 ubuntu.local ticky: ERROR Ticket doesn't exist (flavia)\n",
      "Jan 31 12:24:32 ubuntu.local ticky: INFO Created ticket [#5784] (sri)\n",
      "2\n",
      "Jan 31 12:50:10 ubuntu.local ticky: ERROR Permission denied while closing ticket (blossom)\n",
      "Jan 31 12:58:16 ubuntu.local ticky: ERROR Tried to add information to closed ticket (nonummy)\n",
      "Jan 31 13:08:10 ubuntu.local ticky: INFO Closed ticket [#8685] (rr.robinson)\n",
      "2\n",
      "Jan 31 13:48:45 ubuntu.local ticky: ERROR The ticket was modified while updating (breee)\n",
      "Jan 31 14:13:00 ubuntu.local ticky: INFO Commented on ticket [#4225] (noel)\n",
      "2\n",
      "Jan 31 14:38:50 ubuntu.local ticky: ERROR The ticket was modified while updating (enim.non)\n",
      "Jan 31 14:41:18 ubuntu.local ticky: ERROR Timeout while retrieving information (xlg)\n",
      "Jan 31 14:45:55 ubuntu.local ticky: INFO Closed ticket [#7948] (noel)\n",
      "2\n",
      "Jan 31 14:50:41 ubuntu.local ticky: INFO Commented on ticket [#8628] (noel)\n",
      "2\n",
      "Jan 31 14:56:35 ubuntu.local ticky: ERROR Tried to add information to closed ticket (noel)\n",
      "Jan 31 15:27:53 ubuntu.local ticky: ERROR Ticket doesn't exist (blossom)\n",
      "Jan 31 15:28:15 ubuntu.local ticky: ERROR Permission denied while closing ticket (enim.non)\n",
      "Jan 31 15:44:25 ubuntu.local ticky: INFO Closed ticket [#7333] (enim.non)\n",
      "2\n",
      "Jan 31 16:17:20 ubuntu.local ticky: INFO Commented on ticket [#1653] (noel)\n",
      "2\n",
      "Jan 31 16:19:40 ubuntu.local ticky: ERROR The ticket was modified while updating (mdouglas)\n",
      "Jan 31 16:24:31 ubuntu.local ticky: INFO Created ticket [#5455] (ac)\n",
      "2\n",
      "Jan 31 16:35:46 ubuntu.local ticky: ERROR Timeout while retrieving information (oren)\n",
      "Jan 31 16:53:54 ubuntu.local ticky: INFO Commented on ticket [#3813] (mcintosh)\n",
      "2\n",
      "Jan 31 16:54:18 ubuntu.local ticky: ERROR Connection to DB failed (bpacheco)\n",
      "Jan 31 17:15:47 ubuntu.local ticky: ERROR The ticket was modified while updating (mcintosh)\n",
      "Jan 31 17:29:11 ubuntu.local ticky: ERROR Connection to DB failed (oren)\n",
      "Jan 31 17:51:52 ubuntu.local ticky: INFO Closed ticket [#8604] (mcintosh)\n",
      "2\n",
      "Jan 31 18:09:17 ubuntu.local ticky: ERROR The ticket was modified while updating (noel)\n",
      "Jan 31 18:43:01 ubuntu.local ticky: ERROR Ticket doesn't exist (nonummy)\n",
      "Jan 31 19:00:23 ubuntu.local ticky: ERROR Timeout while retrieving information (blossom)\n",
      "Jan 31 19:20:22 ubuntu.local ticky: ERROR Timeout while retrieving information (mai.hendrix)\n",
      "Jan 31 19:59:06 ubuntu.local ticky: INFO Created ticket [#6361] (enim.non)\n",
      "2\n",
      "Jan 31 20:02:41 ubuntu.local ticky: ERROR Timeout while retrieving information (xlg)\n",
      "Jan 31 20:21:55 ubuntu.local ticky: INFO Commented on ticket [#7159] (ahmed.miller)\n",
      "2\n",
      "Jan 31 20:28:26 ubuntu.local ticky: ERROR Connection to DB failed (breee)\n",
      "Jan 31 20:35:17 ubuntu.local ticky: INFO Created ticket [#7737] (nonummy)\n",
      "2\n",
      "Jan 31 20:48:02 ubuntu.local ticky: ERROR Connection to DB failed (mdouglas)\n",
      "Jan 31 20:56:58 ubuntu.local ticky: INFO Closed ticket [#4372] (oren)\n",
      "2\n",
      "Jan 31 21:00:23 ubuntu.local ticky: INFO Commented on ticket [#2389] (sri)\n",
      "2\n",
      "Jan 31 21:02:06 ubuntu.local ticky: ERROR Connection to DB failed (breee)\n",
      "Jan 31 21:20:33 ubuntu.local ticky: INFO Closed ticket [#3297] (kirknixon)\n",
      "2\n",
      "Jan 31 21:29:24 ubuntu.local ticky: ERROR The ticket was modified while updating (blossom)\n",
      "Jan 31 22:58:55 ubuntu.local ticky: INFO Created ticket [#2461] (jackowens)\n",
      "2\n",
      "Jan 31 23:25:18 ubuntu.local ticky: INFO Closed ticket [#9876] (blossom)\n",
      "2\n",
      "Jan 31 23:35:40 ubuntu.local ticky: INFO Created ticket [#5896] (mcintosh)\n",
      "2\n",
      "[('Timeout while retrieving information', 15), ('Connection to DB failed', 13), ('Tried to add information to closed ticket', 12), ('Permission denied while closing ticket', 10), ('The ticket was modified while updating', 9)]\n",
      "[('ac', [2, 2]), ('ahmed.miller', [2, 4]), ('blossom', [2, 4]), ('bpacheco', [0, 2]), ('breee', [1, 5]), ('britanni', [1, 1]), ('enim.non', [2, 2]), ('flavia', [0, 3]), ('jackowens', [2, 4]), ('kirknixon', [2, 1]), ('mai.hendrix', [0, 3]), ('mcintosh', [4, 3]), ('mdouglas', [2, 3]), ('montanap', [0, 4]), ('noel', [6, 3]), ('nonummy', [2, 2]), ('oren', [2, 7]), ('rr.robinson', [2, 1]), ('sri', [2, 2]), ('xlg', [0, 3])]\n"
     ]
    }
   ],
   "source": [
    "#!/usr/bin/env python3\n",
    "import sys\n",
    "import subprocess\n",
    "import re\n",
    "import operator\n",
    "import csv\n",
    "\n",
    "per_user = {}\n",
    "error = {}\n",
    "# f = open(sys.argv[1], \"r\")\n",
    "f = open(\"syslog.log\", \"r\")\n",
    "for line in f.readlines():\n",
    "    print (line.strip())\n",
    "    \n",
    "    result = re.search(r\"ticky: (ERROR|INFO) ([\\w ]*)[\\[#0-9\\]]* \\(([\\w.]*)\\)\", line.strip())\n",
    "    if result is None:\n",
    "        continue\n",
    "    elif result.group(1) == 'ERROR':\n",
    "        error_name = result.group(2)\n",
    "        error.setdefault(result.group(2),0)\n",
    "        error[result.group(2)] += 1\n",
    "        per_user.setdefault(result.group(3),[0,0])[1]+=1\n",
    "    elif result.group(1) == 'INFO':\n",
    "        per_user.setdefault(result.group(3),[0,0])[0]+=1\n",
    "    \n",
    "f.close()\n",
    "\n",
    "error_sorted = sorted(error.items(), key=operator.itemgetter(1), reverse=True)\n",
    "per_user_sorted = sorted(per_user.items())\n",
    "        \n",
    "print(error_sorted)\n",
    "print(per_user_sorted)\n",
    "    \n",
    "with open('error_message.csv','w') as output:\n",
    "    writer = csv.writer(output)\n",
    "    writer.writerow(['Error','Count'])\n",
    "    writer.writerows(error_sorted)\n",
    "\n",
    "with open('user_statistics.csv','w') as output:\n",
    "    writer = csv.writer(output)\n",
    "    writer.writerow(['Username','INFO','ERROR'])\n",
    "    for item in per_user_sorted:\n",
    "        onerow = [item[0],item[1][0],item[1][1]]\n",
    "        writer.writerow(onerow)"
   ]
  },
  {
   "cell_type": "code",
   "execution_count": null,
   "metadata": {},
   "outputs": [],
   "source": [
    "# csv_to_html.py\n",
    "#!/usr/bin/env python3\n",
    "import sys\n",
    "import csv\n",
    "import os\n",
    "\n",
    "def process_csv(csv_file):\n",
    "    \"\"\"Turn the contents of the CSV file into a list of lists\"\"\"\n",
    "    print(\"Processing {}\".format(csv_file))\n",
    "    with open(csv_file,\"r\") as datafile:\n",
    "        data = list(csv.reader(datafile))\n",
    "    return data\n",
    "\n",
    "def data_to_html(title, data):\n",
    "    \"\"\"Turns a list of lists into an HTML table\"\"\"\n",
    "\n",
    "    # HTML Headers\n",
    "    html_content = \"\"\"\n",
    "<html>\n",
    "<head>"
   ]
  }
 ],
 "metadata": {
  "kernelspec": {
   "display_name": "Python 3",
   "language": "python",
   "name": "python3"
  },
  "language_info": {
   "codemirror_mode": {
    "name": "ipython",
    "version": 3
   },
   "file_extension": ".py",
   "mimetype": "text/x-python",
   "name": "python",
   "nbconvert_exporter": "python",
   "pygments_lexer": "ipython3",
   "version": "3.8.1"
  }
 },
 "nbformat": 4,
 "nbformat_minor": 4
}
