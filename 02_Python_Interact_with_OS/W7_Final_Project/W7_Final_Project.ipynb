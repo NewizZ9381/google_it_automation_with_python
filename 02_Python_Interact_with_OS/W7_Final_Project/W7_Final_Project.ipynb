{
 "cells": [
  {
   "cell_type": "markdown",
   "metadata": {},
   "source": [
    "## Exercise - 1"
   ]
  },
  {
   "cell_type": "code",
   "execution_count": 38,
   "metadata": {},
   "outputs": [
    {
     "data": {
      "text/plain": [
       "<_sre.SRE_Match object; span=(29, 57), match='ticky: INFO: Created ticket '>"
      ]
     },
     "execution_count": 38,
     "metadata": {},
     "output_type": "execute_result"
    }
   ],
   "source": [
    "import re\n",
    "line = \"May 27 11:45:40 ubuntu.local ticky: INFO: Created ticket [#1234] (username)\"\n",
    "re.search(r\"ticky: INFO: ([\\w ]*) \", line)"
   ]
  },
  {
   "cell_type": "code",
   "execution_count": 39,
   "metadata": {},
   "outputs": [
    {
     "data": {
      "text/plain": [
       "'ticky: INFO: Created ticket '"
      ]
     },
     "execution_count": 39,
     "metadata": {},
     "output_type": "execute_result"
    }
   ],
   "source": [
    "re.search(r\"ticky: INFO: ([\\w ]*) \", line)[0]"
   ]
  },
  {
   "cell_type": "code",
   "execution_count": 40,
   "metadata": {},
   "outputs": [
    {
     "data": {
      "text/plain": [
       "'Created ticket'"
      ]
     },
     "execution_count": 40,
     "metadata": {},
     "output_type": "execute_result"
    }
   ],
   "source": [
    "re.search(r\"ticky: INFO: ([\\w ]*) \", line)[1]"
   ]
  },
  {
   "cell_type": "code",
   "execution_count": 41,
   "metadata": {},
   "outputs": [
    {
     "data": {
      "text/plain": [
       "<_sre.SRE_Match object; span=(29, 65), match='ticky: ERROR: Error creating ticket '>"
      ]
     },
     "execution_count": 41,
     "metadata": {},
     "output_type": "execute_result"
    }
   ],
   "source": [
    "line = \"May 27 11:45:40 ubuntu.local ticky: ERROR: Error creating ticket [#1234] (username)\"\n",
    "re.search(r\"ticky: ERROR: ([\\w ]*) \", line)"
   ]
  },
  {
   "cell_type": "code",
   "execution_count": 42,
   "metadata": {},
   "outputs": [
    {
     "data": {
      "text/plain": [
       "'Error creating ticket'"
      ]
     },
     "execution_count": 42,
     "metadata": {},
     "output_type": "execute_result"
    }
   ],
   "source": [
    "re.search(r\"ticky: ERROR: ([\\w ]*) \", line)[1]"
   ]
  },
  {
   "cell_type": "code",
   "execution_count": 43,
   "metadata": {},
   "outputs": [
    {
     "data": {
      "text/plain": [
       "'ticky: ERROR: Error creating ticket '"
      ]
     },
     "execution_count": 43,
     "metadata": {},
     "output_type": "execute_result"
    }
   ],
   "source": [
    "re.search(r\"ticky: ERROR: ([\\w ]*) \", line)[0]"
   ]
  },
  {
   "cell_type": "markdown",
   "metadata": {},
   "source": [
    "## Exercise - 2"
   ]
  },
  {
   "cell_type": "code",
   "execution_count": 6,
   "metadata": {},
   "outputs": [
    {
     "data": {
      "text/plain": [
       "[('apples', 5), ('bananas', 7), ('oranges', 3), ('pears', 2)]"
      ]
     },
     "execution_count": 6,
     "metadata": {},
     "output_type": "execute_result"
    }
   ],
   "source": [
    "fruit = {\"oranges\": 3, \"apples\": 5, \"bananas\": 7, \"pears\": 2}\n",
    "sorted(fruit.items())"
   ]
  },
  {
   "cell_type": "code",
   "execution_count": 7,
   "metadata": {},
   "outputs": [
    {
     "data": {
      "text/plain": [
       "[('apples', 5), ('bananas', 7), ('oranges', 3), ('pears', 2)]"
      ]
     },
     "execution_count": 7,
     "metadata": {},
     "output_type": "execute_result"
    }
   ],
   "source": [
    "import operator\n",
    "sorted(fruit.items(), key=operator.itemgetter(0))"
   ]
  },
  {
   "cell_type": "code",
   "execution_count": 8,
   "metadata": {},
   "outputs": [
    {
     "data": {
      "text/plain": [
       "[('pears', 2), ('oranges', 3), ('apples', 5), ('bananas', 7)]"
      ]
     },
     "execution_count": 8,
     "metadata": {},
     "output_type": "execute_result"
    }
   ],
   "source": [
    "sorted(fruit.items(), key=operator.itemgetter(1))"
   ]
  },
  {
   "cell_type": "code",
   "execution_count": 9,
   "metadata": {},
   "outputs": [
    {
     "data": {
      "text/plain": [
       "[('bananas', 7), ('apples', 5), ('oranges', 3), ('pears', 2)]"
      ]
     },
     "execution_count": 9,
     "metadata": {},
     "output_type": "execute_result"
    }
   ],
   "source": [
    "sorted(fruit.items(), key = operator.itemgetter(1), reverse=True)"
   ]
  },
  {
   "cell_type": "markdown",
   "metadata": {},
   "source": [
    "## Exercise - 3"
   ]
  },
  {
   "cell_type": "code",
   "execution_count": 10,
   "metadata": {},
   "outputs": [],
   "source": [
    "# csv_to_html.py"
   ]
  },
  {
   "cell_type": "markdown",
   "metadata": {},
   "source": [
    "## Generate reports"
   ]
  },
  {
   "cell_type": "code",
   "execution_count": 11,
   "metadata": {},
   "outputs": [],
   "source": [
    "# ticky_check.py"
   ]
  },
  {
   "cell_type": "code",
   "execution_count": 55,
   "metadata": {},
   "outputs": [
    {
     "name": "stdout",
     "output_type": "stream",
     "text": [
      "Jan 31 00:09:39 ubuntu.local ticky: INFO Created ticket [#4217] (mdouglas)\n",
      "Jan 31 00:16:25 ubuntu.local ticky: INFO Closed ticket [#1754] (noel)\n",
      "Jan 31 00:21:30 ubuntu.local ticky: ERROR The ticket was modified while updating (breee)\n",
      "Jan 31 00:44:34 ubuntu.local ticky: ERROR Permission denied while closing ticket (ac)\n",
      "Jan 31 01:00:50 ubuntu.local ticky: INFO Commented on ticket [#4709] (blossom)\n",
      "Jan 31 01:29:16 ubuntu.local ticky: INFO Commented on ticket [#6518] (rr.robinson)\n",
      "Jan 31 01:33:12 ubuntu.local ticky: ERROR Tried to add information to closed ticket (mcintosh)\n",
      "Jan 31 01:43:10 ubuntu.local ticky: ERROR Tried to add information to closed ticket (jackowens)\n",
      "Jan 31 01:49:20 ubuntu.local ticky: ERROR Tried to add information to closed ticket (mdouglas)\n",
      "Jan 31 02:30:04 ubuntu.local ticky: ERROR Timeout while retrieving information (oren)\n"
     ]
    }
   ],
   "source": [
    "#!/usr/bin/env python3\n",
    "import sys\n",
    "import subprocess\n",
    "import re\n",
    "\n",
    "per_user = {}\n",
    "error = {}\n",
    "# f = open(sys.argv[1], \"r\")\n",
    "f = open(\"syslog.log\", \"r\")\n",
    "for line in f.readlines():\n",
    "    print (line.strip())\n",
    "    \n",
    "    error_result = re.search(r\"ticky: ERROR ([\\w ]*) \", line.strip())\n",
    "    if error_result is None:\n",
    "        continue\n",
    "    error_name = error_result[1]\n",
    "    error[error_name] = error.get(error_name, 0) + 1\n",
    "    \n",
    "    user_result = \n",
    "f.close()"
   ]
  },
  {
   "cell_type": "code",
   "execution_count": 56,
   "metadata": {},
   "outputs": [
    {
     "data": {
      "text/plain": [
       "{'The ticket was modified while updating': 1,\n",
       " 'Permission denied while closing ticket': 1,\n",
       " 'Tried to add information to closed ticket': 3,\n",
       " 'Timeout while retrieving information': 1}"
      ]
     },
     "execution_count": 56,
     "metadata": {},
     "output_type": "execute_result"
    }
   ],
   "source": [
    "error"
   ]
  },
  {
   "cell_type": "code",
   "execution_count": 119,
   "metadata": {},
   "outputs": [
    {
     "name": "stdout",
     "output_type": "stream",
     "text": [
      "Jan 31 00:09:39 ubuntu.local ticky: INFO Created ticket [#4217] (mdouglas)\n",
      "Jan 31 00:16:25 ubuntu.local ticky: INFO Closed ticket [#1754] (noel)\n",
      "Jan 31 00:21:30 ubuntu.local ticky: ERROR The ticket was modified while updating (breee)\n",
      "Jan 31 00:44:34 ubuntu.local ticky: ERROR Permission denied while closing ticket (ac)\n",
      "Jan 31 01:00:50 ubuntu.local ticky: INFO Commented on ticket [#4709] (blossom)\n",
      "Jan 31 01:29:16 ubuntu.local ticky: INFO Commented on ticket [#6518] (rr.robinson)\n",
      "Jan 31 01:33:12 ubuntu.local ticky: ERROR Tried to add information to closed ticket (mcintosh)\n",
      "Jan 31 01:43:10 ubuntu.local ticky: ERROR Tried to add information to closed ticket (jackowens)\n",
      "Jan 31 01:49:20 ubuntu.local ticky: ERROR Tried to add information to closed ticket (mdouglas)\n",
      "Jan 31 02:30:04 ubuntu.local ticky: ERROR Timeout while retrieving information (oren)\n"
     ]
    }
   ],
   "source": [
    "#!/usr/bin/env python3\n",
    "import sys\n",
    "import subprocess\n",
    "import re\n",
    "\n",
    "per_user = {}\n",
    "error = {}\n",
    "# f = open(sys.argv[1], \"r\")\n",
    "f = open(\"syslog.log\", \"r\")\n",
    "for line in f.readlines():\n",
    "    print (line.strip())\n",
    "    \n",
    "    result = re.search(r\"ticky: (ERROR|INFO) ([\\w ]*)[\\[#0-9\\]]* \\(([\\w.]*)\\)\", line.strip())\n",
    "    if result is None:\n",
    "        continue\n",
    "    if result[1] == 'ERROR':\n",
    "        error_name = result[2]\n",
    "        error[error_name] = error.get(error_name, 0) + 1\n",
    "    \n",
    "    \n",
    "    \n",
    "f.close()"
   ]
  },
  {
   "cell_type": "code",
   "execution_count": 120,
   "metadata": {},
   "outputs": [
    {
     "data": {
      "text/plain": [
       "'ticky: ERROR Timeout while retrieving information (oren)'"
      ]
     },
     "execution_count": 120,
     "metadata": {},
     "output_type": "execute_result"
    }
   ],
   "source": [
    "result[0]"
   ]
  },
  {
   "cell_type": "code",
   "execution_count": 121,
   "metadata": {},
   "outputs": [
    {
     "data": {
      "text/plain": [
       "'ERROR'"
      ]
     },
     "execution_count": 121,
     "metadata": {},
     "output_type": "execute_result"
    }
   ],
   "source": [
    "result[1]"
   ]
  },
  {
   "cell_type": "code",
   "execution_count": 122,
   "metadata": {},
   "outputs": [
    {
     "data": {
      "text/plain": [
       "'Timeout while retrieving information'"
      ]
     },
     "execution_count": 122,
     "metadata": {},
     "output_type": "execute_result"
    }
   ],
   "source": [
    "result[2]"
   ]
  },
  {
   "cell_type": "code",
   "execution_count": 123,
   "metadata": {},
   "outputs": [
    {
     "data": {
      "text/plain": [
       "'oren'"
      ]
     },
     "execution_count": 123,
     "metadata": {},
     "output_type": "execute_result"
    }
   ],
   "source": [
    "result[3]"
   ]
  },
  {
   "cell_type": "code",
   "execution_count": 99,
   "metadata": {},
   "outputs": [
    {
     "data": {
      "text/plain": [
       "{'The ticket was modified while updating': 1,\n",
       " 'Permission denied while closing ticket': 1,\n",
       " 'Tried to add information to closed ticket': 3,\n",
       " 'Timeout while retrieving information': 1}"
      ]
     },
     "execution_count": 99,
     "metadata": {},
     "output_type": "execute_result"
    }
   ],
   "source": [
    "error"
   ]
  },
  {
   "cell_type": "code",
   "execution_count": 109,
   "metadata": {},
   "outputs": [
    {
     "name": "stdout",
     "output_type": "stream",
     "text": [
      "Jan 31 00:09:39 ubuntu.local ticky: INFO Created ticket [#4217] (mdouglas)\n",
      "ticky: INFO Created ticket [#4217] (mdouglas)\n",
      "Jan 31 00:16:25 ubuntu.local ticky: INFO Closed ticket [#1754] (noel)\n",
      "ticky: INFO Closed ticket [#1754] (noel)\n",
      "Jan 31 00:21:30 ubuntu.local ticky: ERROR The ticket was modified while updating (breee)\n",
      "ticky: ERROR The ticket was modified while updating (breee)\n",
      "Jan 31 00:44:34 ubuntu.local ticky: ERROR Permission denied while closing ticket (ac)\n",
      "ticky: ERROR Permission denied while closing ticket (ac)\n",
      "Jan 31 01:00:50 ubuntu.local ticky: INFO Commented on ticket [#4709] (blossom)\n",
      "ticky: INFO Commented on ticket [#4709] (blossom)\n",
      "Jan 31 01:29:16 ubuntu.local ticky: INFO Commented on ticket [#6518] (rr.robinson)\n",
      "ticky: INFO Commented on ticket [#6518] (rr.robinson)\n",
      "Jan 31 01:33:12 ubuntu.local ticky: ERROR Tried to add information to closed ticket (mcintosh)\n",
      "ticky: ERROR Tried to add information to closed ticket (mcintosh)\n",
      "Jan 31 01:43:10 ubuntu.local ticky: ERROR Tried to add information to closed ticket (jackowens)\n",
      "ticky: ERROR Tried to add information to closed ticket (jackowens)\n",
      "Jan 31 01:49:20 ubuntu.local ticky: ERROR Tried to add information to closed ticket (mdouglas)\n",
      "ticky: ERROR Tried to add information to closed ticket (mdouglas)\n",
      "Jan 31 02:30:04 ubuntu.local ticky: ERROR Timeout while retrieving information (oren)\n",
      "ticky: ERROR Timeout while retrieving information (oren)\n"
     ]
    }
   ],
   "source": [
    "f = open(\"syslog.log\", \"r\")\n",
    "for line in f.readlines():\n",
    "    print (line.strip())\n",
    "    \n",
    "    result = re.search(r\"ticky: (ERROR|INFO) ([\\w ]*)[\\[#0-9\\]]* \\(([\\w.]*)\\)\", line.strip())\n",
    "    print(result[0])"
   ]
  },
  {
   "cell_type": "code",
   "execution_count": 110,
   "metadata": {},
   "outputs": [
    {
     "data": {
      "text/plain": [
       "'ticky: ERROR Timeout while retrieving information (oren)'"
      ]
     },
     "execution_count": 110,
     "metadata": {},
     "output_type": "execute_result"
    }
   ],
   "source": [
    "result[0]"
   ]
  },
  {
   "cell_type": "code",
   "execution_count": 111,
   "metadata": {},
   "outputs": [
    {
     "data": {
      "text/plain": [
       "'ERROR'"
      ]
     },
     "execution_count": 111,
     "metadata": {},
     "output_type": "execute_result"
    }
   ],
   "source": [
    "result[1]"
   ]
  },
  {
   "cell_type": "code",
   "execution_count": 112,
   "metadata": {},
   "outputs": [
    {
     "data": {
      "text/plain": [
       "'Timeout while retrieving information'"
      ]
     },
     "execution_count": 112,
     "metadata": {},
     "output_type": "execute_result"
    }
   ],
   "source": [
    "result[2]"
   ]
  },
  {
   "cell_type": "code",
   "execution_count": 113,
   "metadata": {},
   "outputs": [
    {
     "data": {
      "text/plain": [
       "'oren'"
      ]
     },
     "execution_count": 113,
     "metadata": {},
     "output_type": "execute_result"
    }
   ],
   "source": [
    "result[3]"
   ]
  },
  {
   "cell_type": "code",
   "execution_count": 124,
   "metadata": {},
   "outputs": [
    {
     "name": "stdout",
     "output_type": "stream",
     "text": [
      "Jan 31 00:09:39 ubuntu.local ticky: INFO Created ticket [#4217] (mdouglas)\n",
      "Jan 31 00:16:25 ubuntu.local ticky: INFO Closed ticket [#1754] (noel)\n",
      "Jan 31 00:21:30 ubuntu.local ticky: ERROR The ticket was modified while updating (breee)\n",
      "Jan 31 00:44:34 ubuntu.local ticky: ERROR Permission denied while closing ticket (ac)\n",
      "Jan 31 01:00:50 ubuntu.local ticky: INFO Commented on ticket [#4709] (blossom)\n",
      "Jan 31 01:29:16 ubuntu.local ticky: INFO Commented on ticket [#6518] (rr.robinson)\n",
      "Jan 31 01:33:12 ubuntu.local ticky: ERROR Tried to add information to closed ticket (mcintosh)\n",
      "Jan 31 01:43:10 ubuntu.local ticky: ERROR Tried to add information to closed ticket (jackowens)\n",
      "Jan 31 01:49:20 ubuntu.local ticky: ERROR Tried to add information to closed ticket (mdouglas)\n",
      "Jan 31 02:30:04 ubuntu.local ticky: ERROR Timeout while retrieving information (oren)\n",
      "[('Tried to add information to closed ticket', 3), ('The ticket was modified while updating', 1), ('Permission denied while closing ticket', 1), ('Timeout while retrieving information', 1)]\n"
     ]
    }
   ],
   "source": [
    "#!/usr/bin/env python3\n",
    "import sys\n",
    "import subprocess\n",
    "import re\n",
    "import operator\n",
    "\n",
    "per_user = {}\n",
    "error = {}\n",
    "# f = open(sys.argv[1], \"r\")\n",
    "f = open(\"syslog.log\", \"r\")\n",
    "for line in f.readlines():\n",
    "    print (line.strip())\n",
    "    \n",
    "    result = re.search(r\"ticky: (ERROR|INFO) ([\\w ]*)[\\[#0-9\\]]* \\(([\\w.]*)\\)\", line.strip())\n",
    "    if result is None:\n",
    "        continue\n",
    "    if result[1] == 'ERROR':\n",
    "        error_name = result[2]\n",
    "        error[error_name] = error.get(error_name, 0) + 1\n",
    "    \n",
    "        \n",
    "print(sorted(error.items(), key=operator.itemgetter(1), reverse=True))\n",
    "    \n",
    "    \n",
    "f.close()"
   ]
  },
  {
   "cell_type": "code",
   "execution_count": 132,
   "metadata": {},
   "outputs": [
    {
     "name": "stdout",
     "output_type": "stream",
     "text": [
      "Jan 31 00:09:39 ubuntu.local ticky: INFO Created ticket [#4217] (mdouglas)\n"
     ]
    },
    {
     "ename": "TypeError",
     "evalue": "'int' object is not subscriptable",
     "output_type": "error",
     "traceback": [
      "\u001b[1;31m---------------------------------------------------------------------------\u001b[0m",
      "\u001b[1;31mTypeError\u001b[0m                                 Traceback (most recent call last)",
      "\u001b[1;32m<ipython-input-132-d7ab7120e424>\u001b[0m in \u001b[0;36m<module>\u001b[1;34m\u001b[0m\n\u001b[0;32m     21\u001b[0m         \u001b[0mper_user\u001b[0m\u001b[1;33m[\u001b[0m\u001b[0muser_name\u001b[0m\u001b[1;33m]\u001b[0m \u001b[1;33m=\u001b[0m \u001b[0mper_user\u001b[0m\u001b[1;33m.\u001b[0m\u001b[0mget\u001b[0m\u001b[1;33m(\u001b[0m\u001b[0muser_name\u001b[0m\u001b[1;33m,\u001b[0m \u001b[1;36m0\u001b[0m\u001b[1;33m)\u001b[0m\u001b[1;33m[\u001b[0m\u001b[1;36m0\u001b[0m\u001b[1;33m]\u001b[0m \u001b[1;33m+\u001b[0m \u001b[1;36m1\u001b[0m\u001b[1;33m\u001b[0m\u001b[1;33m\u001b[0m\u001b[0m\n\u001b[0;32m     22\u001b[0m     \u001b[1;32mif\u001b[0m \u001b[0mresult\u001b[0m\u001b[1;33m[\u001b[0m\u001b[1;36m1\u001b[0m\u001b[1;33m]\u001b[0m \u001b[1;33m==\u001b[0m \u001b[1;34m'INFO'\u001b[0m\u001b[1;33m:\u001b[0m\u001b[1;33m\u001b[0m\u001b[1;33m\u001b[0m\u001b[0m\n\u001b[1;32m---> 23\u001b[1;33m         \u001b[0mper_user\u001b[0m\u001b[1;33m[\u001b[0m\u001b[0muser_name\u001b[0m\u001b[1;33m]\u001b[0m \u001b[1;33m=\u001b[0m \u001b[0mper_user\u001b[0m\u001b[1;33m.\u001b[0m\u001b[0mget\u001b[0m\u001b[1;33m(\u001b[0m\u001b[0muser_name\u001b[0m\u001b[1;33m,\u001b[0m \u001b[1;36m0\u001b[0m\u001b[1;33m)\u001b[0m\u001b[1;33m[\u001b[0m\u001b[1;36m1\u001b[0m\u001b[1;33m]\u001b[0m \u001b[1;33m+\u001b[0m \u001b[1;36m1\u001b[0m\u001b[1;33m\u001b[0m\u001b[1;33m\u001b[0m\u001b[0m\n\u001b[0m\u001b[0;32m     24\u001b[0m \u001b[1;33m\u001b[0m\u001b[0m\n\u001b[0;32m     25\u001b[0m \u001b[0mprint\u001b[0m\u001b[1;33m(\u001b[0m\u001b[0msorted\u001b[0m\u001b[1;33m(\u001b[0m\u001b[0merror\u001b[0m\u001b[1;33m.\u001b[0m\u001b[0mitems\u001b[0m\u001b[1;33m(\u001b[0m\u001b[1;33m)\u001b[0m\u001b[1;33m,\u001b[0m \u001b[0mkey\u001b[0m\u001b[1;33m=\u001b[0m\u001b[0moperator\u001b[0m\u001b[1;33m.\u001b[0m\u001b[0mitemgetter\u001b[0m\u001b[1;33m(\u001b[0m\u001b[1;36m1\u001b[0m\u001b[1;33m)\u001b[0m\u001b[1;33m,\u001b[0m \u001b[0mreverse\u001b[0m\u001b[1;33m=\u001b[0m\u001b[1;32mTrue\u001b[0m\u001b[1;33m)\u001b[0m\u001b[1;33m)\u001b[0m\u001b[1;33m\u001b[0m\u001b[1;33m\u001b[0m\u001b[0m\n",
      "\u001b[1;31mTypeError\u001b[0m: 'int' object is not subscriptable"
     ]
    }
   ],
   "source": [
    "#!/usr/bin/env python3\n",
    "import sys\n",
    "import subprocess\n",
    "import re\n",
    "import operator\n",
    "\n",
    "per_user = {}\n",
    "error = {}\n",
    "# f = open(sys.argv[1], \"r\")\n",
    "f = open(\"syslog.log\", \"r\")\n",
    "for line in f.readlines():\n",
    "    print (line.strip())\n",
    "    \n",
    "    result = re.search(r\"ticky: (ERROR|INFO) ([\\w ]*)[\\[#0-9\\]]* \\(([\\w.]*)\\)\", line.strip())\n",
    "    user_name = result[3]\n",
    "    if result is None:\n",
    "        continue\n",
    "    if result[1] == 'ERROR':\n",
    "        error_name = result[2]\n",
    "        error[error_name] = error.get(error_name, 0) + 1\n",
    "        per_user[user_name] = per_user.get(user_name, 0)[0] + 1\n",
    "    if result[1] == 'INFO':\n",
    "        per_user[user_name] = per_user.get(user_name, 0)[1] + 1\n",
    "        \n",
    "print(sorted(error.items(), key=operator.itemgetter(1), reverse=True))\n",
    "    \n",
    "    \n",
    "f.close()"
   ]
  },
  {
   "cell_type": "code",
   "execution_count": 127,
   "metadata": {},
   "outputs": [
    {
     "data": {
      "text/plain": [
       "{'The ticket was modified while updating': 1,\n",
       " 'Permission denied while closing ticket': 1,\n",
       " 'Tried to add information to closed ticket': 3,\n",
       " 'Timeout while retrieving information': 1}"
      ]
     },
     "execution_count": 127,
     "metadata": {},
     "output_type": "execute_result"
    }
   ],
   "source": [
    "error"
   ]
  },
  {
   "cell_type": "code",
   "execution_count": 128,
   "metadata": {},
   "outputs": [
    {
     "data": {
      "text/plain": [
       "{'mdouglas': 2,\n",
       " 'noel': 1,\n",
       " 'breee': 1,\n",
       " 'ac': 1,\n",
       " 'blossom': 1,\n",
       " 'rr.robinson': 1,\n",
       " 'mcintosh': 1,\n",
       " 'jackowens': 1,\n",
       " 'oren': 1}"
      ]
     },
     "execution_count": 128,
     "metadata": {},
     "output_type": "execute_result"
    }
   ],
   "source": [
    "per_user"
   ]
  },
  {
   "cell_type": "code",
   "execution_count": 131,
   "metadata": {},
   "outputs": [
    {
     "name": "stdout",
     "output_type": "stream",
     "text": [
      "1\n",
      "2\n",
      "3\n"
     ]
    }
   ],
   "source": []
  },
  {
   "cell_type": "code",
   "execution_count": null,
   "metadata": {},
   "outputs": [],
   "source": []
  }
 ],
 "metadata": {
  "kernelspec": {
   "display_name": "Python 3",
   "language": "python",
   "name": "python3"
  },
  "language_info": {
   "codemirror_mode": {
    "name": "ipython",
    "version": 3
   },
   "file_extension": ".py",
   "mimetype": "text/x-python",
   "name": "python",
   "nbconvert_exporter": "python",
   "pygments_lexer": "ipython3",
   "version": "3.6.10"
  }
 },
 "nbformat": 4,
 "nbformat_minor": 4
}
