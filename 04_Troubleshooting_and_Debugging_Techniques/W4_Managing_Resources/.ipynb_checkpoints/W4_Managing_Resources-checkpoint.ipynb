{
 "cells": [
  {
   "cell_type": "markdown",
   "metadata": {},
   "source": [
    "## Managing Computer Resources"
   ]
  },
  {
   "cell_type": "markdown",
   "metadata": {},
   "source": [
    "Intro to Module 4: Managing Resources\n",
    "we'll explore how we can figure out what's going on with programs that exhaust resources on our computer. Whether that's memory, disk, or even network link. Then will talk about managing our most valuable resource of all, time."
   ]
  },
  {
   "cell_type": "markdown",
   "metadata": {},
   "source": [
    "Memory Leaks and How to Prevent Them\n",
    "Memory leak : happens when a chunk of memory that's no longer needed is not released\n",
    "\n",
    "When writing programs in languages like C, or C plus plus, the programmer is in charge of deciding how much memory to request, and when to give it back.\n",
    "\n",
    "If the program uses all of the available memory, then no processes will be able to request more memory, and things will start failing in weird ways. When this happens, the OS might terminate processes to free up some of the memory, causing unrelated programs to crash. \n",
    "\n",
    "Python, Java, or Go manage memory for us\n",
    "To understand how this works, let's look into what these languages do. First, they request the necessary memory when we create variables, and then they run a tool called Garbage collector, that's in charge of freeing the memory that's no longer in use. To detect when that's the case, the garbage collector looks at the variables in use and the memory assigned to them and then checks if there any portions of the memory that aren't being referenced by any variables.\n",
    "\n",
    "In other words, even when the language takes care of requesting and releasing the memory for us, we could still see the same effects of a memory leak.\n",
    " \n",
    "So memory leaks are less of an issue for programs that are short lived, but can become especially problematic for processes that keep running in the background.\n",
    " \n",
    "Memory profiler : to figure out how the memory is being used.\n",
    "C, C++ : Valgrind\n",
    "Python : Many tools\n",
    "\n",
    "It's important that we measure the use of memory first before we try to change anything, otherwise we might be optimizing the wrong piece of code."
   ]
  },
  {
   "cell_type": "markdown",
   "metadata": {},
   "source": [
    "Managing Disk Space\n",
    "1) Installed binaries and libraries\n",
    "2) Data stored by the applications\n",
    "3) Cached information\n",
    "4) Logs\n",
    "5) Temporary files\n",
    "6) Backups\n",
    "\n",
    "When a hard drive is full, programs may suddenly crash, while trying to write something into disk and finding out that they can't. A full hard drive might even lead to data loss, as some programs might truncate a file before writing an updated version of it, and then fail to write the new content, losing all the data that was stored in it before.\n",
    "\n",
    "1) Uninstalling applications that aren't used\n",
    "2) Cleaning up old data that isn't needed anymore\n",
    "\n",
    "A mail server, it's going to be the mailboxes of the users of that service. But if you find that most of the data is stored in logs or in temporary files, something has gone wrong. -> rotate the log\n",
    "\n",
    "sudo lsof | grep deleted\n",
    "\n",
    "Just remember that whenever this happens, your process will remain the same. You'll need to spend some time looking into what's using the disk. Check to see if it's expected or an anomaly, figure out how to solve it, and most important of all, how to prevent it from happening again? "
   ]
  },
  {
   "cell_type": "markdown",
   "metadata": {},
   "source": [
    "Network Saturation\n",
    "\n",
    "The two most important factors that determine the time it takes to get the data over the network:\n",
    "1) Latency : The delay between sending a byte of data from one point and receiving it on the other. This value is directly affected by the physical distance between the two points and how many intermediate devices there are between them. \n",
    "2) Bandwidth : How much data can be sent or received in a second. This is effectively the data capacity of the connection."
   ]
  },
  {
   "cell_type": "markdown",
   "metadata": {},
   "source": []
  },
  {
   "cell_type": "markdown",
   "metadata": {},
   "source": [
    "## Managing Our Time"
   ]
  },
  {
   "cell_type": "markdown",
   "metadata": {},
   "source": [
    "## Making Our Future Lives Easier"
   ]
  },
  {
   "cell_type": "markdown",
   "metadata": {},
   "source": [
    "## Debugging and Solving Software Problems"
   ]
  },
  {
   "cell_type": "code",
   "execution_count": null,
   "metadata": {},
   "outputs": [],
   "source": []
  }
 ],
 "metadata": {
  "kernelspec": {
   "display_name": "Python 3",
   "language": "python",
   "name": "python3"
  },
  "language_info": {
   "codemirror_mode": {
    "name": "ipython",
    "version": 3
   },
   "file_extension": ".py",
   "mimetype": "text/x-python",
   "name": "python",
   "nbconvert_exporter": "python",
   "pygments_lexer": "ipython3",
   "version": "3.6.10"
  }
 },
 "nbformat": 4,
 "nbformat_minor": 4
}
