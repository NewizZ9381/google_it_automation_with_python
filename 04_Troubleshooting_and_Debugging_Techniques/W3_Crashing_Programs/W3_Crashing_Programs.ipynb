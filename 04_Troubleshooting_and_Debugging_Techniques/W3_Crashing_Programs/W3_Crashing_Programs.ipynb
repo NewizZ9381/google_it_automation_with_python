{
 "cells": [
  {
   "cell_type": "markdown",
   "metadata": {},
   "source": [
    "## Why Programs Crash"
   ]
  },
  {
   "cell_type": "markdown",
   "metadata": {},
   "source": [
    "Intro to Module 3: Crashing Programs\n",
    "1. Gathering Information\n",
    "2. Find the root cause\n",
    "3. Remediation (Short-Long)"
   ]
  },
  {
   "cell_type": "markdown",
   "metadata": {},
   "source": [
    "System That Crash\n",
    "Reduce the scope of the problem\n",
    "Start with the actions that are easier and faster to check\n",
    "Error Log -> Reproduce Error is another computer -> can generate report -> Installation or configuration on specific computer -> Check happen reliability -> ask user try to generate othe invoices -> fine -> after creating all the invoices for the day and gen report then the application crashed -> other user fine -> application seem to be crash randomly but only on that computer -> just that application or whole system? -> local - default configuration -> user told browser also crashed last week -> overall system (hardware or OS installation) -> try with another hardware -> Try harddisk with another computer -> Fine -> Random crashes\n",
    "1) RAM : Memory chips deteriorate over time (memtest 86 run on boot)\n",
    "2) Put out external devices (graphic card or sound card)\n",
    "S.M.A.R.T. tool for harddisk checking\n",
    "OS issues : Looking to what's wrong with the installation can take a lot of valuable time."
   ]
  },
  {
   "cell_type": "markdown",
   "metadata": {},
   "source": [
    "Understanding Crashing Applications\n",
    "Logs\n",
    "Linux : /var/log, .xsession-errors\n",
    "MacOS : Console App\n",
    "Windows : Windows Event Viewer\n",
    "\n",
    "Applications -> Enable debug logging\n",
    "If no have logs\n",
    "Linux : strace\n",
    "MacOS : dtruss\n",
    "Windows : Process Monitor\n",
    "\n",
    "If applications used to work fine and than have some problem -> Look at what is changed?\n",
    "\n",
    "The state that triggers the crash\n",
    "1) The overall system environment \n",
    "2) The specific application configuration\n",
    "3) The inputs\n",
    "4) The outputs\n",
    "5) The resources that uses\n",
    "6) The services it comunicates with\n",
    "\n",
    "Reproduction case : useful to start from a clean slate and slowly put the pieces in place until the crash triggers\n",
    "Remember : we want to make the reproduction case as small as possible\n",
    "\n",
    "So to sum this up to find the root cause of a crashing application will want to look at all available logs figure out what changed trace the system or library calls the program makes and create the smallest possible reproduction case.\n",
    "Play video starting at 5 minutes 47 seconds and follow transcript5:47\n",
    "After doing all of this, we should have some idea of what the root cause of the issue is and maybe even how to fix it."
   ]
  },
  {
   "cell_type": "markdown",
   "metadata": {},
   "source": [
    "What to do when you can't fix the program?\n",
    "You'll need to figure out a way of working around the problem and avoiding the crash.\n",
    "\n",
    "1) Compatibility of input or output between two programs\n",
    "A Wrapper is a function or program that provides a compatibility layer between two functions or programs so they can work well together. \n",
    "\n",
    "2) The overall system environment is it working well with the application\n",
    "Modify your system to match developer tested environment\n",
    "What can you do if you can't make the environment match?\n",
    " - Run inside a virtual machine, container\n",
    "\n",
    "3) Sometimes we can't find a way to stop an application from crashing but we can make sure that if it crashes it starts back again\n",
    "we can deploy a watchdog. This is a process that checks whether a program is running and when it's not starts the program again\n",
    "\n",
    "Remember to always report the bug to the application developers\n",
    "Answer the qusetions\n",
    "1) What were you trying to do? \n",
    "2) What were the steps you followed? \n",
    "3) What did you expect to happen? \n",
    "4) What was the actual outcome? "
   ]
  },
  {
   "cell_type": "markdown",
   "metadata": {},
   "source": [
    "Internal Server Error\n",
    "\n",
    "ssh webserver\n",
    "date\n",
    "cd /var/log/\n",
    "ls -lt | head : which sorts the files by the last modified date connecting it to the head command to keep the top 10 lines\n",
    "tail syslog\n",
    "\n",
    "sudo nestat -nlp | grep :80\n",
    "\n",
    "clear\n",
    "ls -l /etc/nginx/\n",
    "ls -l /etc/nginx/sites-enabled/\n",
    "\n",
    "vm /etc/nginx/sites-enabled/site.example.com.conf\n",
    ":q\n",
    "clear\n",
    "\n",
    "ls -l /etc/uwsgi/\n",
    "ls -l /etc/uwsgi/apps-enabled/\n",
    "vi /etc/uwsgi/apps-enabled/site.example.com.ini\n",
    ":q\n",
    "\n",
    "ls -l site.log\n",
    "vi /srv/site.example.com/prod.py\n",
    ":q\n",
    "\n",
    "sudo vi /srv/site.example.com/prod.py\n",
    "uncomment #bottle.debug()\n",
    "\n",
    "sudo service uwsgi reload\n",
    "reload the web\n",
    "found permission denied for /var/log/site.log\n",
    "\n",
    "ls -l site*\n",
    "We saw earlier that the application is running with the dub-dub-dub data user. So if site.log belongs to the root user, the application won't be able to either read or write to this log file.\n",
    "\n",
    "sudo chown www-data.www-data site.log\n",
    "reload the web"
   ]
  },
  {
   "cell_type": "markdown",
   "metadata": {},
   "source": [
    "sudo : run command with root\n",
    "netstat : bunch of information about our network connections\n",
    "-n : print numerical addresses instead of resolving host names\n",
    "-l : checkout the sockets that are listening for the connection\n",
    "-p : print the process ID and name to which each socket belongs\n",
    "focus on port 80"
   ]
  },
  {
   "cell_type": "markdown",
   "metadata": {},
   "source": [
    "## Code that Crashes"
   ]
  },
  {
   "cell_type": "markdown",
   "metadata": {},
   "source": [
    "Accessing Invalid Memory\n",
    "So accessing invalid memory means that the process tried to access a portion of the system's memory that wasn't assigned to it.\n",
    "It typically happens with low-level languages like C or C++ where the programmer needs to take care of requesting the memory that the program is going to use and then giving that memory back once it's not needed anymore.\n",
    "In these languages, the variables that store memory addresses are called pointers. \n",
    "Common programming errors that lead to segmentation faults or segfaults include \n",
    "1) forgetting to initialize a variable, \n",
    "2) trying to access a list element outside of the valid range, \n",
    "3) trying to use a portion of memory after having given it back, \n",
    "4) trying to write more data than the requested portion of memory can hold\n",
    "Debugger the program\n",
    "\n",
    "Compiled witg debugging symbols\n",
    "\n",
    "PBD File : Microsoft compilers can also generate debugging symbols in a separate PDB file.\n",
    "\n",
    "One of the trickiest things about this invalid memory business is that we're usually dealing with undefined behavior. This means that the code is doing something that's not valid in the programming language.\n",
    "\n",
    "Valgrind is a very powerful tool that can tell us if the code is doing any invalid operations no matter if it crashes are not. (Linux/ MacOS)\n",
    "Dr.Memory (Windows/ Linux)"
   ]
  },
  {
   "cell_type": "markdown",
   "metadata": {},
   "source": [
    "Unhandled Errors and Exceptions\n",
    "Correctly handling memory is a hard problem, and that's why there's a bunch of different programming languages like Python, Java, or Ruby that do it for us\n",
    "In these languages, when a program comes across an unexpected condition that isn't correctly handled in the code, it will trigger errors or exceptions\n",
    "1) IndexError\n",
    "2) TypeError\n",
    "3) DivisionByZeroError\n",
    "\n",
    "When error occurs\n",
    "1) Type of Error\n",
    "2) The line that caused the failure\n",
    "3) The traceback : shows the lines of the different functions that were being executed when the problem happened\n",
    "\n",
    "When the error message isn't enough, we'll need to debug the code to find out where things are going wrong\n",
    "\n",
    "Debugging Tool\n",
    "1) PDB interactive debugger for Python\n",
    "2) printf debugging : It's common practice to add statements that print data related to the codes execution(print,put,echo)\n",
    "3) logging module : This module, lets us set how comprehensive we want our code to be. We can say whether we want to include all debug messages, or only info warning or error messages\n",
    "\n",
    "So to recap, if your program is crashing with an unhandled error, you want to first do some debugging to figure out what's causing the issue. Once you figured it out, you want to make sure that you fix any programming errors and that you catch any conditions that may trigger an error. This way, you can make sure the program doesn't crash and leave your users frustrated"
   ]
  },
  {
   "cell_type": "markdown",
   "metadata": {},
   "source": [
    "Fixing Someone Else's Code\n",
    "1) Writing good comments is one of those good habits that pays off when trying to understand code written by others and also your past self\n",
    "2) Reading the tests associated to the code. Well-written tests can tell us what each function is expected to do.\n",
    "3) Read through someone else's code : You'll need to focus on the functions or modules that are part of the problem that you're trying to fix\n",
    "\n",
    "You don't need to be an expert in the language to fix a bug in the program. If you've come across an error and debug the issue well enough to understand what's going on, you might be able to fix the problem even if you've never seen that language before\n",
    "\n",
    "Practicing before you need to fix a problem in the code\n",
    "1) Take a program that you both use and have access to its code and figure out how it does a specific action\n",
    "2) Pick an open-source project that you use -> open issues -> fixing an easy one"
   ]
  },
  {
   "cell_type": "markdown",
   "metadata": {},
   "source": [
    "Debugging a Segmentation Fault\n",
    "Core files : store all the information related to the crash so that we or someone else can debug what's going on\n",
    "\n",
    "./example\n",
    "ulimit -c unlimited\n",
    "./example\n",
    "ls -l core\n",
    "\n",
    "clear\n",
    "gdb -c core example (gdb debugger)\n",
    "backtrace (full backtrace of the crash)\n",
    "up (move to the calling function in the backtrace)\n",
    "list (show the lines around the content)\n",
    "\n",
    "print i\n",
    "print argv[0]\n",
    "print argv[1]\n",
    "\n",
    "0x0 : NULL pointer - Zero is never a valid pointer\n",
    "\n",
    "Off-by-one error : the for loop is doing one iteration too many -> change \"<=\" to \"<\""
   ]
  },
  {
   "cell_type": "markdown",
   "metadata": {},
   "source": [
    "Debugging a Python Crash\n",
    "Python, we usually need to deal with unexpected exceptions making our program crash\n",
    "\n",
    "cd update_products/\n",
    "cat new_products.csv\n",
    "./update_products.py new_products.csv\n",
    "KeyError: 'product_code'\n",
    "\n",
    "Use Python Debugger pdb3\n",
    "clear\n",
    "pdb3 update_products.py new_products.csv\n",
    "continue/next\n",
    "print (row)\n",
    "\n",
    "clear\n",
    "atom update_products.py\n",
    "encoding='utf-8-sig'\n",
    "./update_products.py new_products.csv\n",
    "\n",
    "Breaking point/ Watch point"
   ]
  },
  {
   "cell_type": "markdown",
   "metadata": {},
   "source": [
    "## Handling Bigger Incidents"
   ]
  },
  {
   "cell_type": "markdown",
   "metadata": {},
   "source": [
    "Crashes in Complex Systems\n",
    "\n",
    "You want to apply the same principles that we saw for troubleshooting a problem on one computer, but this time at a larger scale\n",
    "\n",
    "Whenever possible, the best strategy is to roll back the changes that you suspect are causing the issue, even if you aren't 100% sure if this is the actual cause.\n",
    "\n",
    "Whether you do the rollback or not, when coming across unhelpful error messages, it's a good idea to improve them.\n",
    "\n",
    "When dealing with complex systems like these having good logs is essential to understanding what's going on. \n",
    "You'll want to have good monitoring of what the service is doing and use version control for all changes so that you can quickly check what's changed and roll back when needed.\n",
    "\n",
    "We've covered a bunch of techniques that you can use when facing a problem in a complex system. \n",
    "1) Looking at the available logs, \n",
    "2) figuring out what changed since the system was last working, \n",
    "3) rolling back to a previous state, \n",
    "4) removing faulty servers from the pool,\n",
    "5) or deploying new servers on demand"
   ]
  },
  {
   "cell_type": "markdown",
   "metadata": {},
   "source": [
    "Communication and Documentation During Incidents\n",
    "\n",
    "When working on a problem, it's always a good idea to document what you're doing in a bug or ticket. (doc, text, wiki)\n",
    "Documenting what you do, lets you keep track of what you've tried and what the results were.\n",
    "\n",
    "While you're working on a problem, it's important to communicate clearly with those affected by the issue. They want to know what you figured out about the problem, what the available workarounds are, and when they can expect the next update\n",
    "\n",
    "If there are lots of possible causes for the issue, you could divide the causes among the team members and have them work on those in parallel.On top of people looking for the root cause and a solution, you want to have a person in charge of communicating with the people affected.\n",
    "\n",
    "This communications lead needs to know what's going on and provide timely updates on the current state and how long until the problem's resolved.\n",
    "\n",
    "The Incident Commander or Incident Controller needs to look at the big picture and decide what's the best use of the available resources.\n",
    "\n",
    "Once the issue has been resolved, it's super-important to sum up the information that was helpful.\n",
    "1) Rootcause\n",
    "2) How you diagnose the problem and found that root cause, \n",
    "3) What you did to fix the issue\n",
    "4) What needs to be done to prevent the problem from happening again\n",
    "\n",
    "Postmortem"
   ]
  },
  {
   "cell_type": "markdown",
   "metadata": {},
   "source": [
    "Writing Effective Postmortems\n",
    "\n",
    "Postmortems : are documents that describe details of incidence to help us learn from our mistakes.\n",
    "When writing a postmortem, the goal isn't to blame whoever caused the incident, but to learn from what happened to prevent the same issue from happening again.\n",
    "1) what happened, \n",
    "2) why it happened, \n",
    "3) how it was diagnosed, \n",
    "4) how it was fixed, \n",
    "5) and finally figure out what we can do to avoid the same event happening in the future\n",
    "\n",
    "Include the details:\n",
    "1) what caused the issue, \n",
    "2) what the impact of the issue was, \n",
    "3) how it got diagnosed, \n",
    "4) the short-term remediation you applied, \n",
    "5) and the long-term remediation you recommend\n",
    "\n",
    "Summary:\n",
    "1) Impact\n",
    "2) Root cause\n",
    "3) Action Items\n",
    "\n",
    "Noting the things that went well helps us show that our systems are effective and justifies keeping those systems running.\n",
    "\n",
    "*The most important part of the postmortem is what we can learn for the future"
   ]
  },
  {
   "cell_type": "markdown",
   "metadata": {},
   "source": [
    "## Fixing Error in Python Scripts"
   ]
  },
  {
   "cell_type": "markdown",
   "metadata": {},
   "source": [
    "cd /\n",
    "python3 /usr/bin/infrastructure\n",
    "\n",
    "sudo apt install python3-pip\n",
    "pip3 install matplotlib\n",
    "\n",
    "python3 /usr/bin/infrastructure\n",
    "cd ~\n",
    "ls\n",
    "mv data.bak data.csv\n",
    "\n",
    "cd /\n",
    "python3 /usr/bin/infrastructure\n",
    "\n",
    "cat ~/data.csv\n",
    "sudo chmod 777 ~/data.csv\n",
    "nano ~/data.csv\n",
    "\n",
    "python3 /usr/bin/infrastructure"
   ]
  },
  {
   "cell_type": "code",
   "execution_count": null,
   "metadata": {},
   "outputs": [],
   "source": [
    "# python3 /usr/bin/infrastructure\n",
    "#!/usr/bin/env python3\n",
    "import csv\n",
    "import os\n",
    "import matplotlib\n",
    "import numpy as np\n",
    "\n",
    "class NoFileError(Exception):\n",
    "  pass\n",
    "\n",
    "class MissingColumnError(Exception):\n",
    "  pass\n",
    "\n",
    "columns = {'firstname','surname','company','job title'}\n",
    "\n",
    "try:\n",
    "  CSV_FILE = os.path.expanduser('~') + '/data.csv'\n",
    "\n",
    "  if not os.path.isfile(CSV_FILE):\n",
    "    print('Scanning for data.csv...')\n",
    "    raise NoFileError\n",
    "  else:\n",
    "    with open(CSV_FILE) as f:\n",
    "      csv_data = np.genfromtxt(f,delimiter=',',dtype=str)\n",
    "      missing_column = list(columns - set(csv_data[0]))\n",
    "\n",
    "      if missing_column:\n",
    "        raise MissingColumnError\n",
    "      f.close()\n",
    "\n",
    "except NoFileError:\n",
    "  print(\"NoFileError: Could not find data.csv in the working directory\")\n",
    "\n",
    "except MissingColumnError:\n",
    "  print(\"MissingColumnError: Could not find column {} in data.csv\".format(missing_column[0]))"
   ]
  }
 ],
 "metadata": {
  "kernelspec": {
   "display_name": "Python 3",
   "language": "python",
   "name": "python3"
  },
  "language_info": {
   "codemirror_mode": {
    "name": "ipython",
    "version": 3
   },
   "file_extension": ".py",
   "mimetype": "text/x-python",
   "name": "python",
   "nbconvert_exporter": "python",
   "pygments_lexer": "ipython3",
   "version": "3.6.10"
  }
 },
 "nbformat": 4,
 "nbformat_minor": 4
}
