{
 "cells": [
  {
   "cell_type": "markdown",
   "metadata": {},
   "source": [
    "## Understanding Slowness"
   ]
  },
  {
   "cell_type": "markdown",
   "metadata": {},
   "source": [
    "top : CPU/ memory\n",
    "iotop : disk io usage\n",
    "iftop : network bandwidth"
   ]
  },
  {
   "cell_type": "markdown",
   "metadata": {},
   "source": [
    "ab -n 500 site.example.com/\n",
    "ssh webserver\n",
    "clear\n",
    "top\n",
    "q\n",
    "\n",
    "nice : set priority 0-19 (0 is the most priority)\n",
    "renice : change priority\n",
    "pidof\n",
    "\n",
    "for pid in $(pidof ffmpeg); do renice 19 $pid; done\n",
    "\n",
    "ps ax\n",
    "less\n",
    "\n",
    "ps ax | less\n",
    "/ffmpeg\n",
    "locate static/001.webm\n",
    "cd /srv/deploy_videos/\n",
    "ls -l\n",
    "grep ffmpeg *\n",
    "vim deploy.sh\n",
    "delete daemonize\n",
    "\n",
    "clear\n",
    "killall -STOP ffmpeg\n",
    "for pid in $(pidof ffmpeg); do while kill -CONT $pid; dp sleep 1; done; done"
   ]
  },
  {
   "cell_type": "markdown",
   "metadata": {},
   "source": [
    "## Slow Code"
   ]
  },
  {
   "cell_type": "markdown",
   "metadata": {},
   "source": [
    "gprof : C program\n",
    "Cprofile : Python program"
   ]
  },
  {
   "cell_type": "markdown",
   "metadata": {},
   "source": [
    "List : fast for add/remove data at the end\n",
    "        fast for retrieve data from index\n",
    "        slow for add data in the middel\n",
    "        slow for retrieve data from unknown position\n",
    "* If you need to access elements by position, or will always iterate through all the elements, use a list to store them\n",
    "       \n",
    "Dictionary (Hash/map) : fast to find key value in one operation\n",
    "* If we need to loop up the elements using a key, we'll use a dictionary."
   ]
  }
 ],
 "metadata": {
  "kernelspec": {
   "display_name": "Python 3",
   "language": "python",
   "name": "python3"
  },
  "language_info": {
   "codemirror_mode": {
    "name": "ipython",
    "version": 3
   },
   "file_extension": ".py",
   "mimetype": "text/x-python",
   "name": "python",
   "nbconvert_exporter": "python",
   "pygments_lexer": "ipython3",
   "version": "3.8.1"
  }
 },
 "nbformat": 4,
 "nbformat_minor": 4
}
