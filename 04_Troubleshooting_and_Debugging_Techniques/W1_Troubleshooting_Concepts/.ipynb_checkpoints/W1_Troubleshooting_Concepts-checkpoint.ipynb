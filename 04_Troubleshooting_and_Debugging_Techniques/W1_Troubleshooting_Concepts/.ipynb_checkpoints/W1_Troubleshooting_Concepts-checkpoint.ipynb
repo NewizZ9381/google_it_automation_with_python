{
 "cells": [
  {
   "cell_type": "markdown",
   "metadata": {},
   "source": [
    "## Understanding the Problem"
   ]
  },
  {
   "cell_type": "code",
   "execution_count": 4,
   "metadata": {},
   "outputs": [
    {
     "name": "stdout",
     "output_type": "stream",
     "text": [
      "have a great day, have a great day\n",
      "True\n",
      "its raining again, its raining again\n",
      "True\n",
      "learn to count 1 2 3, learn to count one two three\n",
      "False\n",
      "they found some body, they found somebody\n",
      "False\n"
     ]
    }
   ],
   "source": [
    "import re\n",
    "def compare_strings(string1, string2):\n",
    "  #Convert both strings to lowercase \n",
    "  #and remove leading and trailing blanks\n",
    "  string1 = string1.lower().strip()\n",
    "  string2 = string2.lower().strip()\n",
    "\n",
    "  #Ignore punctuation\n",
    "  punctuation = r\"[.?!,;:\\-']\"\n",
    "  string1 = re.sub(punctuation, r\"\", string1)\n",
    "  string2 = re.sub(punctuation, r\"\", string2)\n",
    "\n",
    "  #DEBUG CODE GOES HERE\n",
    "  print(\"{}, {}\".format(string1,string2))\n",
    "\n",
    "  return string1 == string2\n",
    "\n",
    "print(compare_strings(\"Have a Great Day!\", \"Have a great day?\")) # True\n",
    "print(compare_strings(\"It's raining again.\", \"its raining, again\")) # True\n",
    "print(compare_strings(\"Learn to count: 1, 2, 3.\", \"Learn to count: one, two, three.\")) # False\n",
    "print(compare_strings(\"They found some body.\", \"They found somebody.\")) # False"
   ]
  },
  {
   "cell_type": "code",
   "execution_count": 13,
   "metadata": {},
   "outputs": [
    {
     "name": "stdout",
     "output_type": "stream",
     "text": [
      "2020-07-27 00:00:00\n",
      "new_date_obj : 2021-07-27 00:00:00\n",
      "2021-07-27\n",
      "2021-07-27\n",
      "2021-01-01 00:00:00\n",
      "new_date_obj : 2022-01-01 00:00:00\n",
      "2022-01-01\n",
      "2022-01-01\n",
      "2020-02-29 00:00:00\n",
      "new_date_obj : 2024-02-29 00:00:00\n",
      "2024-02-29\n",
      "2024-02-29\n"
     ]
    }
   ],
   "source": [
    "import datetime\n",
    "from datetime import date\n",
    "\n",
    "def add_year(date_obj):\n",
    "  try:\n",
    "    new_date_obj = date_obj.replace(year = date_obj.year + 1)\n",
    "  except ValueError:\n",
    "    # This gets executed when the above method fails, \n",
    "    # which means that we're making a Leap Year calculation\n",
    "    new_date_obj = date_obj.replace(year = date_obj.year + 4)\n",
    "  \n",
    "  print(\"new_date_obj : {}\".format(new_date_obj))\n",
    "  return new_date_obj\n",
    "\n",
    "def next_date(date_string):\n",
    "  # Convert the argument from string to date object\n",
    "  date_obj = datetime.datetime.strptime(date_string, r\"%Y-%m-%d\")\n",
    "  print(date_obj)\n",
    "  next_date_obj = add_year(date_obj)\n",
    "\n",
    "  # Convert the datetime object to string, \n",
    "  # in the format of \"yyyy-mm-dd\"\n",
    "  next_date_string = next_date_obj.strftime(\"%Y-%m-%d\")\n",
    "  print(next_date_string)\n",
    "  return next_date_string\n",
    "\n",
    "today = date.today()  # Get today's date\n",
    "print(next_date(str(today))) \n",
    "# Should return a year from today, unless today is Leap Day\n",
    "\n",
    "print(next_date(\"2021-01-01\")) # Should return 2022-01-01\n",
    "print(next_date(\"2020-02-29\")) # Should return 2024-02-29"
   ]
  },
  {
   "cell_type": "markdown",
   "metadata": {},
   "source": [
    "## Binary Searching a Problem"
   ]
  },
  {
   "cell_type": "code",
   "execution_count": 14,
   "metadata": {},
   "outputs": [],
   "source": [
    "def linear_search(list, key):\n",
    "    \"\"\"If key is in the list returns its position in the list,\n",
    "       otherwise returns -1.\"\"\"\n",
    "    for i, item in enumerate(list):\n",
    "        if item == key:\n",
    "            return i\n",
    "    return -1"
   ]
  },
  {
   "cell_type": "code",
   "execution_count": 15,
   "metadata": {},
   "outputs": [],
   "source": [
    "def binary_search(list, key):\n",
    "    \"\"\"Returns the position of key in the list if found, -1 otherwise.\n",
    "\n",
    "    List must be sorted.\n",
    "    \"\"\"\n",
    "    left = 0\n",
    "    right = len(list) - 1\n",
    "    while left <= right:\n",
    "        middle = (left + right) // 2\n",
    "        \n",
    "        if list[middle] == key:\n",
    "            return middle\n",
    "        if list[middle] > key:\n",
    "            right = middle - 1\n",
    "        if list[middle] < key:\n",
    "            left = middle + 1\n",
    "    return -1"
   ]
  },
  {
   "cell_type": "code",
   "execution_count": 16,
   "metadata": {},
   "outputs": [],
   "source": [
    "list = [1,2,3,4,5,6,7,8,9,10,11,12,13,14,15]\n",
    "key = 15"
   ]
  },
  {
   "cell_type": "code",
   "execution_count": 17,
   "metadata": {},
   "outputs": [
    {
     "data": {
      "text/plain": [
       "14"
      ]
     },
     "execution_count": 17,
     "metadata": {},
     "output_type": "execute_result"
    }
   ],
   "source": [
    "linear_search(list, key)"
   ]
  },
  {
   "cell_type": "code",
   "execution_count": 19,
   "metadata": {},
   "outputs": [
    {
     "data": {
      "text/plain": [
       "15"
      ]
     },
     "execution_count": 19,
     "metadata": {},
     "output_type": "execute_result"
    }
   ],
   "source": [
    "list[linear_search(list, key)]"
   ]
  },
  {
   "cell_type": "code",
   "execution_count": 18,
   "metadata": {},
   "outputs": [
    {
     "data": {
      "text/plain": [
       "14"
      ]
     },
     "execution_count": 18,
     "metadata": {},
     "output_type": "execute_result"
    }
   ],
   "source": [
    "binary_search(list, key)"
   ]
  },
  {
   "cell_type": "code",
   "execution_count": 20,
   "metadata": {},
   "outputs": [
    {
     "data": {
      "text/plain": [
       "15"
      ]
     },
     "execution_count": 20,
     "metadata": {},
     "output_type": "execute_result"
    }
   ],
   "source": [
    "list[binary_search(list, key)]"
   ]
  },
  {
   "cell_type": "markdown",
   "metadata": {},
   "source": [
    "cat contacts.csv | ./iimport.py --server test\n",
    "head -50 contacts.csv | ./iimport.py --server test\n",
    "head -50 contacts.csv | head -25 | ./iimport.py --server test\n",
    "head -50 contacts.csv | tail -25 | ./iimport.py --server test\n",
    "head -50 contacts.csv | tail -25 | head -13 | ./iimport.py --server test\n",
    "head -50 contacts.csv | tail -25 | tail -12 | head -6 | ./iimport.py --server test\n",
    "head -50 contacts.csv | tail -25 | tail -12 | head -6 | head -3 | ./iimport.py --server test\n",
    "head -50 contacts.csv | tail -25 | tail -12 | head -6 | head -3\n",
    "atom contacts.csv\n",
    "clear\n",
    "cat contacts.csv | ./iimport.py --server test"
   ]
  },
  {
   "cell_type": "code",
   "execution_count": 24,
   "metadata": {},
   "outputs": [
    {
     "name": "stdout",
     "output_type": "stream",
     "text": [
      "list : ['Alex', 'Cameron', 'Chris', 'Drew', 'Jamie', 'Jordan', 'Logan', 'Parker', 'Taylor', 'Terry']\n",
      "list : ['Alex', 'Cameron', 'Chris', 'Drew', 'Jamie']\n",
      "list : ['Alex', 'Cameron']\n",
      "list : ['Alex']\n",
      "True\n",
      "list : ['Alex', 'Cameron', 'Chris', 'Drew', 'Jamie', 'Jordan', 'Logan', 'Parker', 'Taylor', 'Terry']\n",
      "list : ['Alex', 'Cameron', 'Chris', 'Drew', 'Jamie']\n",
      "list : ['Alex', 'Cameron']\n",
      "list : ['Alex']\n",
      "list : []\n",
      "False\n",
      "list : ['Alex', 'Cameron', 'Chris', 'Drew', 'Jamie', 'Jordan', 'Logan', 'Parker', 'Taylor', 'Terry']\n",
      "list : ['Alex', 'Cameron', 'Chris', 'Drew', 'Jamie']\n",
      "list : ['Drew', 'Jamie']\n",
      "list : ['Drew']\n",
      "True\n",
      "list : ['Alex', 'Cameron', 'Chris', 'Drew', 'Jamie', 'Jordan', 'Logan', 'Parker', 'Taylor', 'Terry']\n",
      "list : ['Alex', 'Cameron', 'Chris', 'Drew', 'Jamie']\n",
      "list : ['Drew', 'Jamie']\n",
      "list : []\n",
      "False\n"
     ]
    }
   ],
   "source": [
    "def find_item(list, item):\n",
    "  list = sorted(list)\n",
    "  #Returns True if the item is in the list, False if not.\n",
    "  print(\"list : {}\".format(list))\n",
    "  if len(list) == 0:\n",
    "    return False\n",
    "\n",
    "  #Is the item in the center of the list?\n",
    "  middle = len(list)//2\n",
    "  if list[middle] == item:\n",
    "    return True\n",
    "\n",
    "  #Is the item in the first half of the list? \n",
    "  if item < list[middle]:\n",
    "    #Call the function with the first half of the list\n",
    "    return find_item(list[:middle], item)\n",
    "  else:\n",
    "    #Call the function with the second half of the list\n",
    "    return find_item(list[middle+1:], item)\n",
    "\n",
    "  return False\n",
    "\n",
    "#Do not edit below this line - This code helps check your work!\n",
    "list_of_names = [\"Parker\", \"Drew\", \"Cameron\", \"Logan\", \"Alex\", \"Chris\", \"Terry\", \"Jamie\", \"Jordan\", \"Taylor\"]\n",
    "\n",
    "print(find_item(list_of_names, \"Alex\")) # True\n",
    "print(find_item(list_of_names, \"Andrew\")) # False\n",
    "print(find_item(list_of_names, \"Drew\")) # True\n",
    "print(find_item(list_of_names, \"Jared\")) # False"
   ]
  },
  {
   "cell_type": "code",
   "execution_count": 25,
   "metadata": {},
   "outputs": [
    {
     "name": "stdout",
     "output_type": "stream",
     "text": [
      "Checking the left side\n",
      "Checking the left side\n",
      "0\n",
      "4\n",
      "Checking the right side\n",
      "Checking the left side\n",
      "Checking the right side\n",
      "6\n",
      "Checking the right side\n",
      "Checking the right side\n",
      "Checking the right side\n",
      "9\n",
      "Checking the right side\n",
      "Checking the right side\n",
      "Checking the right side\n",
      "Checking the right side\n",
      "-1\n"
     ]
    },
    {
     "data": {
      "text/plain": [
       "'Should print 4 debug lines and the \"not found\" value of -1:\\nChecking the right side\\nChecking the right side\\nChecking the right side\\nChecking the right side\\n-1\\n'"
      ]
     },
     "execution_count": 25,
     "metadata": {},
     "output_type": "execute_result"
    }
   ],
   "source": [
    "def binary_search(list, key):\n",
    "    #Returns the position of key in the list if found, -1 otherwise.\n",
    "\n",
    "    #List must be sorted:\n",
    "    list.sort()\n",
    "    left = 0\n",
    "    right = len(list) - 1\n",
    "\n",
    "    while left <= right:\n",
    "        middle = (left + right) // 2\n",
    "\n",
    "        if list[middle] == key:\n",
    "            return middle\n",
    "        if list[middle] > key:\n",
    "            right = middle - 1\n",
    "            print(\"Checking the left side\")\n",
    "        if list[middle] < key:\n",
    "            left = middle + 1\n",
    "            print(\"Checking the right side\")\n",
    "    return -1 \n",
    "\n",
    "print(binary_search([10, 2, 9, 6, 7, 1, 5, 3, 4, 8], 1))\n",
    "\"\"\"Should print 2 debug lines and the return value:\n",
    "Checking the left side\n",
    "Checking the left side\n",
    "0\n",
    "\"\"\"\n",
    "\n",
    "print(binary_search([1, 2, 3, 4, 5, 6, 7, 8, 9, 10], 5))\n",
    "\"\"\"Should print no debug lines, as it's located immediately:\n",
    "4\n",
    "\"\"\"\n",
    "\n",
    "print(binary_search([10, 9, 8, 7, 6, 5, 4, 3, 2, 1], 7))\n",
    "\"\"\"Should print 3 debug lines and the return value:\n",
    "Checking the right side\n",
    "Checking the left side\n",
    "Checking the right side\n",
    "6\n",
    "\"\"\"\n",
    "\n",
    "print(binary_search([1, 3, 5, 7, 9, 10, 2, 4, 6, 8], 10))\n",
    "\"\"\"Should print 3 debug lines and the return value:\n",
    "Checking the right side\n",
    "Checking the right side\n",
    "Checking the right side\n",
    "9\n",
    "\"\"\"\n",
    "\n",
    "print(binary_search([5, 1, 8, 2, 4, 10, 7, 6, 3, 9], 11))\n",
    "\"\"\"Should print 4 debug lines and the \"not found\" value of -1:\n",
    "Checking the right side\n",
    "Checking the right side\n",
    "Checking the right side\n",
    "Checking the right side\n",
    "-1\n",
    "\"\"\""
   ]
  },
  {
   "cell_type": "code",
   "execution_count": 26,
   "metadata": {},
   "outputs": [
    {
     "name": "stdout",
     "output_type": "stream",
     "text": [
      "Linear: 1 steps, Binary: 4 steps. Best Search is Linear.\n",
      "Linear: 4 steps, Binary: 4 steps. Result is a Tie.\n",
      "Linear: 4 steps, Binary: 5 steps. Best Search is Linear.\n",
      "Linear: 6 steps, Binary: 5 steps. Best Search is Binary.\n",
      "Linear: 10 steps, Binary: 5 steps. Best Search is Binary.\n"
     ]
    }
   ],
   "source": [
    "def linear_search(list, key):\n",
    "    #Returns the number of steps to determine if key is in the list \n",
    "\n",
    "    #Initialize the counter of steps\n",
    "    steps=0\n",
    "    for i, item in enumerate(list):\n",
    "        steps += 1\n",
    "        if item == key:\n",
    "            break\n",
    "    return steps\n",
    "\n",
    "def binary_search(list, key):\n",
    "    #Returns the number of steps to determine if key is in the list \n",
    "\n",
    "    #List must be sorted:\n",
    "    list.sort()\n",
    "\n",
    "    #The Sort was 1 step, so initialize the counter of steps to 1\n",
    "    steps=1\n",
    "\n",
    "    left = 0\n",
    "    right = len(list) - 1\n",
    "    while left <= right:\n",
    "        steps += 1\n",
    "        middle = (left + right) // 2\n",
    "        \n",
    "        if list[middle] == key:\n",
    "            break\n",
    "        if list[middle] > key:\n",
    "            right = middle - 1\n",
    "        if list[middle] < key:\n",
    "            left = middle + 1\n",
    "    return steps\n",
    "\n",
    "def best_search(list, key):\n",
    "    steps_linear = linear_search(list, key)\n",
    "    steps_binary = binary_search(list, key) \n",
    "    results = \"Linear: \" + str(steps_linear) + \" steps, \"\n",
    "    results += \"Binary: \" + str(steps_binary) + \" steps. \"\n",
    "    if (steps_linear < steps_binary):\n",
    "        results += \"Best Search is Linear.\"\n",
    "    elif (steps_linear > steps_binary):\n",
    "        results += \"Best Search is Binary.\"\n",
    "    else:\n",
    "        results += \"Result is a Tie.\"\n",
    "\n",
    "    return results\n",
    "\n",
    "print(best_search([1, 2, 3, 4, 5, 6, 7, 8, 9, 10], 1))\n",
    "#Should be: Linear: 1 steps, Binary: 4 steps. Best Search is Linear.\n",
    "\n",
    "print(best_search([10, 2, 9, 1, 7, 5, 3, 4, 6, 8], 1))\n",
    "#Should be: Linear: 4 steps, Binary: 4 steps. Result is a Tie.\n",
    "\n",
    "print(best_search([10, 9, 8, 7, 6, 5, 4, 3, 2, 1], 7))\n",
    "#Should be: Linear: 4 steps, Binary: 5 steps. Best Search is Linear.\n",
    "\n",
    "print(best_search([1, 3, 5, 7, 9, 10, 2, 4, 6, 8], 10))\n",
    "#Should be: Linear: 6 steps, Binary: 5 steps. Best Search is Binary.\n",
    "\n",
    "print(best_search([5, 1, 8, 2, 4, 10, 7, 6, 3, 9], 11))\n",
    "#Should be: Linear: 10 steps, Binary: 5 steps. Best Search is Binary."
   ]
  },
  {
   "cell_type": "markdown",
   "metadata": {},
   "source": [
    "## Debugging Python Scripts\n"
   ]
  },
  {
   "cell_type": "markdown",
   "metadata": {},
   "source": [
    "cd ~/scripts\n",
    "ls\n",
    "cat greetings.py\n",
    "sudo chmod 777 greetings.py\n",
    "./greetings.py\n",
    "print(\"hello \" + name + \", your random number is \" + number)\n",
    "nano greetings.py\n",
    "print(\"hello \" + name + \", your random number is \" + str(number))\n",
    "./greetings.py"
   ]
  },
  {
   "cell_type": "code",
   "execution_count": 27,
   "metadata": {},
   "outputs": [
    {
     "name": "stdout",
     "output_type": "stream",
     "text": [
      "Hello!, What's your name?New\n"
     ]
    },
    {
     "ename": "TypeError",
     "evalue": "can only concatenate str (not \"int\") to str",
     "output_type": "error",
     "traceback": [
      "\u001b[1;31m---------------------------------------------------------------------------\u001b[0m",
      "\u001b[1;31mTypeError\u001b[0m                                 Traceback (most recent call last)",
      "\u001b[1;32m<ipython-input-27-7fe5f2b564f2>\u001b[0m in \u001b[0;36m<module>\u001b[1;34m\u001b[0m\n\u001b[0;32m      8\u001b[0m   \u001b[0mprint\u001b[0m\u001b[1;33m(\u001b[0m\u001b[1;34m\"hello \"\u001b[0m \u001b[1;33m+\u001b[0m \u001b[0mname\u001b[0m \u001b[1;33m+\u001b[0m \u001b[1;34m\", your random number is \"\u001b[0m \u001b[1;33m+\u001b[0m \u001b[0mnumber\u001b[0m\u001b[1;33m)\u001b[0m\u001b[1;33m\u001b[0m\u001b[1;33m\u001b[0m\u001b[0m\n\u001b[0;32m      9\u001b[0m \u001b[1;33m\u001b[0m\u001b[0m\n\u001b[1;32m---> 10\u001b[1;33m \u001b[0mgreeting\u001b[0m\u001b[1;33m(\u001b[0m\u001b[1;33m)\u001b[0m\u001b[1;33m\u001b[0m\u001b[1;33m\u001b[0m\u001b[0m\n\u001b[0m",
      "\u001b[1;32m<ipython-input-27-7fe5f2b564f2>\u001b[0m in \u001b[0;36mgreeting\u001b[1;34m()\u001b[0m\n\u001b[0;32m      6\u001b[0m   \u001b[0mname\u001b[0m \u001b[1;33m=\u001b[0m \u001b[0minput\u001b[0m\u001b[1;33m(\u001b[0m\u001b[1;34m\"Hello!, What's your name?\"\u001b[0m\u001b[1;33m)\u001b[0m\u001b[1;33m\u001b[0m\u001b[1;33m\u001b[0m\u001b[0m\n\u001b[0;32m      7\u001b[0m   \u001b[0mnumber\u001b[0m \u001b[1;33m=\u001b[0m \u001b[0mrandom\u001b[0m\u001b[1;33m.\u001b[0m\u001b[0mrandint\u001b[0m\u001b[1;33m(\u001b[0m\u001b[1;36m1\u001b[0m\u001b[1;33m,\u001b[0m\u001b[1;36m101\u001b[0m\u001b[1;33m)\u001b[0m\u001b[1;33m\u001b[0m\u001b[1;33m\u001b[0m\u001b[0m\n\u001b[1;32m----> 8\u001b[1;33m   \u001b[0mprint\u001b[0m\u001b[1;33m(\u001b[0m\u001b[1;34m\"hello \"\u001b[0m \u001b[1;33m+\u001b[0m \u001b[0mname\u001b[0m \u001b[1;33m+\u001b[0m \u001b[1;34m\", your random number is \"\u001b[0m \u001b[1;33m+\u001b[0m \u001b[0mnumber\u001b[0m\u001b[1;33m)\u001b[0m\u001b[1;33m\u001b[0m\u001b[1;33m\u001b[0m\u001b[0m\n\u001b[0m\u001b[0;32m      9\u001b[0m \u001b[1;33m\u001b[0m\u001b[0m\n\u001b[0;32m     10\u001b[0m \u001b[0mgreeting\u001b[0m\u001b[1;33m(\u001b[0m\u001b[1;33m)\u001b[0m\u001b[1;33m\u001b[0m\u001b[1;33m\u001b[0m\u001b[0m\n",
      "\u001b[1;31mTypeError\u001b[0m: can only concatenate str (not \"int\") to str"
     ]
    }
   ],
   "source": [
    "# greetings.py\n",
    "#!/usr/bin/env python3\n",
    "\n",
    "import random\n",
    "\n",
    "def greeting():\n",
    "  name = input(\"Hello!, What's your name?\")\n",
    "  number = random.randint(1,101)\n",
    "  print(\"hello \" + name + \", your random number is \" + number)\n",
    "\n",
    "greeting()"
   ]
  },
  {
   "cell_type": "code",
   "execution_count": 28,
   "metadata": {},
   "outputs": [
    {
     "name": "stdout",
     "output_type": "stream",
     "text": [
      "Hello!, What's your name?New\n",
      "hello New, your random number is 60\n"
     ]
    }
   ],
   "source": [
    "# greetings.py\n",
    "#!/usr/bin/env python3\n",
    "\n",
    "import random\n",
    "\n",
    "def greeting():\n",
    "  name = input(\"Hello!, What's your name?\")\n",
    "  number = random.randint(1,101)\n",
    "  print(\"hello \" + name + \", your random number is \" + str(number))\n",
    "\n",
    "greeting()"
   ]
  },
  {
   "cell_type": "code",
   "execution_count": null,
   "metadata": {},
   "outputs": [],
   "source": []
  }
 ],
 "metadata": {
  "kernelspec": {
   "display_name": "Python 3",
   "language": "python",
   "name": "python3"
  },
  "language_info": {
   "codemirror_mode": {
    "name": "ipython",
    "version": 3
   },
   "file_extension": ".py",
   "mimetype": "text/x-python",
   "name": "python",
   "nbconvert_exporter": "python",
   "pygments_lexer": "ipython3",
   "version": "3.8.1"
  }
 },
 "nbformat": 4,
 "nbformat_minor": 4
}
