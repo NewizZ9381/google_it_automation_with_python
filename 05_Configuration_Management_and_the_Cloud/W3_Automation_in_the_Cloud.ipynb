{
 "cells": [
  {
   "cell_type": "markdown",
   "metadata": {},
   "source": [
    "## Cloud Computing"
   ]
  },
  {
   "cell_type": "markdown",
   "metadata": {},
   "source": [
    "Cloud Services Overview\n",
    "\n",
    "Software as a Service or SaaS, is when a Cloud provider delivers an entire application or program to the customer\n",
    "Platform as a Service or PaaS, is when a Cloud provider offers a preconfigured platform to the customer\n",
    "Infrastructure as a Service or IaaS, is when a Cloud provider supplies only the bare-bones computing experience\n",
    "\n",
    "Region is a geographical location containing a number of data centers, regions contain zones and zones can contain one or more physical data centers\n",
    "\n",
    "The region and zone you select should be closest to your users, the further your users are from the physical data center the more latency they may experience\n",
    "\n",
    "It's common practice to locate data centers close to where users actually live, work, and bank\n",
    "\n",
    "Latency isn't the only factor to take into account when selecting a region or zone, some organizations require their data to be stored in specific cities or countries for legal or policy reasons\n",
    "\n",
    "If your service uses other services as dependencies, it's a good idea to host the service physically close to its dependencies"
   ]
  },
  {
   "cell_type": "markdown",
   "metadata": {},
   "source": [
    "Scaling in the Cloud\n",
    "\n",
    "In a traditional IT setting, it takes a significant amount of time to modify the capacity of the deployment.\n",
    "\n",
    "Capacity : is how much the service can deliver.\n",
    "This capacity change is called scaling. \n",
    "In particular, we call it upscaling when we increase our capacity and downscaling when we decrease it.\n",
    "\n",
    "There are a couple of different ways that we can scale our service in the Cloud, horizontally and vertically. To scale a deployment horizontally, we add more nodes into the pool that's part of a specific service.\n",
    "If you're scaling a deployment vertically, it means you're making your nodes bigger. When we say bigger here we're talking about the resources assigned to the nodes like memories, CPU, and disk space.\n",
    "\n",
    "Depending on our deployment and our needs, we might need to scale both horizontally and vertically to scale the capacity of our service.\n",
    "\n",
    "When talking about scaling in the Cloud, another aspect we need to take into account is whether the scaling is done automatically or manually.\n",
    "Automatic scaling, we're using a service offered by the Cloud provider. This service uses metrics to automatically increase or decrease the capacity of the system.\n",
    "But make sure you set a reasonable quotas for your autoscaling systems.\n",
    "Manual scaling means that changes are controlled by humans instead of software\n"
   ]
  },
  {
   "cell_type": "markdown",
   "metadata": {},
   "source": [
    "Evaluating the Cloud\n",
    "\n",
    "Software as a service, we're basically giving the provider complete control of how the application runs. We have a limited amount of settings that we can change.\n",
    "Platform as a service, If we need to create our own applications. With this option, we're in charge of the code, but we aren't in control of running the application\n",
    "Infrastructure as a service, where we can still keep a high level of control. We decide the operating system that runs on the virtual machines, the applications that are installed on it, and so on. \n",
    "\n",
    "We'll still depend on the vendor for other aspects of the deployment, like the network configuration or the services availability. If something does break, you might need to get support from the vendor to fix the problem. So when choosing a cloud provider, it's important to know what kind of support is available and select the one that fits your needs.\n",
    "\n",
    "Security : certifications like SOC 1, ISO 27001\n",
    "\n",
    "We should always use reasonable judgment to protect the machines that we deploy ,whether that's on physical server is running on-premise or on virtual machines in the Cloud\n",
    "\n",
    "Some highly sensitive deployments might warrant specialized security procedures, like \n",
    "1) multi-factor authentication, \n",
    "2) encrypted file systems, or \n",
    "3) public key cryptography. \n",
    "But these processes can also be expensive to implement. \n",
    "\n",
    "In a way, cloud services are a little like actual clouds. They come in all different shapes and sizes. And sometimes a dark stormy one comes along to rain on your productive day.\n",
    "But if you prepare an advance with the right security measures and maybe an umbrella, working in the cloud will be nothing but a breeze."
   ]
  },
  {
   "cell_type": "markdown",
   "metadata": {},
   "source": [
    "Migrating to the Cloud\n",
    "\n",
    "IaaS is especially useful to administrators using a lift and shift strategy\n",
    "When we migrate from traditional server configurations to the Cloud, we lift the current configuration and shift it to a virtual machine.\n",
    "\n",
    "The key thing to note with both approaches, is that the servers core configurations stay the same. It's the same software that needs to be installed on the machine to provide its functionality, no matter if the server is hosted physically on-site or virtually in the Cloud.\n",
    "\n",
    "Platform as a Service or PaaS. This is well-suited for when you have a specific infrastructure requirement, but you don't want to be involved in the day-to-day management of the platform.\n",
    "\n",
    "Containers : are applications that are packaged together with their configuration and dependencies. This makes migrating from one platform to the other super easy. \n",
    "\n",
    "1) Public Clouds : The cloud services provided to you by a third party\n",
    "2) Private Clouds :  When your company owns the services and the rest of your infrastructure, whether that's on-site or in a remote data center\n",
    "3) Hybrid Clouds : A mixture of both public and private Clouds. The trick to making the most of the hybrid Cloud is ensuring that everything is integrated smoothly.\n",
    "4) Multi-Clouds : A mixture of public and/or private Clouds across vendors. Using multi-Clouds can be expensive, but it gives you extra protection. If one of your providers has a problem, your service can keep running on the infrastructure provided by a different provider"
   ]
  },
  {
   "cell_type": "markdown",
   "metadata": {},
   "source": [
    "## Managing Instances in the Cloud"
   ]
  },
  {
   "cell_type": "markdown",
   "metadata": {},
   "source": [
    "Spinning up VMs in the Cloud\n",
    "\n",
    "It's a good idea to start just by familiarizing yourself with the platform before you try to do something with it\n",
    "\n",
    "Name\n",
    "Region\n",
    "Zone\n",
    "Machine Type : Processing units (virtual CPUs), Memory\n",
    "Boot disk\n",
    "\n",
    "As a sysadmin, you may need to decide between costs and processing power to fit the needs of your organization.\n",
    "When setting up instances like these, it's a good idea to start small and scale as needed.\n",
    "\n",
    "Web UI :  Can be very useful for quickly inspecting the parameters that we need to set. Compare the different options available and even show us an estimation of how much money our selected VM would cost per month. This is great for experimenting\n",
    "CLI : Scale well if we need to quickly create a bunch of machines or if we want to automate the creation\n",
    "\n",
    "Reference images : store the contents of a machine in a reusable format\n",
    "Templating : is the process of capturing all of the system configuration to let us create VMS in a repeatable way\n",
    "A disk image : is a snapshot of a virtual machine's disk at a given point in time."
   ]
  },
  {
   "cell_type": "markdown",
   "metadata": {},
   "source": [
    "Creating a New VM Using the GCP Web UI\n",
    "\n",
    "cat /etc/lsb-release\n",
    "curl wttr.in"
   ]
  },
  {
   "cell_type": "markdown",
   "metadata": {},
   "source": [
    "Customizing VMs in GCP\n",
    "\n",
    "Remember that a reference image is just a file or configuration that we can deploy repeatedly and with automated tools\n",
    "\n",
    "git clone https://github.cin/blue-kale/hello\n",
    "cd hello/\n",
    "ls -l\n",
    "./hello_cloud.py\n",
    "sudo ./hello_cloud.py 80\n",
    "\n",
    "cat hello_cloud.service\n",
    "sudo cp hello_cloud.py /usr/local/bin/\n",
    "sudo cp hello_cloud.service /etc/systemd/system\n",
    "sudo systemctl enable hello_cloud\n",
    "sudo reboot\n",
    "\n",
    "ps ax | grep hello\n",
    "\n",
    "sudo apt install puppet\n",
    "./hello/setup_puppet.sh"
   ]
  },
  {
   "cell_type": "markdown",
   "metadata": {},
   "source": [
    "Templating a Customized VM\n",
    "\n",
    "UI : Create an instance template VM -> stop VM -> click on machine name -> boot disk -> Create Image -> Fill information\n",
    "Instance templates -> Create instance template -> Fill information -> boot disk -> choose Custom image (our image) -> Create -> VM instances -> + Create instance -> New VM instance from template -> choose our template -> check information -> Create\n",
    "\n",
    "CLI : gcloud command\n",
    "gcloud init\n",
    "gcloud compute instances create --source-instance-template webserver-template ws1 ws2 ws3 ws4 ws5"
   ]
  },
  {
   "cell_type": "markdown",
   "metadata": {},
   "source": [
    "## Automating Cloud Deployments"
   ]
  },
  {
   "cell_type": "markdown",
   "metadata": {},
   "source": [
    "Cloud Scale Deployments\n",
    "\n",
    "The biggest advantage of using Cloud services is how easily we can scale our services up and down\n",
    "\n",
    "Load balancer : ensures that each node receives a balanced number of requests\n",
    "The simplest one is just to give each node one request called round robin. More complex strategies include always selecting the same node for requests coming from the same origin, selecting the node that's closest to the requester, and selecting the one with the least current load.\n",
    "\n",
    "Autoscaling : It allows the service to increase or reduce capacity as needed while the service owner only pays for the cost of the machines that are in use at any given time.\n",
    "\n",
    "One of the most popular applications for this caching is called Varnish\n",
    "The Nginx web server and software also includes this caching functionality\n",
    " There's a bunch of providers that do web caching as a service like Cloudflare and Fastly\n",
    " \n",
    " The most popular applications for this level of caching are Memcached and Redis\n",
    " \n",
    " Internet\n",
    " Entry Point\n",
    " Load Balancer Web Cache\n",
    " Web Cache\n",
    " Load Balancer Web Service\n",
    " Web Service\n",
    " DB/ Load Balancer DB Cache\n",
    "     DB Cache"
   ]
  },
  {
   "cell_type": "markdown",
   "metadata": {},
   "source": [
    "Orchestration\n",
    "\n",
    "Automation : is the process of replacing a manual step with one that happens automatically.\n",
    "\n",
    "Orchestration : is the automated configuration and coordination of complex IT systems and services.\n",
    "\n",
    "The key here is that the configuration of the overall system needs to be automatically repeatable.\n",
    "These tools typically don't communicate with the Cloud systems through the web interface or the command line. They normally use an application programming interface or API that lets us interact with the Cloud infrastructure directly from our scripts. \n",
    "\n",
    "Hybrid Cloud setup, or only part of the services are in the Cloud\n",
    "Orchestration tools can be a pretty useful tool to make sure that both the on-premise services and the Cloud services know how to talk to each other and are configured with the right settings\n",
    "\n",
    "Automation is when we set up a single step in a process to require no oversight, while orchestration refers to automating the entire process.\n",
    "\n",
    "Going back to the website example that we discussed earlier to make sure that the service is running smoothly, we should set up a monitoring and alerting. This lets us detect and correct any problems with our service before users even notice. This is a critical piece of infrastructure but setting it up correctly can take quite some time. By using orchestration tools, we can automate the configuration of any monitoring rules that we need to set, which metrics we want to look for, when we want to be alerted, and so on, and automatically apply these to a complete deployment no matter which datacenter the services are running in"
   ]
  },
  {
   "cell_type": "markdown",
   "metadata": {},
   "source": [
    "Cloud Infrastructure as Code\n",
    "\n",
    "Infrastructure as Code, and we called out that storing our infrastructure in a code like format, lets us create repeatable infrastructure, and that using Version control for the storage, means that we can keep a history of what we've done and easily rollback mistakes. These principles also apply to Cloud infrastructure.\n",
    "\n",
    "This lets us manage large-scale solutions with a small team. We can very quickly have an idea of what the deployment looks like, by looking at the configuration. We can try new things out and roll back if anything goes wrong. We can look at the history of changes to figure out why a specific change was made, and much more.\n",
    "\n",
    "Most Cloud providers offer their own tool for managing resources as code. Amazon has Cloud Formation, Google has Cloud Deployment Manager, Microsoft has Azure Resource Manager, and OpenStack has Heat Orchestration Templates\n",
    "An option that's becoming really popular in the Orchestration field, is called Terraform\n",
    "Puppet itself also ships with a bunch of plug-ins that can be used to interact with the different Cloud providers to create and modify the desired Cloud infrastructure.\n",
    "\n",
    "When dealing with nodes in the Cloud, there are basically two options. Either they're long-lived and their contents need to be periodically updated, or they are short-lived and updates are made by deleting the old instances and deploying new ones\n",
    "\n",
    "Long-lived instances : Update periodically\n",
    "Short-lived instances : Updata when start"
   ]
  },
  {
   "cell_type": "markdown",
   "metadata": {},
   "source": [
    "## Create VM template and Automate deployment"
   ]
  },
  {
   "cell_type": "markdown",
   "metadata": {},
   "source": [
    "git clone https://www.github.com/google/it-cert-automation-practice.git\n",
    "cd ~/it-cert-automation-practice/Course5/Lab3\n",
    "ls\n",
    "sudo cp hello_cloud.py /usr/local/bin/\n",
    "sudo cp hello_cloud.service /etc/systemd/system\n",
    "sudo systemctl enable hello_cloud.service\n",
    "\n",
    "gcloud compute instances create --zone us-west1-b --source-instance-template vm1-template vm2 vm3 vm4 vm5 vm6 vm7 vm8\n",
    "gcloud compute instances list"
   ]
  }
 ],
 "metadata": {
  "kernelspec": {
   "display_name": "Python 3",
   "language": "python",
   "name": "python3"
  },
  "language_info": {
   "codemirror_mode": {
    "name": "ipython",
    "version": 3
   },
   "file_extension": ".py",
   "mimetype": "text/x-python",
   "name": "python",
   "nbconvert_exporter": "python",
   "pygments_lexer": "ipython3",
   "version": "3.6.10"
  }
 },
 "nbformat": 4,
 "nbformat_minor": 4
}
