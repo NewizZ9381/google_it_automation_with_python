{
 "cells": [
  {
   "cell_type": "markdown",
   "metadata": {},
   "source": [
    "## Cloud Computing"
   ]
  },
  {
   "cell_type": "markdown",
   "metadata": {},
   "source": [
    "Cloud Services Overview\n",
    "\n",
    "Software as a Service or SaaS, is when a Cloud provider delivers an entire application or program to the customer\n",
    "Platform as a Service or PaaS, is when a Cloud provider offers a preconfigured platform to the customer\n",
    "Infrastructure as a Service or IaaS, is when a Cloud provider supplies only the bare-bones computing experience\n",
    "\n",
    "Region is a geographical location containing a number of data centers, regions contain zones and zones can contain one or more physical data centers\n",
    "\n",
    "The region and zone you select should be closest to your users, the further your users are from the physical data center the more latency they may experience\n",
    "\n",
    "It's common practice to locate data centers close to where users actually live, work, and bank\n",
    "\n",
    "Latency isn't the only factor to take into account when selecting a region or zone, some organizations require their data to be stored in specific cities or countries for legal or policy reasons\n",
    "\n",
    "If your service uses other services as dependencies, it's a good idea to host the service physically close to its dependencies"
   ]
  },
  {
   "cell_type": "markdown",
   "metadata": {},
   "source": [
    "Scaling in the Cloud\n",
    "\n",
    "In a traditional IT setting, it takes a significant amount of time to modify the capacity of the deployment.\n",
    "\n",
    "Capacity : is how much the service can deliver.\n",
    "This capacity change is called scaling. \n",
    "In particular, we call it upscaling when we increase our capacity and downscaling when we decrease it.\n",
    "\n",
    "There are a couple of different ways that we can scale our service in the Cloud, horizontally and vertically. To scale a deployment horizontally, we add more nodes into the pool that's part of a specific service.\n",
    "If you're scaling a deployment vertically, it means you're making your nodes bigger. When we say bigger here we're talking about the resources assigned to the nodes like memories, CPU, and disk space.\n",
    "\n",
    "Depending on our deployment and our needs, we might need to scale both horizontally and vertically to scale the capacity of our service.\n",
    "\n",
    "When talking about scaling in the Cloud, another aspect we need to take into account is whether the scaling is done automatically or manually.\n",
    "Automatic scaling, we're using a service offered by the Cloud provider. This service uses metrics to automatically increase or decrease the capacity of the system.\n",
    "But make sure you set a reasonable quotas for your autoscaling systems.\n",
    "Manual scaling means that changes are controlled by humans instead of software\n"
   ]
  },
  {
   "cell_type": "markdown",
   "metadata": {},
   "source": [
    "Evaluating the Cloud\n",
    "\n",
    "Software as a service, we're basically giving the provider complete control of how the application runs. We have a limited amount of settings that we can change.\n",
    "Platform as a service, If we need to create our own applications. With this option, we're in charge of the code, but we aren't in control of running the application\n",
    "Infrastructure as a service, where we can still keep a high level of control. We decide the operating system that runs on the virtual machines, the applications that are installed on it, and so on. \n",
    "\n",
    "We'll still depend on the vendor for other aspects of the deployment, like the network configuration or the services availability. If something does break, you might need to get support from the vendor to fix the problem. So when choosing a cloud provider, it's important to know what kind of support is available and select the one that fits your needs.\n",
    "\n",
    "Security : certifications like SOC 1, ISO 27001\n",
    "\n",
    "We should always use reasonable judgment to protect the machines that we deploy ,whether that's on physical server is running on-premise or on virtual machines in the Cloud\n",
    "\n",
    "Some highly sensitive deployments might warrant specialized security procedures, like \n",
    "1) multi-factor authentication, \n",
    "2) encrypted file systems, or \n",
    "3) public key cryptography. \n",
    "But these processes can also be expensive to implement. \n",
    "\n",
    "In a way, cloud services are a little like actual clouds. They come in all different shapes and sizes. And sometimes a dark stormy one comes along to rain on your productive day.\n",
    "But if you prepare an advance with the right security measures and maybe an umbrella, working in the cloud will be nothing but a breeze."
   ]
  },
  {
   "cell_type": "markdown",
   "metadata": {},
   "source": [
    "Migrating to the Cloud\n",
    "\n",
    "IaaS is especially useful to administrators using a lift and shift strategy\n",
    "When we migrate from traditional server configurations to the Cloud, we lift the current configuration and shift it to a virtual machine.\n",
    "\n",
    "The key thing to note with both approaches, is that the servers core configurations stay the same. It's the same software that needs to be installed on the machine to provide its functionality, no matter if the server is hosted physically on-site or virtually in the Cloud.\n",
    "\n",
    "Platform as a Service or PaaS. This is well-suited for when you have a specific infrastructure requirement, but you don't want to be involved in the day-to-day management of the platform.\n",
    "\n",
    "Containers : are applications that are packaged together with their configuration and dependencies. This makes migrating from one platform to the other super easy. \n",
    "\n",
    "1) Public Clouds : The cloud services provided to you by a third party\n",
    "2) Private Clouds :  When your company owns the services and the rest of your infrastructure, whether that's on-site or in a remote data center\n",
    "3) Hybrid Clouds : A mixture of both public and private Clouds. The trick to making the most of the hybrid Cloud is ensuring that everything is integrated smoothly.\n",
    "4) Multi-Clouds : A mixture of public and/or private Clouds across vendors. Using multi-Clouds can be expensive, but it gives you extra protection. If one of your providers has a problem, your service can keep running on the infrastructure provided by a different provider"
   ]
  },
  {
   "cell_type": "markdown",
   "metadata": {},
   "source": [
    "## Managing Instances in the Cloud"
   ]
  },
  {
   "cell_type": "markdown",
   "metadata": {},
   "source": [
    "Spinning up VMs in the Cloud\n",
    "\n",
    "It's a good idea to start just by familiarizing yourself with the platform before you try to do something with it\n",
    "\n",
    "Name\n",
    "Region\n",
    "Zone\n",
    "Machine Type : Processing units (virtual CPUs), Memory\n",
    "Boot disk\n",
    "\n",
    "As a sysadmin, you may need to decide between costs and processing power to fit the needs of your organization.\n",
    "When setting up instances like these, it's a good idea to start small and scale as needed.\n",
    "\n",
    "Web UI :  Can be very useful for quickly inspecting the parameters that we need to set. Compare the different options available and even show us an estimation of how much money our selected VM would cost per month. This is great for experimenting\n",
    "CLI : Scale well if we need to quickly create a bunch of machines or if we want to automate the creation\n",
    "\n",
    "Reference images : store the contents of a machine in a reusable format\n",
    "Templating : is the process of capturing all of the system configuration to let us create VMS in a repeatable way\n",
    "A disk image : is a snapshot of a virtual machine's disk at a given point in time."
   ]
  },
  {
   "cell_type": "markdown",
   "metadata": {},
   "source": [
    "Creating a New VM Using the GCP Web UI\n",
    "\n",
    "cat /etc/lsb-release\n",
    "curl wttr.in"
   ]
  },
  {
   "cell_type": "markdown",
   "metadata": {},
   "source": [
    "Customizing VMs in GCP\n",
    "\n",
    "Remember that a reference image is just a file or configuration that we can deploy repeatedly and with automated tools\n",
    "\n",
    "git clone https://github.cin/blue-kale/hello\n",
    "cd hello/\n",
    "ls -l\n",
    "./hello_cloud.py\n",
    "sudo ./hello_cloud.py 80\n",
    "\n",
    "cat hello_cloud.service\n",
    "sudo cp hello_cloud.py /usr/local/bin/\n",
    "sudo cp hello_cloud.service /etc/systemd/system\n",
    "sudo systemctl enable hello_cloud\n",
    "sudo reboot\n",
    "\n",
    "ps ax | grep hello\n",
    "\n",
    "sudo apt install puppet\n",
    "./hello/setup_puppet.sh"
   ]
  },
  {
   "cell_type": "markdown",
   "metadata": {},
   "source": [
    "Templating a Customized VM\n",
    "\n",
    "UI : Create an instance template VM -> stop VM -> click on machine name -> boot disk -> Create Image -> Fill information\n",
    "Instance templates -> Create instance template -> Fill information -> boot disk -> choose Custom image (our image) -> Create -> VM instances -> + Create instance -> New VM instance from template -> choose our template -> check information -> Create\n",
    "\n",
    "CLI : gcloud command\n",
    "gcloud init\n",
    "gcloud compute instances create --source-instance-template webserver-template ws1 ws2 ws3 ws4 ws5"
   ]
  },
  {
   "cell_type": "markdown",
   "metadata": {},
   "source": [
    "## Automating Cloud Deployments"
   ]
  },
  {
   "cell_type": "code",
   "execution_count": null,
   "metadata": {},
   "outputs": [],
   "source": []
  }
 ],
 "metadata": {
  "kernelspec": {
   "display_name": "Python 3",
   "language": "python",
   "name": "python3"
  },
  "language_info": {
   "codemirror_mode": {
    "name": "ipython",
    "version": 3
   },
   "file_extension": ".py",
   "mimetype": "text/x-python",
   "name": "python",
   "nbconvert_exporter": "python",
   "pygments_lexer": "ipython3",
   "version": "3.8.1"
  }
 },
 "nbformat": 4,
 "nbformat_minor": 4
}
