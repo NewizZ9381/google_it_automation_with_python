{
 "cells": [
  {
   "cell_type": "markdown",
   "metadata": {},
   "source": [
    "## Deploying Puppet Locally"
   ]
  },
  {
   "cell_type": "markdown",
   "metadata": {},
   "source": [
    "Applying Rules Locally\n",
    "\n",
    "Puppet is usually deployed in a client-server architecture. But that's not the only way we can use Puppet. We can also use it as a stand-alone application run from the command line. \n",
    "This is common when testing new configurations."
   ]
  },
  {
   "cell_type": "markdown",
   "metadata": {},
   "source": [
    "sudo apt install puppet-master"
   ]
  },
  {
   "cell_type": "markdown",
   "metadata": {},
   "source": [
    "To do this, we first have to create a file where we'll store the rules that we want to apply. In Puppet lingo, these files are called manifests and they must end with a.pp extension"
   ]
  },
  {
   "cell_type": "markdown",
   "metadata": {},
   "source": [
    "vim tools.pp"
   ]
  },
  {
   "cell_type": "markdown",
   "metadata": {},
   "source": [
    "package { 'htop' :\n",
    "    ensure => present,\n",
    "}"
   ]
  },
  {
   "cell_type": "markdown",
   "metadata": {},
   "source": [
    "htop\n",
    "Command 'htop' not found, but can be installed with:"
   ]
  },
  {
   "cell_type": "markdown",
   "metadata": {},
   "source": [
    "sudo puppet apply -v tools.pp"
   ]
  },
  {
   "cell_type": "markdown",
   "metadata": {},
   "source": [
    "htop"
   ]
  },
  {
   "cell_type": "markdown",
   "metadata": {},
   "source": [
    "sudo puppet apply -v tools.pp"
   ]
  },
  {
   "cell_type": "markdown",
   "metadata": {},
   "source": [
    "The catalog : is the list of rules that are generated for one specific computer once the server has evaluated all variables, conditionals, and functions. More complex sets of rules can lead to different catalogs depending on fact values."
   ]
  },
  {
   "cell_type": "markdown",
   "metadata": {},
   "source": [
    "Managing Resource Relationships"
   ]
  },
  {
   "cell_type": "markdown",
   "metadata": {},
   "source": [
    "vim ntp.pp"
   ]
  },
  {
   "cell_type": "markdown",
   "metadata": {},
   "source": [
    "class ntp {\n",
    "    package { 'ntp':\n",
    "        ensure => latest,\n",
    "    }\n",
    "    file { '/etc/ntp.conf':\n",
    "        source => '/home/user/ntp.conf',\n",
    "        replace => true,\n",
    "        require => Package['ntp'],\n",
    "        notify => Service['ntp'],\n",
    "    }\n",
    "    service { 'ntp':\n",
    "        enable => true,\n",
    "        ensure => running,\n",
    "        require => File['/etc/ntp.conf'],\n",
    "    }\n",
    "}\n",
    "\n",
    "include ntp"
   ]
  },
  {
   "cell_type": "markdown",
   "metadata": {},
   "source": [
    "This is part of Puppet syntax. We write resource types in lowercase when declaring them, but capitalize them when referring to them from another resource's attributes"
   ]
  },
  {
   "cell_type": "markdown",
   "metadata": {},
   "source": [
    "sudo puppet apply -v ntp.pp\n",
    "vim ntp.conf\n",
    "Change to google\n",
    "sudo puppet apply -v ntp.pp"
   ]
  },
  {
   "cell_type": "markdown",
   "metadata": {},
   "source": [
    "Organizing Your Puppet Modules\n",
    "\n",
    "Module : is a collection of manifests and associated data.\n",
    "1) Manifests : pp file\n",
    "2) Files :  files that are copied into the client machines without any changes, like the ntp.conf file\n",
    "3) Templates : files that are preprocessed before they've been copied into the client machines.\n",
    "These templates can include values that get replaced after calculating the manifests, or sections that are only present if certain conditions are valid. "
   ]
  },
  {
   "cell_type": "markdown",
   "metadata": {},
   "source": [
    "tree modules/"
   ]
  },
  {
   "cell_type": "markdown",
   "metadata": {},
   "source": [
    "sudo apt install puppet-module-puppetlabs-apache\n",
    "cd /usr/share/puppet/modules.available/puppetlabs-apache/\n",
    "ls -l\n",
    "ls -l manifests/"
   ]
  },
  {
   "cell_type": "markdown",
   "metadata": {},
   "source": [
    "cd\n",
    "vim webserver.pp"
   ]
  },
  {
   "cell_type": "markdown",
   "metadata": {},
   "source": [
    "include ::apache\n",
    ":wq"
   ]
  },
  {
   "cell_type": "markdown",
   "metadata": {},
   "source": [
    "sudo puppet apply -v webserver.pp"
   ]
  },
  {
   "cell_type": "markdown",
   "metadata": {},
   "source": [
    "## Deploying Puppet to Clients"
   ]
  },
  {
   "cell_type": "markdown",
   "metadata": {},
   "source": [
    "In an earlier video, we saw how to conditionally apply some rules using facts from the machines. Another way to apply different rules to different systems is to use separate node definitions.\n",
    "\n",
    "Node : is any system where we can run a Puppet agent\n",
    "\n",
    "When setting up Puppet, we usually have a default node definition that lists the classes that should be included for all the nodes."
   ]
  },
  {
   "cell_type": "markdown",
   "metadata": {},
   "source": [
    "node default {\n",
    "    class { 'sudo': }\n",
    "    class { 'ntp':\n",
    "        servers => ['ntp1.example.com', 'ntp2.example.com']\n",
    "    }\n",
    "}"
   ]
  },
  {
   "cell_type": "markdown",
   "metadata": {},
   "source": [
    "FQDN : Fully Qualified Domain Names"
   ]
  },
  {
   "cell_type": "markdown",
   "metadata": {},
   "source": [
    "node webserver.example.com {\n",
    "    class { 'sudo': }\n",
    "    class { 'ntp':\n",
    "        servers => ['ntp1.example.com', 'ntp2.example.com']\n",
    "    }\n",
    "    class { 'apache': }\n",
    "}"
   ]
  },
  {
   "cell_type": "markdown",
   "metadata": {},
   "source": [
    "site.pp : node definition"
   ]
  },
  {
   "cell_type": "markdown",
   "metadata": {},
   "source": [
    "Puppet's Certificate Infrastructure\n",
    "\n",
    "Puppet uses public key infrastructure, or PKI, to establish secure connections between the server and the clients.\n",
    "There's a bunch of different types of public key technologies. The one used by Puppet is secure sockets layer or SSL.\n",
    "This is the same technology used for encrypting transmissions over HTTPS. The clients use this infrastructure to check the server's identity, and the server uses it to check the client's identity, and all communication is done over an encrypted channel that uses these identities so it can't be intercepted by other parties.\n",
    "\n",
    "But how do machines know which public keys to trust? This is where a certificate authority, or CA comes in. The CA verifies the identity of the machine and then creates a certificate stating that the public key goes with that machine\n",
    "\n",
    "Why do we care so much about the identity of the nodes?\n",
    "1) Puppet rules can sometimes include confidential information that you don't want to fall in the wrong hands\n",
    "2) You want to be sure that the machine you're setting up as your web server really is your web server and not a rogue machine that just claims to have the same name.\n",
    "\n",
    "Remember that it's better to be safe than sorry. So always take the time to authenticate your machines. \n",
    "\n",
    "You'll want to write a script that verifies the identity of the machines automatically for you. One way to do this is by copying a unique piece of information into the machines when they get provisioned and then use this pre-shared data as part of the certificate request. That way, your script can verify that the machines are who they claim to be without involving any humans."
   ]
  },
  {
   "cell_type": "markdown",
   "metadata": {},
   "source": [
    "sudo puppet config --section master set autosign true\n",
    "ssh webserver\n",
    "sudo apt install puppet\n",
    "sudo puppet config set server ubuntu.example.com\n",
    "sudo puppet agent -v --test"
   ]
  },
  {
   "cell_type": "markdown",
   "metadata": {},
   "source": [
    "vim /etc/puppet/code/environments/production/manifests/site.pp"
   ]
  },
  {
   "cell_type": "markdown",
   "metadata": {},
   "source": [
    "node webserver.example.com {\n",
    "    class { 'apache':}\n",
    "}\n",
    "\n",
    "node default {}"
   ]
  },
  {
   "cell_type": "markdown",
   "metadata": {},
   "source": [
    "sudo puppet agent -v --test"
   ]
  },
  {
   "cell_type": "markdown",
   "metadata": {},
   "source": [
    "sudo systemctl enable puppet\n",
    "sudo systemctl start puppet\n",
    "sudo systemctl status puppet"
   ]
  },
  {
   "cell_type": "markdown",
   "metadata": {},
   "source": [
    "## Updating Deployments"
   ]
  },
  {
   "cell_type": "markdown",
   "metadata": {},
   "source": [
    "Modifying and Testing Manifests\n",
    "\n",
    "We've done this in some of our examples where we applied the rules locally before applying them to remote machines, this approach can backfire though. Say you're trying to use puppet to change the permissions of some files on the nose locking down some paths that you don't think that your users will need. Now imagine you try out the rules on your computer and discover you made a mistake and locked yourself out.\n",
    "1) Use the puppet parser validate command that checks that the syntax of the manifests is correct\n",
    "2) We can also run the rules using the- - Noop parameter the name comes from no operations and it makes puppet simulate what it would do without actually doing it\n",
    "3) You could use is having test machines that are used only for testing out changes. You can apply the rules there and after a puppet has run check that everything's working correctly. But again, this is a manual process and we might forget to verify something important.\n",
    "4) rspec test : We can set the facts involved different values and check that the catalog ends up stating what we wanted it to"
   ]
  },
  {
   "cell_type": "markdown",
   "metadata": {},
   "source": [
    "describe 'gksu', :type => :class do\n",
    "    let (:facts) { { 'is_virtual' => 'false' } }\n",
    "    it { should contain_package('gksu').with_ensure('latest') }\n",
    "end"
   ]
  },
  {
   "cell_type": "markdown",
   "metadata": {},
   "source": [
    "Safely Rolling out Changes and Validating Them\n",
    "\n",
    "Even if you've tested the change on your computer or on a test computer and it worked just fine, it doesn't mean that the change will work correctly on all machines running in production\n",
    "\n",
    "Production : is the parts of the infrastructure where a service is executed and served to its users.\n",
    "\n",
    "So how can we roll out changes safely? \n",
    "The key is to always run them through a test environment first.\n",
    "\n",
    "You could have a development environment for IT specialists to try out new Puppet rules before they even reach the test environment\n",
    "\n",
    "So instead of pushing the changes to all nodes, we usually do it in batches.\n",
    "You could have some machines with the fact that marks them as early adopters or canaries. Like the canaries that coal miners used to detect toxic gases in the mines, these nodes detect potential issues before they reach the other computers.\n",
    "\n",
    "It's a good idea for these changes to be small and self-contained. That way, if something breaks, it's much easier to figure out where the problem was."
   ]
  },
  {
   "cell_type": "markdown",
   "metadata": {},
   "source": [
    "## Finish a Puppet Deployment"
   ]
  },
  {
   "cell_type": "markdown",
   "metadata": {},
   "source": [
    "1) Install packages"
   ]
  },
  {
   "cell_type": "markdown",
   "metadata": {},
   "source": [
    "cd /etc/puppet/code/environments/production/modules/packages\n",
    "cat manifests/init.pp\n",
    "sudo chmod 646 manifests/init.pp"
   ]
  },
  {
   "cell_type": "markdown",
   "metadata": {},
   "source": [
    "class packages {\n",
    "\n",
    "    package { 'python-requests':\n",
    "        ensure => installed,\n",
    "    }\n",
    "\n",
    "\n",
    "}"
   ]
  },
  {
   "cell_type": "markdown",
   "metadata": {},
   "source": [
    "if $facts[os][family] == \"Debian\" {\n",
    "# Resource entry to install golang package\n",
    "}"
   ]
  },
  {
   "cell_type": "markdown",
   "metadata": {},
   "source": [
    "if $facts[os][family] == \"Debian\" {\n",
    "     package { 'golang':\n",
    "       ensure => installed,\n",
    "     }\n",
    "  }"
   ]
  },
  {
   "cell_type": "markdown",
   "metadata": {},
   "source": [
    "class packages {\n",
    "   package { 'python-requests':\n",
    "       ensure => installed,\n",
    "   }\n",
    "   if $facts[os][family] == \"Debian\" {\n",
    "     package { 'golang':\n",
    "       ensure => installed,\n",
    "     }\n",
    "  }\n",
    "}"
   ]
  },
  {
   "cell_type": "markdown",
   "metadata": {},
   "source": [
    "if $facts[os][family] == \"RedHat\" {\n",
    "  #Resource entry\n",
    "}"
   ]
  },
  {
   "cell_type": "markdown",
   "metadata": {},
   "source": [
    "class packages {\n",
    "   package { 'python-requests':\n",
    "       ensure => installed,\n",
    "   }\n",
    "   if $facts[os][family] == \"Debian\" {\n",
    "     package { 'golang':\n",
    "       ensure => installed,\n",
    "     }\n",
    "  }\n",
    "   if $facts[os][family] == \"RedHat\" {\n",
    "     package { 'nodejs':\n",
    "       ensure => installed,\n",
    "     }\n",
    "  }\n",
    "}"
   ]
  },
  {
   "cell_type": "markdown",
   "metadata": {},
   "source": [
    "gcloud compute instances describe linux-instance --zone=us-central1-a --format='get(networkInterfaces[0].accessConfigs[0].natIP)'"
   ]
  },
  {
   "cell_type": "markdown",
   "metadata": {},
   "source": [
    "#On linux-instance VM\n",
    "\n",
    "sudo puppet agent -v --test\n",
    "apt policy golang"
   ]
  },
  {
   "cell_type": "markdown",
   "metadata": {},
   "source": [
    "2) Fetch machine information"
   ]
  },
  {
   "cell_type": "markdown",
   "metadata": {},
   "source": [
    "cd /etc/puppet/code/environments/production/modules/machine_info\n",
    "cat manifests/init.pp\n",
    "sudo chmod 646 manifests/init.pp"
   ]
  },
  {
   "cell_type": "markdown",
   "metadata": {},
   "source": [
    "class machine_info {\n",
    "\n",
    "    file { '/tmp/machine_info.txt':\n",
    "        content => template('machine_info/info.erb'),\n",
    "    }\n",
    "\n",
    "\n",
    "}"
   ]
  },
  {
   "cell_type": "markdown",
   "metadata": {},
   "source": [
    "  if $facts[kernel] == \"windows\" {\n",
    "       $info_path = \"C:\\Windows\\Temp\\Machine_Info.txt\"\n",
    "  } else {\n",
    "       $info_path = \"/tmp/machine_info.txt\"\n",
    "  }"
   ]
  },
  {
   "cell_type": "markdown",
   "metadata": {},
   "source": [
    "class machine_info {\n",
    "   file { '/tmp/machine_info.txt':\n",
    "       content => template('machine_info/info.erb'),\n",
    "   }\n",
    "   if $facts[kernel] == \"windows\" {\n",
    "       $info_path = \"C:\\Windows\\Temp\\Machine_Info.txt\"\n",
    "   } else {\n",
    "       $info_path = \"/tmp/machine_info.txt\"\n",
    "   }\n",
    "}"
   ]
  },
  {
   "cell_type": "markdown",
   "metadata": {},
   "source": [
    "   file { '/tmp/machine_info.txt':\n",
    "       content => template('machine_info/info.erb'),\n",
    "   }"
   ]
  },
  {
   "cell_type": "markdown",
   "metadata": {},
   "source": [
    "   file { 'machine_info':\n",
    "        path => $info_path,\n",
    "        content => template('machine_info/info.erb'),\n",
    "    }"
   ]
  },
  {
   "cell_type": "markdown",
   "metadata": {},
   "source": [
    "class machine_info {\n",
    "  if $facts[kernel] == \"windows\" {\n",
    "       $info_path = \"C:\\Windows\\Temp\\Machine_Info.txt\"\n",
    "   } else {\n",
    "       $info_path = \"/tmp/machine_info.txt\"\n",
    "   }\n",
    " file { 'machine_info':\n",
    "       path => $info_path,\n",
    "       content => template('machine_info/info.erb'),\n",
    "   }\n",
    "}"
   ]
  },
  {
   "cell_type": "markdown",
   "metadata": {},
   "source": [
    "cat templates/info.erb\n",
    "sudo chmod 646 templates/info.erb\n",
    "Network Interfaces: <%= @interfaces %>\n",
    "\n",
    "Machine Information\n",
    "-------------------\n",
    "Disks: <%= @disks %>\n",
    "Memory: <%= @memory %>\n",
    "Processors: <%= @processors %>\n",
    "Network Interfaces: <%= @interfaces %>\n",
    "}\n",
    "\n",
    "sudo puppet agent -v --test\n",
    "cat /tmp/machine_info.txt"
   ]
  },
  {
   "cell_type": "markdown",
   "metadata": {},
   "source": [
    "3) Reboot machine"
   ]
  },
  {
   "cell_type": "markdown",
   "metadata": {},
   "source": [
    "sudo mkdir -p /etc/puppet/code/environments/production/modules/reboot/manifests\n",
    "cd /etc/puppet/code/environments/production/modules/reboot/manifests\n",
    "sudo touch init.pp\n",
    "sudo nano init.pp"
   ]
  },
  {
   "cell_type": "markdown",
   "metadata": {},
   "source": [
    "class reboot {\n",
    "  if $facts[kernel] == \"windows\" {\n",
    "    $cmd = \"shutdown /r\"\n",
    "  } elsif $facts[kernel] == \"Darwin\" {\n",
    "    $cmd = \"shutdown -r now\"\n",
    "  } else {\n",
    "    $cmd = \"reboot\"\n",
    "  }\n",
    "}"
   ]
  },
  {
   "cell_type": "markdown",
   "metadata": {},
   "source": [
    "if $facts[uptime_days] > 30 {\n",
    "        exec { 'reboot':\n",
    "           command => $cmd,\n",
    "        }\n",
    "    }"
   ]
  },
  {
   "cell_type": "markdown",
   "metadata": {},
   "source": [
    "class reboot {\n",
    "  if $facts[kernel] == \"windows\" {\n",
    "    $cmd = \"shutdown /r\"\n",
    "  } elsif $facts[kernel] == \"Darwin\" {\n",
    "    $cmd = \"shutdown -r now\"\n",
    "  } else {\n",
    "    $cmd = \"reboot\"\n",
    "  }\n",
    "  if $facts[uptime_days] > 30 {\n",
    "    exec { 'reboot':\n",
    "      command => $cmd,\n",
    "     }\n",
    "   }\n",
    "}"
   ]
  },
  {
   "cell_type": "markdown",
   "metadata": {},
   "source": [
    "sudo nano /etc/puppet/code/environments/production/manifests/site.pp "
   ]
  },
  {
   "cell_type": "markdown",
   "metadata": {},
   "source": [
    "node default {\n",
    "   class { 'packages': }\n",
    "   class { 'machine_info': }\n",
    "   class { 'reboot': }\n",
    "}"
   ]
  },
  {
   "cell_type": "markdown",
   "metadata": {},
   "source": [
    "sudo puppet agent -v --test"
   ]
  },
  {
   "cell_type": "markdown",
   "metadata": {},
   "source": []
  },
  {
   "cell_type": "markdown",
   "metadata": {},
   "source": []
  }
 ],
 "metadata": {
  "kernelspec": {
   "display_name": "Python 3",
   "language": "python",
   "name": "python3"
  },
  "language_info": {
   "codemirror_mode": {
    "name": "ipython",
    "version": 3
   },
   "file_extension": ".py",
   "mimetype": "text/x-python",
   "name": "python",
   "nbconvert_exporter": "python",
   "pygments_lexer": "ipython3",
   "version": "3.8.1"
  }
 },
 "nbformat": 4,
 "nbformat_minor": 4
}
