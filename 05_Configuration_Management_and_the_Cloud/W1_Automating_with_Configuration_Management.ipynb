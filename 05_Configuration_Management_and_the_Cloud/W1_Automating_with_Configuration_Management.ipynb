{
 "cells": [
  {
   "cell_type": "markdown",
   "metadata": {},
   "source": [
    "## Introduction to Automation at Scale"
   ]
  },
  {
   "cell_type": "markdown",
   "metadata": {},
   "source": [
    "Automating with Configuration Management\n",
    "\n",
    "Scale : Being able to scale what we do means that we can keep achieving larger impacts with the same amount of effort when a system scales.\n",
    "a scalable system is a flexible one\n",
    " \n",
    "These concepts are the building blocks for letting us manage a growing number of devices without having to grow the team in charge of them.\n",
    "\n",
    "Puppet : The configuration management tool\n",
    "\n",
    "Knowing how to automatically manage the configuration of the devices in your fleet will let your team handle a lot more work with the same amount of people. It also frees up time to do more interesting stuff since all the boring tasks can get automated.\n",
    "\n",
    "Automation is an essential tool for keeping up with the infrastructure needs of a growing business.\n",
    "\n",
    "Configuration Management : how we can use configuration management to maintain the computers in our fleet\n",
    "It means using a configuration management system to handle all of the configuration of the devices in your fleet, also known as nodes. \n",
    "A configuration management tool can take the rules you define and apply them to the systems that it manages, making changes efficient and consistent. \n",
    "\n",
    "Unmanaged Configuration : By manually deploying the installation and configuring the computer\n",
    "\n",
    "Configuration Management Tool : Puppet, Chef, Ansible, CFEngine\n",
    "Puppet : it's the current industry standard for configuration management\n",
    "\n",
    "Infrastructure as code (IaC) : how we can all benefit from treating our infrastructure as code\n",
    "This means that we can model the behavior of our IT infrastructure in files that can be processed by automatic tools. These files can then be tracked in a version control system.\n",
    "The paradigm of storing all the configuration for the managed devices in version controlled files\n",
    "when all of the configuration necessary to deploy and manage a node in the infrastructure is stored in version control\n",
    "\n",
    "The principals of Infrastructure as Code are commonly applied in cloud computing environments, where machines are treated like interchangeable resources, instead of individual computers. This principle is also known as treating your computers as cattle instead of pets because you care for them as a group rather than individually.\n",
    "\n",
    "One valuable benefit of this process is that the configuration applied to the device doesn't depend on a human remembering to follow all the necessary steps.\n",
    "Rest assured, silly human, the result will always be the same, making the deployment consistent.\n",
    "\n",
    "To sum all of this up, managing your Infrastructure as Code it means that your fleet of nodes are \n",
    "1) consistent, \n",
    "2) versioned, \n",
    "3) reliable, \n",
    "4) and repeatable.\n",
    "\n",
    "Viewing your infrastructure in this way helps your IT team adapt and stay flexible. The technology industry is constantly changing and evolving. Automation and configuration management can help you embrace that change instead of avoiding it"
   ]
  },
  {
   "cell_type": "markdown",
   "metadata": {},
   "source": [
    "## Introduction to Puppet"
   ]
  },
  {
   "cell_type": "markdown",
   "metadata": {},
   "source": [
    "Puppet is the current industry standard for managing the configuration of computers in a fleet of machines.\n",
    "Cross platform, Open source\n",
    "\n",
    "We typically deploy puppet using a client-server architecture. The client is known as the Puppet agent, and the service is known as the Puppet master. When using this model, the agent connects to the master and sends a bunch of facts that describe the computer to the master. The master then processes this information, generates the list of rules that need to be applied on the device, and sends this list back to the agent. The agent is then in charge of making any necessary changes on the computer."
   ]
  },
  {
   "cell_type": "markdown",
   "metadata": {},
   "source": [
    "#Example rule\n",
    "\n",
    "class sudo{\n",
    "\n",
    "    package { 'sudo':\n",
    "        ensure => present,\n",
    "    }\n",
    "}"
   ]
  },
  {
   "cell_type": "markdown",
   "metadata": {},
   "source": [
    "Package management system\n",
    "Linux : APT, YUM, DNF\n",
    "MacOS : Apple Provider, MacPorts\n",
    "Windows : we'll need to add an extra attribute to our rule, stating where the installer file is located on the local desk or a network mounted resource. Puppet will then execute the installer and make sure that it finishes successfully. If you use Chocolatey to manage your windows packages, you can add an extra Chocolatey provider to Puppet to support that"
   ]
  },
  {
   "cell_type": "markdown",
   "metadata": {},
   "source": [
    "Puppet Resources\n",
    "Resources : are the basic unit for modeling the configuration that we want to manage."
   ]
  },
  {
   "cell_type": "markdown",
   "metadata": {},
   "source": [
    "class sysctl {\n",
    "    # Make sure the directory exists, some distros don't have it\n",
    "    file { '/etc/sysctl.d':\n",
    "        ensure => directory,\n",
    "    }\n",
    "    \n",
    "}"
   ]
  },
  {
   "cell_type": "markdown",
   "metadata": {},
   "source": [
    "class timezone{\n",
    "    \n",
    "    file { '/etc/timezone':\n",
    "        ensure => file,\n",
    "        content => \"UTC\\n\",\n",
    "        replace => True,\n",
    "    }\n",
    "    \n",
    "}"
   ]
  },
  {
   "cell_type": "markdown",
   "metadata": {},
   "source": [
    "How do these rules turn into changes in our computers? When we declare a resource in our puppet rules. We're defining the desired state of that resource in the system. The puppet agent then turns the desired state into reality using providers."
   ]
  },
  {
   "cell_type": "markdown",
   "metadata": {},
   "source": [
    "Puppet Classes"
   ]
  },
  {
   "cell_type": "markdown",
   "metadata": {},
   "source": [
    "class ntp {\n",
    "    package { 'ntp':\n",
    "        ensure => latest,\n",
    "    }\n",
    "    file { '/etc/ntp.conf':\n",
    "        source => 'puppet:///modules/ntp/ntp.conf'\n",
    "        replace => true,\n",
    "    }\n",
    "    service { 'ntp':\n",
    "        enable => true,\n",
    "        ensure => running,\n",
    "    }\n",
    "}"
   ]
  },
  {
   "cell_type": "markdown",
   "metadata": {},
   "source": [
    "In this case, we have a class with three resources, a package, a file, and a service. All of them are related to the Network Time Protocol, or NTP, the mechanism our computers use to synchronize the clocks. "
   ]
  },
  {
   "cell_type": "markdown",
   "metadata": {},
   "source": [
    "## The Building Blocks of Configuration Management"
   ]
  },
  {
   "cell_type": "markdown",
   "metadata": {},
   "source": [
    "Domain-Specific Languages (DSL) : A programming language that's more limited in scope\n",
    "\n",
    "In the case of Puppet, the DSL is limited to operations related to when and how to apply configuration management rules to our devices.\n",
    "\n",
    "On top of the basic resource types that we already checked out, Puppet's DSL includes \n",
    "1) variables\n",
    "2) conditional statements\n",
    "3) functions\n",
    "\n",
    "Puppet facts : Facts are variables that represent the characteristics of the system. \n",
    "When the Puppet agent runs, it calls a program called factor which analyzes the current system, storing the information it gathers in these facts. Once it's done, it sends the values for these facts to the server, which uses them to calculate the rules that should be applied. Puppet comes with a bunch of baked-in core facts that store useful information about the system like what the current OS is, how much memory the computer has whether it's a virtual machine or not or what the current IP address is. If the information we need to make a decision isn't available through one of these facts, we can also write a script that checks for the information and turns it into our own custom fact."
   ]
  },
  {
   "cell_type": "markdown",
   "metadata": {},
   "source": [
    "if $facts['is_virtual'] {\n",
    "    package { 'smartmontools' :\n",
    "        ensure => purged,\n",
    "    \n",
    "    }\n",
    "}   else {\n",
    "    package { 'smartmontools' :\n",
    "        ensure => installed,\n",
    "    }\n",
    "}"
   ]
  },
  {
   "cell_type": "markdown",
   "metadata": {},
   "source": [
    "In particular, the facts variable is what's known as a hash in the Puppet DSL, which is equivalent to a dictionary in Python."
   ]
  },
  {
   "cell_type": "markdown",
   "metadata": {},
   "source": [
    "class class_name {\n",
    "    resource_type { 'title' :\n",
    "        attribute -> value,\n",
    "    }\n",
    "    \n",
    "}"
   ]
  },
  {
   "cell_type": "markdown",
   "metadata": {},
   "source": [
    "The Driving Principles of Configuration Management\n",
    "\n",
    "Puppet uses a declarative language because we declare the state that we want to achieve rather than the steps to get there\n",
    "Traditional languages like Python or C are called procedural because we write out the procedure that the computer needs to follow to reach our desired goal. \n",
    "\n",
    "Just remember that when it comes to configuration management, it makes sense to simply state what the configuration should be, not what the computer should do to get there\n",
    "\n",
    "Idempotent action can be performed over and over again without changing the system after the first time the action was performed, and with no unintended side effects.\n",
    "If a script is idempotent, it means that it can fail halfway through its task and be run again without problematic consequences.\n",
    "\n",
    "Say you're running your configuration management system to setup a new server. Unfortunately, the setup fails because you forgot to add a second disk to the computer and the configuration required two disks. If your automation is idempotent, you can add the missing disk and then have the system pick up from where it left off. \n",
    "\n"
   ]
  },
  {
   "cell_type": "markdown",
   "metadata": {},
   "source": [
    "file { '/etc/issue/':\n",
    "    mode => '0644',\n",
    "    content => \"Internal system \\l \\n\",\n",
    "}"
   ]
  },
  {
   "cell_type": "markdown",
   "metadata": {},
   "source": [
    "ls -l example.txt\n",
    "mv example.txt Desktop/\n",
    "mv example.txt Desktop/ -> No such file or directory"
   ]
  },
  {
   "cell_type": "markdown",
   "metadata": {},
   "source": [
    "An exception to this is the exec resource, which runs commands for us. The actions taken by the exec resource might not be idempotent since a command might modify the system each time it's executed.\n",
    "\n",
    "So if we need to use the exec resource to run a command for us, we need to be careful to ensure that the action is idempotent. We could do that for example by using the onlyif attribute"
   ]
  },
  {
   "cell_type": "markdown",
   "metadata": {},
   "source": [
    "exec { 'move example file':\n",
    "    command => 'mv /home/user/example.txt /home/user/Desktop',\n",
    "    onlyif => 'test -e /home/user/example.txt',\n",
    "}"
   ]
  },
  {
   "cell_type": "markdown",
   "metadata": {},
   "source": [
    "Test and repair paradigm : This means that actions are taken only when they are necessary to achieve a goal. Puppet will first test to see if the resource being managed like a file or a package, actually needs to be modified. If the file exists in the place we want it to, no action needs to be taken.\n",
    "\n",
    "Puppet is stateless : this means that there's no state being kept between runs of the agent.Each Puppet run is independent of the previous one, and the next one."
   ]
  }
 ],
 "metadata": {
  "kernelspec": {
   "display_name": "Python 3",
   "language": "python",
   "name": "python3"
  },
  "language_info": {
   "codemirror_mode": {
    "name": "ipython",
    "version": 3
   },
   "file_extension": ".py",
   "mimetype": "text/x-python",
   "name": "python",
   "nbconvert_exporter": "python",
   "pygments_lexer": "ipython3",
   "version": "3.8.1"
  }
 },
 "nbformat": 4,
 "nbformat_minor": 4
}
