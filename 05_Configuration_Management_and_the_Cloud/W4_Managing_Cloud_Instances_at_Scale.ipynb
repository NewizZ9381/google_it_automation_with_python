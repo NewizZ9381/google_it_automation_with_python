{
 "cells": [
  {
   "cell_type": "markdown",
   "metadata": {},
   "source": [
    "## Building Software for the Cloud"
   ]
  },
  {
   "cell_type": "markdown",
   "metadata": {},
   "source": [
    "Storing Data in the Cloud\n",
    "\n",
    "Picking the right solution for data storage will depend on what service you're building. You'll need to consider a bunch of factors, like; \n",
    "1) how much data you want to store, \n",
    "2) what kind of data that is, \n",
    "3) what geographical locations you'll be using it in, \n",
    "4) whether you're mostly writing or reading the data, \n",
    "5) how often the data changes, or \n",
    "6) what your budget is. \n",
    "\n",
    "Block storage : traditional storage technologies (as a physical harddrive)\n",
    "Object or blob storage : new technologies\n",
    "\n",
    "Persistent storage : is used for instances that are long lived, and need to keep data across reboots and upgrades\n",
    "Ephemeral storage : is used for instances that are only temporary, and only need to keep local data while they're running  This type of storage is especially common when using containers, but it can also be useful when dealing with virtual. machines that only need to store data while they're running.\n",
    "In typical Cloud setups, each VM has one or more disks attached to the machine. The data on these disks is managed by the OS and can't be easily shared with other VMs.\n",
    "\n",
    "Shared file system solutions : that Cloud providers offer using the platform as a service model. When using these solutions, the data can be accessed through network file system protocols like NFS or CIFS\n",
    "\n",
    "Object storage : lets you place in retrieve objects in a storage bucket.\n",
    "Blob (Binary Large Objects)\n",
    "To interact with an object store, you need to use an API or special utilities that can interact with the specific object store that you're using.\n",
    "\n",
    "SQL databases : also known as relational, use the traditional database format and query language. Data is stored in tables with columns and rows that can be indexed, and we retrieve the data by writing SQL queries. \n",
    "NoSQL databases : offer a lot of advantages related to scale. They're designed to be distributed across tons of machines and are super fast when retrieving results. But instead of a unified query language, we need to use a specific API provided by the database.\n",
    "\n",
    "Storage class : Cloud providers typically offer different classes of storage at different prices. Variables like performance, availability, or how often the data is accessed will affect the monthly price\n",
    "The performance of a storage solution is influenced by a number of factors, including throughput, IOPS, and latency.\n",
    "1) Throughput : is the amount of data that you can read and write in a given amount of time.\n",
    "2) IOPS or input/output operations per second : measures how many reads or writes you can do in one second, no matter how much data you're accessing.\n",
    "3) Latency : is the amount of time it takes to complete a read or write operation.\n",
    "   Read Latency (Time to first byte)\n",
    "\n",
    "Hot data : is accessed frequently and stored in hot storage (Backend SSD)\n",
    "Cold data : is accessed infrequently,"
   ]
  },
  {
   "cell_type": "markdown",
   "metadata": {},
   "source": [
    "Load Balancer\n",
    "\n",
    "Round robin DNS : is a really common method for distributing tasks.\n",
    "Now, if we want to translate a URL like my service.example.com into an IP address, we use the DNS protocol or domain name system. In the simplest configuration, the URL always gets translated into exactly the same IP address. But when we configure our DNS to use round robin, it'll give each client asking for the translation a group of IP addresses in a different order. The clients will then pick one of the addresses to try to reach the service. If an attempt fails, the client will jump to another address on the list.\n",
    "\n",
    "Limitations\n",
    "1) You can't control which addresses get picked by the clients.\n",
    "2) DNS records are cached by the clients and other servers. So if you need to change the list of addresses for the instances, you'll have to wait until all of the DNS records that were cached by the clients expire\n",
    "\n",
    "Set up a server as a dedicated load balancer : This is a machine that acts as a proxy between the clients and the servers.\n",
    "\n",
    "Sticky sessions : means all requests from the same client always go to the same back end server\n",
    "\n",
    "Performing health checks\n",
    "\n",
    "Geo DNS, GEOIP : These are DNS configurations that will direct your clients to the closest geographical load balancer\n",
    "\n",
    "Content delivery networks (CDNs) : They make up a network of physical hosts that are geographically located as close to the end user as possible."
   ]
  },
  {
   "cell_type": "markdown",
   "metadata": {},
   "source": [
    "Change Management\n",
    "\n",
    "Change management : it's what lets us keep innovating while our services keep running\n",
    "we have to make sure they're well-tested. This means running unit tests and integration tests, and then running these tests whenever there's a change. \n",
    "\n",
    "Continuous integration : system will build and test our code every time there's a change.\n",
    "Jenkins, Travis CI\n",
    "\n",
    "Continuous deployment, or CD, to automatically deploy the results of the build or build artifacts. Continuous deployment lets you control the deployment with rules\n",
    "\n",
    "We mentioned that when pushing puppet changes, we should have a test environment separate from the production environment.\n",
    "\n",
    "Environment : means everything needed to run the service.\n",
    "\n",
    "A/B testing : some requests are served using one set of code and configuration, A, and other requests are served using a different set of of code and configuration, B.\n",
    "\n",
    "So what happens if all the precautions we took aren't enough and we break something in production?\n",
    "Remember what we discussed in an earlier course about post-mortems. We learn from failure and we build the new knowledge into our change management."
   ]
  },
  {
   "cell_type": "markdown",
   "metadata": {},
   "source": [
    "Understanding Limitations\n",
    "\n",
    "It's important to keep in mind how my application will be deployed. The software I'm creating needs to be fault tolerant and capable of handling unexpected events.\n",
    "\n",
    "Sometimes we run into quotas or limits, meaning that you can only perform a certain number of operations within a certain time period.\n",
    "\n",
    "Rate limits : on these calls to prevent one service from overloading the whole system.\n",
    "\n",
    "Utilization limits : which cap the total amount of a certain resource that you can provision\n",
    "\n",
    "By imposing a quota on an auto-scaling system, the system will grow to meet user demand until it reaches the configured limit. The trick here is to have good monitoring and alerting around behavior like this.\n",
    "\n",
    "Dependancies\n",
    "Platform as a Service\n",
    "It also means that you don't always get to choose what version of that software you're using."
   ]
  },
  {
   "cell_type": "markdown",
   "metadata": {},
   "source": [
    "## Monitoring and Alerting"
   ]
  },
  {
   "cell_type": "markdown",
   "metadata": {},
   "source": [
    "## Troubleshooting and Debugging"
   ]
  },
  {
   "cell_type": "markdown",
   "metadata": {},
   "source": [
    "## Debugging Cloud Deployment"
   ]
  },
  {
   "cell_type": "markdown",
   "metadata": {},
   "source": []
  },
  {
   "cell_type": "markdown",
   "metadata": {},
   "source": []
  },
  {
   "cell_type": "markdown",
   "metadata": {},
   "source": []
  }
 ],
 "metadata": {
  "kernelspec": {
   "display_name": "Python 3",
   "language": "python",
   "name": "python3"
  },
  "language_info": {
   "codemirror_mode": {
    "name": "ipython",
    "version": 3
   },
   "file_extension": ".py",
   "mimetype": "text/x-python",
   "name": "python",
   "nbconvert_exporter": "python",
   "pygments_lexer": "ipython3",
   "version": "3.6.10"
  }
 },
 "nbformat": 4,
 "nbformat_minor": 4
}
