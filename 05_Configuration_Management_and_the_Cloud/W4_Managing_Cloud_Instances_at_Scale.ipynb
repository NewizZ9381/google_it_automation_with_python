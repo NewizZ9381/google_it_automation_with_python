{
 "cells": [
  {
   "cell_type": "markdown",
   "metadata": {},
   "source": [
    "## Building Software for the Cloud"
   ]
  },
  {
   "cell_type": "markdown",
   "metadata": {},
   "source": [
    "Storing Data in the Cloud\n",
    "\n",
    "Picking the right solution for data storage will depend on what service you're building. You'll need to consider a bunch of factors, like; \n",
    "1) how much data you want to store, \n",
    "2) what kind of data that is, \n",
    "3) what geographical locations you'll be using it in, \n",
    "4) whether you're mostly writing or reading the data, \n",
    "5) how often the data changes, or \n",
    "6) what your budget is. \n",
    "\n",
    "Block storage : traditional storage technologies (as a physical harddrive)\n",
    "Object or blob storage : new technologies\n",
    "\n",
    "Persistent storage : is used for instances that are long lived, and need to keep data across reboots and upgrades\n",
    "Ephemeral storage : is used for instances that are only temporary, and only need to keep local data while they're running  This type of storage is especially common when using containers, but it can also be useful when dealing with virtual. machines that only need to store data while they're running.\n",
    "In typical Cloud setups, each VM has one or more disks attached to the machine. The data on these disks is managed by the OS and can't be easily shared with other VMs.\n",
    "\n",
    "Shared file system solutions : that Cloud providers offer using the platform as a service model. When using these solutions, the data can be accessed through network file system protocols like NFS or CIFS\n",
    "\n",
    "Object storage : lets you place in retrieve objects in a storage bucket.\n",
    "Blob (Binary Large Objects)\n",
    "To interact with an object store, you need to use an API or special utilities that can interact with the specific object store that you're using.\n",
    "\n",
    "SQL databases : also known as relational, use the traditional database format and query language. Data is stored in tables with columns and rows that can be indexed, and we retrieve the data by writing SQL queries. \n",
    "NoSQL databases : offer a lot of advantages related to scale. They're designed to be distributed across tons of machines and are super fast when retrieving results. But instead of a unified query language, we need to use a specific API provided by the database.\n",
    "\n",
    "Storage class : Cloud providers typically offer different classes of storage at different prices. Variables like performance, availability, or how often the data is accessed will affect the monthly price\n",
    "The performance of a storage solution is influenced by a number of factors, including throughput, IOPS, and latency.\n",
    "1) Throughput : is the amount of data that you can read and write in a given amount of time.\n",
    "2) IOPS or input/output operations per second : measures how many reads or writes you can do in one second, no matter how much data you're accessing.\n",
    "3) Latency : is the amount of time it takes to complete a read or write operation.\n",
    "   Read Latency (Time to first byte)\n",
    "\n",
    "Hot data : is accessed frequently and stored in hot storage (Backend SSD)\n",
    "Cold data : is accessed infrequently,"
   ]
  },
  {
   "cell_type": "markdown",
   "metadata": {},
   "source": [
    "Load Balancer\n",
    "\n",
    "Round robin DNS : is a really common method for distributing tasks.\n",
    "Now, if we want to translate a URL like my service.example.com into an IP address, we use the DNS protocol or domain name system. In the simplest configuration, the URL always gets translated into exactly the same IP address. But when we configure our DNS to use round robin, it'll give each client asking for the translation a group of IP addresses in a different order. The clients will then pick one of the addresses to try to reach the service. If an attempt fails, the client will jump to another address on the list.\n",
    "\n",
    "Limitations\n",
    "1) You can't control which addresses get picked by the clients.\n",
    "2) DNS records are cached by the clients and other servers. So if you need to change the list of addresses for the instances, you'll have to wait until all of the DNS records that were cached by the clients expire\n",
    "\n",
    "Set up a server as a dedicated load balancer : This is a machine that acts as a proxy between the clients and the servers.\n",
    "\n",
    "Sticky sessions : means all requests from the same client always go to the same back end server\n",
    "\n",
    "Performing health checks\n",
    "\n",
    "Geo DNS, GEOIP : These are DNS configurations that will direct your clients to the closest geographical load balancer\n",
    "\n",
    "Content delivery networks (CDNs) : They make up a network of physical hosts that are geographically located as close to the end user as possible."
   ]
  },
  {
   "cell_type": "markdown",
   "metadata": {},
   "source": [
    "Change Management\n",
    "\n",
    "Change management : it's what lets us keep innovating while our services keep running\n",
    "we have to make sure they're well-tested. This means running unit tests and integration tests, and then running these tests whenever there's a change. \n",
    "\n",
    "Continuous integration : system will build and test our code every time there's a change.\n",
    "Jenkins, Travis CI\n",
    "\n",
    "Continuous deployment, or CD, to automatically deploy the results of the build or build artifacts. Continuous deployment lets you control the deployment with rules\n",
    "\n",
    "We mentioned that when pushing puppet changes, we should have a test environment separate from the production environment.\n",
    "\n",
    "Environment : means everything needed to run the service.\n",
    "\n",
    "A/B testing : some requests are served using one set of code and configuration, A, and other requests are served using a different set of of code and configuration, B.\n",
    "\n",
    "So what happens if all the precautions we took aren't enough and we break something in production?\n",
    "Remember what we discussed in an earlier course about post-mortems. We learn from failure and we build the new knowledge into our change management."
   ]
  },
  {
   "cell_type": "markdown",
   "metadata": {},
   "source": [
    "Understanding Limitations\n",
    "\n",
    "It's important to keep in mind how my application will be deployed. The software I'm creating needs to be fault tolerant and capable of handling unexpected events.\n",
    "\n",
    "Sometimes we run into quotas or limits, meaning that you can only perform a certain number of operations within a certain time period.\n",
    "\n",
    "Rate limits : on these calls to prevent one service from overloading the whole system.\n",
    "\n",
    "Utilization limits : which cap the total amount of a certain resource that you can provision\n",
    "\n",
    "By imposing a quota on an auto-scaling system, the system will grow to meet user demand until it reaches the configured limit. The trick here is to have good monitoring and alerting around behavior like this.\n",
    "\n",
    "Dependancies\n",
    "Platform as a Service\n",
    "It also means that you don't always get to choose what version of that software you're using."
   ]
  },
  {
   "cell_type": "markdown",
   "metadata": {},
   "source": [
    "## Monitoring and Alerting"
   ]
  },
  {
   "cell_type": "markdown",
   "metadata": {},
   "source": [
    "Getting Started with Monitoring\n",
    "\n",
    "Once we have our service running in the Cloud, we want to make sure that our service keeps running, and not just that, we want to make sure it keeps behaving as expected, returning the right results quickly and reliable\n",
    "The key to ensuring all of this, is to set up good monitoring and alerting rules\n",
    "\n",
    "Monitoring : lets us look into the history and current status of a system.\n",
    "Metrics : tell us if the service is behaving as expected or not.\n",
    "It starts by sending a response code, followed by the content of the response. You might know, for example, that a 404 code means that the page wasn't found, or that a 500 response means that there was an internal server error\n",
    "500 : Server side\n",
    "400 : Client side\n",
    "\n",
    "You'll need to think about the service you want to monitor and figure out the metrics you'll need.\n",
    "\n",
    "There's a bunch of different monitoring systems out there. Some systems like AWS Cloudwatch, Google Stack Driver, or Azure Metrics are offered directly by the Cloud providers. Other systems like Prometheus, Datadog, or Nagios can be used across vendors\n",
    "\n",
    "Monitoting System\n",
    "1) Pull model : The monitoring infrastructure periodically queries our service to get the metrics\n",
    "2) Push model : Our service needs to periodically connect to the system to send the metrics\n",
    "\n",
    "Pro tip, you only want to store the metrics that you care about, since storing all of these metrics in the system takes space, and storage space costs money.\n",
    "\n",
    "Whitebox monitoring : checks the behavior of the system from the inside.\n",
    "Blackbox monitoring : checks the behavior of the system from the outside."
   ]
  },
  {
   "cell_type": "markdown",
   "metadata": {},
   "source": [
    "Getting Alerts When Things Gp Wrong\n",
    "\n",
    "We need our services to respond day or night, workday or holiday. But even if the services are running 24-7, System Administrators can't constantly be in front of their systems. Instead, we set up our services so that they work unattended and deal with problems when they happen\n",
    "\n",
    "The most basic approach is to run a job periodically that checks the health of the system and sends out an email if the system isn't healthy.\n",
    "Linux : cron\n",
    "We want to periodically check the state of the service and raise alerts if there's a problem\n",
    "\n",
    "Raising an alert signals that something is broken and a human needs to respond\n",
    "1) Need immediate attention : Those that need immediate attention are called pages, which comes from a device called a pager.\n",
    "2) Need attention in the near future : The non-urgent alerts are usually configured to create bugs or tickets for an IT specialist to take care of during their workday.\n",
    "\n",
    "One thing to highlight is that all alerts should be actionable.\n",
    "\n",
    "That way when you get a bug, it means that it's failing consistently and you'll actually need to take action to fix it\n",
    "\n",
    "Once you've set your systems to raise actionable alerts when needed, you're going to have peace of mind. If no alerts are firing, you know the service is working fine. This lets you concentrate on other tasks without having to worry."
   ]
  },
  {
   "cell_type": "markdown",
   "metadata": {},
   "source": [
    "Service-Level Objectives\n",
    "\n",
    "Service-Level Objectives (SLOs) : pre-established performance goals for a specific service.\n",
    "SLOs need to be measurable, which means that there should be metrics that track how the service is performing and let you check if it's meeting the objectives or not.\n",
    "\n",
    "If our service has an SLO of 99% availability, it means it can be down up to 1 % of the time. \n",
    "If we measure this over a year, the service can be down for a total of 3.65 during the year and still have 99% availability. \n",
    "Availability targets like this one are commonly named by their number of nines. \n",
    "Our 99% example would be a two 9 service, \n",
    "99.9% availability is a three 9 service, (8 hrs/year , 43 mins/month - Error budget)\n",
    "99.999% availability is a five 9 service. \n",
    "Five nine services promised a total down time of up to five minutes in a year. \n",
    "Five nines is super high availability, reserved only for the most critical systems (5 mins/year)\n",
    "\n",
    "Why not just make everything a five nine service? It's a good question. The answer is, because it's really expensive and usually not necessary.\n",
    "\n",
    "Service-Level Agreement (SLA) : is a commitment between a provider and a client.\n",
    "Service level objectives though are more like a soft target, it's what the maintaining team aims for, but the target might be missed in some situations\n",
    "\n",
    "If you're using a cloud service, you can decide how much you're going to entrust your infrastructure to it, based on the SLAs that the provider publishes. If on the other hand you're part of the team that maintains the service, you can use the SLOs and SLAs of your service to decide which alerts to create and how urgent they should be.\n",
    "\n",
    "If your service was working fine and meeting all of its SLOs and then started misbehaving, it's likely this was caused by a recent change. That's why some teams use the concepts of error budgets to handle their services.\n",
    "\n",
    "If it starts to get close to those 43 minutes, you might decide to stop pushing any new features and focus on resolving the problems that keep causing the downtime. \n",
    "\n",
    "If it's your first time setting objectives for your service, start by setting achievable goals that you can measure.\n",
    "Track how the service behaves for a while and see what causes the service to deviate from the targets. Once you have a better idea of the whole service's behavior, you can set more aggressive goals"
   ]
  },
  {
   "cell_type": "markdown",
   "metadata": {},
   "source": [
    "Basic Monitoring in GCP\n",
    "\n",
    "Stackdriver : monitoring tool\n",
    "The monitoring system gives us a very simple overview of each of the instances with three basic metrics, CPU usage, Disk I/O, and network traffic"
   ]
  },
  {
   "cell_type": "markdown",
   "metadata": {},
   "source": [
    "while true; do true; done &"
   ]
  },
  {
   "cell_type": "markdown",
   "metadata": {},
   "source": [
    "It's common practice to use time windows of one, five, or even 10 minutes when dealing with the alerting. We don't want to get an alert for a small spike that lasted only a few seconds and then went away."
   ]
  },
  {
   "cell_type": "markdown",
   "metadata": {},
   "source": [
    "top"
   ]
  },
  {
   "cell_type": "markdown",
   "metadata": {},
   "source": [
    "fg\n",
    "while true; do \n",
    "    true; \n",
    "done\n",
    "^C"
   ]
  },
  {
   "cell_type": "markdown",
   "metadata": {},
   "source": [
    "top"
   ]
  },
  {
   "cell_type": "markdown",
   "metadata": {},
   "source": [
    "An Alerting Policy specifies the conditions that trigger alerts, and the actions to be taken when these alerts are triggered, like sending an email address notification."
   ]
  },
  {
   "cell_type": "markdown",
   "metadata": {},
   "source": [
    "## Troubleshooting and Debugging"
   ]
  },
  {
   "cell_type": "markdown",
   "metadata": {},
   "source": [
    "What to Do When You Can't Be Physically There\n",
    "\n",
    "Let's say that after the latest upgrade, a bunch of your cloud VMs have stopped booting. Something went wrong, but you don't know exactly what. You can't connect to the instances or boot them in rescue mode, so what can you do? There's a bunch of options, if you're following the infrastructure as code practices that we've talked about. You could deploy new VMs with the previous version of the system, this would help us get back to a healthy state as quickly as possible. On top of this, you want to understand the problem and how to fix it. To do that, you can create a snapshot of the disk image for one of the failing VMs. And then mount that disk image on a healthy machine. That way you can analyze the contents of the image and figure out what's causing the failures.\n",
    "\n",
    "The more you can isolate the faulty behavior, the easier it is to fix it\n",
    "\n",
    "Setting up a testing environment might take time and effort. So it's a good idea to do this in advance before any problem actually happens. \n",
    "\n",
    "You'll need to have a debugging machine in the network and you'll need to use tools to interact with the database directly.\n",
    "\n",
    "You might remember from the troubleshooting and debugging course, that understanding logs is super important for being able to solve problems in IT. When you run your service in the cloud, you need to learn where to find the logs. That the provider keeps and what info is available in which logs."
   ]
  },
  {
   "cell_type": "markdown",
   "metadata": {},
   "source": [
    "Identifying Where the Failure Is Coming From\n",
    "\n",
    "Problems on the provider side tend to be isolated to geographical regions. If you're seeing weird problems and you have no idea what could be going on, you can try bringing up your service in a different region and checking if the failure happens there too\n",
    "\n",
    "Similarly, if you're seeing problems related to resource usage, you can try running the same system in a different machine type and checking how it behaves there\n",
    "\n",
    "Another option that we've mentioned a bunch is doing rollbacks for the pieces that have recently changed\n",
    "\n",
    "Containers : are packaged applications that are shipped together with their libraries and dependencies.\n",
    "When using containers, the typical architecture is to have a lot of small containers that take care of different parts of the service. This means that the overall system can get really complex and when something breaks, it can be hard to identify where the problem is coming from. The key to solving problems in the container world is to make sure you have good logs coming in from all of the parts of the system. And, that you can bring up test instances of each of the applications to try things out when necessary. "
   ]
  },
  {
   "cell_type": "markdown",
   "metadata": {},
   "source": [
    "Recovering from Failure\n",
    "\n",
    "We'll need to have good backups and a well-documented recovery plan\n",
    "\n",
    "If you operate a service that stores any kind of data, it's critical that you implement automatic backups and that you periodically check that those backups are working correctly by performing restores.\n",
    " \n",
    "What about the rest of the infrastructure? If you store all your Infrastructure as code, you already have a backup of what your infrastructure should look like. But if your service goes down for some reason, deploying all that infrastructure from scratch might take awhile. That's why many teams keep backup or a secondary instances of their services already up and running.\n",
    " \n",
    "It's common practice to have enough servers running at any time so that if one of them goes down, the others can still handle the traffic\n",
    " \n",
    "On a larger scale, have the service running on different data centers around the world, so that if one of the data centers has a problem, the service can still be provided by the instances running in the other data centers.\n",
    "\n",
    "When you're running on Cloud, you can mostly rely on your Cloud provider having enough network redundancy. But if you really care about your service staying up no matter what, you might want to run your service on two different Cloud vendors so that if one of the providers has a large outage, you can still rely on the other.\n",
    "\n",
    "Now, imagine you're running your service in one data center. Unfortunately, that data center has just suffered a natural disaster, and all of your instances are down. What do you do? First step, deep breath, don't panic. You need to recover your service from scratch, deploying it in a different data center and getting all your data from backups. As long as the backups are available in other data centers and your Infrastructure is fully stored in a version control system, this should be possible.\n",
    "\n",
    "But figuring out how to successfully bring up the whole system from scratch can take awhile. So you don't want to have to scramble to do it when disaster hits. Instead, you should have a documented procedure that explains all of the steps that you need to take. Since systems evolve over time, you need to make sure that this documentation stays up-to-date"
   ]
  },
  {
   "cell_type": "markdown",
   "metadata": {},
   "source": [
    "## Debugging Cloud Deployment"
   ]
  },
  {
   "cell_type": "markdown",
   "metadata": {},
   "source": []
  }
 ],
 "metadata": {
  "kernelspec": {
   "display_name": "Python 3",
   "language": "python",
   "name": "python3"
  },
  "language_info": {
   "codemirror_mode": {
    "name": "ipython",
    "version": 3
   },
   "file_extension": ".py",
   "mimetype": "text/x-python",
   "name": "python",
   "nbconvert_exporter": "python",
   "pygments_lexer": "ipython3",
   "version": "3.8.1"
  }
 },
 "nbformat": 4,
 "nbformat_minor": 4
}
