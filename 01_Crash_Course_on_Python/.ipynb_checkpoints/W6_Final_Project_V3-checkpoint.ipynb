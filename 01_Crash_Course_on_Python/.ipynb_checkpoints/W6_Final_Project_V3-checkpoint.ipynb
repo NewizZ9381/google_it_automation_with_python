{
 "cells": [
  {
   "cell_type": "markdown",
   "metadata": {},
   "source": [
    "# Final Project - Word Cloud"
   ]
  },
  {
   "cell_type": "markdown",
   "metadata": {},
   "source": [
    "For this project, you'll create a \"word cloud\" from a text by writing a script.  This script needs to process the text, remove punctuation, ignore case and words that do not contain all alphabets, count the frequencies, and ignore uninteresting or irrelevant words.  A dictionary is the output of the `calculate_frequencies` function.  The `wordcloud` module will then generate the image from your dictionary."
   ]
  },
  {
   "cell_type": "markdown",
   "metadata": {},
   "source": [
    "For the input text of your script, you will need to provide a file that contains text only.  For the text itself, you can copy and paste the contents of a website you like.  Or you can use a site like [Project Gutenberg](https://www.gutenberg.org/) to find books that are available online.  You could see what word clouds you can get from famous books, like a Shakespeare play or a novel by Jane Austen. Save this as a .txt file somewhere on your computer.\n",
    "<br><br>\n",
    "Now you will need to upload your input file here so that your script will be able to process it.  To do the upload, you will need an uploader widget.  Run the following cell to perform all the installs and imports for your word cloud script and uploader widget.  It may take a minute for all of this to run and there will be a lot of output messages. But, be patient. Once you get the following final line of output, the code is done executing. Then you can continue on with the rest of the instructions for this notebook.\n",
    "<br><br>\n",
    "**Enabling notebook extension fileupload/extension...**\n",
    "<br>\n",
    "**- Validating: <font color =green>OK</font>**"
   ]
  },
  {
   "cell_type": "code",
   "execution_count": null,
   "metadata": {},
   "outputs": [
    {
     "name": "stdout",
     "output_type": "stream",
     "text": [
      "Requirement already satisfied: wordcloud in c:\\users\\wityanat.cementhai\\anaconda3\\envs\\aiml\\lib\\site-packages (1.7.0)\n",
      "Requirement already satisfied: numpy>=1.6.1 in c:\\users\\wityanat.cementhai\\anaconda3\\envs\\aiml\\lib\\site-packages (from wordcloud) (1.18.1)\n",
      "Requirement already satisfied: matplotlib in c:\\users\\wityanat.cementhai\\anaconda3\\envs\\aiml\\lib\\site-packages (from wordcloud) (3.1.3)\n",
      "Requirement already satisfied: pillow in c:\\users\\wityanat.cementhai\\anaconda3\\envs\\aiml\\lib\\site-packages (from wordcloud) (7.2.0)\n",
      "Requirement already satisfied: kiwisolver>=1.0.1 in c:\\users\\wityanat.cementhai\\anaconda3\\envs\\aiml\\lib\\site-packages (from matplotlib->wordcloud) (1.1.0)\n",
      "Requirement already satisfied: cycler>=0.10 in c:\\users\\wityanat.cementhai\\anaconda3\\envs\\aiml\\lib\\site-packages (from matplotlib->wordcloud) (0.10.0)\n",
      "Requirement already satisfied: python-dateutil>=2.1 in c:\\users\\wityanat.cementhai\\anaconda3\\envs\\aiml\\lib\\site-packages (from matplotlib->wordcloud) (2.8.1)\n",
      "Requirement already satisfied: pyparsing!=2.0.4,!=2.1.2,!=2.1.6,>=2.0.1 in c:\\users\\wityanat.cementhai\\anaconda3\\envs\\aiml\\lib\\site-packages (from matplotlib->wordcloud) (2.4.6)\n",
      "Requirement already satisfied: setuptools in c:\\users\\wityanat.cementhai\\anaconda3\\envs\\aiml\\lib\\site-packages (from kiwisolver>=1.0.1->matplotlib->wordcloud) (46.1.3.post20200330)\n",
      "Requirement already satisfied: six in c:\\users\\wityanat.cementhai\\anaconda3\\envs\\aiml\\lib\\site-packages (from cycler>=0.10->matplotlib->wordcloud) (1.14.0)\n",
      "Requirement already satisfied: fileupload in c:\\users\\wityanat.cementhai\\anaconda3\\envs\\aiml\\lib\\site-packages (0.1.5)\n",
      "Requirement already satisfied: notebook>=4.2 in c:\\users\\wityanat.cementhai\\anaconda3\\envs\\aiml\\lib\\site-packages (from fileupload) (6.0.3)\n",
      "Requirement already satisfied: ipywidgets>=5.1 in c:\\users\\wityanat.cementhai\\anaconda3\\envs\\aiml\\lib\\site-packages (from fileupload) (7.5.1)\n",
      "Requirement already satisfied: traitlets>=4.2 in c:\\users\\wityanat.cementhai\\anaconda3\\envs\\aiml\\lib\\site-packages (from fileupload) (4.3.3)\n",
      "Requirement already satisfied: prometheus-client in c:\\users\\wityanat.cementhai\\anaconda3\\envs\\aiml\\lib\\site-packages (from notebook>=4.2->fileupload) (0.7.1)\n",
      "Requirement already satisfied: pyzmq>=17 in c:\\users\\wityanat.cementhai\\anaconda3\\envs\\aiml\\lib\\site-packages (from notebook>=4.2->fileupload) (18.1.1)\n",
      "Requirement already satisfied: jupyter-client>=5.3.4 in c:\\users\\wityanat.cementhai\\anaconda3\\envs\\aiml\\lib\\site-packages (from notebook>=4.2->fileupload) (6.1.2)\n",
      "Requirement already satisfied: nbformat in c:\\users\\wityanat.cementhai\\anaconda3\\envs\\aiml\\lib\\site-packages (from notebook>=4.2->fileupload) (5.0.4)\n",
      "Requirement already satisfied: jinja2 in c:\\users\\wityanat.cementhai\\anaconda3\\envs\\aiml\\lib\\site-packages (from notebook>=4.2->fileupload) (2.11.1)\n",
      "Requirement already satisfied: Send2Trash in c:\\users\\wityanat.cementhai\\anaconda3\\envs\\aiml\\lib\\site-packages (from notebook>=4.2->fileupload) (1.5.0)\n",
      "Requirement already satisfied: nbconvert in c:\\users\\wityanat.cementhai\\anaconda3\\envs\\aiml\\lib\\site-packages (from notebook>=4.2->fileupload) (5.6.1)\n",
      "Requirement already satisfied: ipykernel in c:\\users\\wityanat.cementhai\\anaconda3\\envs\\aiml\\lib\\site-packages (from notebook>=4.2->fileupload) (5.1.4)\n",
      "Requirement already satisfied: ipython-genutils in c:\\users\\wityanat.cementhai\\anaconda3\\envs\\aiml\\lib\\site-packages (from notebook>=4.2->fileupload) (0.2.0)\n",
      "Requirement already satisfied: tornado>=5.0 in c:\\users\\wityanat.cementhai\\anaconda3\\envs\\aiml\\lib\\site-packages (from notebook>=4.2->fileupload) (6.0.4)\n",
      "Requirement already satisfied: terminado>=0.8.1 in c:\\users\\wityanat.cementhai\\anaconda3\\envs\\aiml\\lib\\site-packages (from notebook>=4.2->fileupload) (0.8.3)\n",
      "Requirement already satisfied: jupyter-core>=4.6.1 in c:\\users\\wityanat.cementhai\\anaconda3\\envs\\aiml\\lib\\site-packages (from notebook>=4.2->fileupload) (4.6.3)\n",
      "Requirement already satisfied: widgetsnbextension~=3.5.0 in c:\\users\\wityanat.cementhai\\anaconda3\\envs\\aiml\\lib\\site-packages (from ipywidgets>=5.1->fileupload) (3.5.1)\n",
      "Requirement already satisfied: ipython>=4.0.0; python_version >= \"3.3\" in c:\\users\\wityanat.cementhai\\anaconda3\\envs\\aiml\\lib\\site-packages (from ipywidgets>=5.1->fileupload) (7.13.0)\n",
      "Requirement already satisfied: six in c:\\users\\wityanat.cementhai\\anaconda3\\envs\\aiml\\lib\\site-packages (from traitlets>=4.2->fileupload) (1.14.0)\n",
      "Requirement already satisfied: decorator in c:\\users\\wityanat.cementhai\\anaconda3\\envs\\aiml\\lib\\site-packages (from traitlets>=4.2->fileupload) (4.4.2)\n",
      "Requirement already satisfied: python-dateutil>=2.1 in c:\\users\\wityanat.cementhai\\anaconda3\\envs\\aiml\\lib\\site-packages (from jupyter-client>=5.3.4->notebook>=4.2->fileupload) (2.8.1)\n",
      "Requirement already satisfied: jsonschema!=2.5.0,>=2.4 in c:\\users\\wityanat.cementhai\\anaconda3\\envs\\aiml\\lib\\site-packages (from nbformat->notebook>=4.2->fileupload) (3.2.0)\n",
      "Requirement already satisfied: MarkupSafe>=0.23 in c:\\users\\wityanat.cementhai\\anaconda3\\envs\\aiml\\lib\\site-packages (from jinja2->notebook>=4.2->fileupload) (1.1.1)\n",
      "Requirement already satisfied: pygments in c:\\users\\wityanat.cementhai\\anaconda3\\envs\\aiml\\lib\\site-packages (from nbconvert->notebook>=4.2->fileupload) (2.6.1)\n",
      "Requirement already satisfied: defusedxml in c:\\users\\wityanat.cementhai\\anaconda3\\envs\\aiml\\lib\\site-packages (from nbconvert->notebook>=4.2->fileupload) (0.6.0)\n",
      "Requirement already satisfied: pandocfilters>=1.4.1 in c:\\users\\wityanat.cementhai\\anaconda3\\envs\\aiml\\lib\\site-packages (from nbconvert->notebook>=4.2->fileupload) (1.4.2)\n",
      "Requirement already satisfied: testpath in c:\\users\\wityanat.cementhai\\anaconda3\\envs\\aiml\\lib\\site-packages (from nbconvert->notebook>=4.2->fileupload) (0.4.4)\n",
      "Requirement already satisfied: bleach in c:\\users\\wityanat.cementhai\\anaconda3\\envs\\aiml\\lib\\site-packages (from nbconvert->notebook>=4.2->fileupload) (3.1.4)\n",
      "Requirement already satisfied: mistune<2,>=0.8.1 in c:\\users\\wityanat.cementhai\\anaconda3\\envs\\aiml\\lib\\site-packages (from nbconvert->notebook>=4.2->fileupload) (0.8.4)\n",
      "Requirement already satisfied: entrypoints>=0.2.2 in c:\\users\\wityanat.cementhai\\anaconda3\\envs\\aiml\\lib\\site-packages (from nbconvert->notebook>=4.2->fileupload) (0.3)\n",
      "Requirement already satisfied: pywin32>=1.0; sys_platform == \"win32\" in c:\\users\\wityanat.cementhai\\anaconda3\\envs\\aiml\\lib\\site-packages (from jupyter-core>=4.6.1->notebook>=4.2->fileupload) (227)\n",
      "Requirement already satisfied: prompt-toolkit!=3.0.0,!=3.0.1,<3.1.0,>=2.0.0 in c:\\users\\wityanat.cementhai\\anaconda3\\envs\\aiml\\lib\\site-packages (from ipython>=4.0.0; python_version >= \"3.3\"->ipywidgets>=5.1->fileupload) (3.0.4)\n",
      "Requirement already satisfied: jedi>=0.10 in c:\\users\\wityanat.cementhai\\anaconda3\\envs\\aiml\\lib\\site-packages (from ipython>=4.0.0; python_version >= \"3.3\"->ipywidgets>=5.1->fileupload) (0.16.0)\n",
      "Requirement already satisfied: backcall in c:\\users\\wityanat.cementhai\\anaconda3\\envs\\aiml\\lib\\site-packages (from ipython>=4.0.0; python_version >= \"3.3\"->ipywidgets>=5.1->fileupload) (0.1.0)\n",
      "Requirement already satisfied: setuptools>=18.5 in c:\\users\\wityanat.cementhai\\anaconda3\\envs\\aiml\\lib\\site-packages (from ipython>=4.0.0; python_version >= \"3.3\"->ipywidgets>=5.1->fileupload) (46.1.3.post20200330)\n",
      "Requirement already satisfied: colorama; sys_platform == \"win32\" in c:\\users\\wityanat.cementhai\\anaconda3\\envs\\aiml\\lib\\site-packages (from ipython>=4.0.0; python_version >= \"3.3\"->ipywidgets>=5.1->fileupload) (0.4.3)\n",
      "Requirement already satisfied: pickleshare in c:\\users\\wityanat.cementhai\\anaconda3\\envs\\aiml\\lib\\site-packages (from ipython>=4.0.0; python_version >= \"3.3\"->ipywidgets>=5.1->fileupload) (0.7.5)\n",
      "Requirement already satisfied: pyrsistent>=0.14.0 in c:\\users\\wityanat.cementhai\\anaconda3\\envs\\aiml\\lib\\site-packages (from jsonschema!=2.5.0,>=2.4->nbformat->notebook>=4.2->fileupload) (0.16.0)\n",
      "Requirement already satisfied: attrs>=17.4.0 in c:\\users\\wityanat.cementhai\\anaconda3\\envs\\aiml\\lib\\site-packages (from jsonschema!=2.5.0,>=2.4->nbformat->notebook>=4.2->fileupload) (19.3.0)\n",
      "Requirement already satisfied: importlib-metadata; python_version < \"3.8\" in c:\\users\\wityanat.cementhai\\anaconda3\\envs\\aiml\\lib\\site-packages (from jsonschema!=2.5.0,>=2.4->nbformat->notebook>=4.2->fileupload) (1.5.0)\n",
      "Requirement already satisfied: webencodings in c:\\users\\wityanat.cementhai\\anaconda3\\envs\\aiml\\lib\\site-packages (from bleach->nbconvert->notebook>=4.2->fileupload) (0.5.1)\n",
      "Requirement already satisfied: wcwidth in c:\\users\\wityanat.cementhai\\anaconda3\\envs\\aiml\\lib\\site-packages (from prompt-toolkit!=3.0.0,!=3.0.1,<3.1.0,>=2.0.0->ipython>=4.0.0; python_version >= \"3.3\"->ipywidgets>=5.1->fileupload) (0.1.9)\n",
      "Requirement already satisfied: parso>=0.5.2 in c:\\users\\wityanat.cementhai\\anaconda3\\envs\\aiml\\lib\\site-packages (from jedi>=0.10->ipython>=4.0.0; python_version >= \"3.3\"->ipywidgets>=5.1->fileupload) (0.6.2)\n",
      "Requirement already satisfied: zipp>=0.5 in c:\\users\\wityanat.cementhai\\anaconda3\\envs\\aiml\\lib\\site-packages (from importlib-metadata; python_version < \"3.8\"->jsonschema!=2.5.0,>=2.4->nbformat->notebook>=4.2->fileupload) (2.2.0)\n"
     ]
    },
    {
     "name": "stdout",
     "output_type": "stream",
     "text": [
      "Requirement already satisfied: ipywidgets in c:\\users\\wityanat.cementhai\\anaconda3\\envs\\aiml\\lib\\site-packages (7.5.1)\n",
      "Requirement already satisfied: widgetsnbextension~=3.5.0 in c:\\users\\wityanat.cementhai\\anaconda3\\envs\\aiml\\lib\\site-packages (from ipywidgets) (3.5.1)\n",
      "Requirement already satisfied: nbformat>=4.2.0 in c:\\users\\wityanat.cementhai\\anaconda3\\envs\\aiml\\lib\\site-packages (from ipywidgets) (5.0.4)\n",
      "Requirement already satisfied: traitlets>=4.3.1 in c:\\users\\wityanat.cementhai\\anaconda3\\envs\\aiml\\lib\\site-packages (from ipywidgets) (4.3.3)\n",
      "Requirement already satisfied: ipykernel>=4.5.1 in c:\\users\\wityanat.cementhai\\anaconda3\\envs\\aiml\\lib\\site-packages (from ipywidgets) (5.1.4)\n",
      "Requirement already satisfied: ipython>=4.0.0; python_version >= \"3.3\" in c:\\users\\wityanat.cementhai\\anaconda3\\envs\\aiml\\lib\\site-packages (from ipywidgets) (7.13.0)\n",
      "Requirement already satisfied: notebook>=4.4.1 in c:\\users\\wityanat.cementhai\\anaconda3\\envs\\aiml\\lib\\site-packages (from widgetsnbextension~=3.5.0->ipywidgets) (6.0.3)\n",
      "Requirement already satisfied: jupyter-core in c:\\users\\wityanat.cementhai\\anaconda3\\envs\\aiml\\lib\\site-packages (from nbformat>=4.2.0->ipywidgets) (4.6.3)\n",
      "Requirement already satisfied: jsonschema!=2.5.0,>=2.4 in c:\\users\\wityanat.cementhai\\anaconda3\\envs\\aiml\\lib\\site-packages (from nbformat>=4.2.0->ipywidgets) (3.2.0)\n",
      "Requirement already satisfied: ipython-genutils in c:\\users\\wityanat.cementhai\\anaconda3\\envs\\aiml\\lib\\site-packages (from nbformat>=4.2.0->ipywidgets) (0.2.0)\n",
      "Requirement already satisfied: decorator in c:\\users\\wityanat.cementhai\\anaconda3\\envs\\aiml\\lib\\site-packages (from traitlets>=4.3.1->ipywidgets) (4.4.2)\n",
      "Requirement already satisfied: six in c:\\users\\wityanat.cementhai\\anaconda3\\envs\\aiml\\lib\\site-packages (from traitlets>=4.3.1->ipywidgets) (1.14.0)\n",
      "Requirement already satisfied: jupyter-client in c:\\users\\wityanat.cementhai\\anaconda3\\envs\\aiml\\lib\\site-packages (from ipykernel>=4.5.1->ipywidgets) (6.1.2)\n",
      "Requirement already satisfied: tornado>=4.2 in c:\\users\\wityanat.cementhai\\anaconda3\\envs\\aiml\\lib\\site-packages (from ipykernel>=4.5.1->ipywidgets) (6.0.4)\n",
      "Requirement already satisfied: pygments in c:\\users\\wityanat.cementhai\\anaconda3\\envs\\aiml\\lib\\site-packages (from ipython>=4.0.0; python_version >= \"3.3\"->ipywidgets) (2.6.1)\n",
      "Requirement already satisfied: prompt-toolkit!=3.0.0,!=3.0.1,<3.1.0,>=2.0.0 in c:\\users\\wityanat.cementhai\\anaconda3\\envs\\aiml\\lib\\site-packages (from ipython>=4.0.0; python_version >= \"3.3\"->ipywidgets) (3.0.4)\n",
      "Requirement already satisfied: backcall in c:\\users\\wityanat.cementhai\\anaconda3\\envs\\aiml\\lib\\site-packages (from ipython>=4.0.0; python_version >= \"3.3\"->ipywidgets) (0.1.0)\n",
      "Requirement already satisfied: colorama; sys_platform == \"win32\" in c:\\users\\wityanat.cementhai\\anaconda3\\envs\\aiml\\lib\\site-packages (from ipython>=4.0.0; python_version >= \"3.3\"->ipywidgets) (0.4.3)\n",
      "Requirement already satisfied: jedi>=0.10 in c:\\users\\wityanat.cementhai\\anaconda3\\envs\\aiml\\lib\\site-packages (from ipython>=4.0.0; python_version >= \"3.3\"->ipywidgets) (0.16.0)\n",
      "Requirement already satisfied: pickleshare in c:\\users\\wityanat.cementhai\\anaconda3\\envs\\aiml\\lib\\site-packages (from ipython>=4.0.0; python_version >= \"3.3\"->ipywidgets) (0.7.5)\n",
      "Requirement already satisfied: setuptools>=18.5 in c:\\users\\wityanat.cementhai\\anaconda3\\envs\\aiml\\lib\\site-packages (from ipython>=4.0.0; python_version >= \"3.3\"->ipywidgets) (46.1.3.post20200330)\n",
      "Requirement already satisfied: prometheus-client in c:\\users\\wityanat.cementhai\\anaconda3\\envs\\aiml\\lib\\site-packages (from notebook>=4.4.1->widgetsnbextension~=3.5.0->ipywidgets) (0.7.1)\n",
      "Requirement already satisfied: jinja2 in c:\\users\\wityanat.cementhai\\anaconda3\\envs\\aiml\\lib\\site-packages (from notebook>=4.4.1->widgetsnbextension~=3.5.0->ipywidgets) (2.11.1)\n",
      "Requirement already satisfied: terminado>=0.8.1 in c:\\users\\wityanat.cementhai\\anaconda3\\envs\\aiml\\lib\\site-packages (from notebook>=4.4.1->widgetsnbextension~=3.5.0->ipywidgets) (0.8.3)\n",
      "Requirement already satisfied: nbconvert in c:\\users\\wityanat.cementhai\\anaconda3\\envs\\aiml\\lib\\site-packages (from notebook>=4.4.1->widgetsnbextension~=3.5.0->ipywidgets) (5.6.1)\n",
      "Requirement already satisfied: Send2Trash in c:\\users\\wityanat.cementhai\\anaconda3\\envs\\aiml\\lib\\site-packages (from notebook>=4.4.1->widgetsnbextension~=3.5.0->ipywidgets) (1.5.0)\n",
      "Requirement already satisfied: pyzmq>=17 in c:\\users\\wityanat.cementhai\\anaconda3\\envs\\aiml\\lib\\site-packages (from notebook>=4.4.1->widgetsnbextension~=3.5.0->ipywidgets) (18.1.1)\n",
      "Requirement already satisfied: pywin32>=1.0; sys_platform == \"win32\" in c:\\users\\wityanat.cementhai\\anaconda3\\envs\\aiml\\lib\\site-packages (from jupyter-core->nbformat>=4.2.0->ipywidgets) (227)\n",
      "Requirement already satisfied: importlib-metadata; python_version < \"3.8\" in c:\\users\\wityanat.cementhai\\anaconda3\\envs\\aiml\\lib\\site-packages (from jsonschema!=2.5.0,>=2.4->nbformat>=4.2.0->ipywidgets) (1.5.0)\n",
      "Requirement already satisfied: pyrsistent>=0.14.0 in c:\\users\\wityanat.cementhai\\anaconda3\\envs\\aiml\\lib\\site-packages (from jsonschema!=2.5.0,>=2.4->nbformat>=4.2.0->ipywidgets) (0.16.0)\n",
      "Requirement already satisfied: attrs>=17.4.0 in c:\\users\\wityanat.cementhai\\anaconda3\\envs\\aiml\\lib\\site-packages (from jsonschema!=2.5.0,>=2.4->nbformat>=4.2.0->ipywidgets) (19.3.0)\n",
      "Requirement already satisfied: python-dateutil>=2.1 in c:\\users\\wityanat.cementhai\\anaconda3\\envs\\aiml\\lib\\site-packages (from jupyter-client->ipykernel>=4.5.1->ipywidgets) (2.8.1)\n",
      "Requirement already satisfied: wcwidth in c:\\users\\wityanat.cementhai\\anaconda3\\envs\\aiml\\lib\\site-packages (from prompt-toolkit!=3.0.0,!=3.0.1,<3.1.0,>=2.0.0->ipython>=4.0.0; python_version >= \"3.3\"->ipywidgets) (0.1.9)\n",
      "Requirement already satisfied: parso>=0.5.2 in c:\\users\\wityanat.cementhai\\anaconda3\\envs\\aiml\\lib\\site-packages (from jedi>=0.10->ipython>=4.0.0; python_version >= \"3.3\"->ipywidgets) (0.6.2)\n",
      "Requirement already satisfied: MarkupSafe>=0.23 in c:\\users\\wityanat.cementhai\\anaconda3\\envs\\aiml\\lib\\site-packages (from jinja2->notebook>=4.4.1->widgetsnbextension~=3.5.0->ipywidgets) (1.1.1)\n",
      "Requirement already satisfied: mistune<2,>=0.8.1 in c:\\users\\wityanat.cementhai\\anaconda3\\envs\\aiml\\lib\\site-packages (from nbconvert->notebook>=4.4.1->widgetsnbextension~=3.5.0->ipywidgets) (0.8.4)\n",
      "Requirement already satisfied: defusedxml in c:\\users\\wityanat.cementhai\\anaconda3\\envs\\aiml\\lib\\site-packages (from nbconvert->notebook>=4.4.1->widgetsnbextension~=3.5.0->ipywidgets) (0.6.0)\n",
      "Requirement already satisfied: pandocfilters>=1.4.1 in c:\\users\\wityanat.cementhai\\anaconda3\\envs\\aiml\\lib\\site-packages (from nbconvert->notebook>=4.4.1->widgetsnbextension~=3.5.0->ipywidgets) (1.4.2)\n",
      "Requirement already satisfied: bleach in c:\\users\\wityanat.cementhai\\anaconda3\\envs\\aiml\\lib\\site-packages (from nbconvert->notebook>=4.4.1->widgetsnbextension~=3.5.0->ipywidgets) (3.1.4)\n",
      "Requirement already satisfied: entrypoints>=0.2.2 in c:\\users\\wityanat.cementhai\\anaconda3\\envs\\aiml\\lib\\site-packages (from nbconvert->notebook>=4.4.1->widgetsnbextension~=3.5.0->ipywidgets) (0.3)\n",
      "Requirement already satisfied: testpath in c:\\users\\wityanat.cementhai\\anaconda3\\envs\\aiml\\lib\\site-packages (from nbconvert->notebook>=4.4.1->widgetsnbextension~=3.5.0->ipywidgets) (0.4.4)\n",
      "Requirement already satisfied: zipp>=0.5 in c:\\users\\wityanat.cementhai\\anaconda3\\envs\\aiml\\lib\\site-packages (from importlib-metadata; python_version < \"3.8\"->jsonschema!=2.5.0,>=2.4->nbformat>=4.2.0->ipywidgets) (2.2.0)\n",
      "Requirement already satisfied: webencodings in c:\\users\\wityanat.cementhai\\anaconda3\\envs\\aiml\\lib\\site-packages (from bleach->nbconvert->notebook>=4.4.1->widgetsnbextension~=3.5.0->ipywidgets) (0.5.1)\n"
     ]
    },
    {
     "name": "stderr",
     "output_type": "stream",
     "text": [
      "Installing C:\\Users\\wityanat.CEMENTHAI\\Anaconda3\\envs\\aiml\\lib\\site-packages\\fileupload\\static -> fileupload\n",
      "Up to date: C:\\Users\\wityanat.CEMENTHAI\\AppData\\Roaming\\jupyter\\nbextensions\\fileupload\\extension.js\n",
      "Up to date: C:\\Users\\wityanat.CEMENTHAI\\AppData\\Roaming\\jupyter\\nbextensions\\fileupload\\widget.js\n",
      "Up to date: C:\\Users\\wityanat.CEMENTHAI\\AppData\\Roaming\\jupyter\\nbextensions\\fileupload\\fileupload\\widget.js\n",
      "- Validating: ok\n",
      "\n",
      "    To initialize this nbextension in the browser every time the notebook (or other app) loads:\n",
      "    \n",
      "          jupyter nbextension enable fileupload --user --py\n",
      "    \n"
     ]
    }
   ],
   "source": [
    "# Here are all the installs and imports you will need for your word cloud script and uploader widget\n",
    "\n",
    "!pip install wordcloud\n",
    "!pip install fileupload\n",
    "!pip install ipywidgets\n",
    "!jupyter nbextension install --py --user fileupload\n",
    "!jupyter nbextension enable --py fileupload\n",
    "\n",
    "import wordcloud\n",
    "import numpy as np\n",
    "from matplotlib import pyplot as plt\n",
    "from IPython.display import display\n",
    "import fileupload\n",
    "import io\n",
    "import sys"
   ]
  },
  {
   "cell_type": "markdown",
   "metadata": {},
   "source": [
    "Whew! That was a lot. All of the installs and imports for your word cloud script and uploader widget have been completed. \n",
    "<br><br>\n",
    "**IMPORTANT!** If this was your first time running the above cell containing the installs and imports, you will need save this notebook now. Then under the File menu above,  select Close and Halt. When the notebook has completely shut down, reopen it. This is the only way the necessary changes will take affect.\n",
    "<br><br>\n",
    "To upload your text file, run the following cell that contains all the code for a custom uploader widget. Once you run this cell, a \"Browse\" button should appear below it. Click this button and navigate the window to locate your saved text file."
   ]
  },
  {
   "cell_type": "code",
   "execution_count": 4,
   "metadata": {},
   "outputs": [
    {
     "data": {
      "application/vnd.jupyter.widget-view+json": {
       "model_id": "b4bbed8458fd460ab6c83b9736236ea4",
       "version_major": 2,
       "version_minor": 0
      },
      "text/plain": [
       "FileUploadWidget(label='Browse', _dom_classes=('widget_item', 'btn-group'))"
      ]
     },
     "metadata": {},
     "output_type": "display_data"
    }
   ],
   "source": [
    "# This is the uploader widget\n",
    "\n",
    "def _upload():\n",
    "\n",
    "    _upload_widget = fileupload.FileUploadWidget()\n",
    "\n",
    "    def _cb(change):\n",
    "        global file_contents\n",
    "        decoded = io.StringIO(change['owner'].data.decode('utf-8'))\n",
    "        filename = change['owner'].filename\n",
    "        print('Uploaded `{}` ({:.2f} kB)'.format(\n",
    "            filename, len(decoded.read()) / 2 **10))\n",
    "        file_contents = decoded.getvalue()\n",
    "\n",
    "    _upload_widget.observe(_cb, names='data')\n",
    "    display(_upload_widget)\n",
    "\n",
    "_upload()"
   ]
  },
  {
   "cell_type": "markdown",
   "metadata": {},
   "source": [
    "The uploader widget saved the contents of your uploaded file into a string object named *file_contents* that your word cloud script can process. This was a lot of preliminary work, but you are now ready to begin your script. "
   ]
  },
  {
   "cell_type": "code",
   "execution_count": 4,
   "metadata": {
    "scrolled": true
   },
   "outputs": [
    {
     "data": {
      "text/plain": [
       "'Autobiography is open to the charge of egoism; somewhat unjustly since, in writing of oneself, the personal note must predominate and, in the case of a genius—sure of his goal and of his power to reach it—faith in himself amounts to what, in a smaller man, would be mere conceit.\\r\\n\\r\\nThis must be condoned and discounted for the sake of the priceless gift of insight into a personality of exceptional interest.\\r\\n\\r\\nBerlioz’ Memoir, graphic as it is, cannot be called satisfactory as a character-study. He says plainly that he is not writing confessions, but is simply giving a correct account of his life to silence the many false versions current at the time. Therefore, while describing almost too minutely some of his difficulties and most of his conflicts—whereby he gives the impression of living in uncomfortably hot water—his very real heroism comes out only in his Letters, and then quite unconsciously.\\r\\n\\r\\nThe Memoir and Letters combined, however, make up an interesting and fascinating picture of the heights, depths, limitations and curious inconsistencies of this weird and restless human being.\\r\\n\\r\\nThe music-ridden, brutal, undisciplined creature of the Autobiography—more a blind, unreasoning force of Nature than an ordinary being, subject to the restrictions of common humanity—could not possibly be the man who was rich in the unswerving affection of such widely different characters as Heine, Liszt, Ernst, Alexandre, Heller, Hiller, Jules Janin,{x} Dumas and Bertin; there must be something unchronicled to account for their loyalty and patience. This something is revealed in the Letters.\\r\\n\\r\\nThere stands the real Berlioz—musician and poet; eager to drain life to the dregs, be they sweet or bitter, to taste the fulness of being. There we find a faithful record of thoughts, feelings, aspirations, and a reflection of every passing mood. With one notable exception: even to Ferrand he never admitted that the poor reception of The Trojans (for it met with but a succès d’estime) broke his heart.\\r\\n\\r\\n \\r\\n\\r\\nAs a record of events the Autobiography is deficient, and after 1848 becomes a mere sketch. Thus, while writing pages of description of orchestral players and musical institutions in German and Austrian cities—quite suitable to his newspaper articles, but wearisome in their iteration, and throwing no light upon himself—he is almost entirely silent on his later trips to London. And the visits to Baden—brightest days of his later years—are dismissed in a footnote.\\r\\n\\r\\nHe lingers pathetically over young days, and hurries through the dreary time close at hand. So, for a record of the daily conflict with physical pain; of the overshadowed domestic life—none the easier to bear in that it was partly his own fault; of the grinding, ever-present shortness of money; of his wild and beautiful dreams; and of the large place that Ferrand, Morel, Massart, Damcke and Lwoff (many of whom are not named in the memoir) held in his heart—we turn to the Letters.\\r\\n\\r\\nThe fearless, unbroken affection for his Jonathan—Humbert Ferrand; the passionate love for his only son, mingled with impatience at Louis’ youthful instability; the whole-hearted ungrudging appreciation he extended to young and honest{xi} musicians—particularly to Camille Saint-Saëns—are a grateful contrast to the gloomy defiance, tornado-like fury, and eternal jeremiads over the hypocrisy and hollowness of Paris that mar the Memoir.\\r\\n\\r\\n \\r\\n\\r\\nOf his ill-starred first marriage he says but little, either in Memoir or Letters.\\r\\n\\r\\nHe and Miss Smithson were far too highly-strung for peaceful life to be possible, even without the added friction of ill-health, want of money (which, however, he says never daunted her), and the probable misunderstandings so likely to arise from their different nationalities.\\r\\n\\r\\nIt may be due to his special form of artistic temperament—that well-worn apology for everything déréglé—that he could find room in his heart, or head, for more than one love at a time, and could even analyse and classify each.\\r\\n\\r\\nWithin a month he bounds from the nethermost despair over the uncertainties of his English divinity to the highest rapture over his Camille, his Ariel, as he calls Marie Pleyel.\\r\\n\\r\\nLater on, when Marie is safely disposed of and Henriette is again in the ascendant, while she vacillates between family and lover, he seriously contemplates running off to Berlin with a poor girl whom he has befriended, and whom, when Henriette finally relents, he calmly hands over to Jules Janin to provide for.\\r\\n\\r\\nOf his second wife we hear but little, except that even affection did not blind him to the defects in her musical gifts. For, on his first German tour, he wrote to Morel:\\r\\n\\r\\n“Pity me! Marie wished to sing at Stuttgart, Mannheim and Hechingen. The two first were bearable, but the last!... Yet she would not hear of my engaging another singer.{xii}”\\r\\n\\r\\nThen he incidentally and whimsically mentions an innocent embryo love-affair in Russia, and, in 1863, makes such tragic and mysterious reference to an impossible love, that Ferrand, seriously alarmed, thinks that Louis must have become more than usually troublesome.\\r\\n\\r\\nThe influence of Estelle Fournier, which pervaded his whole life, comes under a different category. He was without religion; she supplied its place. She was his dream-lady, the Beatrice to his Dante, that necessary worship which no great soul can forego. The proof of this is that, when he met her again—old, sweet, dignified and still beautiful to him—his allegiance never wavered; she was still the Mountain Star of his childhood’s days.\\r\\n\\r\\nIf his capacity for love was unlimited, it was not so with his sense of humour, which was curiously circumscribed. Occasionally he rivals Heine in power of seeing the odd side of his own divagations; his account of his headlong flight from Rome to murder the whole erring Moke family is inimitable. Yet he never discovers—as a man with a true sense of humour would have done—that, in sharpening his rapier on Wagner and the Music of the Future, he is meting out to a struggling composer precisely the same measure that the Parisians had meted out to himself. It speaks volumes for the strength of his friendship with Liszt that even Wagnerism could not divide them.\\r\\n\\r\\n \\r\\n\\r\\nLa Côte Saint-André is a large village some thirty odd miles from Grenoble; here, in a handsome house in the Rue de la République, Louis Hector Berlioz was born. His home education and seclusion from healthy school-life and the society of other children of his age ill-fitted him for the battle of life, which began with his medical student career in Paris.\\r\\n\\r\\nHe describes the quarrels with his parents and{xiii} stoppage of his allowance in 1826, but passes lightly over the privations and semi-starvation that undoubtedly laid the foundations of that internal disease which embittered his latter years. His graphic account of those early Parisian days is one of the most interesting parts of the Memoir. He declared that his time in Italy, after gaining the Prix de Rome, was musically barren. Yet this must be a mistake, since, to the memory of his mountain wanderings he owed the inspiration of Harold. And even if he apparently gained nothing in music, the experience of what to avoid and the influence of beautiful scenery—to which he was always peculiarly sensitive—counted for much in his general development.\\r\\n\\r\\nWith his return to Paris his character took form, and he began his life-long warfare against shams and empiricism. Newspaper work, hated as it was, had a great share in moulding him. Each year he grew more autocratic, and each year more hated for his uncompromising sledge-hammer speech. But Ferrand was correct in saying that he could write. His style is clear, incisive, perfect and even elegant French, although, naturally, owing to the exigencies of its production, it is often unequal. The first years of his marriage were ideal in spite of their penury. The young couple had a côterie of choice friends, amongst whom Liszt took a foremost place, but gradually the clouds gathered, the rift within the lute widened, until a separation became inevitable; even then Berlioz does not attempt—as so many men of his impatient spirit might have done—to shirk responsibility and throw upon others the burden of his hostage to fortune—an unsympathetic invalid—but works the harder at his literary tread-mill to provide her indispensable comforts. Poor Henriette’s side of the story is untold, and one can but say:\\r\\n\\r\\n“The pity of it!”\\r\\n{xiv}\\r\\n\\r\\nHis troubles in Paris and the triumphs abroad that were their antidote made up the rest of his stormy, restless pilgrimage; yet even in ungrateful Paris he was not entirely neglected.\\r\\n\\r\\nHe received the Legion of Honour, and although professing to despise it, he always wore the ribbon. He was also chosen one of the Immortals, apropos of which M. Alexandre tells a funny story.\\r\\n\\r\\nAlexandre was canvassing for him and found great difficulty in managing Adolph Adam, who was from Berlioz as the poles asunder.\\r\\n\\r\\nFirst he went to Berlioz, who had flatly refused to make the slightest concession to Adam’s prejudices.\\r\\n\\r\\n“Come,” said he, “do at least be amiable to Adam; you cannot deny that he is a musician, at any rate.”\\r\\n\\r\\n“I don’t say he is not; but, being a great musician, how can he lower himself to comic-opera? If he chose he could write such music as I do.”\\r\\n\\r\\nUndismayed, Alexandre went to Adam.\\r\\n\\r\\n“You will give your vote to Berlioz, will you not, dear friend? Although you cannot appreciate each other, you will own that he is a thorough musician.”\\r\\n\\r\\n“Certainly, he is a great musician, a really great one, but his music is awfully tiresome. Why!”—and little Adam straightened his spectacles—“why, if he chose he could compose ... as well as I do. But, seriously, he is a man of some importance, and I promise that, after Clapisson, who already has our votes, Berlioz shall have the next vacancy.”\\r\\n\\r\\nBy a strange coincidence, the next fauteuil was Adam’s own, to which Berlioz was elected by nineteen votes.\\r\\n\\r\\nIn his weak state of health, Berlioz was quite unfit to face the innumerable worries incidental to{xv} the production of The Trojans. For seven years it had been his chief object in life, and if, as he said, he could have had everything requisite at his command, with unlimited capital to draw upon—as Wagner had with Louis of Bavaria—all might have been well. But to fight, contrive, temporise and propitiate all at once was more than his enfeebled frame and irascible spirit could stand.\\r\\n\\r\\nHence his great injustice to Carvalho, who, for Art’s sake, sacrificed money, time and reputation to an extent that crippled him for many years.\\r\\n\\r\\nEmbittered by the failure of his opera, which ran for about twenty-five nights, he shut himself up in his rooms with Madame Recio, his devoted mother-in-law, and an old servant, and from that time visited only a few intimate friends.\\r\\n\\r\\nOne last shock Fate held in store. Louis died of fever abroad, and for his lonely father life had no more savour—he simply existed, with, however, two last flashes of the old bright flame. One when, at Herbeck’s desire, he went to Vienna to conduct the Damnation de Faust, and the other when the Grand Duchess Helen prevailed on him to visit St Petersburg again.\\r\\n\\r\\nThat was the real end.\\r\\n\\r\\nOn leaving Russia he wandered drearily to Nice—a ghost revisiting its old-time haunts—then made one last appearance at Grenoble, and so the flame went out. He who had never peace in life was at rest at last.\\r\\n\\r\\n \\r\\n\\r\\nOf his music this is not the place to speak. He has fully described his own ideas, others have analysed them, and we are now concerned with the man himself.\\r\\n\\r\\nTo this is due the somewhat disjointed form of the translation—the mixture of Memoir and Letters. It seemed the only possible way of showing Berlioz{xvi} in all his aspects and of keeping the record chronologically correct.\\r\\n\\r\\nYet we could wish that he, who had so much affinity with England and its literature, could meet with due appreciation here.\\r\\n\\r\\nHe has founded no school (in spite of Krebs’ prophecy), unless the “programme music” now so much in vogue can be traced back to him, but, beginning with Wagner, every orchestral composer since his day owes him a debt of gratitude for his discoveries—his daring and original combinations of instruments, and his magnificent grouping and handling of vast bodies of executants.'"
      ]
     },
     "execution_count": 4,
     "metadata": {},
     "output_type": "execute_result"
    }
   ],
   "source": [
    "file_contents"
   ]
  },
  {
   "cell_type": "markdown",
   "metadata": {},
   "source": [
    "Write a function in the cell below that iterates through the words in *file_contents*, removes punctuation, and counts the frequency of each word.  Oh, and be sure to make it ignore word case, words that do not contain all alphabets and boring words like \"and\" or \"the\".  Then use it in the `generate_from_frequencies` function to generate your very own word cloud!\n",
    "<br><br>\n",
    "**Hint:** Try storing the results of your iteration in a dictionary before passing them into wordcloud via the `generate_from_frequencies` function."
   ]
  },
  {
   "cell_type": "code",
   "execution_count": null,
   "metadata": {
    "collapsed": true
   },
   "outputs": [],
   "source": [
    "def calculate_frequencies(file_contents):\n",
    "    # Here is a list of punctuations and uninteresting words you can use to process your text\n",
    "    punctuations = '''!()-[]{};:'\"\\,<>./?@#$%^&*_~'''\n",
    "    uninteresting_words = [\"the\", \"a\", \"to\", \"if\", \"is\", \"it\", \"of\", \"and\", \"or\", \"an\", \"as\", \"i\", \"me\", \"my\", \\\n",
    "    \"we\", \"our\", \"ours\", \"you\", \"your\", \"yours\", \"he\", \"she\", \"him\", \"his\", \"her\", \"hers\", \"its\", \"they\", \"them\", \\\n",
    "    \"their\", \"what\", \"which\", \"who\", \"whom\", \"this\", \"that\", \"am\", \"are\", \"was\", \"were\", \"be\", \"been\", \"being\", \\\n",
    "    \"have\", \"has\", \"had\", \"do\", \"does\", \"did\", \"but\", \"at\", \"by\", \"with\", \"from\", \"here\", \"when\", \"where\", \"how\", \\\n",
    "    \"all\", \"any\", \"both\", \"each\", \"few\", \"more\", \"some\", \"such\", \"no\", \"nor\", \"too\", \"very\", \"can\", \"will\", \"just\"]\n",
    "    \n",
    "    # LEARNER CODE START HERE\n",
    "    words = file_contents.split()\n",
    "    for word in \n",
    "    \n",
    "    #wordcloud\n",
    "    cloud = wordcloud.WordCloud()\n",
    "    cloud.generate_from_frequencies()\n",
    "    return cloud.to_array()"
   ]
  },
  {
   "cell_type": "markdown",
   "metadata": {},
   "source": [
    "If you have done everything correctly, your word cloud image should appear after running the cell below.  Fingers crossed!"
   ]
  },
  {
   "cell_type": "code",
   "execution_count": null,
   "metadata": {},
   "outputs": [],
   "source": [
    "# Display your wordcloud image\n",
    "\n",
    "myimage = calculate_frequencies(file_contents)\n",
    "plt.imshow(myimage, interpolation = 'nearest')\n",
    "plt.axis('off')\n",
    "plt.show()"
   ]
  },
  {
   "cell_type": "markdown",
   "metadata": {},
   "source": [
    "If your word cloud image did not appear, go back and rework your `calculate_frequencies` function until you get the desired output.  Definitely check that you passed your frequecy count dictionary into the `generate_from_frequencies` function of `wordcloud`. Once you have correctly displayed your word cloud image, you are all done with this project. Nice work!"
   ]
  }
 ],
 "metadata": {
  "coursera": {
   "course_slug": "python-crash-course",
   "graded_item_id": "Z5d28",
   "launcher_item_id": "eSjyd"
  },
  "kernelspec": {
   "display_name": "Python 3",
   "language": "python",
   "name": "python3"
  },
  "language_info": {
   "codemirror_mode": {
    "name": "ipython",
    "version": 3
   },
   "file_extension": ".py",
   "mimetype": "text/x-python",
   "name": "python",
   "nbconvert_exporter": "python",
   "pygments_lexer": "ipython3",
   "version": "3.6.10"
  },
  "widgets": {
   "application/vnd.jupyter.widget-state+json": {
    "state": {},
    "version_major": 2,
    "version_minor": 0
   }
  }
 },
 "nbformat": 4,
 "nbformat_minor": 2
}
