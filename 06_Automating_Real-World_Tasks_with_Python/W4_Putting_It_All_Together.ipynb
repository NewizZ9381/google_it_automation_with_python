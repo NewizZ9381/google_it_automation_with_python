{
 "cells": [
  {
   "cell_type": "markdown",
   "metadata": {},
   "source": [
    "## Automate updating catalog information"
   ]
  },
  {
   "cell_type": "code",
   "execution_count": null,
   "metadata": {},
   "outputs": [],
   "source": [
    "Fetching Supplier Data\n",
    "ls ~/\n",
    "sudo chmod +x ~/download_drive_file.sh\n",
    "./download_drive_file.sh 1LePo57dJcgzoK4uiI_48S01Etck7w_5f supplier-data.tar.gz\n",
    "tar xf ~/supplier-data.tar.gz\n",
    "ls ~/supplier-data\n",
    "cat ~/supplier-data/descriptions/007.txt\n",
    "\n",
    "Working with supplier images\n",
    "nano ~/changeImage.py\n",
    "#!/usr/bin/env python3"
   ]
  },
  {
   "cell_type": "code",
   "execution_count": null,
   "metadata": {},
   "outputs": [],
   "source": [
    "#!/usr/bin/env python3\n",
    "\n",
    "import os, sys\n",
    "from PIL import Image\n",
    "\n",
    "user = os.getenv('USER') # To get the username from environment variable\n",
    "image_directory = '/home/{}/supplier-data/images/'.format(user)\n",
    "for image_name in os.listdir(image_directory):\n",
    "    if not image_name.startswith('.') and 'tiff' in image_name:\n",
    "        image_path = image_directory + image_name\n",
    "        path = os.path.splitext(image_path)[0]\n",
    "        im = Image.open(image_path)\n",
    "        new_path = '{}.jpeg'.format(path)\n",
    "        im.convert('RGB').resize((600, 400)).save(new_path, \"JPEG\")"
   ]
  },
  {
   "cell_type": "markdown",
   "metadata": {},
   "source": [
    "sudo chmod +x ~/changeImage.py\n",
    "./changeImage.py\n",
    "file ~/supplier-data/images/003.jpeg"
   ]
  },
  {
   "cell_type": "markdown",
   "metadata": {},
   "source": [
    "Uploading images to web server\n",
    "\n",
    "cat ~/example_upload.py"
   ]
  },
  {
   "cell_type": "code",
   "execution_count": null,
   "metadata": {},
   "outputs": [],
   "source": [
    "#!/usr/bin/env python3\n",
    "import requests\n",
    "\n",
    "# This example shows how a file can be uploaded using\n",
    "# The Python Requests module\n",
    "\n",
    "url = \"http://localhost/upload/\"\n",
    "with open('/usr/share/apache2/icons/icon.sheet.png', 'rb') as opened:\n",
    "    r = requests.post(url, files={'file': opened})"
   ]
  },
  {
   "cell_type": "markdown",
   "metadata": {},
   "source": [
    "sudo chmod +x ~/example_upload.py\n",
    "./example_upload.py\n",
    "nano ~/supplier_image_upload.py"
   ]
  },
  {
   "cell_type": "code",
   "execution_count": null,
   "metadata": {},
   "outputs": [],
   "source": [
    "#!/usr/bin/env python3\n",
    "import requests, os\n",
    "# The URL to upload the images\n",
    "url = \"http://localhost/upload/\"\n",
    "# To get the username from environment variable\n",
    "USER = os.getenv('USER')\n",
    "# The directory which contains all the images.\n",
    "image_directory = '/home/{}/supplier-data/images/'.format(USER)\n",
    "# Listing all the files in images directory\n",
    "files = os.listdir(image_directory)\n",
    "# Parsing through all the images\n",
    "for image_name in files:\n",
    "    # Accepting files that has jpeg extension and ignoring hidden files\n",
    "    if not image_name.startswith('.') and 'jpeg' in image_name:\n",
    "        # creating absolute path for each image\n",
    "        image_path = image_directory + image_name\n",
    "        # uploading jpeg files\n",
    "        with open(image_path, 'rb') as opened:\n",
    "            r = requests.post(url, files={'file': opened})"
   ]
  },
  {
   "cell_type": "markdown",
   "metadata": {},
   "source": [
    "sudo chmod +x ~/supplier_image_upload.py\n",
    "./supplier_image_upload.py"
   ]
  },
  {
   "cell_type": "markdown",
   "metadata": {},
   "source": [
    "Uploading the descriptions\n",
    "\n",
    "nano ~/run.py"
   ]
  },
  {
   "cell_type": "code",
   "execution_count": null,
   "metadata": {},
   "outputs": [],
   "source": [
    "#!/usr/bin/env python3\n",
    "\n",
    "import os, requests, json\n",
    "\n",
    "def catalog_data(url,description_dir):\n",
    "    \"\"\"This function will return a list of dictionaries with all the details like name, weight, description, image_name.\n",
    "    It will change the weight to integer format.\n",
    "    \"\"\"\n",
    "    fruit={}\n",
    "    for item in os.listdir(description_dir):\n",
    "      fruit.clear()\n",
    "      filename=os.path.join(description_dir,item)\n",
    "      with open(filename) as f:\n",
    "        line=f.readlines()\n",
    "        description=\"\"\n",
    "        for i in range(2,len(line)):\n",
    "          description=description+line[i].strip('\\n').replace(u'\\xa0',u'')\n",
    "        fruit[\"description\"]=description\n",
    "        fruit[\"weight\"]=int(line[1].strip('\\n').strip('lbs'))\n",
    "        fruit[\"name\"]=line[0].strip('\\n')\n",
    "        fruit[\"image_name\"]=(item.strip('.txt'))+'.jpeg'\n",
    "        print(fruit)\n",
    "        if url!=\"\":\n",
    "          response=requests.post(url, json=fruit)\n",
    "          print(response.request.url)\n",
    "          print(response.status_code)\n",
    "    return 0\n",
    "        \n",
    "if __name__=='__main__':\n",
    "    url = 'http://localhost/fruits/'\n",
    "    user = os.getenv('USER')\n",
    "    description_directory = '/home/{}/supplier-data/descriptions/'.format(user)\n",
    "    catalog_data(url,description_directory)"
   ]
  },
  {
   "cell_type": "markdown",
   "metadata": {},
   "source": [
    "sudo chmod +x ~/run.py\n",
    "./run.py"
   ]
  },
  {
   "cell_type": "markdown",
   "metadata": {},
   "source": [
    "Generate a PDF report and send it through email\n",
    "\n",
    "nano ~/reports.py"
   ]
  },
  {
   "cell_type": "code",
   "execution_count": null,
   "metadata": {},
   "outputs": [],
   "source": [
    "#!/usr/bin/env python3\n",
    "\n",
    "from reportlab.platypus import Paragraph, Spacer, Image, SimpleDocTemplate\n",
    "from reportlab.lib.styles import getSampleStyleSheet\n",
    "\n",
    "def generate_report(file, title, add_info):\n",
    "    styles = getSampleStyleSheet()\n",
    "    report = SimpleDocTemplate(file)\n",
    "    report_title = Paragraph(title, styles['h1'])\n",
    "    report_info = Paragraph(add_info, styles['BodyText'])\n",
    "    empty_line = Spacer(1,20)\n",
    "\n",
    "    report.build([report_title, empty_line, report_info, empty_line])"
   ]
  },
  {
   "cell_type": "markdown",
   "metadata": {},
   "source": [
    "nano ~/report_email.py\n",
    "\n",
    "#!/usr/bin/env python3\n",
    "\n",
    "if __name__ == \"__main__\":\n",
    "\n",
    "  reports.generate_report(attachment, title, paragraph)"
   ]
  },
  {
   "cell_type": "code",
   "execution_count": null,
   "metadata": {},
   "outputs": [],
   "source": [
    "#!/usr/bin/env python3\n",
    "\n",
    "import datetime\n",
    "import os\n",
    "\n",
    "from run import catalog_data\n",
    "from reports import generate_report\n",
    "from emails import generate_email, send_email\n",
    "\n",
    "\n",
    "def pdf_body(input_for,desc_dir):\n",
    "    \"\"\"Generating a summary with two lists, which gives the output name and weight\"\"\"\n",
    "    res = []\n",
    "    wt = []\n",
    "    for item in os.listdir(desc_dir):\n",
    "      filename=os.path.join(desc_dir,item)\n",
    "      with open(filename) as f:\n",
    "        line=f.readlines()\n",
    "        weight=line[1].strip('\\n')\n",
    "        name=line[0].strip('\\n')\n",
    "        print(name,weight)\n",
    "        res.append('name: ' +name)\n",
    "        wt.append('weight: ' +weight)\n",
    "        print(res)\n",
    "        print(wt)\n",
    "    new_obj = \"\"  # initializing the object\n",
    "    # Calling values from two lists one by one.\n",
    "    for i in range(len(res)):\n",
    "        if res[i] and input_for == 'pdf':\n",
    "            new_obj += res[i] + '<br />' + wt[i] + '<br />' + '<br />'\n",
    "    return new_obj\n",
    "\n",
    "if __name__ == \"__main__\":\n",
    "    user = os.getenv('USER')\n",
    "    description_directory = '/home/{}/supplier-data/descriptions/'.format(user)  # The directory which contains all the files with data in it.\n",
    "    current_date = datetime.date.today().strftime(\"%B %d, %Y\")  # Creating data in format \"May 5, 2020\"\n",
    "    title = 'Processed Update on ' + str(current_date)  # Title for the PDF file with the created date\n",
    "    generate_report('/tmp/processed.pdf', title, pdf_body('pdf',description_directory))  # calling the report function from custom module\n",
    "    email_subject = 'Upload Completed - Online Fruit Store'  # subject line give in assignment for email\n",
    "    email_body = 'All fruits are uploaded to our website successfully. A detailed list is attached to this email.'  # body line give in assignment for email\n",
    "    msg = generate_email(\"automation@example.com\", \"{}@example.com\".format(user),\n",
    "                         email_subject, email_body, \"/tmp/processed.pdf\")  # structuring email and attaching the file. Then sending the email, using the cus$\n",
    "    send_email(msg)"
   ]
  },
  {
   "cell_type": "code",
   "execution_count": null,
   "metadata": {},
   "outputs": [],
   "source": [
    "#!/usr/bin/env python3\n",
    "\n",
    "import email\n",
    "import mimetypes\n",
    "import smtplib\n",
    "import os\n",
    "\n",
    "\n",
    "def generate_email(sender, recipient, subject, body, attachment_path):\n",
    "    \"\"\"Creates an email with an attachement.\"\"\"\n",
    "    # Basic Email formatting\n",
    "    message = email.message.EmailMessage()\n",
    "    message[\"From\"] = sender\n",
    "    message[\"To\"] = recipient\n",
    "    message[\"Subject\"] = subject\n",
    "    message.set_content(body)\n",
    "\n",
    "    # Making attachment_path optional, if the attachment variable is empty string, no email will be sent.\n",
    "    if not attachment_path == \"\":\n",
    "        # Process the attachment and add it to the email\n",
    "        attachment_filename = os.path.basename(attachment_path)\n",
    "        mime_type, _ = mimetypes.guess_type(attachment_path)\n",
    "        mime_type, mime_subtype = mime_type.split('/', 1)\n",
    "\n",
    "        with open(attachment_path, 'rb') as ap:\n",
    "            message.add_attachment(ap.read(), maintype=mime_type, subtype=mime_subtype,\n",
    "                                   filename=attachment_filename)\n",
    "\n",
    "    return message\n",
    "\n",
    "def send_email(message):\n",
    "    \"\"\"Sends the message to the configured SMTP server.\"\"\"\n",
    "    mail_server = smtplib.SMTP('localhost')\n",
    "    mail_server.send_message(message)\n",
    "    mail_server.quit()\n"
   ]
  },
  {
   "cell_type": "markdown",
   "metadata": {},
   "source": [
    "nano ~/emails.py\n",
    "\n",
    "nano ~/report_email.py\n",
    "\n",
    "if __name__ == \"__main__\":\n",
    "\n",
    "sudo chmod +x ~/report_email.py\n",
    "./report_email.py"
   ]
  },
  {
   "cell_type": "markdown",
   "metadata": {},
   "source": [
    "Health check\n",
    "\n",
    "nano ~/health_check.py"
   ]
  },
  {
   "cell_type": "code",
   "execution_count": null,
   "metadata": {},
   "outputs": [],
   "source": [
    "!pip uninstall emails"
   ]
  },
  {
   "cell_type": "code",
   "execution_count": null,
   "metadata": {},
   "outputs": [],
   "source": [
    "#!/usr/bin/env python3\n",
    "import socket\n",
    "import shutil\n",
    "import psutil\n",
    "import emails\n",
    "\n",
    "def check_localhost():\n",
    "    localhost = socket.gethostbyname('localhost')\n",
    "    return localhost== \"127.0.0.1\"\n",
    "\n",
    "def check_disk_usage(disk):\n",
    "    \"\"\"Verifies that there's enough free space on disk\"\"\"\n",
    "    du = shutil.disk_usage(disk)\n",
    "    free = du.free / du.total * 100\n",
    "    return free > 20\n",
    "\n",
    "def check_memory_usage():\n",
    "    \"\"\"Verifies that there's enough free space on disk\"\"\"\n",
    "    mu = psutil.virtual_memory().available\n",
    "    total = mu / (1024.0 ** 2)\n",
    "    return total > 500\n",
    "\n",
    "def check_cpu_usage():\n",
    "    \"\"\"Verifies that there's enough unused CPU\"\"\"\n",
    "    usage = psutil.cpu_percent(1)\n",
    "    return usage < 80\n",
    "def send_email(subject):\n",
    "    email = emails.generate_email(\"automation@example.com\", \"student-00-a1dd32e6f72e@example.com\",\n",
    "                                  subject,\n",
    "                                  \"Please check your system and resolve the issue as soon as possible.\", \"\")\n",
    "    emails.send_email(email)\n",
    "\n",
    "# If there's not enough disk, or not enough CPU, print an error\n",
    "if not check_cpu_usage() :\n",
    "    subject=\"Error - CPU usage is over 80%\"\n",
    "    print(subject)\n",
    "    send_email(subject)\n",
    "if not check_memory_usage():\n",
    "    subject = \"Error - Available memory is less than 500MB\"\n",
    "    print(subject)\n",
    "\n",
    "if not check_disk_usage('/') :\n",
    "    subject = \"Error - Available disk space is less than 20%\"\n",
    "    print(subject)\n",
    "    send_email(subject)\n",
    "\n",
    "if not check_localhost():\n",
    "    subject = \"Error - localhost cannot be resolved to 127.0.0.1\"\n",
    "    print(subject)\n",
    "    send_email(subject)"
   ]
  },
  {
   "cell_type": "markdown",
   "metadata": {},
   "source": [
    "sudo chmod +x ~/health_check.py\n",
    "./health_check.py\n",
    "sudo apt install stress\n",
    "stress --cpu 8\n",
    "./health_check.py\n",
    "crontab -e"
   ]
  }
 ],
 "metadata": {
  "kernelspec": {
   "display_name": "Python 3",
   "language": "python",
   "name": "python3"
  },
  "language_info": {
   "codemirror_mode": {
    "name": "ipython",
    "version": 3
   },
   "file_extension": ".py",
   "mimetype": "text/x-python",
   "name": "python",
   "nbconvert_exporter": "python",
   "pygments_lexer": "ipython3",
   "version": "3.8.1"
  }
 },
 "nbformat": 4,
 "nbformat_minor": 4
}
