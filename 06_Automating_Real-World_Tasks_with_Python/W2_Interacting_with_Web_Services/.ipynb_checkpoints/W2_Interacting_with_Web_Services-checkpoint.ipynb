{
 "cells": [
  {
   "cell_type": "markdown",
   "metadata": {},
   "source": [
    "## Web Applications and Services"
   ]
  },
  {
   "cell_type": "markdown",
   "metadata": {},
   "source": [
    "name,username,phone,department,role\n",
    "Sabrina Green,sgreen,802-867-5309,IT Infrastructure,System Administrator\n",
    "Eli Jones,ejones,684-3481127,IT Infrastructure,IT specialist"
   ]
  },
  {
   "cell_type": "code",
   "execution_count": null,
   "metadata": {},
   "outputs": [],
   "source": [
    "people = [\n",
    "    {\n",
    "        \"name\": \"Sabrina Green\",\n",
    "        \"username\": \"sgreen\",\n",
    "        \"phone\": \"802-867-5309\",\n",
    "        \"department\": \"IT Infrastructure\",\n",
    "        \"role\": \"Systems Administrator\"\n",
    "    },\n",
    "    {\n",
    "        \"name\": \"Eli Jones\",\n",
    "        \"username\": \"ejones\",\n",
    "        \"phone\": \"684-348-1127\",\n",
    "        \"department\": \"IT Infrastructure\",\n",
    "        \"role\": \"IT Specialist\"\n",
    "    },\n",
    "]\n"
   ]
  },
  {
   "cell_type": "code",
   "execution_count": 7,
   "metadata": {},
   "outputs": [],
   "source": [
    "people = [\n",
    "    {\n",
    "        \"name\": \"Sabrina Green\",\n",
    "        \"username\": \"sgreen\",\n",
    "        \"phone\": {\n",
    "            \"office\": \"802-867-5309\",\n",
    "            \"cell\": \"802-867-5310\"\n",
    "        },\n",
    "        \"department\": \"IT Infrastructure\",\n",
    "        \"role\": \"Systems Administrator\"\n",
    "    },\n",
    "    {\n",
    "        \"name\": \"Eli Jones\",\n",
    "        \"username\": \"ejones\",\n",
    "        \"phone\": {\n",
    "            \"office\": \"684-348-1127\"\n",
    "        },\n",
    "        \"department\": \"IT Infrastructure\",\n",
    "        \"role\": \"IT Specialist\"\n",
    "    },\n",
    "]\n"
   ]
  },
  {
   "cell_type": "code",
   "execution_count": 8,
   "metadata": {},
   "outputs": [],
   "source": [
    "import json\n",
    "\n",
    "with open('people.json', 'w') as people_json:\n",
    "    json.dump(people, people_json, indent=2)"
   ]
  },
  {
   "cell_type": "code",
   "execution_count": null,
   "metadata": {},
   "outputs": [],
   "source": [
    "[\n",
    "  {\n",
    "    \"name\": \"Sabrina Green\",\n",
    "    \"username\": \"sgreen\",\n",
    "    \"phone\": {\n",
    "      \"office\": \"802-867-5309\",\n",
    "      \"cell\": \"802-867-5310\"\n",
    "    },\n",
    "    \"department\": \"IT Infrastructure\",\n",
    "    \"role\": \"Systems Administrator\"\n",
    "  },\n",
    "  {\n",
    "    \"name\": \"Eli Jones\",\n",
    "    \"username\": \"ejones\",\n",
    "    \"phone\": {\n",
    "      \"office\": \"684-348-1127\"\n",
    "    },\n",
    "    \"department\": \"IT Infrastructure\",\n",
    "    \"role\": \"IT Specialist\"\n",
    "  },\n",
    "]\n"
   ]
  },
  {
   "cell_type": "code",
   "execution_count": 10,
   "metadata": {},
   "outputs": [
    {
     "name": "stdout",
     "output_type": "stream",
     "text": [
      "Collecting pyyaml\n",
      "  Downloading PyYAML-5.3.1-cp38-cp38-win_amd64.whl (219 kB)\n",
      "Installing collected packages: pyyaml\n",
      "Successfully installed pyyaml-5.3.1\n"
     ]
    }
   ],
   "source": [
    "!pip install pyyaml"
   ]
  },
  {
   "cell_type": "code",
   "execution_count": 14,
   "metadata": {},
   "outputs": [],
   "source": [
    "import yaml\n",
    "\n",
    "with open('people.yaml', 'w') as people_yaml:\n",
    "    yaml.safe_dump(people, people_yaml)"
   ]
  },
  {
   "cell_type": "code",
   "execution_count": 5,
   "metadata": {},
   "outputs": [
    {
     "ename": "SyntaxError",
     "evalue": "invalid syntax (<ipython-input-5-910d204fe4df>, line 1)",
     "output_type": "error",
     "traceback": [
      "\u001b[1;36m  File \u001b[1;32m\"<ipython-input-5-910d204fe4df>\"\u001b[1;36m, line \u001b[1;32m1\u001b[0m\n\u001b[1;33m    - department: IT Infrastructure\u001b[0m\n\u001b[1;37m                     ^\u001b[0m\n\u001b[1;31mSyntaxError\u001b[0m\u001b[1;31m:\u001b[0m invalid syntax\n"
     ]
    }
   ],
   "source": [
    "- department: IT Infrastructure\n",
    "  name: Sabrina Green\n",
    "  phone:\n",
    "    cell: 802-867-5310\n",
    "    office: 802-867-5309\n",
    "  role: Systems Administrator\n",
    "  username: sgreen\n",
    "- department: IT Infrastructure\n",
    "  name: Eli Jones\n",
    "  phone:\n",
    "    office: 684-348-1127\n",
    "  role: IT Specialist\n",
    "  username: ejones"
   ]
  },
  {
   "cell_type": "code",
   "execution_count": 15,
   "metadata": {},
   "outputs": [],
   "source": [
    "import json\n",
    "\n",
    "people = [\n",
    "  {\n",
    "    \"name\": \"Sabrina Green\",\n",
    "    \"username\": \"sgreen\",\n",
    "    \"phone\": {\n",
    "      \"office\": \"802-867-5309\",\n",
    "      \"cell\": \"802-867-5310\"\n",
    "    },\n",
    "    \"department\": \"IT Infrastructure\",\n",
    "    \"role\": \"Systems Administrator\"\n",
    "  },\n",
    "  {\n",
    "    \"name\": \"Eli Jones\",\n",
    "    \"username\": \"ejones\",\n",
    "    \"phone\": {\n",
    "      \"office\": \"684-348-1127\"\n",
    "    },\n",
    "    \"department\": \"IT Infrastructure\",\n",
    "    \"role\": \"IT Specialist\"\n",
    "  }\n",
    "]\n",
    "\n",
    "with open('people.json', 'w') as people_json:\n",
    "    json.dump(people, people_json)"
   ]
  },
  {
   "cell_type": "code",
   "execution_count": 13,
   "metadata": {},
   "outputs": [],
   "source": [
    "with open('people.json', 'w') as people_json:\n",
    "    json.dump(people, people_json, indent=2)"
   ]
  },
  {
   "cell_type": "markdown",
   "metadata": {},
   "source": [
    "## Python Requests"
   ]
  },
  {
   "cell_type": "code",
   "execution_count": 16,
   "metadata": {},
   "outputs": [],
   "source": [
    ">>> import requests\n",
    ">>> response = requests.get('https://www.google.com')"
   ]
  },
  {
   "cell_type": "code",
   "execution_count": 17,
   "metadata": {},
   "outputs": [
    {
     "name": "stdout",
     "output_type": "stream",
     "text": [
      "<!doctype html><html itemscope=\"\" itemtype=\"http://schema.org/WebPage\" lang=\"th\"><head><meta content=\"text/html; charset=UTF-8\" http-equiv=\"Content-Type\"><meta content=\"/images/branding/googleg/1x/googleg_standard_color_128dp.png\" itemprop=\"image\"><title>Google</title><script nonce=\"MPgwoCZ3dUlI3c+e\n"
     ]
    }
   ],
   "source": [
    "print(response.text[:300])"
   ]
  },
  {
   "cell_type": "code",
   "execution_count": 18,
   "metadata": {},
   "outputs": [
    {
     "name": "stdout",
     "output_type": "stream",
     "text": [
      "b'\\x1f\\x8b\\x08\\x00\\x00\\x00\\x00\\x00\\x02\\xff\\xcd[{w\\x9b\\xc8\\x92\\xff?\\x9f\\x02\\x933\\xb6\\xb4F\\x12\\x0f\\xa1gH6q\\x9c\\xc7\\xbdy\\xcdM2\\x93L&\\xd7\\xa7\\x81\\x96D\\x8c\\x00\\x03\\xf2#\\xb6\\xbe\\xfb\\xfe\\xaa\\x1b\\x10\\xc8\\xf2d\\xee\\xcc\\x9e\\xb3;\\x99\\xd8t\\xd3]\\xef\\xaa\\xae\\xaa&\\x0f\\xf6\\xfc\\xd8\\xcb\\xaf\\x12\\xae,\\xf2e\\xf8\\xf0\\x01\\xfdT\\x82\\x9c/3/N'\n"
     ]
    }
   ],
   "source": [
    ">>> response = requests.get('https://www.google.com', stream=True)\n",
    ">>> print(response.raw.read()[:100])"
   ]
  },
  {
   "cell_type": "code",
   "execution_count": 19,
   "metadata": {},
   "outputs": [
    {
     "data": {
      "text/plain": [
       "'gzip, deflate'"
      ]
     },
     "execution_count": 19,
     "metadata": {},
     "output_type": "execute_result"
    }
   ],
   "source": [
    ">>> response.request.headers['Accept-Encoding']"
   ]
  },
  {
   "cell_type": "code",
   "execution_count": 20,
   "metadata": {},
   "outputs": [
    {
     "data": {
      "text/plain": [
       "'gzip'"
      ]
     },
     "execution_count": 20,
     "metadata": {},
     "output_type": "execute_result"
    }
   ],
   "source": [
    ">>> response.headers['Content-Encoding']"
   ]
  },
  {
   "cell_type": "code",
   "execution_count": 21,
   "metadata": {},
   "outputs": [
    {
     "data": {
      "text/plain": [
       "True"
      ]
     },
     "execution_count": 21,
     "metadata": {},
     "output_type": "execute_result"
    }
   ],
   "source": [
    ">>> response.ok"
   ]
  },
  {
   "cell_type": "code",
   "execution_count": 22,
   "metadata": {},
   "outputs": [
    {
     "data": {
      "text/plain": [
       "200"
      ]
     },
     "execution_count": 22,
     "metadata": {},
     "output_type": "execute_result"
    }
   ],
   "source": [
    ">>> response.status_code"
   ]
  },
  {
   "cell_type": "code",
   "execution_count": 24,
   "metadata": {},
   "outputs": [],
   "source": [
    "url = 'https://www.google.com'"
   ]
  },
  {
   "cell_type": "code",
   "execution_count": 25,
   "metadata": {},
   "outputs": [],
   "source": [
    "response = requests.get(url)\n",
    "if not response.ok:\n",
    "    raise Exception(\"GET failed with status code {}\".format(response.status_code))"
   ]
  },
  {
   "cell_type": "code",
   "execution_count": 26,
   "metadata": {},
   "outputs": [],
   "source": [
    "response = requests.get(url)\n",
    "response.raise_for_status()"
   ]
  },
  {
   "cell_type": "code",
   "execution_count": 28,
   "metadata": {},
   "outputs": [
    {
     "data": {
      "text/plain": [
       "'https://example.com/path/to/api?search=grey+kitten&max_results=15'"
      ]
     },
     "execution_count": 28,
     "metadata": {},
     "output_type": "execute_result"
    }
   ],
   "source": [
    ">>> p = {\"search\": \"grey kitten\",\n",
    "...      \"max_results\": 15}\n",
    ">>> response = requests.get(\"https://example.com/path/to/api\", params=p)\n",
    ">>> response.request.url\n",
    "# 'https://example.com/path/to/api?search=grey+kitten&max_results=15'"
   ]
  },
  {
   "cell_type": "code",
   "execution_count": 29,
   "metadata": {},
   "outputs": [],
   "source": [
    ">>> p = {\"description\": \"white kitten\",\n",
    "...      \"name\": \"Snowball\",\n",
    "...      \"age_months\": 6}\n",
    ">>> response = requests.post(\"https://example.com/path/to/api\", data=p)"
   ]
  },
  {
   "cell_type": "code",
   "execution_count": 30,
   "metadata": {},
   "outputs": [
    {
     "data": {
      "text/plain": [
       "'https://example.com/path/to/api'"
      ]
     },
     "execution_count": 30,
     "metadata": {},
     "output_type": "execute_result"
    }
   ],
   "source": [
    "response.request.url"
   ]
  },
  {
   "cell_type": "code",
   "execution_count": 31,
   "metadata": {},
   "outputs": [
    {
     "data": {
      "text/plain": [
       "'description=white+kitten&name=Snowball&age_months=6'"
      ]
     },
     "execution_count": 31,
     "metadata": {},
     "output_type": "execute_result"
    }
   ],
   "source": [
    "response.request.body"
   ]
  },
  {
   "cell_type": "code",
   "execution_count": 33,
   "metadata": {},
   "outputs": [
    {
     "data": {
      "text/plain": [
       "b'{\"description\": \"white kitten\", \"name\": \"Snowball\", \"age_months\": 6}'"
      ]
     },
     "execution_count": 33,
     "metadata": {},
     "output_type": "execute_result"
    }
   ],
   "source": [
    ">>> response = requests.post(\"https://example.com/path/to/api\", json=p)\n",
    ">>> response.request.url\n",
    "'https://example.com/path/to/api'\n",
    ">>> response.request.body\n",
    "# b'{\"description\": \"white kitten\", \"name\": \"Snowball\", \"age_months\": 6}' "
   ]
  },
  {
   "cell_type": "markdown",
   "metadata": {},
   "source": [
    "## Process Text Files with Python Dictionaries and Upload to Running Web Service"
   ]
  },
  {
   "cell_type": "markdown",
   "metadata": {},
   "source": [
    "cd /data/feedback\n",
    "ls\n",
    "cat 007.txt\n",
    "cd ~\n",
    "nano run.py"
   ]
  },
  {
   "cell_type": "code",
   "execution_count": null,
   "metadata": {},
   "outputs": [],
   "source": [
    "#! /usr/bin/env python3\n",
    "import os\n",
    "import requests\n",
    "\n",
    "folder = \"/data/feedback/\"\n",
    "list_files = os.listdir(folder)\n",
    "keys = [\"title\", \"name\", \"date\", \"feedback\"]\n",
    "\n",
    "for file in list_files:\n",
    "    keycount = 0\n",
    "    feedback = {}\n",
    "    with open(folder + file) as fl:\n",
    "        for line in fl:\n",
    "            value = line.strip()\n",
    "            feedback[keys[keycount]] = value\n",
    "            keycount += 1\n",
    "    print(feedback)\n",
    "    response = requests.post(\"http://35.238.66.63/feedback/\",data=feedback)\n",
    "    response.raise_for_status()\n",
    "    \n",
    "print(response.request.body)\n",
    "print(response.status_code)\n",
    "if response.status_code == 201:\n",
    "    print('The Request has succeeded')"
   ]
  },
  {
   "cell_type": "markdown",
   "metadata": {},
   "source": [
    "chmod +x ~/run.py\n",
    "./run.py"
   ]
  }
 ],
 "metadata": {
  "kernelspec": {
   "display_name": "Python 3",
   "language": "python",
   "name": "python3"
  },
  "language_info": {
   "codemirror_mode": {
    "name": "ipython",
    "version": 3
   },
   "file_extension": ".py",
   "mimetype": "text/x-python",
   "name": "python",
   "nbconvert_exporter": "python",
   "pygments_lexer": "ipython3",
   "version": "3.8.1"
  }
 },
 "nbformat": 4,
 "nbformat_minor": 4
}
