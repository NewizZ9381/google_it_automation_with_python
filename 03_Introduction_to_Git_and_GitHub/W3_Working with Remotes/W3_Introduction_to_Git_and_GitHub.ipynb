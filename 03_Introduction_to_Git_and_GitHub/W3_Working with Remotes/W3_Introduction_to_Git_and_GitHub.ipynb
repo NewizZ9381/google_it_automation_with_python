{
 "cells": [
  {
   "cell_type": "markdown",
   "metadata": {},
   "source": [
    "## Introduction to Github"
   ]
  },
  {
   "cell_type": "markdown",
   "metadata": {},
   "source": [
    "Create a git repository\n",
    "\n",
    "git clone [URL]\n",
    "git clone https://github.com/[username]/[git-repo].git\n",
    "git clone [URL] directory_name\n",
    "\n",
    "cd directory_name\n",
    "\n",
    "git config --global user.name \"Name\"\n",
    "git config --global user.email \"user@example.com\"\n",
    "\n",
    "nano README.md\n",
    "git status\n",
    "git add README.md\n",
    "git commit\n",
    "git push origin master\n",
    "\n",
    "nano example.py\n",
    "def git_opeation():\n",
    " print(\"I am adding example.py file to the remote repository.\")\n",
    "git_opeation()\n",
    "git add example.py\n",
    "git commit\n",
    "\n",
    "Add an empty file to the repository through web UI\n",
    "git push origin master\n",
    "git pull origin master\n",
    "git push origin master"
   ]
  }
 ],
 "metadata": {
  "kernelspec": {
   "display_name": "Python 3",
   "language": "python",
   "name": "python3"
  },
  "language_info": {
   "codemirror_mode": {
    "name": "ipython",
    "version": 3
   },
   "file_extension": ".py",
   "mimetype": "text/x-python",
   "name": "python",
   "nbconvert_exporter": "python",
   "pygments_lexer": "ipython3",
   "version": "3.8.1"
  }
 },
 "nbformat": 4,
 "nbformat_minor": 4
}
