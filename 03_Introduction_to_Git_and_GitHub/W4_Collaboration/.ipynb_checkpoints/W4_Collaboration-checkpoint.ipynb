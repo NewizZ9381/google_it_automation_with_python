{
 "cells": [
  {
   "cell_type": "markdown",
   "metadata": {},
   "source": [
    "## Pushing Local Commits to Github"
   ]
  },
  {
   "cell_type": "code",
   "execution_count": null,
   "metadata": {},
   "outputs": [],
   "source": [
    "git clone https://github.com/[git-username]/it-cert-automation-practice.git\n",
    "\n",
    "cd ~/it-cert-automation-practice\n",
    "\n",
    "git remote -v\n",
    "git remote add upstream https://github.com/[git-username]/it-cert-automation-practice.git\n",
    "git remote -v\n",
    "\n",
    "git config --global user.name \"Name\"\n",
    "git config --global user.email \"user@example.com\"\n",
    "\n",
    "git branch improve-username-behavior\n",
    "git checkout improve-username-behavior\n",
    "\n",
    "cd ~/it-cert-automation-practice/Course3/Lab4\n",
    "ls\n",
    "cat validations.py\n",
    "\n",
    "nano validations.py\n",
    "print(validate_user(\"blue.kale\", 3)) # True\n",
    "print(validate_user(\".blue.kale\", 3)) # Currently True, should be False\n",
    "print(validate_user(\"red_quinoa\", 4)) # True\n",
    "print(validate_user(\"_red_quinoa\", 4)) # Currently True, should be False\n",
    "\n",
    "python3 validations.py"
   ]
  }
 ],
 "metadata": {
  "kernelspec": {
   "display_name": "Python 3",
   "language": "python",
   "name": "python3"
  },
  "language_info": {
   "codemirror_mode": {
    "name": "ipython",
    "version": 3
   },
   "file_extension": ".py",
   "mimetype": "text/x-python",
   "name": "python",
   "nbconvert_exporter": "python",
   "pygments_lexer": "ipython3",
   "version": "3.8.1"
  }
 },
 "nbformat": 4,
 "nbformat_minor": 4
}
