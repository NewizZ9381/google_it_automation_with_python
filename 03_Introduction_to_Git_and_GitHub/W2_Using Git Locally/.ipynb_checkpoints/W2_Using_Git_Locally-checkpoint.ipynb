{
 "cells": [
  {
   "cell_type": "markdown",
   "metadata": {},
   "source": [
    "## Git Merges"
   ]
  },
  {
   "cell_type": "code",
   "execution_count": 1,
   "metadata": {},
   "outputs": [
    {
     "name": "stdout",
     "output_type": "stream",
     "text": [
      "rice, 12\n",
      "burgers, 10\n",
      "fried chicken, 9\n",
      "pie, 8\n",
      "pizza, 7\n",
      "salad, 7\n",
      "tacos, 6\n",
      "avocados, 6\n",
      "spaghetti, 5\n",
      "broccoli, 5\n",
      "bananas, 5\n",
      "ice cream, 4\n",
      "fish, 4\n",
      "cake, 3\n",
      "cereal, 3\n",
      "strawberries, 3\n",
      "watermelon, 2\n",
      "ice crea, 1\n"
     ]
    }
   ],
   "source": [
    "# food_count.py\n",
    "#!/usr/bin/env python3\n",
    "\n",
    "# Dictionary to keep track of food likes\n",
    "counter = {}\n",
    "\n",
    "# Open up the favorite foods log and add it to the dictionary\n",
    "with open(\"favorite_foods.log\", \"r\") as f:\n",
    "    for i in f:\n",
    "        i = i[:-1]\n",
    "        if i not in counter:\n",
    "            counter[i] = 1\n",
    "        else:\n",
    "            counter[i] += 1\n",
    "\n",
    "# Sorts the liked foods in descending order\n",
    "sort_foods = sorted(counter.items(), key = lambda x : x[1], reverse = True)\n",
    "\n",
    "# Prints out the liked foods\n",
    "for i in range(len(sort_foods)):\n",
    "    print(\"{}, {}\".format(sort_foods[i][0], sort_foods[i][1]))"
   ]
  },
  {
   "cell_type": "code",
   "execution_count": null,
   "metadata": {},
   "outputs": [],
   "source": [
    "# food_question.py\n",
    "#!/usr/bin/env python3\n",
    "\n",
    "# Dictionary to keep track of food likes\n",
    "counter = {}\n",
    "\n",
    "# Open up the favorite foods log and count frequencies using the dictionary\n",
    "with open(\"favorite_foods.log\", \"r\") as f:\n",
    "    for line in f:\n",
    "        food_item = line.strip()\n",
    "        if item not in counter:\n",
    "            counter[item] = 1\n",
    "        else:\n",
    "            counter[item] += 1\n",
    "\n",
    "# Print out all the available liked foods\n",
    "print(\"Select your favorite food below:\")\n",
    "for item in counter:\n",
    "    print(item)\n",
    "\n",
    "# Ask which food is the user's favorite\n",
    "answer = input(\"Which of the foods above is your favorite? \")\n",
    "answer = answer.lower()\n",
    "\n",
    "# Print out how many others like the user's favorite food, otherwise say it can't be found\n",
    "try:\n",
    "    print(\"{} of your friends like {} as well!\".format(counter[answer], answer))\n",
    "    exit(0)\n",
    "except KeyError:\n",
    "    print(\"Hmm we couldn't find anyone who also likes \\\"{}\\\".\".format(answer))\n",
    "    print(\"Did you enter one of the foods listed above?\")\n",
    "    exit(0)"
   ]
  },
  {
   "cell_type": "code",
   "execution_count": 2,
   "metadata": {},
   "outputs": [
    {
     "name": "stdout",
     "output_type": "stream",
     "text": [
      "Favourite foods, from most popular to least popular\n",
      "rice, 12\n",
      "burgers, 10\n",
      "fried chicken, 9\n",
      "pie, 8\n",
      "pizza, 7\n",
      "salad, 7\n",
      "tacos, 6\n",
      "avocados, 6\n",
      "spaghetti, 5\n",
      "broccoli, 5\n",
      "bananas, 5\n",
      "ice cream, 4\n",
      "fish, 4\n",
      "cake, 3\n",
      "cereal, 3\n",
      "strawberries, 3\n",
      "watermelon, 2\n",
      "ice crea, 1\n"
     ]
    }
   ],
   "source": [
    "# food_count.py\n",
    "#!/usr/bin/env python3\n",
    "\n",
    "# Dictionary to keep track of food likes\n",
    "counter = {}\n",
    "\n",
    "# Open up the favorite foods log and add it to the dictionary\n",
    "with open(\"favorite_foods.log\", \"r\") as f:\n",
    "    for i in f:\n",
    "        i = i[:-1]\n",
    "        if i not in counter:\n",
    "            counter[i] = 1\n",
    "        else:\n",
    "            counter[i] += 1\n",
    "\n",
    "# Sorts the liked foods in descending order\n",
    "sort_foods = sorted(counter.items(), key = lambda x : x[1], reverse = True)\n",
    "\n",
    "# Print out the topic\n",
    "print(\"Favourite foods, from most popular to least popular\")\n",
    "\n",
    "# Prints out the liked foods\n",
    "for i in range(len(sort_foods)):\n",
    "    print(\"{}, {}\".format(sort_foods[i][0], sort_foods[i][1]))\n"
   ]
  },
  {
   "cell_type": "markdown",
   "metadata": {},
   "source": [
    "cd ~/food-scripts\n",
    "cat favorite_foods.log\n",
    "./food_counts.py\n",
    "./food_question.py\n",
    "\n",
    "git status\n",
    "git log\n",
    "git config user.name \"Name\"\n",
    "git config user.email \"user@example.com\"\n",
    "git branch improve-output\n",
    "git checkout improve-output\n",
    "\n",
    "nano food_count.py\n",
    "print(\"Favorite foods, from most popular to least popular\")\n",
    "./food_count.py\n",
    "\n",
    "git add food_count.py\n",
    "git commit -m \"Adding a line in the output describing the utility of food_count.py script\"\n",
    "\n",
    "./food_question.py\n",
    "\n",
    "git log\n",
    "git revert [commit-ID]\n",
    "\n",
    "./food_question.py\n",
    "\n",
    "git checkout master\n",
    "git merge improve-output\n",
    "\n",
    "./food_question.py\n",
    "\n",
    "git status\n",
    "git log"
   ]
  }
 ],
 "metadata": {
  "kernelspec": {
   "display_name": "Python 3",
   "language": "python",
   "name": "python3"
  },
  "language_info": {
   "codemirror_mode": {
    "name": "ipython",
    "version": 3
   },
   "file_extension": ".py",
   "mimetype": "text/x-python",
   "name": "python",
   "nbconvert_exporter": "python",
   "pygments_lexer": "ipython3",
   "version": "3.6.10"
  }
 },
 "nbformat": 4,
 "nbformat_minor": 4
}
